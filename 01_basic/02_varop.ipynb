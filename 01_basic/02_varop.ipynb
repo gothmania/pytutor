{
 "cells": [
  {
   "cell_type": "markdown",
   "metadata": {},
   "source": [
    "# B02 Biến và Toán tử cơ bản\n",
    "\n",
    "## Mục đích\n",
    "\n",
    "Giới thiệu với bạn khái niệm **biến** và các **toán tử** cơ bản trong Python. Đây là một bài viết dài, bạn nên chia làm nhiều lần đọc để tránh nhàm chán. Ngoài ra, nên mở sẵn cửa sổ Visual Studio Code và chạy tất cả các đoạn lệnh ví dụ.\n",
    "\n",
    "\n",
    "## Biến (variables)\n",
    "\n",
    "Trong đời sống hàng ngày, bạn chắc đã từng làm những việc sau:\n",
    "\n",
    "* Giải phương trình bậc hai $ax^2 + bx + c = 0$.\n",
    "* So sánh chiều cao của hai người bạn với nhau.\n",
    "* Hỏi tên một khách hàng và ghi lại tên vào đâu đó.\n",
    "* Ghi sĩ số lớp vào sổ đầu bài.\n",
    "\n",
    "Đối với con người, những việc này được làm một cách tự nhiên, và bạn không cảm thấy \"quy trình\" nào ở đây cả. Tuy nhiên, đối với máy tính, để thực hiện những công việc trên, bước đầu tiên trong \"quy trình\" là bạn cần quy định **nơi để lưu trữ thông tin** (ví dụ, các tham số $a$, $b$, $c$, chiều cao, tên, sĩ số lớp). Chúng ta gọi đó là các **biến** (variables).\n",
    "\n",
    "### Kiểu dữ liệu (type) của biến\n",
    "\n",
    "Bạn có nhận thấy các thông tin ở trên không giống nhau? Tên người là chữ, còn chiều cao hay sĩ số là số. Không chỉ có vậy, chiều cao là số thực, còn sĩ số phải là số nguyên không âm (chả lẽ lớp bạn hôm nay có 3.14 hay -5 người đi học? hmmm...).\n",
    "\n",
    "Máy tính cũng vậy - có sự phân biệt về kiểu dữ liệu của biến. Python có một số kiểu dữ liệu cơ bản: chuỗi kí tự (`str`), số nguyên (`int`), và số thực (`float`). Ngoài ra, một kiểu dữ liệu rất quan trọng là đúng/sai (`bool`).\n",
    "\n",
    "\n",
    "## Toán tử cơ bản\n",
    "\n",
    "Bây giờ bạn hãy chạy đoạn lệnh dưới đây. Theo bạn, biến nào là chuỗi kí tự, số nguyên, số thực, đúng/sai?\n",
    "\n",
    "```python\n",
    "si_so = 18\n",
    "tong_so = 30\n",
    "tile_dihoc = si_so / tong_so\n",
    "ten = \"Chu Tho\"\n",
    "h1, h2, ruler = 1.22, 1., \"Thuoc day\"\n",
    "sosanh = h1 < h2\n",
    "```\n",
    "\n",
    "Trước hết, chúng ta làm quen với một số toán tử xuất hiện trong đoạn mã này.\n",
    "\n",
    "**Toán tử gán `=`**\n",
    "\n",
    "* Cú pháp: `<tên_biến> = <giá_trị>`\n",
    "* Giá trị ở phía bên phải có thể là một *giá trị* hoặc *một công thức để tính ra giá trị*.\n",
    "* Bạn có thể gán giá trị cho nhiều biến trên một dòng:\n",
    "    * Các biến và các giá trị cách nhau bởi dấu phẩy `,`.\n",
    "    * Các giá trị có thể có nhiều kiểu dữ liệu khác nhau.\n",
    "    * ***Số lượng biến và số lượng giá trị phải bằng nhau***.\n",
    "\n",
    "**Toán tử số học**\n",
    "\n",
    "* Bao gồm cộng `+`, trừ `-`, nhân `*`, chia `/`, chia lấy phần nguyên `//`, chia lấy phần dư `%`, và lũy thừa `**`.\n",
    "* Cặp ngoặc đơn `()` được sử dụng để thay đổi thứ tự thực hiện phép tính giống như trong nguyên tắc toán học thông thường.\n",
    "* Cú pháp: `<giá_trị_1> <toán_tử> <giá_trị_2>`. Ví dụ: `3 + 2`, `si_so / tong_so`, `10 % (3 + 5)`.\n",
    "\n",
    "**Toán tử so sánh**\n",
    "\n",
    "* Bao gồm bằng `==`, khác `!=`, và lớn hơn/nhỏ hơn `>`, `<`, `>=`, `<=`.\n",
    "* Giá trị trả về luôn là kiểu `bool`.\n",
    "* Cú pháp: `<giá_trị_1> <toán_tử> <giá_trị_2>`. Ví dụ: `3 > 2` (trả về `True`), `10 == 9` (trả về `False`). \n",
    "* Bạn có thể so sánh nối tiếp. Ví dụ: `a < b <= c`.\n",
    "\n",
    "### Vậy các biến trên thuộc kiểu dữ liệu nào?\n",
    "\n",
    "* `si_so`, `tong_so`: `int`\n",
    "* `tile_dihoc`: `float`\n",
    "    * Khi thực hiện phép chia dùng toán tử `/`, Python luôn mặc định giá trị trả về là số thực, mặc dù có thể kết quả là số nguyên. Ví dụ: `10 / 5 = 2.0`.\n",
    "    * Muốn phép chia 2 số nguyên trả về giá trị là số nguyên, bạn phải dùng toán tử chia lấy phần nguyên `//`. Ví dụ: `10 // 5 = 2`.\n",
    "* `ten`, `ruler`: `str`\n",
    "* `h1`, `h2`: `float`\n",
    "    * Bạn có thể thắc mắc vì sao `h2` có giá trị bằng 1 mà lại là `float`. Chúng ta sẽ tìm hiểu ở phần *Biểu diễn giá trị của các kiểu dữ liệu* nhé.\n",
    "* `sosanh`: `bool`\n",
    "\n",
    "\n",
    "## Biểu diễn giá trị của các kiểu dữ liệu\n",
    "\n",
    "* `int`: một chuỗi kí tự số liền nhau KHÔNG có dấu chấm `.`, số âm có dấu trừ `-` ở đầu. Ví dụ: `387`, `-1042`.\n",
    "* `float`: hai chuỗi kí tự số cho phần nguyên và phần thập phân, ngăn cách nhau bởi dấu chấm `.`. Nếu không có phần thập phân nhưng bạn muốn quy định kiểu là `float`, đặt thêm một dấu chấm ở cuối. Ví dụ: `3.1`, `-5.22`, `10.`.\n",
    "* `str`: bao toàn bộ nội dung chuỗi kí tự trong dấu ngoặc kép `\"` hoặc dấu phết đơn `'`. Bạn có thể để một chuỗi kí tự trống. Ví dụ: `\"\"`, `'c'`, `'Xin chao'`, `\"53.134\"`. Chú ý trường hợp cuối cùng: mặc dù nội dung là số nhưng được bao trong dấu ngoặc kép nên vẫn là kiểu `str`.\n",
    "* `bool`: chỉ có hai giá trị `True` (đúng) và `False` (sai). Lưu ý: Python là ngôn ngữ phân biệt chữ hoa và chữ thường (case-sensitive), cho nên bạn phải viết đúng chữ `T` và `F` in hoa.\n",
    "\n",
    "\n",
    "## Tên biến\n",
    "\n",
    "Khi đặt tên biến trong Python, bạn cần tuân thủ một số nguyên tắc sau:\n",
    "\n",
    "* Tên biến KHÔNG bao gồm dấu cách `' '`. Ví dụ: `ho ten` là không hợp lệ, sẽ được hiểu là hai tên biến.\n",
    "* Tên biến phải bắt đầu bằng kí tự chữ hoặc dấu gạch dưới `_`. Ví dụ: `soluong`, `_test`.\n",
    "* Tên biến KHÔNG thể bắt đầu bằng kí tự số. Ví dụ: `1th_person` là không hợp lệ.\n",
    "* Tên biến KHÔNG thể bao gồm các kí tự đặc biệt (các dấu). Ví dụ: `a>b`, `!net` là không hợp lệ.\n",
    "* Tên biến phân biệt chữ hoa và chữ thường: Ví dụ: `HoTen` khác với `hoten`.\n",
    "* Python có một số [**từ khóa**](https://docs.python.org/3/reference/lexical_analysis.html#keywords) như `if`, `return`. Bạn KHÔNG được đặt tên biến trùng với các từ khóa này.\n",
    "\n",
    "**Kiểm tra**\n",
    "\n",
    "Tên nào sau đây không hợp lệ?\n",
    "\n",
    "1. `KonTrymNon`\n",
    "2. `2nd-tier_data`\n",
    "3. `_m12_output`\n",
    "4. `phuong an`\n",
    "\n",
    "Đáp án: 2 (bắt đầu bằng số và bao gồm dấu), 4 (có dấu cách).\n",
    "\n",
    "\n",
    "## Một số lỗi thường gặp\n",
    "\n",
    "### Thực hiện phép tính số học cho kiểu `str`\n",
    "\n",
    "Khi một trong các giá trị là kiểu số, việc sử dụng toán tử cộng `+` sẽ được hiểu là phép cộng số học. Các phép tính số học không áp dụng được cho kiểu `str`. Bạn sẽ thấy Python báo lỗi: `TypeError: unsupported operand type(s) for +: 'int' and 'str'`.\n",
    "\n",
    "```python\n",
    "ten_pho = \"Phan Dinh Phung\"\n",
    "so_nha = 18\n",
    "so_nha + ten_pho\n",
    "\n",
    "```\n",
    "\n",
    "***Lưu ý***: lỗi này KHÔNG xảy ra với kiểu `bool`. Khi bạn áp dụng phép tính số học cho kiểu `bool`, Python tự chuyển giá trị `True` về `1` và `False` về `0`, rồi thực hiện phép tính số học."
   ]
  },
  {
   "cell_type": "code",
   "execution_count": 1,
   "metadata": {},
   "outputs": [
    {
     "data": {
      "text/plain": [
       "0"
      ]
     },
     "execution_count": 1,
     "metadata": {},
     "output_type": "execute_result"
    }
   ],
   "source": [
    "False * 8    #Trả về 0"
   ]
  },
  {
   "cell_type": "markdown",
   "metadata": {},
   "source": [
    "### Giá trị str nhưng không bao trong dấu ngoặc kép\n",
    "\n",
    "Nếu bạn quên bao chuỗi kí tự trong hai dấu ngoặc kép, ví dụ `Xa Dan` thay vì `\"Xa Dan\"`, Python sẽ hiểu `Xa` và `Dan` là hai tên biến (và báo lỗi cú pháp).\n",
    "\n",
    "```python\n",
    "ten_pho = Xa Dan    #Lỗi\n",
    "```\n",
    "\n",
    "Chúng ta sửa lại bằng cách bao chuỗi kí tự trong cặp ngoặc kép."
   ]
  },
  {
   "cell_type": "code",
   "execution_count": 2,
   "metadata": {},
   "outputs": [
    {
     "name": "stdout",
     "output_type": "stream",
     "text": [
      "Xa Dan\n"
     ]
    }
   ],
   "source": [
    "ten_pho = \"Xa Dan\"  #Không lỗi\n",
    "print(ten_pho)"
   ]
  },
  {
   "cell_type": "markdown",
   "metadata": {},
   "source": [
    "### Gán giá trị cho nhiều biến trên cùng một dòng, nhưng số lượng biến và giá trị không khớp nhau\n",
    "\n",
    "Nếu có 3 biến nhưng bạn chỉ gán 2 giá trị, Python sẽ báo lỗi: `ValueError: not enough values to unpack (expected 3, got 2)`.\n",
    "\n",
    "```python\n",
    "a, b, c = 1, 2     #Lỗi\n",
    "```\n",
    "\n",
    "Luôn chú ý số lượng biến và giá trị."
   ]
  },
  {
   "cell_type": "code",
   "execution_count": 3,
   "metadata": {},
   "outputs": [
    {
     "name": "stdout",
     "output_type": "stream",
     "text": [
      "1 2 3\n"
     ]
    }
   ],
   "source": [
    "a, b, c = 1, 2, 3  #Không lỗi\n",
    "print(a, b, c)"
   ]
  },
  {
   "cell_type": "markdown",
   "metadata": {},
   "source": [
    "### Nhầm giữa toán tử gán `=` và toán tử so sánh bằng `==`\n",
    "\n",
    "Do chưa quen, nhiều người hay sử dụng toán tử `=` để so sánh bằng, thay vì toán tử `==`. Điều này sẽ dẫn đến sai sót trong lập trình."
   ]
  },
  {
   "cell_type": "code",
   "execution_count": 4,
   "metadata": {},
   "outputs": [
    {
     "name": "stdout",
     "output_type": "stream",
     "text": [
      "2 2\n"
     ]
    }
   ],
   "source": [
    "a, b = 1, 2\n",
    "a = b         #Gán nhầm giá trị b cho a\n",
    "print(a, b)"
   ]
  },
  {
   "cell_type": "markdown",
   "metadata": {},
   "source": [
    "Hoặc Python sẽ báo lỗi\n",
    "\n",
    "```python\n",
    "print(a = b)  #Báo lỗi\n",
    "```"
   ]
  },
  {
   "cell_type": "markdown",
   "metadata": {},
   "source": [
    "### Các cặp mở-đóng ngoặc đơn không khớp\n",
    "\n",
    "Khi bạn viết một công thức quá dài, nhiều khả năng bạn sẽ đóng mở ngoặc đơn sai. Các ví dụ dưới đây đều là lỗi khi mở-đóng ngoặc đơn không khớp.\n",
    "\n",
    "```python\n",
    "1 + (2 * (5 - 3)\n",
    "1 + (2 * (5 - 3)))\n",
    "```\n",
    "\n",
    "\n",
    "## Lượng giá\n",
    "\n",
    "Đừng quên ôn bài với [bài tập lượng giá](https://forms.gle/mqQcZxWfXeq6K44f7).\n",
    "\n",
    "---\n",
    "\n",
    "[Bài trước](01_helloworld.ipynb) - [Danh sách bài](../README.md) - [Bài sau]()"
   ]
  }
 ],
 "metadata": {
  "kernelspec": {
   "display_name": "Python 3.9.9 64-bit",
   "language": "python",
   "name": "python3"
  },
  "language_info": {
   "codemirror_mode": {
    "name": "ipython",
    "version": 3
   },
   "file_extension": ".py",
   "mimetype": "text/x-python",
   "name": "python",
   "nbconvert_exporter": "python",
   "pygments_lexer": "ipython3",
   "version": "3.9.9"
  },
  "orig_nbformat": 4,
  "vscode": {
   "interpreter": {
    "hash": "11938c6bc6919ae2720b4d5011047913343b08a43b18698fd82dedb0d4417594"
   }
  }
 },
 "nbformat": 4,
 "nbformat_minor": 2
}
