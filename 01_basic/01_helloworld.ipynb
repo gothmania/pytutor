{
 "cells": [
  {
   "cell_type": "markdown",
   "metadata": {},
   "source": [
    "# B01 Hello World\n",
    "\n",
    "## Mục đích\n",
    "\n",
    "\"Hello World\" là bài học nhập môn của hầu hết các khóa dạy về các ngôn ngữ lập trình. Trong bài viết này, mình sẽ giới thiệu cách cài đặt Python và thư viện.\n",
    "\n",
    "## Cài đặt và làm quen với môi trường của Python\n",
    "\n",
    "Bạn có thể download Python ở [trang web chính thức của Python](https://www.python.org/downloads/), nên chọn phiên bản nằm ngay dưới dòng chữ **Download the latest version**. Chạy file tải về để cài đặt.\n",
    "\n",
    "Bạn có thể sử dụng môi trường phát triển tích hợp (IDE) có sẵn trong Python để viết script và chạy các lệnh. Ngoài ra, có nhiều IDE khác để chạy Python, ví dụ: PyCharm, Spyder, PyDev.\n",
    "\n",
    "<img src=\"../assets/010101_pyidle.jpg\" width=\"500\"/>\n",
    "\n",
    "Nếu không muốn cài Python, bạn có thể sử dụng một trình phiên dịch online, chẳng hạn như [Programiz](https://www.programiz.com/).\n",
    "\n",
    "Mình đang sử dụng [Visual Studio Code](https://code.visualstudio.com/) (VSC), do vậy, sẽ hướng dẫn các bạn về phần mềm này. Các IDE khác để phần các bạn tự khám phá nhé. Bây giờ, bạn tải VSC và cài đặt phần mềm này.\n",
    "\n",
    "### Visual Studio Code\n",
    "\n",
    "Chúng ta sẽ làm quen với giao diện của VSC một chút.\n",
    "\n",
    "<img src=\"../assets/010102_vsc.jpg\" width=\"500\"/>\n",
    "\n",
    "Từ trái sang phải, từ trên xuống dưới, bạn sẽ thấy:\n",
    "\n",
    "* **Activity bar**: cho phép người dùng chuyển đổi giữa các tính năng được hiển thị trong **Side bar** ở bên cạnh. Trong hình, Side bar đang hiển thị tính năng quản lí *Extension*, bạn ghi nhớ tính năng này nhé.\n",
    "* **Editor**: là màn hình đang hiển thị mã lệnh của file `zamzar.py`. Trong khung này, bạn có thể xem và chỉnh sửa nội dung của các file viết bằng các ngôn ngữ khác nhau.\n",
    "* **Panels**: là các khung ở dưới Editor, sử dụng trong chạy mã lệnh, gỡ rối, và báo lỗi.\n",
    "* **Status bar**: thanh trạng thái màu xanh ở dưới cùng, hiển thị nhiều thông số. Bạn có tìm được chữ *Python* ở trong thanh trạng thái không? Đó là nơi tên ngôn ngữ sẽ được hiển thị.\n",
    "\n",
    "Để sử dụng một số tính năng như kiểm tra lỗi soạn thảo, tự động gợi ý, v.v. dành cho Python, bạn sẽ cần cài [extension Python của Microsoft](https://marketplace.visualstudio.com/items?itemName=ms-python.python). Bạn click chuột vào ô *Search Extensions in Marketplace* và gõ *Python*. Có nhiều extension cho Python, nhưng hãy cài extension do Microsoft viết nhé.\n",
    "\n",
    "Sau khi đã cài extension, chúng ta tạo một file Python mới như sau:\n",
    "\n",
    "* Ấn `Ctrl + N` để tạo một file mới.\n",
    "* Ấn `Ctrl + K, M` để chọn ngôn ngữ. Gõ Python rồi ấn `Enter`. Bạn sẽ thấy ngôn ngữ ở thanh trạng thái đổi sang Python, đồng thời engine của Python cũng sẽ được khởi động.\n",
    "\n",
    "Bạn hãy gõ dòng lệnh dưới đây, bôi đen dòng lệnh này và ấn `Shift + Enter` để chạy. Trong khung **Terminal** ở Panels, bạn đã thấy dòng chữ `\"Hello World\"` được in ra chưa?"
   ]
  },
  {
   "cell_type": "code",
   "execution_count": 1,
   "metadata": {},
   "outputs": [
    {
     "name": "stdout",
     "output_type": "stream",
     "text": [
      "Hello World\n"
     ]
    }
   ],
   "source": [
    "print(\"Hello World\")"
   ]
  },
  {
   "cell_type": "markdown",
   "metadata": {},
   "source": [
    "## Cài đặt và sử dụng thư viện (package)\n",
    "\n",
    "Những công cụ sẵn có của Python chỉ hỗ trợ các bài toán đơn giản. Để thực hiện những nhiệm vụ phức tạp hơn, bạn cần đến các thư viện khác.\n",
    "\n",
    "Chúng ta sẽ thử cài đặt thư viện [NumPy](https://numpy.org/).\n",
    "\n",
    "* Ấn phím `Windows` hoặc chọn biểu tượng Windows để mở Start menu. Gõ `cmd`.\n",
    "* Chọn *Run as administrator* và xác nhận.\n",
    "* Cửa sổ Command Prompt hiện ra. Bạn gõ dòng lệnh sau để cài đặt NumPy: `pip install numpy`.\n",
    "\n",
    "<img src=\"../assets/010103_cmd.jpg\" width=\"500\"/>\n",
    "\n",
    "Sau này nếu cần cài đặt thêm thư viện nào, bạn chỉ cần thay `numpy` thành tên thư viện khác là được. Như vậy là thư viện NumPy đã được cài đặt.\n",
    "\n",
    "Bây giờ chúng ta sẽ chạy thử một hàm trong NumPy. Chúng ta sẽ tính căn bậc hai của các số 4, 9, 16, 25, và 36. Bạn gõ các dòng lệnh dưới đây, sau đó, chọn toàn bộ các dòng lệnh và ấn `Shift + Enter` để chạy."
   ]
  },
  {
   "cell_type": "code",
   "execution_count": 2,
   "metadata": {},
   "outputs": [
    {
     "data": {
      "text/plain": [
       "array([2., 3., 4., 5., 6.])"
      ]
     },
     "execution_count": 2,
     "metadata": {},
     "output_type": "execute_result"
    }
   ],
   "source": [
    "import numpy as np\n",
    "numbers = [4, 9, 16, 25, 36]\n",
    "np.sqrt(numbers)"
   ]
  },
  {
   "cell_type": "markdown",
   "metadata": {},
   "source": [
    "Mình sẽ giải thích một số câu lệnh chính.\n",
    "\n",
    "* Câu lệnh `import numpy as np`: hướng dẫn Python tải (nạp) nội dung của thư viện NumPy vào bộ nhớ để chúng ta sử dụng.\n",
    "    * Nếu cần tải thư viện khác, bạn thay chữ `numpy` bằng tên thư viện.\n",
    "    * Cụm `as np` được thêm vào để báo cho Python biết bạn sẽ gọi tên thư viện này là `np`. Tất cả những câu lệnh sau đó, thay vì phải viết tên đầy đủ của thư viện, bạn chỉ cần viết `np`. Cụm này không cần thiết nếu bạn không có nhu cầu gọi tên khác cho thư viện.\n",
    "* Chúng ta gọi hàm căn bậc hai trong thư viện NumPy bằng cách gõ `np.sqrt()`. Các hàm khác cũng được gọi tương tự như vậy: `<tên_thư_viện>.<tên_hàm>`. Nhớ rằng sau tên thư viện là dấu chấm.\n",
    "* Một số thư viện có thư viện con trong đó. Ví dụ, Matplotlib là một thư viện đồ họa trong Python. Thư viện con của nó tên là Pyplot, cung cấp tính năng vẽ đồ họa cơ bản.\n",
    "    * Khi nạp thư viện con Pyplot, bạn dùng lệnh `import matplotlib.pyplot as plt`.\n",
    "    * Lưu ý: lệnh này chỉ nạp thư viện con Pyplot, không nạp toàn bộ thư viện Matplotlib.\n",
    "    * Nếu bạn không sử dụng tên viết tắt (`plt`), bạn sẽ phải gõ toàn bộ tên thư viện khi gọi hàm, ví dụ: `matplotlib.pyplot.show()`.\n",
    "\n",
    "## Lượng giá\n",
    "\n",
    "Đừng quên ôn bài với [bài tập lượng giá](https://forms.gle/QhuX5RDmox2dx7HU6)."
   ]
  }
 ],
 "metadata": {
  "kernelspec": {
   "display_name": "Python 3.9.9 64-bit",
   "language": "python",
   "name": "python3"
  },
  "language_info": {
   "codemirror_mode": {
    "name": "ipython",
    "version": 3
   },
   "file_extension": ".py",
   "mimetype": "text/x-python",
   "name": "python",
   "nbconvert_exporter": "python",
   "pygments_lexer": "ipython3",
   "version": "3.9.9"
  },
  "orig_nbformat": 4,
  "vscode": {
   "interpreter": {
    "hash": "11938c6bc6919ae2720b4d5011047913343b08a43b18698fd82dedb0d4417594"
   }
  }
 },
 "nbformat": 4,
 "nbformat_minor": 2
}
