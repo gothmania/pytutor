{
 "cells": [
  {
   "cell_type": "markdown",
   "metadata": {},
   "source": [
    "# B06 Tiếp tục về `str` (`split`, `join`, `upper`)\n",
    "\n",
    "## Mục đích\n",
    "\n",
    "Tiếp tục giới thiệu các hàm liên quan tới `str` trong Python.\n",
    "\n",
    "\n",
    "## Bài toán\n",
    "\n",
    "Từ chuỗi kí tự `s` là tên của một người, trả về tên viết tắt (initials) của người đó (tất cả các kí tự đều viết hoa). Ví dụ: `s` là `\"Hoang Bao Long\"` thì trả về `\"HBL\"`.\n",
    "\n",
    "**Giải thuật**\n",
    "\n",
    "1. Các từ trong tên phân cách nhau bởi dấu cách. Do đó, đầu tiên tách các từ trong tên thành một danh sách.\n",
    "2. Lấy kí tự đầu tiên trong mỗi từ.\n",
    "3. Gộp các kí tự này với nhau thành một chuỗi kí tự mới là tên viết tắt.\n",
    "\n",
    "\n",
    "## Hàm `split()`\n",
    "\n",
    "Cú pháp: `<chuỗi_kí_tự>.split(sep=<chuỗi_phân_cách>)`\n",
    "\n",
    "* Có thể không điền chuỗi phân cách; khi đó, mặc định là dấu cách `' '`.\n",
    "* Chuỗi phân cách có thể nhiều hơn một kí tự. Ví dụ, `\"20--08--01\".split(\"--\")`.\n",
    "* Trả về một danh sách các chuỗi kí tự đã được tách.\n",
    "* Nếu KHÔNG thiết lập tham số `sep`, hàm sẽ tự động loại bỏ các chuỗi kí tự trống `\"\"`."
   ]
  },
  {
   "cell_type": "code",
   "execution_count": 1,
   "metadata": {},
   "outputs": [
    {
     "name": "stdout",
     "output_type": "stream",
     "text": [
      "['Hoang', 'Bao', 'Long']\n",
      "['', '', '', 'Hoang', '', '', 'Bao', 'Long', '']\n"
     ]
    }
   ],
   "source": [
    "s = \"   Hoang   Bao Long \"\n",
    "print(s.split())\n",
    "print(s.split(\" \"))"
   ]
  },
  {
   "cell_type": "markdown",
   "metadata": {},
   "source": [
    "## Sử dụng chỉ mục với chuỗi kí tự\n",
    "\n",
    "Tương tự như kiểu dữ liệu `list`, bạn có thể sử dụng chỉ mục (index) cho kiểu dữ liệu `str`."
   ]
  },
  {
   "cell_type": "code",
   "execution_count": 2,
   "metadata": {},
   "outputs": [
    {
     "name": "stdout",
     "output_type": "stream",
     "text": [
      "H\n"
     ]
    }
   ],
   "source": [
    "s = \"Hoang Bao Long\"\n",
    "print(s[0])"
   ]
  },
  {
   "cell_type": "markdown",
   "metadata": {},
   "source": [
    "Trên thực tế, kiểu dữ liệu `str` ứng xử như một danh sách của những kí tự. Điều này được phản ánh qua việc sử dụng vòng lặp `for`."
   ]
  },
  {
   "cell_type": "code",
   "execution_count": 3,
   "metadata": {},
   "outputs": [
    {
     "name": "stdout",
     "output_type": "stream",
     "text": [
      "L\n",
      "o\n",
      "n\n",
      "g\n"
     ]
    }
   ],
   "source": [
    "s = \"Long\"\n",
    "for c in s:\n",
    "    print(c)\n"
   ]
  },
  {
   "cell_type": "markdown",
   "metadata": {},
   "source": [
    "## Toán tử kết nối `+`\n",
    "\n",
    "Chúng ta có thể khởi tạo một chuỗi kí tự trống, sau đó nối các chữ viết tắt của từng từ vào chuỗi kí tự này bằng toán tử kết nối `+`. Toán tử này cũng áp dụng cho cả kiểu dữ liệu danh sách."
   ]
  },
  {
   "cell_type": "code",
   "execution_count": 4,
   "metadata": {},
   "outputs": [
    {
     "name": "stdout",
     "output_type": "stream",
     "text": [
      "HBL\n"
     ]
    }
   ],
   "source": [
    "s = \"Hoang Bao Long\"\n",
    "initials = \"\"\n",
    "for c in s.split():\n",
    "    initials = initials + c[0]\n",
    "print(initials)"
   ]
  },
  {
   "cell_type": "markdown",
   "metadata": {},
   "source": [
    "### List comprehension\n",
    "\n",
    "Chắc bạn đã nhận ra một kịch bản quen thuộc:\n",
    "\n",
    "* Khởi tạo biến danh sách/chuỗi kết quả trống;\n",
    "* Lặp lại với mỗi phần tử của danh sách gốc;\n",
    "* Thêm (append) vào kết quả.\n",
    "\n",
    "Khi gặp kịch bản này, chúng ta có thể rút gọn bằng list comprehension."
   ]
  },
  {
   "cell_type": "code",
   "execution_count": 5,
   "metadata": {},
   "outputs": [
    {
     "data": {
      "text/plain": [
       "['H', 'B', 'L']"
      ]
     },
     "execution_count": 5,
     "metadata": {},
     "output_type": "execute_result"
    }
   ],
   "source": [
    "s = \"Hoang Bao Long\"\n",
    "[c[0] for c in s.split()]"
   ]
  },
  {
   "cell_type": "markdown",
   "metadata": {},
   "source": [
    "Sau đó gộp lại bằng hàm `join()`.\n",
    "\n",
    "Cú pháp: `<chuỗi_phân_cách>.join(<danh_sách>)`\n",
    "\n",
    "* Trong đoạn code dưới đây, chuỗi phân cách là chuỗi kí tự trống, vì chúng ta muốn các chữ cái liền với nhau.\n",
    "* Nếu bạn muốn các kí tự này cách nhau bởi một dấu chấm `'.'`, thay chuỗi kí tự trống đó bằng dấu chấm. Bạn tự viết code và xem kết quả nhé."
   ]
  },
  {
   "cell_type": "code",
   "execution_count": 6,
   "metadata": {},
   "outputs": [
    {
     "data": {
      "text/plain": [
       "'HBL'"
      ]
     },
     "execution_count": 6,
     "metadata": {},
     "output_type": "execute_result"
    }
   ],
   "source": [
    "s = \"Hoang Bao Long\"\n",
    "\"\".join([c[0] for c in s.split()])"
   ]
  },
  {
   "cell_type": "markdown",
   "metadata": {},
   "source": [
    "## Viết hoa: Hàm `upper()`\n",
    "\n",
    "Một yêu cầu trong bài toán là tất cả các chữ phải viết hoa. Nếu như chuỗi kí tự của chúng ta là `\"hoang bao long\"` thì đoạn code hiện tại sẽ trả về `\"hbl\"`. Ta cần dùng hàm `upper()` để viết hoa chuỗi kí tự này.\n",
    "\n",
    "Cú pháp: `<chuỗi_kí_tự>.upper()`"
   ]
  },
  {
   "cell_type": "code",
   "execution_count": 7,
   "metadata": {},
   "outputs": [
    {
     "data": {
      "text/plain": [
       "'HBL'"
      ]
     },
     "execution_count": 7,
     "metadata": {},
     "output_type": "execute_result"
    }
   ],
   "source": [
    "s = \"hoang bao long\"\n",
    "\"\".join([c[0] for c in s.split()])\n",
    "\"\".join([c[0] for c in s.split()]).upper()"
   ]
  },
  {
   "cell_type": "markdown",
   "metadata": {},
   "source": [
    "Một số hàm khác:\n",
    "\n",
    "* `lower()`: viết thường toàn bộ.\n",
    "* `capitalize()`: viết hoa chữ cái đầu tiên của cả chuỗi kí tự, và viết thường toàn bộ các kí tự còn lại.\n",
    "* `title()`: viết hoa chữ cái đầu của mỗi từ.\n",
    "* `swapcase()`: chuyến giữa viết hoa và viết thường, và ngược lại."
   ]
  },
  {
   "cell_type": "code",
   "execution_count": 8,
   "metadata": {},
   "outputs": [
    {
     "name": "stdout",
     "output_type": "stream",
     "text": [
      "HOANG BAO LONG\n",
      "hoang bao long\n",
      "hOANG BAO LoNG\n",
      "Hoang Bao Long\n",
      "Hoang bao long\n"
     ]
    }
   ],
   "source": [
    "s = \"Hoang bao lOng\"\n",
    "print(s.upper())\n",
    "print(s.lower())\n",
    "print(s.swapcase())\n",
    "print(s.title())\n",
    "print(s.capitalize())"
   ]
  },
  {
   "cell_type": "markdown",
   "metadata": {},
   "source": [
    "## Luyện tập\n",
    "\n",
    "1. Chạy thử dòng lệnh `\" \".join([1, 2, 3])`.\n",
    "    * Bạn có chạy được không? Tại sao?\n",
    "    * Hãy chạy thử dòng lệnh `\" \".join([\"1\", \"2\", str(3)])`. Lần này bạn có chạy được không? Tại sao lại chạy được?\n",
    "    * Bạn thử phỏng đoán ý nghĩa của lệnh `str()` là gì?\n",
    "2. Tạo biến `s` là danh sách giá trị từ 0 đến 20 bằng lệnh `range()`. Dùng list comprehension và nối các giá trị này lại thành một chuỗi kí tự, cách nhau bởi chuỗi `\", \"`.\n",
    "\n",
    "**Trả lời**\n",
    "\n",
    "1. Bạn chỉ có thể \"join\" các chuỗi kí tự. Các giá trị số không thể join nếu không thể chuyển về dạng chuỗi kí tự; một trong các cách chuyển đổi là dùng lệnh `str()`.\n",
    "2. Bạn có thể làm như dưới đây."
   ]
  },
  {
   "cell_type": "code",
   "execution_count": 9,
   "metadata": {},
   "outputs": [
    {
     "data": {
      "text/plain": [
       "'0, 1, 2, 3, 4, 5, 6, 7, 8, 9, 10, 11, 12, 13, 14, 15, 16, 17, 18, 19, 20'"
      ]
     },
     "execution_count": 9,
     "metadata": {},
     "output_type": "execute_result"
    }
   ],
   "source": [
    "s = list(range(21))\n",
    "\", \".join([str(i) for i in s])"
   ]
  },
  {
   "cell_type": "markdown",
   "metadata": {},
   "source": [
    "## Lượng giá\n",
    "\n",
    "Đừng quên ôn bài với [bài tập lượng giá](https://forms.gle/4gMwWNFTFbLSNADz6). Bạn nên làm bài tập lượng giá vì kịch bản trong bài tập sẽ được sử dụng trong bài viết sau.\n",
    "\n",
    "---\n",
    "\n",
    "[Bài trước](./05_listcomp.ipynb) - [Danh sách bài](../README.md) - [Bài sau](./07_def.ipynb)"
   ]
  }
 ],
 "metadata": {
  "kernelspec": {
   "display_name": "Python 3.9.9 64-bit",
   "language": "python",
   "name": "python3"
  },
  "language_info": {
   "codemirror_mode": {
    "name": "ipython",
    "version": 3
   },
   "file_extension": ".py",
   "mimetype": "text/x-python",
   "name": "python",
   "nbconvert_exporter": "python",
   "pygments_lexer": "ipython3",
   "version": "3.9.9"
  },
  "orig_nbformat": 4,
  "vscode": {
   "interpreter": {
    "hash": "11938c6bc6919ae2720b4d5011047913343b08a43b18698fd82dedb0d4417594"
   }
  }
 },
 "nbformat": 4,
 "nbformat_minor": 2
}
