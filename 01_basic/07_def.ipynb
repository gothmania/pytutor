{
 "cells": [
  {
   "cell_type": "markdown",
   "metadata": {},
   "source": [
    "# B07 Hàm (`def`)\n",
    "\n",
    "## Mục đích\n",
    "\n",
    "Giới thiệu về hàm trong Python.\n",
    "\n",
    "\n",
    "## Khai báo hàm\n",
    "\n",
    "Khái niệm hàm (function) có thể hiểu đơn giản là một đoạn mã được gói lại trong một cái tên. Thay vì việc phải viết lại cả đoạn mã đó, bạn chỉ cần gọi tên hàm. Bạn đã làm quen với khá nhiều hàm rồi. Giờ chúng ta sẽ học cách khai báo hàm do người dùng định nghĩa (user-defined function).\n",
    "\n",
    "Cách khai báo rất đơn giản:\n",
    "```\n",
    "def tên_hàm(danh_sách_tham_số):\n",
    "    <mã_lệnh>\n",
    "    return <giá_trị_trả_về>\n",
    "```\n",
    "\n",
    "Bạn sẽ để ý thấy mã lệnh trong hàm được thụt lùi vào bên phải. Thực hành này tương tự như bạn đã làm với các lệnh vòng lặp và điều kiện. Bạn hãy thử chạy đoạn mã sau xem kết quả như thế nào nhé."
   ]
  },
  {
   "cell_type": "code",
   "execution_count": 1,
   "metadata": {},
   "outputs": [
    {
     "data": {
      "text/plain": [
       "9"
      ]
     },
     "execution_count": 1,
     "metadata": {},
     "output_type": "execute_result"
    }
   ],
   "source": [
    "a = 3\n",
    "def sqr(x):\n",
    "    return x * x\n",
    "\n",
    "sqr(a)\n",
    "a ** 2"
   ]
  },
  {
   "cell_type": "markdown",
   "metadata": {},
   "source": [
    "Trong đoạn mã này, chúng ta khai báo hàm `sqr()` để tính bình phương của đối số x đưa vào. Có mấy điểm cần ghi nhớ:\n",
    "\n",
    "* Sau từ khóa `def` có dấu cách.\n",
    "* Quy tắc đặt tên hàm giống y hệt quy tắc đặt tên biến.\n",
    "* Sau tên hàm phải có cặp dấu ngoặc tròn `()`, kể cả khi bạn không khai báo đối số nào.\n",
    "* Sau dấu đóng ngoặc `)` phải có dấu hai chấm `:`.\n",
    "* Nội dung hàm phải có **ít nhất 1 dòng lệnh**.\n",
    "* Nếu muốn hàm trả về giá trị, bạn phải dùng từ khóa `return`. Bạn có thể không để gì sau `return` (hàm sẽ không trả về cái gì cả). Nếu để một giá trị nào đó sau `return`, nhớ đặt một dấu cách giữa `return` và giá trị trả về.\n",
    "\n",
    "\n",
    "## Trả về các giá trị khác nhau dựa trên điều kiện\n",
    "\n",
    "Quan sát đoạn code dưới đây."
   ]
  },
  {
   "cell_type": "code",
   "execution_count": 2,
   "metadata": {},
   "outputs": [
    {
     "data": {
      "text/plain": [
       "'Female'"
      ]
     },
     "execution_count": 2,
     "metadata": {},
     "output_type": "execute_result"
    }
   ],
   "source": [
    "sex = 0\n",
    "if sex == 0:\n",
    "    sex_value = \"Female\"\n",
    "else:\n",
    "    sex_value = \"Male\"\n",
    "\n",
    "sex_value"
   ]
  },
  {
   "cell_type": "markdown",
   "metadata": {},
   "source": [
    "Nếu bây giờ bạn chuyển nó thành một hàm tên là `sex_value()` thì bạn sẽ viết như thế nào?"
   ]
  },
  {
   "cell_type": "code",
   "execution_count": 3,
   "metadata": {},
   "outputs": [
    {
     "data": {
      "text/plain": [
       "'Male'"
      ]
     },
     "execution_count": 3,
     "metadata": {},
     "output_type": "execute_result"
    }
   ],
   "source": [
    "def sex_value(sex):\n",
    "    if sex == 0:\n",
    "        return \"Female\"\n",
    "    return \"Male\"\n",
    "\n",
    "sex_value(1)"
   ]
  },
  {
   "cell_type": "markdown",
   "metadata": {},
   "source": [
    "Bạn sẽ để ý thấy chúng ta không cần dùng `else` cho trường hợp `sex != 0`. Lí do là bởi nếu như `sex == 0` thì dòng lệnh bên trong lệnh điều kiện `if` sẽ được thực hiện. Cho dù đoạn code của bạn chưa kết thúc, khi gặp `return`, Python sẽ thoát khỏi hàm.\n",
    "\n",
    "Bạn cũng có viết hàm trên như sau (xem lại bài [B05](./05_listcomp.ipynb)):"
   ]
  },
  {
   "cell_type": "code",
   "execution_count": 4,
   "metadata": {},
   "outputs": [
    {
     "data": {
      "text/plain": [
       "'Male'"
      ]
     },
     "execution_count": 4,
     "metadata": {},
     "output_type": "execute_result"
    }
   ],
   "source": [
    "def sex_value(sex):\n",
    "    return \"Female\" if sex == 0 else \"Male\"\n",
    "\n",
    "sex_value(1)"
   ]
  },
  {
   "cell_type": "markdown",
   "metadata": {},
   "source": [
    "## Đối số của hàm\n",
    "\n",
    "Chúng ta đã có hai ví dụ về đối số của hàm. Vậy chính xác đối số của hàm là gì?\n",
    "\n",
    "Bạn có nhớ khi học toán, chúng ta hay viết $f(x) = ax + b$ không? Đại lượng $x$ trong hàm số toán học gọi là \"biến\". Ở đây chúng ta gọi chúng là đối số (argument).\n",
    "\n",
    "Trong Python bạn không cần quy định kiểu dữ liệu cho đối số của hàm, cũng không cần quy định hàm sẽ trả về kiểu dữ liệu nào. Đây là một trong những lí do Python rất linh hoạt.\n",
    "\n",
    "Thông thường chúng ta sẽ dựa trên đối số của hàm để tính toán và trả về một giá trị nào đó. Trong ví dụ đầu tiên, chúng ta tính bình phương của giá trị được cung cấp qua đối số `x` và trả về giá trị tính toán này.\n",
    "\n",
    "Nếu hàm có khai báo đối số, khi gọi hàm, bạn phải cung cấp đối số cho hàm. Xem ví dụ dưới đây."
   ]
  },
  {
   "cell_type": "code",
   "execution_count": 5,
   "metadata": {},
   "outputs": [
    {
     "data": {
      "text/plain": [
       "'Female'"
      ]
     },
     "execution_count": 5,
     "metadata": {},
     "output_type": "execute_result"
    }
   ],
   "source": [
    "sex_value(0)"
   ]
  },
  {
   "cell_type": "code",
   "execution_count": 6,
   "metadata": {},
   "outputs": [
    {
     "data": {
      "text/plain": [
       "'Male'"
      ]
     },
     "execution_count": 6,
     "metadata": {},
     "output_type": "execute_result"
    }
   ],
   "source": [
    "sex_value(\"Female\")"
   ]
  },
  {
   "cell_type": "markdown",
   "metadata": {},
   "source": [
    "Ở trường hợp đầu tiên, hàm trả về giá trị `\"Female\"` vì giá trị của đối số chúng ta đưa vào là `0`. Tại sao ở trường hợp thứ hai, hàm lại trả về `\"Male\"`? Nhìn lại phép so sánh, chúng ta sẽ thấy chúng ta đang so sánh `\"Female\"` và `0`. Phép so sánh này sẽ luôn luôn trả về `False`. Do đó, hàm sẽ trả về giá trị `\"Male\"`.\n",
    "\n",
    "Lệnh sau đây sẽ báo lỗi do chúng ta không cung cấp đối số bắt buộc của hàm:\n",
    "\n",
    "```python\n",
    "sex_value()\n",
    "```\n",
    "\n",
    "```\n",
    "Traceback (most recent call last):\n",
    "  File \"<stdin>\", line 1, in <module>\n",
    "TypeError: sex_value() missing 1 required positional argument: 'sex'\n",
    "```\n",
    "\n",
    "\n",
    "### Đối số không bắt buộc\n",
    "\n",
    "Trong Python, đối số có thể trở thành không bắt buộc nếu như bạn đã khai báo sẵn một giá trị mặc định (default) cho nó. Lưu ý cách viết truyền thống của Python là giữa tên đối số và dấu bằng `=` không có dấu cách, còn các lệnh khác thì có dấu cách. Nhưng đây chỉ là style quy ước, không bắt buộc.\n",
    "\n",
    "Trong ví dụ dưới đây, khi bạn không cung cấp giá trị cho đối số `sex`, hàm `sex_value()` sẽ dùng giá trị mặc định của nó là `0`."
   ]
  },
  {
   "cell_type": "code",
   "execution_count": 7,
   "metadata": {},
   "outputs": [
    {
     "name": "stdout",
     "output_type": "stream",
     "text": [
      "Female\n",
      "Female\n"
     ]
    }
   ],
   "source": [
    "def sex_value(sex=0):\n",
    "    return \"Female\" if sex == 0 else \"Male\"\n",
    "\n",
    "print(sex_value(0))\n",
    "print(sex_value())"
   ]
  },
  {
   "cell_type": "markdown",
   "metadata": {},
   "source": [
    "### Hàm nhiều đối số\n",
    "\n",
    "Trong rất nhiều trường hợp, chúng ta muốn cung cấp một vài đối số cho hàm. Các đối số này được khai báo trong cặp dấu ngoặc tròn `()`, và cách nhau bởi dấu phẩy `,`. Hãy chạy thử đoạn code dưới đây:\n",
    "\n",
    "```python\n",
    "def fullname1(ho, ten):\n",
    "    return ho + \" \" + ten\n",
    "\n",
    "def fullname2(ho=\"\", ten):\n",
    "    return ten if ho == \"\" else ho + \" \" + ten\n",
    "\n",
    "fullname1(\"\", \"Long\")\n",
    "fullname2(\"\", \"Long\")\n",
    "```\n",
    "\n",
    "Bạn có thấy sau khi khai báo hàm `fullname2()` thì Python báo lỗi không? Lỗi đó là do bạn đã khai báo đối số bắt buộc ở đằng sau đối số không bắt buộc. Python quy định tất cả các đối số bắt buộc phải khai báo hết ở đầu, sau đó mới đến không bắt buộc. Vậy bạn sẽ viết lại hàm này như thế nào?"
   ]
  },
  {
   "cell_type": "code",
   "execution_count": 8,
   "metadata": {},
   "outputs": [
    {
     "name": "stdout",
     "output_type": "stream",
     "text": [
      "Long\n",
      "Hoang Long\n"
     ]
    }
   ],
   "source": [
    "def fullname2(ten, ho=\"\"):\n",
    "    return ten if ho == \"\" else ho + \" \" + ten\n",
    "\n",
    "print(fullname2(\"Long\"))\n",
    "print(fullname2(\"Long\", \"Hoang\"))"
   ]
  },
  {
   "cell_type": "markdown",
   "metadata": {},
   "source": [
    "### Gọi tên đối số\n",
    "\n",
    "Sau khi khai báo xong hai hàm trên, chúng ta nhận ra một vấn đề: thứ tự đối số của hai hàm không giống nhau. Hãy cùng xem lại:\n",
    "\n",
    "```python\n",
    "def fullname1(ho, ten):\n",
    "def fullname2(ten, ho=\"\"):\n",
    "```\n",
    "\n",
    "Trong thực hành lập trình, mình rất KHÔNG khuyến khích thói quen này. Tuy nhiên, bạn sẽ phát hiện ra ngay cả những thư viện lớn thỉnh thoảng sẽ có trường hợp các hàm tương tự nhau nhưng thứ tự đối số không giống nhau.\n",
    "\n",
    "Lúc này khi gọi hàm, chúng ta có thể gọi rõ tên đối số để tránh nhầm lẫn. Xem ví dụ sau."
   ]
  },
  {
   "cell_type": "code",
   "execution_count": 9,
   "metadata": {},
   "outputs": [
    {
     "name": "stdout",
     "output_type": "stream",
     "text": [
      "Hoang Long\n",
      "Long Hoang\n",
      "Hoang Long\n",
      "Hoang Long\n"
     ]
    }
   ],
   "source": [
    "def fullname1(ho, ten):\n",
    "    return ho + \" \" + ten\n",
    "\n",
    "def fullname2(ten, ho=\"\"):\n",
    "    return ten if ho == \"\" else ho + \" \" + ten\n",
    "\n",
    "print(fullname1(\"Hoang\", \"Long\"))\n",
    "print(fullname2(\"Hoang\", \"Long\"))\n",
    "print(fullname1(ho=\"Hoang\", ten=\"Long\"))\n",
    "print(fullname2(ho=\"Hoang\", ten=\"Long\"))"
   ]
  },
  {
   "cell_type": "markdown",
   "metadata": {},
   "source": [
    "### Bỏ qua đối số không bắt buộc\n",
    "\n",
    "Trong trường hợp muốn sử dụng luôn giá trị mặc định của đối số không bắt buộc, bạn có thể không cần gọi đối số này."
   ]
  },
  {
   "cell_type": "code",
   "execution_count": 10,
   "metadata": {},
   "outputs": [
    {
     "name": "stdout",
     "output_type": "stream",
     "text": [
      "Long\n",
      "Long\n"
     ]
    }
   ],
   "source": [
    "print(fullname2(\"Long\", \"\"))\n",
    "print(fullname2(ten=\"Long\"))"
   ]
  },
  {
   "attachments": {},
   "cell_type": "markdown",
   "metadata": {},
   "source": [
    "Nhưng nhớ là phải cung cấp giá trị cho tất cả các đối số bắt buộc.\n",
    "\n",
    "```python\n",
    "fullname2(ho=\"Hoang\")\n",
    "```\n",
    "\n",
    "```\n",
    "Traceback (most recent call last):\n",
    "  File \"<stdin>\", line 1, in <module>\n",
    "TypeError: fullname2() missing 1 required positional argument: 'ten'\n",
    "```\n",
    "\n",
    "\n",
    "## Luyện tập\n",
    "\n",
    "1. Viết hàm `initials()` để lấy các chữ cái đầu viết hoa trong tên.\n",
    "    * Chạy hàm đó cho biến `name` có giá trị `\"Johns Doe\"`. Bạn có thể thay tên bạn vào đó.\n",
    "    * Chạy hàm đó cho danh sách `names` = `[\"Johns Doe\", \"Mary James\", \"Albert Henderson\"]`. In ra màn hình các tên viết tắt.\n",
    "    * Cũng làm giống như trên nhưng trả về một danh sách các tên viết tắt.\n",
    "\n",
    "2. Tạo biến `s` là danh sách giá trị từ 0 đến 20.\n",
    "    * Viết hàm `tong()` để tính tổng của các giá trị trong danh sách `s`.\n",
    "    * Viết hàm `tb()` để tính trung bình các giá trị trong danh sách `s`.\n",
    "    * Viết hàm `psai()` để tính phương sai theo công thức sau:\n",
    "\n",
    "$$ psai = \\frac{\\sum_i (s_i - tb)^2}{len(s)} $$\n",
    "\n",
    "Dấu sigma ($\\Sigma$) là tổng các giá trị trong ngoặc đơn. Sử dụng hàm `len()` để trả về số phần tử của danh sách."
   ]
  },
  {
   "cell_type": "code",
   "execution_count": 11,
   "metadata": {},
   "outputs": [
    {
     "name": "stdout",
     "output_type": "stream",
     "text": [
      "JD\n",
      "JD\n",
      "MJ\n",
      "AH\n",
      "['JD', 'MJ', 'AH']\n"
     ]
    }
   ],
   "source": [
    "\n",
    "def initials(name):\n",
    "    return \"\".join([s[0] for s in name.split()]).upper()\n",
    "\n",
    "name = \"Johns Doe\"\n",
    "print(initials(name))\n",
    "\n",
    "names = [\"Johns Doe\", \"Mary James\", \"Albert Henderson\"]\n",
    "for n in names:\n",
    "    print(initials(n))\n",
    "\n",
    "print([initials(n) for n in names])"
   ]
  },
  {
   "cell_type": "code",
   "execution_count": 12,
   "metadata": {},
   "outputs": [
    {
     "name": "stdout",
     "output_type": "stream",
     "text": [
      "190 9.5 33.25\n"
     ]
    }
   ],
   "source": [
    "s = list(range(20))\n",
    "\n",
    "def tong(s):\n",
    "    t = 0\n",
    "    for v in s:\n",
    "        t += v\n",
    "    return t\n",
    "\n",
    "def tb(s):\n",
    "    return tong(s) / len(s)\n",
    "\n",
    "def psai(s):\n",
    "    t = 0\n",
    "    avg = tb(s)\n",
    "    for v in s:\n",
    "        t += (v - avg) ** 2\n",
    "    return t / len(s)\n",
    "\n",
    "print(tong(s), tb(s), psai(s))"
   ]
  },
  {
   "cell_type": "markdown",
   "metadata": {},
   "source": [
    "---\n",
    "\n",
    "[Bài trước](./06_str.ipynb) - [Danh sách bài](../README.md) - [Bài sau](./08_tupdictset.ipynb)"
   ]
  }
 ],
 "metadata": {
  "kernelspec": {
   "display_name": "Python 3.9.9 64-bit",
   "language": "python",
   "name": "python3"
  },
  "language_info": {
   "codemirror_mode": {
    "name": "ipython",
    "version": 3
   },
   "file_extension": ".py",
   "mimetype": "text/x-python",
   "name": "python",
   "nbconvert_exporter": "python",
   "pygments_lexer": "ipython3",
   "version": "3.9.9"
  },
  "orig_nbformat": 4,
  "vscode": {
   "interpreter": {
    "hash": "11938c6bc6919ae2720b4d5011047913343b08a43b18698fd82dedb0d4417594"
   }
  }
 },
 "nbformat": 4,
 "nbformat_minor": 2
}
