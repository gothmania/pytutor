{
 "cells": [
  {
   "cell_type": "markdown",
   "metadata": {},
   "source": [
    "# B04 `str`, `list`, và vòng lặp `for`\n",
    "\n",
    "## Mục đích\n",
    "\n",
    "Tiếp tục giới thiệu về kiểu dữ liệu chuỗi kí tự và danh sách. Giới thiệu vòng lặp `for`. Đây là một bài viết dài, bạn nên chia làm nhiều lần đọc để tránh nhàm chán. Ngoài ra, nên mở sẵn cửa sổ Visual Studio Code và chạy tất cả các đoạn lệnh ví dụ.\n",
    "\n",
    "\n",
    "## Chức năng Gợi ý trong VSC\n",
    "\n",
    "Sau khi cài extension Python cho VSC, bạn có thể sử dụng tính năng Gợi ý để giúp việc viết code thuận tiện hơn. Trong hình bên, biến `sentence` có kiểu `str`. Khi bạn gõ dấu chấm `.` sau tên biến, các hàm xử lí chuỗi kí tự sẽ hiện ra. Bạn có thể thấy chỉ gõ thêm một chữ `s`, VSC đã đưa bạn đến danh sách các hàm có `s` trong tên và gợi ý một hàm mà có thể bạn sẽ dùng.\n",
    "\n",
    "<img src=\"../assets/010401_intellisense.jpg\" width=\"600\"/>\n",
    "\n",
    "\n",
    "## Loại bỏ dấu cách thừa: Hàm `strip()`\n",
    "\n",
    "Cú pháp: `<chuỗi_kí_tự>.strip()`\n",
    "\n",
    "* Hàm này sẽ loại bỏ các kí tự cách `' '` ở đầu và cuối của chuỗi kí tự.\n",
    "* Nếu chỉ muốn loại bỏ kí tự cách ở đầu chuỗi kí tự, bạn dùng hàm `lstrip()`. Tương tự, `rstrip()` cho cuối chuỗi kí tự.\n",
    "* Sẽ có lúc bạn cảm thấy hàm này có ích ^_^."
   ]
  },
  {
   "cell_type": "code",
   "execution_count": 1,
   "metadata": {},
   "outputs": [
    {
     "data": {
      "text/plain": [
       "'There are spaces     '"
      ]
     },
     "execution_count": 1,
     "metadata": {},
     "output_type": "execute_result"
    }
   ],
   "source": [
    "s = \"   There are spaces     \"\n",
    "s.strip()\n",
    "\"   There are spaces     \".lstrip()"
   ]
  },
  {
   "cell_type": "markdown",
   "metadata": {},
   "source": [
    "## Vòng lặp `for`\n",
    "\n",
    "Hàm `strip()` chỉ dùng được cho biến kiểu `str`. Nếu bạn có một biến `a` là danh sách các giá trị `str`, bạn không thể viết `a.strip()` hoặc `str.strip(a)`. Lúc này bạn sẽ cần dùng vòng lặp để lấy từng giá trị `str` và \"strip\" nó.\n",
    "\n",
    "Cú pháp:\n",
    "```\n",
    "for <biến> in <iterable>:\n",
    "    <các_lệnh_trong_vòng_lặp>\n",
    "```\n",
    "\n",
    "Giải thích:\n",
    "* `iterable` là một kiểu dữ liệu \"có thể lặp được\". Ví dụ, danh sách là \"có thể lặp được\", mỗi lần lặp nó sẽ lấy giá trị của một phần tử trong danh sách ra và gán cho `<biến>`.\n",
    "* Các lệnh trong vòng lặp `for` thường sẽ thao tác trên giá trị của `<biến>`.\n",
    "\n",
    "Trong ví dụ ở dưới đây, chúng ta dùng vòng lặp `for` để lấy từng chuỗi kí tự trong danh sách `origin`, sau đó \"strip\" nó và thêm vào biến danh sách kết quả `result`."
   ]
  },
  {
   "cell_type": "code",
   "execution_count": 2,
   "metadata": {},
   "outputs": [
    {
     "name": "stdout",
     "output_type": "stream",
     "text": [
      "['python', 'for', 'str', 'iterable']\n"
     ]
    }
   ],
   "source": [
    "origin = [\" python\", \"for   \", \"  str \", \"iterable\"]\n",
    "result = []\n",
    "for s in origin:\n",
    "    result.append(s.strip())\n",
    "print(result)"
   ]
  },
  {
   "cell_type": "markdown",
   "metadata": {},
   "source": [
    "# Chỉ mục (index) trong danh sách\n",
    "\n",
    "Bạn có thể truy cập trực tiếp từng phần tử của danh sách thông qua chỉ mục (số thứ tự) của phần tử trong danh sách. Lưu ý: Python sử dụng zero-based index, có nghĩa là chỉ mục của phần tử đầu tiên là 0.\n",
    "\n",
    "Trong ví dụ dưới đây, phần tử thứ 2 trong danh sách `ids` là `ids[1]`. Bạn có thể:\n",
    "\n",
    "* Lấy giá trị của phần tử này: `print(ids[1])`\n",
    "* Gán giá trị mới cho phần tử này: `ids[1] = 2352`\n",
    "* Thực hiện các phép toán cho phần tử này: `print(ids[1] * 2 + 100)`"
   ]
  },
  {
   "cell_type": "code",
   "execution_count": 3,
   "metadata": {},
   "outputs": [
    {
     "name": "stdout",
     "output_type": "stream",
     "text": [
      "5\n",
      "8\n"
     ]
    }
   ],
   "source": [
    "ids = [1, 3, 5]\n",
    "print(ids[2])\n",
    "ids[2] = ids[0] + ids[1]  #1 + 3 = 4\n",
    "print(ids[2] * 2)"
   ]
  },
  {
   "cell_type": "markdown",
   "metadata": {},
   "source": [
    "## Dùng vòng lặp `for` với chỉ mục của `list`\n",
    "\n",
    "Bạn có thể lấy giá trị của từng phần tử trong danh sách bằng cách sử dụng chỉ mục của chúng. Lưu ý: vì chỉ mục của danh sách bắt đầu từ 0, chỉ mục cuối cùng trong một danh sách có `n` phần tử sẽ là `n - 1`.\n",
    "\n",
    "Thay vì lặp trực tiếp qua từng phần tử, chúng ta sẽ lặp qua danh sách chỉ mục của chúng. Để làm việc này, chúng ta sử dụng lệnh `range(n)` để tạo một khoảng từ `0` đến `n - 1`.\n",
    "\n",
    "* Chúng ta làm lại ví dụ \"strip\" ở trên theo cách khác. Dòng lệnh `n = len(origin)` gán số phần tử của danh sách `origin` cho biến `n`.\n",
    "* `range(n)` tạo ra một range của các giá trị từ `0` đến `n - 1`. Kiểu `range` là một kiểu dữ liệu iterable, do đó có thể sử dụng trong vòng lặp `for`. Cứ mỗi lần lặp, một giá trị từ `0` đến `n - 1` sẽ được trả về và gán cho biến `i`.\n",
    "* Khác với ví dụ ở trên (tạo ra một danh sách `result` mới), chúng ta gán luôn giá trị của phần tử đã \"strip\" cho chính nó. Dòng lệnh `origin[i] = origin[i].strip()` có thể hiểu là: *lấy chuỗi kí tự của phần tử thứ `i` trong danh sách `origin`, \"strip\" nó, rồi gán lại cho chính phần tử thứ `i`*.\n",
    "\n",
    "***Lưu ý***: vòng lặp `for` sẽ không chạy nếu danh sách trống (`len(<danh_sách>)` bằng 0), bởi vì `range(0)` là một khoảng không chứa chỉ số nào."
   ]
  },
  {
   "cell_type": "code",
   "execution_count": 4,
   "metadata": {},
   "outputs": [
    {
     "name": "stdout",
     "output_type": "stream",
     "text": [
      "['python', 'for', 'str', 'iterable']\n"
     ]
    }
   ],
   "source": [
    "origin = [\" python\", \"for   \", \"  str \", \"iterable\"]\n",
    "n = len(origin)\n",
    "for i in range(n):\n",
    "    origin[i] = origin[i].strip()\n",
    "print(origin)"
   ]
  },
  {
   "cell_type": "markdown",
   "metadata": {},
   "source": [
    "# Loại bỏ phần tử trong danh sách: Hàm `pop()`\n",
    "\n",
    "Cú pháp: `<danh_sách>.pop(<chỉ_mục>)`\n",
    "\n",
    "* Câu lệnh `words.pop(2)` sẽ trả về giá trị của phần tử thứ 3 trong danh sách `words`, đồng thời loại bỏ nó ra khỏi danh sách.\n",
    "* **Nhắc lại 1000 lần rằng `words[i]` là phần tử thứ `i + 1`**."
   ]
  },
  {
   "cell_type": "code",
   "execution_count": 5,
   "metadata": {},
   "outputs": [
    {
     "name": "stdout",
     "output_type": "stream",
     "text": [
      "[0, 1, 3]\n"
     ]
    }
   ],
   "source": [
    "ids = [0, 1, 2, 3]\n",
    "ids.pop(2)\n",
    "print(ids)"
   ]
  },
  {
   "cell_type": "markdown",
   "metadata": {},
   "source": [
    "# *Bài toán*: Loại bỏ các chuỗi kí tự toàn dấu cách trong danh sách\n",
    "\n",
    "Chúng ta có một danh sách như sau:\n",
    "\n",
    "```python\n",
    "origin = [\" python\", \"for   \", \"   \", \"  str \", \"iterable\"]\n",
    "```\n",
    "\n",
    "Chúng ta sẽ loại bỏ các phần tử chỉ chứa toàn kí tự cách. Bạn có thể tự làm điều này hoặc chạy đoạn code sau đây xem điều gì xảy ra.\n",
    "\n",
    "```python\n",
    "origin = [\" python\", \"for   \", \"   \", \"  str \", \"iterable\"]\n",
    "n = len(origin)\n",
    "for i in range(n):\n",
    "    if origin[i].strip() == \"\":\n",
    "        origin.pop(i)\n",
    "print(origin)\n",
    "```\n",
    "\n",
    "Bạn có thấy Python báo lỗi không?\n",
    "\n",
    "```\n",
    "Traceback (most recent call last):\n",
    "  File \"<stdin>\", line 2, in <module>\n",
    "IndexError: list index out of range\n",
    "```\n",
    "\n",
    "Lỗi này có nghĩa là bạn đã gọi một chỉ số KHÔNG nằm trong khoảng `0` đến `n - 1`. Uề? Chúng ta sẽ cùng theo dõi quá trình thực hiện lệnh:\n",
    "\n",
    "<img src=\"../assets/010402_for.png\" width=\"600\"/>\n",
    "\n",
    "* `n` = 5, do đó, vòng lặp `i` sẽ chạy từ 0 đến 4.\n",
    "* `i` = 0 và 1: `origin[i].strip()` khác `\"\"`. Không thực hiện lệnh `pop()`.\n",
    "* `i` = 2: `origin[2]` là `\"   \"`, do đó `origin[i].strip()` trả về `\"\"`.\n",
    "    * Điều kiện `if` trở thành `True`.\n",
    "    * Vậy lệnh `origin(2)` được thực hiện. Phần tử thứ 2 bị xóa khỏi danh sách.\n",
    "    * Lúc này `origin` trở thành `[\" python\", \"for   \", \"  str \", \"iterable\"]`\n",
    "* `i` = 3: `origin[i].strip()` khác `\"\"`. Không thực hiện lệnh `pop()`. Nhưng lưu ý, `origin[3]` là `\"iterable\"`.\n",
    "* `i` = 4: đây chính là lúc lỗi `IndexError` xuất hiện, vì danh sách chỉ có bốn phần tử, nên không thể gọi `origin[4]` (phần tử thứ 5).\n",
    "\n",
    "Một giải pháp (đơn giản) được đưa ra trong đoạn code dưới đây. Bạn hãy suy nghĩ xem tại sao chúng ta lại làm thế nhé.\n",
    "\n",
    "Chúng ta sẽ đến với một giải pháp khác trong bài viết sau."
   ]
  },
  {
   "cell_type": "code",
   "execution_count": 6,
   "metadata": {},
   "outputs": [
    {
     "name": "stdout",
     "output_type": "stream",
     "text": [
      "[' python', 'for   ', '  str ', 'iterable']\n"
     ]
    }
   ],
   "source": [
    "origin = [\" python\", \"for   \", \"   \", \"  str \", \"iterable\"]\n",
    "n = len(origin)\n",
    "n_pop = 0\n",
    "for i in range(n):\n",
    "    if origin[i - n_pop].strip() == \"\":\n",
    "        origin.pop(i - n_pop)\n",
    "        n_pop += 1    # n_pop = n_pop + 1\n",
    "print(origin)"
   ]
  },
  {
   "cell_type": "markdown",
   "metadata": {},
   "source": [
    "## Lượng giá\n",
    "\n",
    "Đừng quên ôn bài với [bài tập lượng giá](https://forms.gle/heRy3gMZitLBsax66).\n",
    "\n",
    "---\n",
    "\n",
    "[Bài trước](./03_listifwhile.ipynb) - [Danh sách bài](../README.md) - [Bài sau]()"
   ]
  }
 ],
 "metadata": {
  "kernelspec": {
   "display_name": "Python 3.9.9 64-bit",
   "language": "python",
   "name": "python3"
  },
  "language_info": {
   "codemirror_mode": {
    "name": "ipython",
    "version": 3
   },
   "file_extension": ".py",
   "mimetype": "text/x-python",
   "name": "python",
   "nbconvert_exporter": "python",
   "pygments_lexer": "ipython3",
   "version": "3.9.9"
  },
  "orig_nbformat": 4,
  "vscode": {
   "interpreter": {
    "hash": "11938c6bc6919ae2720b4d5011047913343b08a43b18698fd82dedb0d4417594"
   }
  }
 },
 "nbformat": 4,
 "nbformat_minor": 2
}
