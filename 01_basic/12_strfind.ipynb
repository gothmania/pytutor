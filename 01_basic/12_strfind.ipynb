{
 "cells": [
  {
   "cell_type": "markdown",
   "metadata": {},
   "source": [
    "# B12 Tìm kiếm trong chuỗi kí tự\n",
    "\n",
    "## Mục đích\n",
    "\n",
    "Trong bài này, các bạn sẽ làm quen với các hàm để tìm kiếm nội dung trong chuỗi kí tự theo các cách khác nhau.\n",
    "\n",
    "\n",
    "## Tìm kiếm chuỗi bắt đầu hoặc kết thúc\n",
    "\n",
    "Python hỗ trợ hai hàm tìm kiếm đơn giản để chúng ta tìm các chuỗi kí tự bắt đầu và kết thúc (ví dụ, tiền tố, hậu tố). Chẳng hạn:"
   ]
  },
  {
   "cell_type": "code",
   "execution_count": 1,
   "metadata": {},
   "outputs": [
    {
     "data": {
      "text/plain": [
       "(True, False)"
      ]
     },
     "execution_count": 1,
     "metadata": {},
     "output_type": "execute_result"
    }
   ],
   "source": [
    "x = \"xn0_hb\"\n",
    "y = \"xn1_tieucau\"\n",
    "\n",
    "x.startswith(\"xn0_hb\"), y.endswith(\"bachcau\")"
   ]
  },
  {
   "cell_type": "markdown",
   "metadata": {},
   "source": [
    "Bạn có thể thêm đối số về vị trí bắt đầu và kết thúc để chỉ tìm kiếm trong chuỗi con đó."
   ]
  },
  {
   "cell_type": "code",
   "execution_count": 2,
   "metadata": {},
   "outputs": [
    {
     "name": "stdout",
     "output_type": "stream",
     "text": [
      "0_hb True\n",
      "tieu True\n"
     ]
    }
   ],
   "source": [
    "print(x[2:], x.startswith(\"0_\", 2))\n",
    "print(y[4:8], y.endswith(\"eu\", 4, 8))"
   ]
  },
  {
   "cell_type": "markdown",
   "metadata": {},
   "source": [
    "## Tìm kiếm một chuỗi trong chuỗi kí tự\n",
    "\n",
    "Nếu không quan tâm tới bắt đầu hoặc kết thúc, bạn có thể dùng hàm `find()` để tìm kiếm. Kết quả của hàm `find()` là vị trí mà chuỗi kí tự con đang tìm bắt đầu xuất hiện; hàm trả về giá trị -1 nếu không tìm được chuỗi kí tự con."
   ]
  },
  {
   "cell_type": "code",
   "execution_count": 3,
   "metadata": {},
   "outputs": [
    {
     "name": "stdout",
     "output_type": "stream",
     "text": [
      "6 -1\n"
     ]
    }
   ],
   "source": [
    "x = \"Hello Python\"\n",
    "y = \"Hello R\"\n",
    "\n",
    "print(x.find(\"Python\"), y.find(\"Python\"))"
   ]
  },
  {
   "cell_type": "markdown",
   "metadata": {},
   "source": [
    "Một cách tìm kiếm khác là dùng từ khóa `in` để trả về giá trị `True`/`False`."
   ]
  },
  {
   "cell_type": "code",
   "execution_count": 4,
   "metadata": {},
   "outputs": [
    {
     "data": {
      "text/plain": [
       "True"
      ]
     },
     "execution_count": 4,
     "metadata": {},
     "output_type": "execute_result"
    }
   ],
   "source": [
    "\"Python\" in x"
   ]
  },
  {
   "cell_type": "markdown",
   "metadata": {},
   "source": [
    "Đôi khi bạn cũng muốn đếm xem chuỗi kí tự con xuất hiện bao nhiêu lần trong toàn bộ chuỗi kí tự. Trong ví dụ dưới đây, bạn sẽ để ý thấy hàm xử lí chuỗi kí tự của Python có phân biệt chữ hoa và chữ thường."
   ]
  },
  {
   "cell_type": "code",
   "execution_count": 5,
   "metadata": {},
   "outputs": [
    {
     "data": {
      "text/plain": [
       "3"
      ]
     },
     "execution_count": 5,
     "metadata": {},
     "output_type": "execute_result"
    }
   ],
   "source": [
    "x = \"Python Python PyPython python\"\n",
    "x.count(\"Python\")"
   ]
  },
  {
   "cell_type": "markdown",
   "metadata": {},
   "source": [
    "Nếu không quan tâm tới chữ hoa và chữ thường, bạn có hai lựa chọn: (1) chuyển cả chuỗi kí tự lớn và chuỗi kí tự con về cùng dạng viết hoa / thường, hoặc (2) sử dụng Regular expression (chúng ta sẽ có một chương riêng nói về các kĩ thuật RegEx). Đối với cách (1), Python hỗ trợ hàm `casefold()` để xử lí triệt để việc đồng nhất viết hoa / thường."
   ]
  },
  {
   "cell_type": "code",
   "execution_count": 6,
   "metadata": {},
   "outputs": [
    {
     "name": "stdout",
     "output_type": "stream",
     "text": [
      "False True\n"
     ]
    }
   ],
   "source": [
    "x = \"Python\"\n",
    "y = \"py\"\n",
    "\n",
    "print(y in x, y.casefold() in x.casefold())"
   ]
  },
  {
   "cell_type": "markdown",
   "metadata": {},
   "source": [
    "## Thay thế nội dung trong chuỗi kí tự\n",
    "\n",
    "Đây cũng là một nhu cầu chúng ta thường phát sinh trong quá trình xử lí thông tin. Trong Python, bạn sẽ sử dụng hàm `replace()`."
   ]
  },
  {
   "cell_type": "code",
   "execution_count": 7,
   "metadata": {},
   "outputs": [
    {
     "data": {
      "text/plain": [
       "'Python'"
      ]
     },
     "execution_count": 7,
     "metadata": {},
     "output_type": "execute_result"
    }
   ],
   "source": [
    "x = \"PythPyon\"\n",
    "x.replace(\"Pyon\", \"on\")"
   ]
  },
  {
   "cell_type": "markdown",
   "metadata": {},
   "source": [
    "Nếu bạn muốn xóa tiền tố hoặc hậu tố của chuỗi kí tự, bắt đầu từ Python 3.9, bạn có thể sử dụng hai hàm `removeprefix()` và `removesuffix()`."
   ]
  },
  {
   "cell_type": "code",
   "execution_count": 8,
   "metadata": {},
   "outputs": [
    {
     "name": "stdout",
     "output_type": "stream",
     "text": [
      "wbc fsfg\n"
     ]
    }
   ],
   "source": [
    "x = \"fu1_wbc\"\n",
    "y = \"fsfg_total\"\n",
    "\n",
    "print(x.removeprefix(\"fu1_\"), y.removesuffix(\"_total\"))"
   ]
  },
  {
   "cell_type": "markdown",
   "metadata": {},
   "source": [
    "---\n",
    "\n",
    "[Bài trước](./11_strformat.ipynb) - [Danh sách bài](../README.md) - [Bài sau]()"
   ]
  }
 ],
 "metadata": {
  "kernelspec": {
   "display_name": "Python 3.9.9 64-bit",
   "language": "python",
   "name": "python3"
  },
  "language_info": {
   "codemirror_mode": {
    "name": "ipython",
    "version": 3
   },
   "file_extension": ".py",
   "mimetype": "text/x-python",
   "name": "python",
   "nbconvert_exporter": "python",
   "pygments_lexer": "ipython3",
   "version": "3.9.9"
  },
  "orig_nbformat": 4,
  "vscode": {
   "interpreter": {
    "hash": "11938c6bc6919ae2720b4d5011047913343b08a43b18698fd82dedb0d4417594"
   }
  }
 },
 "nbformat": 4,
 "nbformat_minor": 2
}
