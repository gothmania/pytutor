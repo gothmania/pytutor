{
 "cells": [
  {
   "cell_type": "markdown",
   "metadata": {},
   "source": [
    "# Bộ (`tuple`), Từ điển (`dict`), và Tập (`set`)\n",
    "\n",
    "## Mục đích\n",
    "\n",
    "Giới thiệu các cấu trúc dữ liệu quan trọng khác của Python: **bộ**, **từ điển**, và **tập**.\n",
    "\n",
    "\n",
    "## Tuple\n",
    "\n",
    "Tuple là một cấu trúc dữ liệu tương tự như `list` nhưng không thể sửa được (immutable), nghĩa là một khi bạn đã gán dữ liệu cho nó thì không thể sửa được nội dung của dữ liệu nữa. Cấu trúc tuple thường được sử dụng để cung cấp giá trị cho các đối số của hàm.\n",
    "\n",
    "Một tuple có thể được khởi tạo bằng cặp dấu ngoặc tròn `()`. Sau khi khởi tạo, bạn hoàn toàn có thể truy cập vào các phần tử của nó bằng chỉ mục."
   ]
  },
  {
   "cell_type": "code",
   "execution_count": 3,
   "metadata": {},
   "outputs": [
    {
     "name": "stdout",
     "output_type": "stream",
     "text": [
      "1\n"
     ]
    }
   ],
   "source": [
    "tup = (0, 1)\n",
    "print(tup[1])\n",
    "# Bạn không thể: tup[1] = 2"
   ]
  },
  {
   "cell_type": "markdown",
   "metadata": {},
   "source": [
    "## Từ điển\n",
    "\n",
    "Dictionary là một cấu trúc dữ liệu đặc biệt bao gồm **chìa khóa** (key) và **giá trị** (value). Thay vì truy cập bằng chỉ mục như `list`, chúng ta sẽ truy cập bằng chìa khóa trong `dict`.\n",
    "\n",
    "Chúng ta có thể khởi tạo từ điển trống bằng cặp dấu ngoặc móc `{}` hoặc hàm `dict()`."
   ]
  },
  {
   "cell_type": "code",
   "execution_count": 4,
   "metadata": {},
   "outputs": [
    {
     "data": {
      "text/plain": [
       "0"
      ]
     },
     "execution_count": 4,
     "metadata": {},
     "output_type": "execute_result"
    }
   ],
   "source": [
    "codebook = {}\n",
    "len(codebook)"
   ]
  },
  {
   "cell_type": "markdown",
   "metadata": {},
   "source": [
    "Việc thêm dữ liệu vào từ điển hết sức dễ dàng. Bạn sẽ cần thông báo cho Python cả chìa khóa và giá trị của mỗi bản ghi trong từ điển."
   ]
  },
  {
   "cell_type": "code",
   "execution_count": 5,
   "metadata": {},
   "outputs": [
    {
     "data": {
      "text/plain": [
       "{1: 'Female'}"
      ]
     },
     "execution_count": 5,
     "metadata": {},
     "output_type": "execute_result"
    }
   ],
   "source": [
    "codebook[1] = \"Female\"\n",
    "codebook"
   ]
  },
  {
   "cell_type": "markdown",
   "metadata": {},
   "source": [
    "Khác với R, chìa khóa của từ điển trong Python có thể là bất kì kiểu dữ liệu nào, dù đơn giản hay phức tạp."
   ]
  },
  {
   "cell_type": "code",
   "execution_count": 7,
   "metadata": {},
   "outputs": [
    {
     "data": {
      "text/plain": [
       "{1: 'Female', ('Sex', 0): 'Male'}"
      ]
     },
     "execution_count": 7,
     "metadata": {},
     "output_type": "execute_result"
    }
   ],
   "source": [
    "codebook[(\"Sex\", 0)] = \"Male\"\n",
    "codebook"
   ]
  },
  {
   "cell_type": "markdown",
   "metadata": {},
   "source": [
    "Nếu muốn khởi tạo một từ điển có các cặp key-value ngay từ đầu, bạn phân cách chìa khóa và giá trị bằng dấu hai chấm `:`."
   ]
  },
  {
   "cell_type": "code",
   "execution_count": 9,
   "metadata": {},
   "outputs": [
    {
     "data": {
      "text/plain": [
       "'Male'"
      ]
     },
     "execution_count": 9,
     "metadata": {},
     "output_type": "execute_result"
    }
   ],
   "source": [
    "codebook = {(\"Sex\", 0): \"Male\", (\"Sex\", 1): \"Female\"}\n",
    "codebook[(\"Sex\", 0)]"
   ]
  },
  {
   "cell_type": "markdown",
   "metadata": {},
   "source": [
    "Thậm chí chúng ta có thể lồng từ điển trong từ điển."
   ]
  },
  {
   "cell_type": "code",
   "execution_count": 13,
   "metadata": {},
   "outputs": [
    {
     "data": {
      "text/plain": [
       "'Female'"
      ]
     },
     "execution_count": 13,
     "metadata": {},
     "output_type": "execute_result"
    }
   ],
   "source": [
    "codebook = {\"Sex\": {0: \"Male\", 1: \"Female\"}}\n",
    "codebook[\"Sex\"][1]"
   ]
  },
  {
   "cell_type": "markdown",
   "metadata": {},
   "source": [
    "Bạn không thể truy ngược từ giá trị ra chìa khóa.\n",
    "\n",
    "```python\n",
    "codebook[\"Female\"]\n",
    "```\n",
    "\n",
    "```\n",
    "KeyError: 'Female'\n",
    "```\n",
    "\n",
    "### Các hàm thao tác với từ điển\n",
    "\n",
    "Bạn có thể lặp qua danh sách chìa khóa, giá trị, hoặc các cặp key-value của Python. Xem ví dụ sau."
   ]
  },
  {
   "cell_type": "code",
   "execution_count": 14,
   "metadata": {},
   "outputs": [
    {
     "name": "stdout",
     "output_type": "stream",
     "text": [
      "0 Male\n",
      "1 Female\n"
     ]
    }
   ],
   "source": [
    "codebook = {0: \"Male\", 1: \"Female\"}\n",
    "\n",
    "for key in codebook:\n",
    "    print(key, codebook[key])\n"
   ]
  },
  {
   "cell_type": "markdown",
   "metadata": {},
   "source": [
    "Nếu muốn lặp qua danh sách giá trị, chúng ta sẽ sử dụng hàm `values()` của từ điển."
   ]
  },
  {
   "cell_type": "code",
   "execution_count": 16,
   "metadata": {},
   "outputs": [
    {
     "name": "stdout",
     "output_type": "stream",
     "text": [
      "Male\n",
      "Female\n"
     ]
    }
   ],
   "source": [
    "for value in codebook.values():\n",
    "    print(value)\n"
   ]
  },
  {
   "cell_type": "markdown",
   "metadata": {},
   "source": [
    "Nếu muốn lặp qua các cặp key-value, chúng ta sẽ sử dụng hàm `items()` của từ điển."
   ]
  },
  {
   "cell_type": "code",
   "execution_count": 17,
   "metadata": {},
   "outputs": [
    {
     "name": "stdout",
     "output_type": "stream",
     "text": [
      "0 Male\n",
      "1 Female\n"
     ]
    }
   ],
   "source": [
    "for key, value in codebook.items():\n",
    "    print(key, value)\n"
   ]
  },
  {
   "cell_type": "markdown",
   "metadata": {},
   "source": []
  }
 ],
 "metadata": {
  "kernelspec": {
   "display_name": "Python 3.9.9 64-bit",
   "language": "python",
   "name": "python3"
  },
  "language_info": {
   "codemirror_mode": {
    "name": "ipython",
    "version": 3
   },
   "file_extension": ".py",
   "mimetype": "text/x-python",
   "name": "python",
   "nbconvert_exporter": "python",
   "pygments_lexer": "ipython3",
   "version": "3.9.9"
  },
  "orig_nbformat": 4,
  "vscode": {
   "interpreter": {
    "hash": "11938c6bc6919ae2720b4d5011047913343b08a43b18698fd82dedb0d4417594"
   }
  }
 },
 "nbformat": 4,
 "nbformat_minor": 2
}
