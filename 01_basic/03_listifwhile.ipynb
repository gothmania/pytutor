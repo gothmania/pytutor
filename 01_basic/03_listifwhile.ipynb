{
 "cells": [
  {
   "cell_type": "markdown",
   "metadata": {},
   "source": [
    "# B03 Danh sách (list), điều kiện (if), và vòng lặp (while)\n",
    "\n",
    "## Mục đích\n",
    "\n",
    "Giới thiệu với bạn kiểu dữ liệu **danh sách**, câu lệnh **điều kiện**, và **vòng lặp**. Đây là một bài viết dài, bạn nên chia làm nhiều lần đọc để tránh nhàm chán. Ngoài ra, nên mở sẵn cửa sổ Visual Studio Code và chạy tất cả các đoạn lệnh ví dụ.\n",
    "\n",
    "\n",
    "## Bài toán\n",
    "\n",
    "> ***Từ điển***. Thiết kế một công cụ cho phép người dùng nhập các từ. Sau khi nhập xong, in ra danh sách các từ này được sắp xếp từ A-Z.\n",
    "\n",
    "### Tư duy\n",
    "\n",
    "Mọi công cụ đều là sự kết hợp của các quy trình. Bài toán trên đây có thể giải quyết bằng một quy trình đơn giản. Các bạn dành chút thời gian suy nghĩ *cách thiết kế quy trình* của công cụ này, sau đó xem phương án mình đưa ra ở dưới nhé.\n",
    "\n",
    "1. Thông báo cho người dùng nhập một từ. Người dùng nhập một nội dung rồi ấn Enter. Ghi nhận nội dung người dùng mới nhập.\n",
    "2. Nếu người dùng có nhập một từ: lặp lại bước 1.\n",
    "3. Nếu người dùng bỏ trống, không nhập gì cả, chỉ ấn Enter: tới bước 4.\n",
    "4. Sắp xếp danh sách từ.\n",
    "5. In ra màn hình.\n",
    "\n",
    "\n",
    "## Người dùng nhập một từ: Hàm `input()`\n",
    "\n",
    "Cú pháp: `input([thông_báo_cho_người_dùng])` (Dấu ngoặc vuông `[]` nghĩa là không bắt buộc phải có.)\n",
    "\n",
    "* Khi chạy dòng lệnh có hàm `input()`, màn hình sẽ hiển thị một thông báo cho người dùng.\n",
    "* Con trỏ trên màn hình sẽ dừng lại sau thông báo này, chờ người dùng nhập một nội dung nào đó. Việc nhập nội dung chỉ kết thúc sau khi ấn `Enter`.\n",
    "* Hàm sẽ trả về một giá trị kiểu chuỗi kí tự (`str`), là nội dung người dùng đã nhập vào.\n",
    "\n",
    "```python\n",
    "word = input(\"Ban hay nhap mot tu: \")\n",
    "print(\"Tu ban nhap la:\", word)\n",
    "```\n",
    "\n",
    "Để chạy file này trong VSC, bạn cần chạy từng dòng lệnh một. Kết quả trên màn hình trông sẽ như sau:\n",
    "\n",
    "```\n",
    ">>> word = input(\"Ban hay nhap mot tu: \")\n",
    "Ban hay nhap mot tu: python\n",
    ">>> print(\"Tu ban nhap la:\", word)\n",
    "Tu ban nhap la: python\n",
    "```\n",
    "\n",
    "\n",
    "## Kiểm tra chuỗi kí tự trống: Hàm `len()`\n",
    "\n",
    "Cú pháp: len(<tên_biến_hoặc_chuỗi_kí_tự>) (Cặp dấu <> nghĩa là bắt buộc phải có.)\n",
    "\n",
    "* Hàm sẽ trả về độ dài của chuỗi kí tự (`str`). Bạn có thể nhập thẳng chuỗi kí tự vào trong hàm hoặc sử dụng tên biến (xem ví dụ).\n",
    "* Nếu chuỗi kí tự trống `\"\"`, hàm sẽ trả về giá trị 0. Vậy nếu muốn kiểm tra chuỗi kí tự trống, bạn có thể dùng câu lệnh `len(<tên_biến>) == 0`.\n",
    "* Một cách kiểm tra chuỗi kí tự trống khác là so sánh chuỗi kí tự với chuỗi kí tự trống: `<tên_biến> == \"\"`."
   ]
  },
  {
   "cell_type": "code",
   "execution_count": 1,
   "metadata": {},
   "outputs": [
    {
     "data": {
      "text/plain": [
       "6"
      ]
     },
     "execution_count": 1,
     "metadata": {},
     "output_type": "execute_result"
    }
   ],
   "source": [
    "len(\"python\")   #Trả về 6"
   ]
  },
  {
   "cell_type": "code",
   "execution_count": 2,
   "metadata": {},
   "outputs": [
    {
     "data": {
      "text/plain": [
       "6"
      ]
     },
     "execution_count": 2,
     "metadata": {},
     "output_type": "execute_result"
    }
   ],
   "source": [
    "word = \"python\"\n",
    "len(word)       #Trả về 6"
   ]
  },
  {
   "cell_type": "code",
   "execution_count": 3,
   "metadata": {},
   "outputs": [
    {
     "data": {
      "text/plain": [
       "True"
      ]
     },
     "execution_count": 3,
     "metadata": {},
     "output_type": "execute_result"
    }
   ],
   "source": [
    "len(\"\") == 0    #Trả về True"
   ]
  },
  {
   "cell_type": "code",
   "execution_count": 4,
   "metadata": {},
   "outputs": [
    {
     "data": {
      "text/plain": [
       "False"
      ]
     },
     "execution_count": 4,
     "metadata": {},
     "output_type": "execute_result"
    }
   ],
   "source": [
    "\"python\" == \"\"  #Trả về False"
   ]
  },
  {
   "cell_type": "markdown",
   "metadata": {},
   "source": [
    "## Điều kiện: `if`\n",
    "\n",
    "Cú pháp:\n",
    "```\n",
    "if <điều_kiện_1>:\n",
    "    <các_lệnh_trong_điều_kiện_1>\n",
    "elif <điều_kiện_2>:\n",
    "    <các_lệnh_trong_điều_kiện_2>\n",
    "else:\n",
    "    <các_lệnh_trong_else>\n",
    "```\n",
    "\n",
    "Ý nghĩa của đoạn lệnh trên:\n",
    "\n",
    "* Nếu thỏa mãn **điều kiện 1** thì chạy các lệnh trong **điều kiện 1**.\n",
    "* Còn nếu không, kiểm tra **điều kiện 2** (`elif`). Nếu thỏa mãn **điều kiện 2** thì chạy các lệnh trong **điều kiện 2**.\n",
    "* Còn nếu không nữa (`else`) thì chạy các lệnh trong `else`.\n",
    "* Các lệnh trong điều kiện phải thụt lùi vào trong. Bạn có thể dùng phím `Tab` để làm điều này.\n",
    "* Chú ý kết thúc các lệnh `if`, `elif`, và `else` đều có dấu hai chấm `:`.\n",
    "* Không phải lúc nào bạn cũng cần `else` và `elif`.\n",
    "\n",
    "Ở ví dụ dưới đây, chúng ta có biến `a` được gán giá trị 10.\n",
    "\n",
    "* Dòng lệnh `if` đầu tiên kiểm tra xem `a` có phải là số âm hay không. Nếu `a < 0` thì in ra nội dung `\"a la so am\"`.\n",
    "* Vì không thỏa mãn điều kiện này nên Python tiếp tục chuyển sang điều kiện tiếp theo trong `elif` là `a == 0`. Nếu thỏa mãn thì in ra nội dung `\"a == 0\"`.\n",
    "* Vì không thỏa mãn điều kiện này nên Python thực hiện đoạn lệnh trong `else`: in ra nội dung `\"a la so duong\"`."
   ]
  },
  {
   "cell_type": "code",
   "execution_count": 5,
   "metadata": {},
   "outputs": [
    {
     "name": "stdout",
     "output_type": "stream",
     "text": [
      "a la so duong\n"
     ]
    }
   ],
   "source": [
    "a = 10\n",
    "if a < 0:\n",
    "    print(\"a la so am\")\n",
    "elif a == 0:\n",
    "    print(\"a == 0\")\n",
    "else:\n",
    "    print(\"a la so duong\")\n"
   ]
  },
  {
   "cell_type": "markdown",
   "metadata": {},
   "source": [
    "# Vòng lặp: `while`\n",
    "\n",
    "Cú pháp:\n",
    "```\n",
    "while <điều_kiện_lặp>:\n",
    "    <các_lệnh_trong_vòng_lặp>\n",
    "```\n",
    "\n",
    "Ý nghĩa của đoạn lệnh trên:\n",
    "\n",
    "* Nếu thỏa mãn điều kiện lặp thì chạy các lệnh trong vòng lặp.\n",
    "* Các lệnh trong vòng lặp phải thụt lùi vào trong. Bạn có thể dùng phím `Tab` để làm điều này.\n",
    "* Chú ý kết thúc câu lệnh `while` có dấu hai chấm `:`.\n",
    "* Nếu không thỏa mãn điều kiện thì dừng vòng lặp.\n",
    "\n",
    "Ở ví dụ dưới đây, chúng ta có hai biến `a` và `b`.\n",
    "\n",
    "* Biến `a` bằng 5 và biến `b` ban đầu bằng 1.\n",
    "* Điều kiện lặp là `b < a`. Vậy vòng lặp sẽ chỉ dừng lại khi `b >= a`. Lần đầu tiên kiểm tra điều kiện lặp, `b` = 1 nhỏ hơn `a` = 5, thỏa mãn điều kiện lặp. Vòng lặp bắt đầu chạy.\n",
    "* Dòng lệnh `b = b + 1` có nghĩa là \"cộng thêm 1 vào giá trị của biến `b`, rồi gán lại kết quả phép tính cho biến `b`\". Ví dụ, hiện tại `b` = 1. Sau khi chạy lệnh này thì `b` = 2.\n",
    "* Dòng lệnh `print(b)` in ra giá trị (mới) của biến `b`.\n",
    "* Kết thúc các lệnh trong vòng lặp. Kiểm tra lại điều kiện lặp. `b` = 2 vẫn nhỏ hơn `a` = 5, tiếp tục lặp.\n",
    "* Cứ như vậy cho đến khi `b` = 5 thì điều kiện `b < a` không đúng, kết thúc vòng lặp."
   ]
  },
  {
   "cell_type": "code",
   "execution_count": 6,
   "metadata": {},
   "outputs": [
    {
     "name": "stdout",
     "output_type": "stream",
     "text": [
      "2\n",
      "3\n",
      "4\n",
      "5\n"
     ]
    }
   ],
   "source": [
    "a, b = 5, 1\n",
    "while b < a:\n",
    "    b = b + 1\n",
    "    print(b)\n"
   ]
  },
  {
   "cell_type": "markdown",
   "metadata": {},
   "source": [
    "# Điều kiện lặp\n",
    "\n",
    "Trong bài toán của ngày hôm nay, chúng ta muốn: *Kiểm tra nội dung nhập vào có phải là chuỗi kí tự trống không. Nếu là chuỗi kí tự trống thì dừng vòng lặp*.\n",
    "\n",
    "Bạn hãy dành chút thời gian quan sát đoạn lệnh dưới đây và suy nghĩ xem điều gì sẽ xảy ra.\n",
    "\n",
    "```python\n",
    "new_word = True\n",
    "while new_word:\n",
    "    word = input(\"Ban hay nhap mot tu: \")\n",
    "    new_word = len(word) > 0\n",
    "\n",
    "```\n",
    "\n",
    "Kết quả trên màn hình trông sẽ như sau:\n",
    "\n",
    "```\n",
    ">>> new_word = True\n",
    ">>> while new_word:\n",
    "...     word = input(\"Ban hay nhap mot tu: \")\n",
    "...     new_word = len(word) > 0\n",
    "...\n",
    "Ban hay nhap mot tu: python\n",
    "Ban hay nhap mot tu: int\n",
    "Ban hay nhap mot tu: \n",
    ">>>\n",
    "```\n",
    "\n",
    "Tại sao lại như vậy?\n",
    "\n",
    "* Chúng ta tạo một biến `new_word` để kiểm tra nội dung nhập vào có phải là một chuỗi kí tự trống không. Ban đầu, chúng ta gán nó bằng `True` để vòng lặp được bắt đầu.\n",
    "* Khi vòng lặp bắt đầu, người dùng sẽ nhập nội dung mới, và nội dung này được lưu vào biến word.\n",
    "* Dòng lệnh `new_word = len(word) > 0` bao gồm 2 bước:\n",
    "    * Kiểm tra độ dài của giá trị trong biến word có lớn hơn 0 hay không (tức là kiểm tra xem chuỗi kí tự có trống hay không). Nếu chuỗi kí tự trống thì trả về `False`. Nếu là chuỗi kí tự khác `\"\"` thì trả về `True`.\n",
    "    * Gán giá trị `True` hoặc `False` trả về cho biến `new_word`.\n",
    "* Vòng lặp `while` kiểm tra lại giá trị của biến `new_word`. Nếu chuỗi kí tự trong biến `word` là chuỗi kí tự trống, biến `new_word` có giá trị `False`, thì sẽ dừng vòng lặp.\n",
    "* **Bạn phải đảm bảo vòng lặp có thể dừng được (tức là điều kiện lặp có thể bằng `False`). Nếu vòng lặp không thể dừng được, nó sẽ lặp mãi mãi**.\n",
    "\n",
    "\n",
    "## Kiểu dữ liệu danh sách (`list`)\n",
    "\n",
    "Python cho phép chúng ta gộp nhiều giá trị vào trong một danh sách. Chúng ta sử dụng cặp dấu ngoặc vuông `[]` để khai báo một danh sách. Các phần tử trong danh sách phân cách nhau bằng dấu phẩy `,`. Bạn có thể dùng hàm `len()` để kiểm tra số phần tử của danh sách."
   ]
  },
  {
   "cell_type": "code",
   "execution_count": 7,
   "metadata": {},
   "outputs": [
    {
     "name": "stdout",
     "output_type": "stream",
     "text": [
      "['python', 'if', 'while', 'list']\n",
      "4\n"
     ]
    }
   ],
   "source": [
    "word_list = [\"python\", \"if\", \"while\", \"list\"]\n",
    "print(word_list)\n",
    "print(len(word_list))"
   ]
  },
  {
   "cell_type": "markdown",
   "metadata": {},
   "source": [
    "### Danh sách trống và hàm `append()`\n",
    "\n",
    "Bạn có thể tạo một danh sách trống (có 0 phần tử) như sau: `empty_list = []`\n",
    "\n",
    "Nếu bạn muốn bổ sung thêm phần tử vào danh sách này, bạn có thể sử dụng hàm `append()`.\n",
    "\n",
    "* Danh sách có thể chứa phần tử với nhiều kiểu dữ liệu khác nhau\n",
    "* Chúng ta có thể xem các giá trị của biến bằng cách gõ tên biến, không cần dùng hàm `print()`."
   ]
  },
  {
   "cell_type": "code",
   "execution_count": 8,
   "metadata": {},
   "outputs": [
    {
     "data": {
      "text/plain": [
       "[1, 'Long', True]"
      ]
     },
     "execution_count": 8,
     "metadata": {},
     "output_type": "execute_result"
    }
   ],
   "source": [
    "new_list = []\n",
    "new_list.append(1)\n",
    "new_list.append(\"Long\")\n",
    "new_list.append(True)\n",
    "new_list"
   ]
  },
  {
   "cell_type": "markdown",
   "metadata": {},
   "source": [
    "### Sắp xếp danh sách: `sorted()`\n",
    "\n",
    "Cú pháp: `sorted(<danh_sách>, reverse=False)`\n",
    "\n",
    "Bạn có thể sắp xếp danh sách theo thứ tự tăng dần hoặc giảm dần. Bạn không cần thiết lập tham số `reverse` nếu như sắp xếp danh sách theo thứ tự tăng dần."
   ]
  },
  {
   "cell_type": "code",
   "execution_count": 9,
   "metadata": {},
   "outputs": [
    {
     "data": {
      "text/plain": [
       "[5, 4, 3, 2, 1]"
      ]
     },
     "execution_count": 9,
     "metadata": {},
     "output_type": "execute_result"
    }
   ],
   "source": [
    "new_list = [1, 4, 2, 3, 5]\n",
    "sorted(new_list)\n",
    "sorted(new_list, reverse=True)"
   ]
  },
  {
   "cell_type": "markdown",
   "metadata": {},
   "source": [
    "## Kết hợp tất cả mọi thứ\n",
    "\n",
    "Bây giờ bạn đã sẵn sàng để thực hiện bài toán của ngày hôm nay. Hãy thử suy nghĩ và tự viết code (mã lệnh) trước khi xem đoạn code dưới đây nhé. Mình sẽ không phân tích cụ thể nội dung của đoạn code này mà để các bạn tự ngẫm nghĩ.\n",
    "\n",
    "Bạn nên lưu code của bạn vào một file Python (ví dụ, `tudien.py`), sau đó mở Command Prompt (ấn `Windows + R` để mở hộp thoại Run, rồi gõ `cmd`, ấn `Enter`), đến thư mục lưu trữ file Python bạn vừa lưu và gõ dòng lệnh `python tudien.py` để chạy file code của bạn.\n",
    "\n",
    "```python\n",
    "word_list = []\n",
    "new_word = True\n",
    "while new_word:\n",
    "    word = input(\"Ban hay nhap mot tu: \")\n",
    "    new_word = len(word) > 0\n",
    "    if new_word:\n",
    "        word_list.append(word)\n",
    "print(sorted(word_list))\n",
    "```\n",
    "\n",
    "Kết quả trên màn hình trông sẽ như sau:\n",
    "\n",
    "```\n",
    ">>> word_list = []\n",
    ">>> new_word = True\n",
    ">>> while new_word:\n",
    "...     word = input(\"Ban hay nhap mot tu: \")\n",
    "...     new_word = len(word) > 0\n",
    "...     if new_word:\n",
    "...         word_list.append(word)\n",
    "...\n",
    "Ban hay nhap mot tu: python\n",
    "Ban hay nhap mot tu: if\n",
    "Ban hay nhap mot tu: list\n",
    "Ban hay nhap mot tu: while\n",
    "Ban hay nhap mot tu: append\n",
    "Ban hay nhap mot tu:\n",
    ">>> print(sorted(word_list))\n",
    "['append', 'if', 'list', 'python', 'while']\n",
    "```\n",
    "\n",
    "\n",
    "## Lượng giá\n",
    "\n",
    "Đừng quên ôn bài với [bài tập lượng giá](https://forms.gle/7zEzEHEqeFN8JmfC6).\n",
    "\n",
    "---\n",
    "\n",
    "[Bài trước](./02_varop.ipynb) - [Danh sách bài](../README.md) - [Bài sau](./04_strlistfor.ipynb)"
   ]
  }
 ],
 "metadata": {
  "kernelspec": {
   "display_name": "Python 3.9.9 64-bit",
   "language": "python",
   "name": "python3"
  },
  "language_info": {
   "codemirror_mode": {
    "name": "ipython",
    "version": 3
   },
   "file_extension": ".py",
   "mimetype": "text/x-python",
   "name": "python",
   "nbconvert_exporter": "python",
   "pygments_lexer": "ipython3",
   "version": "3.9.9"
  },
  "orig_nbformat": 4,
  "vscode": {
   "interpreter": {
    "hash": "11938c6bc6919ae2720b4d5011047913343b08a43b18698fd82dedb0d4417594"
   }
  }
 },
 "nbformat": 4,
 "nbformat_minor": 2
}
