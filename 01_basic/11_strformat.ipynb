{
 "cells": [
  {
   "cell_type": "markdown",
   "metadata": {},
   "source": [
    "# B11 Định dạng chuỗi kí tự\n",
    "\n",
    "## Mục đích\n",
    "\n",
    "Giới thiệu về cú pháp cơ bản cho định dạng chuỗi kí tự trong Python.\n",
    "\n",
    "\n",
    "## Hiển thị số thập phân\n",
    "\n",
    "Nếu sử dụng hàm `str()` để chuyển giá trị `1/13` sang số thập phân, bạn sẽ thấy kết quả trông khó coi như thế này."
   ]
  },
  {
   "cell_type": "code",
   "execution_count": 1,
   "metadata": {},
   "outputs": [
    {
     "data": {
      "text/plain": [
       "'0.07692307692307693'"
      ]
     },
     "execution_count": 1,
     "metadata": {},
     "output_type": "execute_result"
    }
   ],
   "source": [
    "str(1/13)"
   ]
  },
  {
   "cell_type": "markdown",
   "metadata": {},
   "source": [
    "Thông thường, chúng ta chỉ muốn hiển thị 2 hoặc 3 chữ số sau dấu thập phân. Một cách làm là sử dụng hàm `round()` để làm tròn trước khi chuyển sang chuỗi kí tự. Tuy nhiên cách làm đó không hiệu quả nếu chúng ta có rất nhiều số cần phải chuyển. Đó là lúc định dạng chuỗi kí tự vào cuộc. Chúng ta sẽ cùng xem một ví dụ trước khi phân tích cú pháp của string formatting."
   ]
  },
  {
   "cell_type": "code",
   "execution_count": 2,
   "metadata": {},
   "outputs": [
    {
     "name": "stdout",
     "output_type": "stream",
     "text": [
      "MD (95%CI): 4.24 (3.43, 5.04)\n"
     ]
    }
   ],
   "source": [
    "md = 4.2352365\n",
    "cil = 3.4262116\n",
    "ciu = 5.0442614\n",
    "\n",
    "print(\"MD (95%CI):\", \"{:.2f} ({:.2f}, {:.2f})\".format(md, cil, ciu))"
   ]
  },
  {
   "cell_type": "markdown",
   "metadata": {},
   "source": [
    "Bạn có thể thấy rõ sự tiện lợi của việc dùng string formatting không chỉ dừng lại ở việc làm tròn số, mà còn giúp chúng ta đặt các số vào giữa chuỗi kí tự phức tạp. Làm quen với việc định dạng chuỗi kí tự, bạn có thể thoải mái sắp xếp thứ tự và cách hiển thị các kết quả phân tích để đưa vào trong báo cáo.\n",
    "\n",
    "Chúng ta sẽ tìm hiểu chuỗi định dạng ở trong ví dụ trên: `\"{\" : <định_dạng> \"}\"`\n",
    "\n",
    "* Cặp dấu ngoặc móc là bắt buộc phải có để báo cho Python biết chúng ta đang miêu tả một chuỗi định dạng.\n",
    "* Quy cách định dạng đặt đằng sau dấu hai chấm. Trong ví dụ này, quy cách định dạng là `.2f`. Nó có nghĩa là hiển thị số thập phân dưới dạng fixed-point (`f`), chính xác 2 chữ số sau dấu thập phân (`.2`).\n",
    "\n",
    "Bạn có thể hiển thị một số định dạng số khác như sau:\n",
    "\n",
    "Định dạng  | Ý nghĩa\n",
    "-----------|-------------------------------------------------\n",
    "`\"b\"` | Số nhị phân\n",
    "`\"d\"` | Số nguyên ở dạng thập phân (cơ số 10)\n",
    "`\"x\"` | Số thập lục phân (cơ số 16)\n",
    "`\"e\"`, `\"E\"` | Số thập phân ở dạng mũ\n",
    "`\"f\"`, `\"F\"` | Số thập phân ở dạng con trỏ tĩnh\n",
    "`\"g\"`, `\"G\"` | Định dạng phù hợp nhất\n",
    "`\"%\"` | Phần trăm\n",
    "`\"s\"` | Chuỗi kí tự\n",
    "\n",
    "Hãy cùng xem một số ví dụ."
   ]
  },
  {
   "cell_type": "code",
   "execution_count": 3,
   "metadata": {},
   "outputs": [
    {
     "name": "stdout",
     "output_type": "stream",
     "text": [
      "140.24 4.61\n",
      "1.40e+02 4.61e+00\n",
      "140.236 4.6102\n",
      "1.4e+02 4.6\n",
      "14023.63% 461.02%\n"
     ]
    }
   ],
   "source": [
    "a = 140.23626180\n",
    "b = 4.6101976201\n",
    "\n",
    "print(\"{:.2f} {:.2f}\".format(a, b))\n",
    "print(\"{:.2e} {:.2e}\".format(a, b))\n",
    "print(\"{:g} {:g}\".format(a, b))\n",
    "print(\"{:.2g} {:.2g}\".format(a, b))\n",
    "print(\"{:.2%} {:.2%}\".format(a, b))"
   ]
  },
  {
   "cell_type": "markdown",
   "metadata": {},
   "source": [
    "Như bạn thấy, sau khi miêu tả chuỗi định dạng, chúng ta phải sử dụng hàm `format()`. Số lượng đối số trong hàm `format()` phải bằng hoặc nhiều hơn số lượng chuỗi định dạng. Lưu ý: nếu các chuỗi định dạng được viết như trên, các đối số đã được cung cấp cho các chuỗi định dạng theo thứ tự từ trái qua phải.\n",
    "\n",
    "Python 3.8 giới thiệu một cú pháp khác không cần hàm `format()` tên là **f-string**."
   ]
  },
  {
   "cell_type": "code",
   "execution_count": 4,
   "metadata": {},
   "outputs": [
    {
     "data": {
      "text/plain": [
       "'4.61 1.4e+02'"
      ]
     },
     "execution_count": 4,
     "metadata": {},
     "output_type": "execute_result"
    }
   ],
   "source": [
    "f\"{b:.2f} {a:.2g}\""
   ]
  },
  {
   "cell_type": "markdown",
   "metadata": {},
   "source": [
    "Cách viết này cũng cho phép chúng ta tùy biến sắp xếp thứ tự của các biến khi đưa vào chuỗi định dạng. Chúng ta có thể sử dụng cùng một biến cho nhiều chuỗi định dạng khác nhau."
   ]
  },
  {
   "cell_type": "code",
   "execution_count": 5,
   "metadata": {},
   "outputs": [
    {
     "data": {
      "text/plain": [
       "'140.24 140.2 4.610e+00 1.402e+02'"
      ]
     },
     "execution_count": 5,
     "metadata": {},
     "output_type": "execute_result"
    }
   ],
   "source": [
    "f\"{a:.2f} {a:.4g} {b:.3e} {a:.3e}\""
   ]
  },
  {
   "cell_type": "markdown",
   "metadata": {},
   "source": [
    "Với `format()` chúng ta cũng có thể làm tương tự nhưng sẽ hơi mất công hơn."
   ]
  },
  {
   "cell_type": "code",
   "execution_count": 6,
   "metadata": {},
   "outputs": [
    {
     "name": "stdout",
     "output_type": "stream",
     "text": [
      "4.61 1.4e+02\n",
      "140.24 140.2 4.610e+00 1.402e+02\n"
     ]
    }
   ],
   "source": [
    "print(\"{b:.2f} {a:.2g}\".format(b=b, a=a))                 # Sử dụng đối số\n",
    "print(\"{0:.2f} {0:.4g} {1:.3e} {0:.3e}\".format(a, b))     # Sử dụng chỉ mục"
   ]
  },
  {
   "cell_type": "markdown",
   "metadata": {},
   "source": [
    "## Lấy giá trị từ trong danh sách\n",
    "\n",
    "Trong một số trường hợp, chúng ta muốn định dạng các giá trị lấy từ trong một danh sách. Chẳng hạn, một hàm phân tích số liệu trả về kết quả của MD và CI dưới dạng một tuple. Chúng ta có hai cách xử lí vấn đề này."
   ]
  },
  {
   "cell_type": "code",
   "execution_count": 7,
   "metadata": {},
   "outputs": [
    {
     "name": "stdout",
     "output_type": "stream",
     "text": [
      "4.24 (3.43, 5.04)\n",
      "4.24 (3.43, 5.04)\n"
     ]
    }
   ],
   "source": [
    "md = 4.2352365\n",
    "cil = 3.4262116\n",
    "ciu = 5.0442614\n",
    "\n",
    "result = (md, cil, ciu)\n",
    "\n",
    "print(\"{r[0]:.2f} ({r[1]:.2f}, {r[2]:.2f})\".format(r=result))    # Chỉ mục\n",
    "print(\"{:.2f} ({:.2f}, {:.2f})\".format(*result))                 # Giải nén"
   ]
  },
  {
   "cell_type": "markdown",
   "metadata": {},
   "source": [
    "Cách làm thứ hai có lẽ khá dễ hiểu, không cần giải thích thêm. Còn trong cách làm đầu tiên, chúng ta giải nén các phần tử trong danh sách thành các đối số của hàm `format()`. Dễ dàng nhận thấy rằng các đối số này sẽ được cung cấp cho các chuỗi định dạng theo thứ tự từ trái qua phải. Bạn có thể sử dụng chỉ mục để điều chỉnh việc hiển thị này. Ví dụ:"
   ]
  },
  {
   "cell_type": "code",
   "execution_count": 8,
   "metadata": {},
   "outputs": [
    {
     "data": {
      "text/plain": [
       "'Gioi han tren cua trung binh la 5.04, con gioi han duoi la 3.43, va trung binh la 4.24'"
      ]
     },
     "execution_count": 8,
     "metadata": {},
     "output_type": "execute_result"
    }
   ],
   "source": [
    "\"Gioi han tren cua trung binh la {2:.2f}, con gioi han duoi la {1:.2f}, va trung binh la {0:.2f}\".format(*result)"
   ]
  },
  {
   "cell_type": "markdown",
   "metadata": {},
   "source": [
    "Nếu sử dụng f-string, chúng ta có thể viết là:"
   ]
  },
  {
   "cell_type": "code",
   "execution_count": 9,
   "metadata": {},
   "outputs": [
    {
     "data": {
      "text/plain": [
       "'Gioi han tren cua trung binh la 5.04, con gioi han duoi la 3.43, va trung binh la 4.24'"
      ]
     },
     "execution_count": 9,
     "metadata": {},
     "output_type": "execute_result"
    }
   ],
   "source": [
    "f\"Gioi han tren cua trung binh la {result[2]:.2f}, con gioi han duoi la {result[1]:.2f}, va trung binh la {result[0]:.2f}\""
   ]
  },
  {
   "cell_type": "markdown",
   "metadata": {},
   "source": [
    "Cách làm này bất tiện hơn một chút so với việc giải nén vào hàm `format()` và dùng chỉ mục. Chúng ta còn có thể giải nén từ điển để sử dụng chìa khóa thay cho chỉ mục. Cách làm này sẽ đảm bảo được chúng ta cung cấp chính xác nội dung cần định dạng cho từng chuỗi định dạng (thay vì phải ghi nhớ thứ tự các chỉ mục, và thứ tự này có thể bị thay đổi khi chúng ta viết lại mã lệnh trả kết quả sau này)."
   ]
  },
  {
   "cell_type": "code",
   "execution_count": 10,
   "metadata": {},
   "outputs": [
    {
     "data": {
      "text/plain": [
       "'Gioi han tren cua trung binh la 5.04, con gioi han duoi la 3.43, va trung binh la 4.24'"
      ]
     },
     "execution_count": 10,
     "metadata": {},
     "output_type": "execute_result"
    }
   ],
   "source": [
    "result = {\n",
    "    \"md\": md,\n",
    "    \"cil\": cil,\n",
    "    \"ciu\": ciu\n",
    "}\n",
    "\n",
    "\"Gioi han tren cua trung binh la {ciu:.2f}, con gioi han duoi la {cil:.2f}, va trung binh la {md:.2f}\".format(**result)"
   ]
  },
  {
   "cell_type": "markdown",
   "metadata": {},
   "source": [
    "## Căn lề và độ rộng\n",
    "\n",
    "Giả sử bạn có tên và kết quả thi của một số học sinh. Bạn muốn in ra một bảng kết quả. Chúng ta thường căn lề trái cho tên học sinh và căn lề phải cho điểm số. Ngoài ra, chúng ta cũng thường quy định số kí tự tối đa sẽ hiện ra cho mỗi nội dung này. Bạn có thể sử dụng string formatting cho việc này."
   ]
  },
  {
   "cell_type": "code",
   "execution_count": 11,
   "metadata": {},
   "outputs": [
    {
     "name": "stdout",
     "output_type": "stream",
     "text": [
      "Nguyen Thi Van                          86.24\n",
      "Duong Hoang Quan                        90.11\n",
      "Hoang Thi Minh                           7.31\n"
     ]
    }
   ],
   "source": [
    "scores = [\n",
    "    [\"Nguyen Thi Van\", 86.244],\n",
    "    [\"Duong Hoang Quan\", 90.113],\n",
    "    [\"Hoang Thi Minh\", 7.314]\n",
    "]\n",
    "\n",
    "for score in scores:\n",
    "    print(\"{:40s}{:>5.2f}\".format(*score))"
   ]
  },
  {
   "cell_type": "markdown",
   "metadata": {},
   "source": [
    "Con số 40 và 5 là độ rộng, hay số kí tự tối thiểu mà chúng ta sẽ in ra. Kí tự `>` được thêm vào chuỗi định dạng thứ hai để báo cho Python căn lề phải các số này. Các kí tự còn lại dành cho căn lề bao gồm: `<` cho căn lề trái, `=` cho căn giữa, và `^` cho căn lề hai bên.\n",
    "\n",
    "Để hiểu rõ hơn về định dạng của độ rộng, chúng ta sẽ thử thay đổi một chút."
   ]
  },
  {
   "cell_type": "code",
   "execution_count": 12,
   "metadata": {},
   "outputs": [
    {
     "name": "stdout",
     "output_type": "stream",
     "text": [
      "Nguyen Thi Van86.24\n",
      "Duong Hoang Quan90.11\n",
      "Hoang Thi Minh 7.31\n"
     ]
    }
   ],
   "source": [
    "for score in scores:\n",
    "    print(\"{:s}{:>5.2f}\".format(*score))"
   ]
  },
  {
   "cell_type": "markdown",
   "metadata": {},
   "source": [
    "Khi bỏ định dạng độ rộng của họ tên, chúng ta thấy điểm số được in nối tiếp ngay sau khi kết thúc chuỗi kí tự họ tên. Tuy nhiên, sau họ tên học sinh `\"Hoang Thi Minh\"`, chúng ta thấy một dấu cách. Đó là do độ rộng tối thiểu của điểm số là 5, nhưng học sinh này chỉ được 7.31 điểm (4 kí tự) nên Python thêm một kí tự cách vào trước chuỗi kí tự để căn lề phải."
   ]
  },
  {
   "cell_type": "markdown",
   "metadata": {},
   "source": [
    "## Một số định dạng khác\n",
    "\n",
    "### Thêm dấu phân tách hàng nghìn\n",
    "\n",
    "Với các số dài, chúng ta có thể thêm dấu phân tách hàng nghìn cho dễ đọc. Trong tiếng Anh, dấu này là dấu phẩy `,`."
   ]
  },
  {
   "cell_type": "code",
   "execution_count": 13,
   "metadata": {},
   "outputs": [
    {
     "data": {
      "text/plain": [
       "'891,642,127,506'"
      ]
     },
     "execution_count": 13,
     "metadata": {},
     "output_type": "execute_result"
    }
   ],
   "source": [
    "\"{:,d}\".format(891642127506)"
   ]
  },
  {
   "cell_type": "markdown",
   "metadata": {},
   "source": [
    "### Hiển thị dấu âm/dương\n",
    "\n",
    "Bạn có thể tùy chọn việc hiển thị dấu âm/dương ở tất cả các số (`\"+\"`), chỉ ở số âm (`\"-\"`), hoặc thêm một dấu cách vào trước số dương (`\" \"`)."
   ]
  },
  {
   "cell_type": "code",
   "execution_count": 14,
   "metadata": {},
   "outputs": [
    {
     "name": "stdout",
     "output_type": "stream",
     "text": [
      "1.5 -1.5\n",
      "+1.5 -1.5\n",
      " 1.5 -1.5\n"
     ]
    }
   ],
   "source": [
    "print(\"{:-} {:-}\".format(1.5, -1.5))\n",
    "print(\"{:+} {:+}\".format(1.5, -1.5))\n",
    "print(\"{: } {: }\".format(1.5, -1.5))"
   ]
  },
  {
   "cell_type": "markdown",
   "metadata": {},
   "source": [
    "### Hiển thị chữ số 0 đằng trước\n",
    "\n",
    "Trong một số trường hợp, bạn muốn hiển thị một số chữ số 0 đằng trước số cho đủ độ rộng. Cách làm này thường sử dụng trong việc tạo ra mã số dựa trên số thứ tự (mã số nghiên cứu, mã số hàng hóa, v.v.)."
   ]
  },
  {
   "cell_type": "code",
   "execution_count": 15,
   "metadata": {},
   "outputs": [
    {
     "data": {
      "text/plain": [
       "'TIA-020-0017'"
      ]
     },
     "execution_count": 15,
     "metadata": {},
     "output_type": "execute_result"
    }
   ],
   "source": [
    "\"TIA-{site:03d}-{study_no:04d}\".format(site=20, study_no=17)"
   ]
  },
  {
   "cell_type": "markdown",
   "metadata": {},
   "source": [
    "## Tùy biến chuỗi định dạng trước khi hiển thị\n",
    "\n",
    "Bạn có thể tạo ra một chuỗi định dạng ... bằng chuỗi định dạng (gọi là **nested formatting**) để thay đổi cách thức hiển thị. Ví dụ, bạn có thể cho phép người dùng tùy biến độ rộng và số chữ số sau dấu thập phân."
   ]
  },
  {
   "cell_type": "code",
   "execution_count": 16,
   "metadata": {},
   "outputs": [
    {
     "name": "stdout",
     "output_type": "stream",
     "text": [
      "4.24 (3.43, 5.04)\n",
      " 4.235 ( 3.426,  5.044)\n"
     ]
    }
   ],
   "source": [
    "def get_estimate(result, width, precision):\n",
    "    return \"{md:{w}.{p}f} ({cil:{w}.{p}f}, {ciu:{w}.{p}f})\".format(**result, w=width, p=precision)\n",
    "\n",
    "result = {\n",
    "    \"md\": md,\n",
    "    \"cil\": cil,\n",
    "    \"ciu\": ciu\n",
    "}\n",
    "\n",
    "print(get_estimate(result, 4, 2))\n",
    "print(get_estimate(result, 6, 3))"
   ]
  },
  {
   "cell_type": "markdown",
   "metadata": {},
   "source": [
    "## Một số kí tự đặc biệt\n",
    "\n",
    "Không nằm trong nội dung định dạng, nhưng bạn cũng nên làm quen với hai kí tự đặc biệt là xuống dòng (`\"\\n\"`) và tab (`\"\\t\"`). Quan sát ví dụ."
   ]
  },
  {
   "cell_type": "code",
   "execution_count": 17,
   "metadata": {},
   "outputs": [
    {
     "name": "stdout",
     "output_type": "stream",
     "text": [
      " some_var  = -121350.324900\n",
      "|some_var| =  121350.324900\n",
      " some_var  = -121350.324900\t|some_var| =  121350.324900\n"
     ]
    }
   ],
   "source": [
    "a = -121350.3249\n",
    "name = \"some_var\"\n",
    "print(\"{0:^{1}} = {2: f}\\n|{0}| = {3: f}\".format(name, len(name) + 2, a, abs(a)))\n",
    "print(\"{0:^{1}} = {2: f}\\t|{0}| = {3: f}\".format(name, len(name) + 2, a, abs(a)))"
   ]
  },
  {
   "cell_type": "markdown",
   "metadata": {},
   "source": [
    "---\n",
    "\n",
    "[Bài trước](./10_slicing.ipynb) - [Danh sách bài](../README.md) - [Bài sau]()"
   ]
  }
 ],
 "metadata": {
  "kernelspec": {
   "display_name": "Python 3.9.9 64-bit",
   "language": "python",
   "name": "python3"
  },
  "language_info": {
   "codemirror_mode": {
    "name": "ipython",
    "version": 3
   },
   "file_extension": ".py",
   "mimetype": "text/x-python",
   "name": "python",
   "nbconvert_exporter": "python",
   "pygments_lexer": "ipython3",
   "version": "3.9.9"
  },
  "orig_nbformat": 4,
  "vscode": {
   "interpreter": {
    "hash": "11938c6bc6919ae2720b4d5011047913343b08a43b18698fd82dedb0d4417594"
   }
  }
 },
 "nbformat": 4,
 "nbformat_minor": 2
}
