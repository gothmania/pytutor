{
 "cells": [
  {
   "cell_type": "markdown",
   "metadata": {},
   "source": [
    "# B05 List comprehension\n",
    "\n",
    "## Mục đích\n",
    "\n",
    "Giới thiệu chức năng **list comprehension** trong Python. (Xoa-di không biết dịch sang tiếng Việt như thế nào.)\n",
    "\n",
    "\n",
    "## Bài toán\n",
    "\n",
    "Chúng ta có danh sách các số từ 0 đến 5. Làm thế nào để tính bình phương của tất cả các số này?\n",
    "\n",
    "Các bạn tự suy nghĩ trước khi xem đoạn code dưới đây nhé."
   ]
  },
  {
   "cell_type": "code",
   "execution_count": 1,
   "metadata": {},
   "outputs": [
    {
     "name": "stdout",
     "output_type": "stream",
     "text": [
      "[0, 1, 4, 9, 16, 25]\n"
     ]
    }
   ],
   "source": [
    "num = list(range(6))\n",
    "num_2 = []\n",
    "for a in num:\n",
    "    num_2.append(a ** 2)\n",
    "print(num_2)"
   ]
  },
  {
   "cell_type": "markdown",
   "metadata": {},
   "source": [
    "Giải thích:\n",
    "\n",
    "* Dòng lệnh đầu tiên tạo ra một danh sách các số từ 0 đến 5. Lệnh `range(6)` tạo ra một khoảng từ 0 đến 5 (nhớ kĩ đoạn này nhé), và `list()` biến khoảng này thành dữ liệu kiểu danh sách.\n",
    "* Chúng ta lặp qua tất cả các số trong danh sách `num`, và ghi nhận kết quả bình phương của mỗi số vào trong `num_2`. Bạn nhớ phải khởi tạo danh sách `num_2` trước khi lặp nhé.\n",
    "\n",
    "\n",
    "## List comprehension\n",
    "\n",
    "Python cung cấp cho chúng ta một cách đơn giản hơn để thực hiện vòng lặp như ở trên và không phải khởi tạo biến `num_2`. Chức năng này gọi là **list comprehension**. Bạn xem dòng lệnh dưới đây:"
   ]
  },
  {
   "cell_type": "code",
   "execution_count": 2,
   "metadata": {},
   "outputs": [
    {
     "data": {
      "text/plain": [
       "[0, 1, 4, 9, 16, 25]"
      ]
     },
     "execution_count": 2,
     "metadata": {},
     "output_type": "execute_result"
    }
   ],
   "source": [
    "[a ** 2 for a in num]"
   ]
  },
  {
   "cell_type": "markdown",
   "metadata": {},
   "source": [
    "Dòng lệnh này có thể được hiểu là:\n",
    "\n",
    "* Tạo ra một danh sách (`[]`)\n",
    "* Trong đó mỗi phần tử có giá trị là `a ** 2`\n",
    "* Và `a` là một giá trị trong danh sách `num`\n",
    "\n",
    "Một vài ví dụ để bạn tham khảo."
   ]
  },
  {
   "cell_type": "code",
   "execution_count": 3,
   "metadata": {},
   "outputs": [
    {
     "data": {
      "text/plain": [
       "['A', 'B', 'C']"
      ]
     },
     "execution_count": 3,
     "metadata": {},
     "output_type": "execute_result"
    }
   ],
   "source": [
    "words = [\" A\", \"B \", \" C \"]\n",
    "[s.strip() for s in words]"
   ]
  },
  {
   "cell_type": "code",
   "execution_count": 4,
   "metadata": {},
   "outputs": [
    {
     "data": {
      "text/plain": [
       "[False, True, True]"
      ]
     },
     "execution_count": 4,
     "metadata": {},
     "output_type": "execute_result"
    }
   ],
   "source": [
    "age = [16, 19, 21]\n",
    "[a > 18 for a in age]"
   ]
  },
  {
   "cell_type": "markdown",
   "metadata": {},
   "source": [
    "Bạn có thể thêm điều kiện `if` trong list comprehension. Chỉ những giá trị nào thỏa mãn điều kiện mới được đưa vào danh sách mới. Trong ví dụ dưới đây, chỉ có những giá trị lớn hơn 18 mới được đưa vào danh sách."
   ]
  },
  {
   "cell_type": "code",
   "execution_count": 5,
   "metadata": {},
   "outputs": [
    {
     "data": {
      "text/plain": [
       "[19, 21]"
      ]
     },
     "execution_count": 5,
     "metadata": {},
     "output_type": "execute_result"
    }
   ],
   "source": [
    "age = [16, 19, 21]\n",
    "[a for a in age if a > 18]"
   ]
  },
  {
   "cell_type": "markdown",
   "metadata": {},
   "source": [
    "Bạn thậm chí có thể thêm `else` để tạo ra hai cách tính toán cho hai trường hợp khác nhau. Thứ tự trình bày trong list comprehension sẽ thay đổi một chút."
   ]
  },
  {
   "cell_type": "code",
   "execution_count": 6,
   "metadata": {},
   "outputs": [
    {
     "data": {
      "text/plain": [
       "['Tre', 'Gia', 'Gia']"
      ]
     },
     "execution_count": 6,
     "metadata": {},
     "output_type": "execute_result"
    }
   ],
   "source": [
    "age = [16, 19, 21]\n",
    "[\"Gia\" if a > 18 else \"Tre\" for a in age]"
   ]
  },
  {
   "cell_type": "markdown",
   "metadata": {},
   "source": [
    "Sự khác nhau về thứ tự trình bày là do Python có một cú pháp như sau:"
   ]
  },
  {
   "cell_type": "code",
   "execution_count": 7,
   "metadata": {},
   "outputs": [
    {
     "name": "stdout",
     "output_type": "stream",
     "text": [
      "Tre\n"
     ]
    }
   ],
   "source": [
    "a = 16\n",
    "result = \"Gia\" if a > 18 else \"Tre\"\n",
    "print(result)"
   ]
  },
  {
   "cell_type": "markdown",
   "metadata": {},
   "source": [
    "Cú pháp này được giới thiệu để rút gọn cho đoạn lệnh sau:\n",
    "\n",
    "```python\n",
    "if a > 18:\n",
    "    result = \"Gia\"\n",
    "else:\n",
    "    result = \"Tre\"\n",
    "```\n",
    "\n",
    "Vì vậy, dòng lệnh `[\"Gia\" if a > 18 else \"Tre\" for a in age]` chính là `[<giá_trị_nào_đó> for a in age]` mà thôi.\n",
    "\n",
    "Lưu ý: nếu đã dùng, bạn phải dùng cả cấu trúc `... if ... else ...` như trên. Bạn không thể viết chỉ có phần `if` mà không có phần `else`.\n",
    "\n",
    "```\n",
    ">>> a = 16\n",
    ">>> \"Gia\" if a > 18\n",
    "  File \"<stdin>\", line 1\n",
    "    \"Gia\" if a > 18\n",
    "                  ^\n",
    "SyntaxError: invalid syntax\n",
    "```\n",
    "\n",
    "\n",
    "## *Bài toán*: Loại bỏ các chuỗi kí tự toàn dấu cách trong danh sách\n",
    "\n",
    "Ở bài trước, chúng ta đã có một giải pháp cho việc này. Nhìn dòng lệnh khá phức tạp:"
   ]
  },
  {
   "cell_type": "code",
   "execution_count": 8,
   "metadata": {},
   "outputs": [
    {
     "name": "stdout",
     "output_type": "stream",
     "text": [
      "[' python', 'for   ', '  str ', 'iterable']\n"
     ]
    }
   ],
   "source": [
    "origin = [\" python\", \"for   \", \"   \", \"  str \", \"iterable\"]\n",
    "n = len(origin)\n",
    "n_pop = 0\n",
    "for i in range(n):\n",
    "    if origin[i - n_pop].strip() == \"\":\n",
    "        origin.pop(i - n_pop)\n",
    "        n_pop += 1    # n_pop = n_pop + 1\n",
    "print(origin)"
   ]
  },
  {
   "cell_type": "markdown",
   "metadata": {},
   "source": [
    "Chúng ta có một cách khác như dưới đây. Bạn nhớ đọc kĩ và hiểu tường tận cách làm dưới đây nhé. Cách này không những thoáng đãng hơn, mà lại còn cho phép bạn \"strip\" dấu cách thừa của những phần tử còn lại."
   ]
  },
  {
   "cell_type": "code",
   "execution_count": 9,
   "metadata": {},
   "outputs": [
    {
     "name": "stdout",
     "output_type": "stream",
     "text": [
      "['python', 'for', 'str', 'iterable']\n"
     ]
    }
   ],
   "source": [
    "origin = [\" python\", \"for   \", \"   \", \"  str \", \"iterable\"]\n",
    "result = []\n",
    "for s in origin:\n",
    "    if s.strip() != \"\":\n",
    "        result.append(s.strip())\n",
    "print(result)"
   ]
  },
  {
   "cell_type": "markdown",
   "metadata": {},
   "source": [
    "***Bạn sẽ dùng list comprehension như thế nào?***"
   ]
  },
  {
   "cell_type": "code",
   "execution_count": 10,
   "metadata": {},
   "outputs": [
    {
     "data": {
      "text/plain": [
       "['python', 'for', 'str', 'iterable']"
      ]
     },
     "execution_count": 10,
     "metadata": {},
     "output_type": "execute_result"
    }
   ],
   "source": [
    "origin = [\" python\", \"for   \", \"   \", \"  str \", \"iterable\"]\n",
    "[s.strip() for s in origin if s.strip() != \"\"]"
   ]
  },
  {
   "cell_type": "markdown",
   "metadata": {},
   "source": [
    "## Tối ưu hóa (bạn có thể bỏ qua phần này)\n",
    "\n",
    "Nếu nhìn vào 3 giải pháp cho bài toán Loại bỏ các chuỗi kí tự toàn dấu cách trong danh sách, bạn sẽ thấy giải pháp 2 và 3 dễ hiểu hơn nhiều so với giải pháp 1. Giải pháp đọc dễ hiểu (gọi là code trong sáng) không đồng nghĩa với **tối ưu**.\n",
    "\n",
    "Khi tiến hành giải quyết một vấn đề bằng máy tính, người lập trình cần tính đến hai yếu tố:\n",
    "\n",
    "* **Thời gian**: Cả 3 giải pháp này đều lặp từ phần tử đầu tiên đến phần tử cuối cùng của danh sách. Tức là nếu danh sách có 100 phần tử, giải pháp nào cũng phải lặp 100 lần. Như vậy, về mặt thời gian, chúng gần như tương đương nhau. Tuy nhiên, list comprehension được tối ưu cho trình phiên dịch của Python, nên nó sẽ nhanh hơn vòng lặp `for`.\n",
    "* **Không gian**: Ở đây là nói đến bộ nhớ trong máy tính (RAM). RAM của máy cũng như kho hàng, lớp học, quán cafe, sân vận động - sức chứa có hạn. Tưởng tượng nếu đây không phải là danh sách 5 phần tử, mà là danh sách 5 TRIỆU phần tử, điều gì sẽ xảy ra? Giải pháp 2 và 3 phải tạo ra thêm một danh sách mới, và trong trường hợp xấu nhất là không có chuỗi kí tự nào toàn dấu cách, thì danh sách này cũng sẽ có 5 TRIỆU phần tử. Vậy là bạn đang \"double\" không gian bộ nhớ dành cho chương trình của bạn. Vì vậy, về mặt không gian, giải pháp 1 tối ưu hơn, vì nó thao tác trên chính danh sách ban đầu. Trong trường hợp bạn không cần phải giữ lại danh sách ban đầu, hoặc muốn thay đổi chính nội dung của danh sách này, hãy nghĩ đến những thuật toán như giải pháp 1.\n",
    "\n",
    "\n",
    "## Lượng giá\n",
    "\n",
    "Đừng quên ôn bài với [bài tập lượng giá](https://forms.gle/FNxa93BsiPW3Nskr6).\n",
    "\n",
    "---\n",
    "\n",
    "[Bài trước](./04_strlistfor.ipynb) - [Danh sách bài](../README.md) - [Bài sau](./06_str.ipynb)"
   ]
  }
 ],
 "metadata": {
  "kernelspec": {
   "display_name": "Python 3.9.9 64-bit",
   "language": "python",
   "name": "python3"
  },
  "language_info": {
   "codemirror_mode": {
    "name": "ipython",
    "version": 3
   },
   "file_extension": ".py",
   "mimetype": "text/x-python",
   "name": "python",
   "nbconvert_exporter": "python",
   "pygments_lexer": "ipython3",
   "version": "3.9.9"
  },
  "orig_nbformat": 4,
  "vscode": {
   "interpreter": {
    "hash": "11938c6bc6919ae2720b4d5011047913343b08a43b18698fd82dedb0d4417594"
   }
  }
 },
 "nbformat": 4,
 "nbformat_minor": 2
}
