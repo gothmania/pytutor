{
 "cells": [
  {
   "cell_type": "markdown",
   "metadata": {},
   "source": [
    "# B10 Slicing\n",
    "\n",
    "## Mục đích\n",
    "\n",
    "Giới thiệu về kĩ thuật slicing (cắt một phần của danh sách).\n",
    "\n",
    "\n",
    "## Chỉ mục của danh sách\n",
    "\n",
    "Chúng ta đã quen thuộc với việc lấy ra một phần tử trong danh sách bằng chỉ mục. Bên cạnh chỉ mục là số dương, Python còn hỗ trợ chỉ mục là số âm rất tiện lợi. Chỉ mục số âm đánh số theo thứ tự ngược lại (phần tử cuối cùng là -1, phần tử tiếp theo đó là -2, cho đến phần tử đầu tiên là -n với n là số phần tử của danh sách). Chẳng hạn, bạn có thể lấy phần tử cuối cùng của danh sách bằng chỉ mục -1."
   ]
  },
  {
   "cell_type": "code",
   "execution_count": 1,
   "metadata": {},
   "outputs": [
    {
     "name": "stdout",
     "output_type": "stream",
     "text": [
      "z\n",
      "z\n"
     ]
    }
   ],
   "source": [
    "import string\n",
    "lcase_letters = list(string.ascii_lowercase)\n",
    "\n",
    "print(lcase_letters[len(lcase_letters) - 1])\n",
    "print(lcase_letters[-1])"
   ]
  },
  {
   "cell_type": "markdown",
   "metadata": {},
   "source": [
    "## Slicing\n",
    "\n",
    "Nếu cần cắt một phần của danh sách để sử dụng, chúng ta có thể sử dụng slicing. Cú pháp của slicing là `<chỉ_mục_đầu>:<chỉ_mục_cuối_+_1>`. Ví dụ chúng ta muốn lấy 3 chữ cái đầu trong bảng chữ cái tiếng Anh:"
   ]
  },
  {
   "cell_type": "code",
   "execution_count": 2,
   "metadata": {},
   "outputs": [
    {
     "data": {
      "text/plain": [
       "['a', 'b', 'c']"
      ]
     },
     "execution_count": 2,
     "metadata": {},
     "output_type": "execute_result"
    }
   ],
   "source": [
    "lcase_letters[0:3]"
   ]
  },
  {
   "cell_type": "markdown",
   "metadata": {},
   "source": [
    "Nếu bạn muốn lấy từ chữ cái thứ 20 cho đến hết danh sách, bạn có thể bỏ qua chỉ mục cuối."
   ]
  },
  {
   "cell_type": "code",
   "execution_count": 3,
   "metadata": {},
   "outputs": [
    {
     "data": {
      "text/plain": [
       "['u', 'v', 'w', 'x', 'y', 'z']"
      ]
     },
     "execution_count": 3,
     "metadata": {},
     "output_type": "execute_result"
    }
   ],
   "source": [
    "lcase_letters[20:]"
   ]
  },
  {
   "cell_type": "markdown",
   "metadata": {},
   "source": [
    "### Chỉ mục số âm\n",
    "\n",
    "Nếu muốn lấy 3 chữ cái cuối, bạn có thể dùng chỉ mục số âm."
   ]
  },
  {
   "cell_type": "code",
   "execution_count": 4,
   "metadata": {},
   "outputs": [
    {
     "data": {
      "text/plain": [
       "['x', 'y', 'z']"
      ]
     },
     "execution_count": 4,
     "metadata": {},
     "output_type": "execute_result"
    }
   ],
   "source": [
    "lcase_letters[-3:]"
   ]
  },
  {
   "cell_type": "markdown",
   "metadata": {},
   "source": [
    "Thậm chí kết hợp số âm và số dương."
   ]
  },
  {
   "cell_type": "code",
   "execution_count": 5,
   "metadata": {},
   "outputs": [
    {
     "data": {
      "text/plain": [
       "['d', 'e', 'f', 'g', 'h', 'i', 'j', 'k', 'l', 'm', 'n', 'o', 'p']"
      ]
     },
     "execution_count": 5,
     "metadata": {},
     "output_type": "execute_result"
    }
   ],
   "source": [
    "lcase_letters[3:-10]"
   ]
  },
  {
   "cell_type": "markdown",
   "metadata": {},
   "source": [
    "### Nhảy cách các chỉ mục\n",
    "\n",
    "Nếu muốn lấy các chỉ mục cách đều nhau `k` đơn vị, chúng ta cung cấp thêm cho slicing một giá trị nữa: `<đầu>:<cuối_+_1>:<k>`."
   ]
  },
  {
   "cell_type": "code",
   "execution_count": 6,
   "metadata": {},
   "outputs": [
    {
     "data": {
      "text/plain": [
       "['a', 'c', 'e', 'g']"
      ]
     },
     "execution_count": 6,
     "metadata": {},
     "output_type": "execute_result"
    }
   ],
   "source": [
    "lcase_letters[0:7:2]"
   ]
  },
  {
   "cell_type": "markdown",
   "metadata": {},
   "source": [
    "Thậm chí có thể bỏ hai giá trị đầu và cuối để lấy từ đầu đến cuối nhưng cách nhau 3 đơn vị."
   ]
  },
  {
   "cell_type": "code",
   "execution_count": 7,
   "metadata": {},
   "outputs": [
    {
     "data": {
      "text/plain": [
       "['a', 'c', 'e', 'g', 'i', 'k', 'm', 'o', 'q', 's', 'u', 'w', 'y']"
      ]
     },
     "execution_count": 7,
     "metadata": {},
     "output_type": "execute_result"
    }
   ],
   "source": [
    "lcase_letters[::2]"
   ]
  },
  {
   "cell_type": "markdown",
   "metadata": {},
   "source": [
    "Và với giá trị `k` này, chúng ta có thể lấy theo chiều ngược lại bằng cú pháp: `<cuối>:<đầu_-_1>:<k>` (với `k` là số âm). Chú ý với chiều ngược lại, ở giá trị thứ hai trong slicing, thay vì cộng 1, bạn sẽ phải trừ 1. Xem ví dụ sau:"
   ]
  },
  {
   "cell_type": "code",
   "execution_count": 8,
   "metadata": {},
   "outputs": [
    {
     "data": {
      "text/plain": [
       "['f', 'e', 'd', 'c']"
      ]
     },
     "execution_count": 8,
     "metadata": {},
     "output_type": "execute_result"
    }
   ],
   "source": [
    "lcase_letters[5:1:-1]"
   ]
  },
  {
   "cell_type": "markdown",
   "metadata": {},
   "source": [
    "Nếu muốn dừng lại ở chữ cái `b` (chỉ mục 1 trong danh sách), bạn sẽ cần điều chỉnh giá trị đầu của slicing."
   ]
  },
  {
   "cell_type": "code",
   "execution_count": 9,
   "metadata": {},
   "outputs": [
    {
     "data": {
      "text/plain": [
       "['f', 'e', 'd', 'c', 'b']"
      ]
     },
     "execution_count": 9,
     "metadata": {},
     "output_type": "execute_result"
    }
   ],
   "source": [
    "lcase_letters[5:0:-1]"
   ]
  },
  {
   "cell_type": "markdown",
   "metadata": {},
   "source": [
    "Nếu muốn lấy đến chữ cái đầu tiên, chúng ta sẽ bỏ qua giá trị đầu."
   ]
  },
  {
   "cell_type": "code",
   "execution_count": 10,
   "metadata": {},
   "outputs": [
    {
     "data": {
      "text/plain": [
       "['f', 'e', 'd', 'c', 'b', 'a']"
      ]
     },
     "execution_count": 10,
     "metadata": {},
     "output_type": "execute_result"
    }
   ],
   "source": [
    "lcase_letters[5::-1]"
   ]
  },
  {
   "cell_type": "markdown",
   "metadata": {},
   "source": [
    "### Slice để kết hợp danh sách\n",
    "\n",
    "Sau khi slicing, chúng ta cũng có thể kết hợp các danh sách với nhau bằng toán tử `+`."
   ]
  },
  {
   "cell_type": "code",
   "execution_count": 11,
   "metadata": {},
   "outputs": [
    {
     "data": {
      "text/plain": [
       "['a', 'b', 'c', 'd', 'e', 'v', 'w', 'x', 'y', 'z']"
      ]
     },
     "execution_count": 11,
     "metadata": {},
     "output_type": "execute_result"
    }
   ],
   "source": [
    "first5 = lcase_letters[:5]\n",
    "last5 = lcase_letters[-5:]\n",
    "\n",
    "first5 + last5"
   ]
  },
  {
   "cell_type": "markdown",
   "metadata": {},
   "source": [
    "### Áp dụng cho `str`\n",
    "\n",
    "Như đã nói ở các bài trước, `str` cũng có thể được xem như một danh sách các kí tự. Việc slicing cho `str` hoàn toàn giống với slicing cho `list`, tuy nhiên, kết quả trả về sẽ là một chuỗi kí tự mới chứ không phải là danh sách."
   ]
  },
  {
   "cell_type": "code",
   "execution_count": 12,
   "metadata": {},
   "outputs": [
    {
     "name": "stdout",
     "output_type": "stream",
     "text": [
      "Python\n",
      "fun\n",
      "Pto sfn\n",
      "nuf si nohtyP\n",
      "fun is Python\n"
     ]
    }
   ],
   "source": [
    "s = \"Python is fun\"\n",
    "\n",
    "print(s[:6])\n",
    "print(s[-3:])\n",
    "print(s[::2])\n",
    "print(s[::-1])\n",
    "print(s[-3:] + s[6:-3] + s[:6])"
   ]
  },
  {
   "cell_type": "markdown",
   "metadata": {},
   "source": [
    "---\n",
    "\n",
    "[Bài trước](./09_unpacking.ipynb) - [Danh sách bài](../README.md) - [Bài sau]()"
   ]
  }
 ],
 "metadata": {
  "kernelspec": {
   "display_name": "Python 3.9.9 64-bit",
   "language": "python",
   "name": "python3"
  },
  "language_info": {
   "codemirror_mode": {
    "name": "ipython",
    "version": 3
   },
   "file_extension": ".py",
   "mimetype": "text/x-python",
   "name": "python",
   "nbconvert_exporter": "python",
   "pygments_lexer": "ipython3",
   "version": "3.9.9"
  },
  "orig_nbformat": 4,
  "vscode": {
   "interpreter": {
    "hash": "11938c6bc6919ae2720b4d5011047913343b08a43b18698fd82dedb0d4417594"
   }
  }
 },
 "nbformat": 4,
 "nbformat_minor": 2
}
