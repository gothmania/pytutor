{
 "cells": [
  {
   "cell_type": "markdown",
   "metadata": {},
   "source": [
    "# B09 Giải nén (unpacking)\n",
    "\n",
    "## Mục đích\n",
    "\n",
    "Giới thiệu về kĩ thuật giải nén danh sách và từ điển.\n",
    "\n",
    "\n",
    "## Giải nén danh sách\n",
    "\n",
    "Unpacking là một công cụ quan trọng và rất hữu dụng trong lập trình Python. Giải nén danh sách cho phép chúng ta lấy số liệu từ danh sách mà không cần phải truy cập bằng chỉ mục.\n",
    "\n",
    "Giả sử chúng ta có một hàm như sau:\n",
    "\n",
    "```python\n",
    "def gen_summary(md, cil, ciu):\n",
    "    print(round(md, 2), round(cil, 2), round(ciu, 2))\n",
    "    return\n",
    "```\n",
    "\n",
    "Hàm này sẽ in ra một chuỗi tổng kết số liệu trung bình hiệu số và khoảng tin cậy của nó. Tuy nhiên, số liệu mà chúng ta thao tác lại không phải là 3 biến riêng biệt mà là một list có 3 phần tử. Trong trường hợp này, nếu muốn đưa vào đối số của hàm, bạn sẽ phải dùng chỉ mục.\n",
    "\n",
    "```python\n",
    "result = [0.55, 0.355, 0.745]\n",
    "gen_summary(result[0], result[1], result[2])\n",
    "```\n",
    "\n",
    "Một cách đơn giản hơn, chúng ta có thể \"giải nén\" các giá trị trong danh sách này bằng cú pháp như sau."
   ]
  },
  {
   "cell_type": "code",
   "execution_count": 1,
   "metadata": {},
   "outputs": [
    {
     "name": "stdout",
     "output_type": "stream",
     "text": [
      "0.55 0.35 0.74\n"
     ]
    }
   ],
   "source": [
    "def gen_summary(md, cil, ciu):\n",
    "    print(round(md, 2), round(cil, 2), round(ciu, 2))\n",
    "    return\n",
    "\n",
    "result = [0.55, 0.355, 0.745]\n",
    "gen_summary(*result)"
   ]
  },
  {
   "cell_type": "markdown",
   "metadata": {},
   "source": [
    "Bằng việc đặt dấu sao `*` trước tên biến kiểu danh sách, chúng ta đang nói với Python rằng thay vì chuyển giá trị của biến này như một `list` vào trong một đối số của hàm, hay chuyển **các phần tử** của nó thành **nhiều đối số** của hàm.\n",
    "\n",
    "Chúng ta chỉ sử dụng dấu `*` ở khi giải nén vào đối số của hàm. Khi giải nén vào các biến, bạn không cần dùng dấu `*`. Bạn cũng có thể không cần giải nén hết toàn bộ danh sách. Xem ví dụ sau đây."
   ]
  },
  {
   "cell_type": "code",
   "execution_count": 2,
   "metadata": {},
   "outputs": [
    {
     "data": {
      "text/plain": [
       "'Long Hoang'"
      ]
     },
     "execution_count": 2,
     "metadata": {},
     "output_type": "execute_result"
    }
   ],
   "source": [
    "def gen_fullname(firstname, lastname):\n",
    "    return firstname + \" \" + lastname\n",
    "\n",
    "customer_info = [\"Long\", \"Hoang\", 34, \"Hanoi\", \"long.hoang@fulbrightmail.org\"]\n",
    "firstname, lastname, *_ = customer_info\n",
    "gen_fullname(firstname, lastname)"
   ]
  },
  {
   "cell_type": "markdown",
   "metadata": {},
   "source": [
    "Ở đây, chúng ta giải nén hai phần tử đầu tiên của danh sách vào hai biên `firstname` và `lastname`. Phần còn lại của danh sách chúng ta sẽ \"nén\" lại vào trong biến thứ ba (lí do sử dụng dấu `*` ở đầu). Bạn cũng làm quen với kí tự `_`: Python sẽ không lưu lại các giá trị gán cho `_` vào bộ nhớ; chúng ta dùng cách này để đối xử với các giá trị mà chúng ta không sử dụng đến."
   ]
  },
  {
   "cell_type": "markdown",
   "metadata": {},
   "source": [
    "### Giải nén nhiều cấp\n",
    "\n",
    "Bạn còn có thể giải nén các danh sách lồng trong nhau. Để đảm bảo giải nén đúng, bạn phải chắc chắn về cấu trúc lồng của danh sách."
   ]
  },
  {
   "cell_type": "code",
   "execution_count": 3,
   "metadata": {},
   "outputs": [
    {
     "name": "stdout",
     "output_type": "stream",
     "text": [
      "0.5 0.4 0.6\n"
     ]
    }
   ],
   "source": [
    "result = [0.5, [0.4, 0.6]]\n",
    "md, (cil, ciu) = result\n",
    "print(md, cil, ciu)"
   ]
  },
  {
   "cell_type": "markdown",
   "metadata": {},
   "source": [
    "### Khai báo `*args`\n",
    "\n",
    "Giả sử bạn có một hàm để gộp các chuỗi kí tự với nhau và phân cách chúng bằng một chuỗi kí tự phân cách (separator). Bạn có thể khai báo hàm như sau:\n",
    "\n",
    "```python\n",
    "def str_concat(str1, str2, sep=\" \"):\n",
    "    return str1 + sep + str2\n",
    "```\n",
    "\n",
    "Chúng ta dễ dàng nhận ra nhược điểm của hàm này: nếu bạn muốn gộp 3 chuỗi kí tự với nhau, chúng ta sẽ phải viết lệnh như thế này:\n",
    "\n",
    "```python\n",
    "str_concat(str1, str_concat(str2, str3))\n",
    "```\n",
    "\n",
    "Thực sự rất không tiện lợi. Sẽ tiện lợi hơn nếu chúng ta có thể cung cấp nhiều chuỗi kí tự trong cùng một lần gọi hàm, chẳng hạn:\n",
    "\n",
    "```python\n",
    "str_concat(str1, str2, str3, sep=\"-\")\n",
    "str_concat(str1, str2, str3, str4, sep=\"*\")\n",
    "str_concat(*strs)    # với strs là một danh sách chuỗi kí tự\n",
    "```\n",
    "\n",
    "Khai báo `*args` cho phép bạn khai báo đối số kiểu như vậy cho hàm (args là viết tắt của arguments, đối số)."
   ]
  },
  {
   "cell_type": "code",
   "execution_count": 4,
   "metadata": {},
   "outputs": [
    {
     "data": {
      "text/plain": [
       "'Hello my name is Long'"
      ]
     },
     "execution_count": 4,
     "metadata": {},
     "output_type": "execute_result"
    }
   ],
   "source": [
    "def str_concat(*args, sep=\" \"):\n",
    "    result = args[0]\n",
    "    for i in range(1, len(args)):\n",
    "        result += sep + args[i]\n",
    "    return result\n",
    "\n",
    "strs = [\"Hello\", \"my name\", \"is\", \"Long\"]\n",
    "str_concat(*strs)"
   ]
  },
  {
   "cell_type": "markdown",
   "metadata": {},
   "source": [
    "Bạn vẫn có thể cung cấp các chuỗi kí tự như một dãy các đối số thay vì nén trong danh sách."
   ]
  },
  {
   "cell_type": "code",
   "execution_count": 5,
   "metadata": {},
   "outputs": [
    {
     "data": {
      "text/plain": [
       "'Hello my name is Long'"
      ]
     },
     "execution_count": 5,
     "metadata": {},
     "output_type": "execute_result"
    }
   ],
   "source": [
    "str_concat(\"Hello\", \"my name\", \"is\", \"Long\")"
   ]
  },
  {
   "cell_type": "markdown",
   "metadata": {},
   "source": [
    "Nếu `sep` là đối số bắt buộc (không có giá trị mặc định), bạn sẽ cần cung cấp thông tin về đối số này. Bạn có thể thay đổi vị trí của các đối số."
   ]
  },
  {
   "cell_type": "code",
   "execution_count": 6,
   "metadata": {},
   "outputs": [
    {
     "data": {
      "text/plain": [
       "'Hello my name is Long'"
      ]
     },
     "execution_count": 6,
     "metadata": {},
     "output_type": "execute_result"
    }
   ],
   "source": [
    "def str_concat(*args, sep):\n",
    "    result = args[0]\n",
    "    for i in range(1, len(args)):\n",
    "        result += sep + args[i]\n",
    "    return result\n",
    "\n",
    "strs = [\"Hello\", \"my name\", \"is\", \"Long\"]\n",
    "str_concat(sep=\" \", *strs)"
   ]
  },
  {
   "cell_type": "markdown",
   "metadata": {},
   "source": [
    "### Dictionary comprehension\n",
    "\n",
    "Trong bài [B08](./08_tupdictset.ipynb), chúng ta đã làm quen với bài toán tạo từ điển từ chuỗi kí tự.\n",
    "\n",
    "```python\n",
    "s = \"Toan: 10, Van: 7, Tieng Anh: 9\"\n",
    "\n",
    "score_dict = {}\n",
    "\n",
    "for i in s.split(\",\"):\n",
    "    ketqua = i.split(\":\")\n",
    "    monhoc = ketqua[0].strip()\n",
    "    diemso = int(ketqua[1])\n",
    "    score_dict[monhoc] = diemso\n",
    "\n",
    "score_dict\n",
    "```\n",
    "\n",
    "Nếu đã quen với list comprehension, bạn sẽ thấy mô thức của thuật toán trên đây rất giống với list comprehension, trừ việc kết quả chúng ta tạo ra là `dict`. Do từ điển cần có hai nội dung là chìa khóa và giá trị, chúng ta phải có hai biến trong dictionary comprehension (`key` và `value`).\n",
    "\n",
    "Vậy, tư duy của chúng ta sẽ là:\n",
    "\n",
    "```python\n",
    "{key: value for key, value in keyvalue_list}\n",
    "```\n",
    "\n",
    "Danh sách `keyvalue_list` chứa các phần tử kiểu `list`, `tuple`, hoặc `set`, mỗi phần tử này chứa chính xác hai giá trị, và chúng ta đang giải nén hai giá trị này vào hai biến `key` và `value`. Câu hỏi đặt ra là danh sách này sẽ được tạo ra như thế nào?"
   ]
  },
  {
   "cell_type": "code",
   "execution_count": 7,
   "metadata": {},
   "outputs": [
    {
     "data": {
      "text/plain": [
       "[['Toan', ' 10'], [' Van', ' 7'], [' Tieng Anh', ' 9']]"
      ]
     },
     "execution_count": 7,
     "metadata": {},
     "output_type": "execute_result"
    }
   ],
   "source": [
    "s = \"Toan: 10, Van: 7, Tieng Anh: 9\"\n",
    "[i.split(\":\") for i in s.split(\",\")]"
   ]
  },
  {
   "cell_type": "markdown",
   "metadata": {},
   "source": [
    "Chúng ta dùng list comprehension để tạo ra danh sách các tên môn học và điểm số đã được tách nhau ra. Sau đó, chúng ta sử dụng dictionary comprehension để chuyển chúng thành một từ điển."
   ]
  },
  {
   "cell_type": "code",
   "execution_count": 8,
   "metadata": {},
   "outputs": [
    {
     "data": {
      "text/plain": [
       "{'Toan': 10, 'Van': 7, 'Tieng Anh': 9}"
      ]
     },
     "execution_count": 8,
     "metadata": {},
     "output_type": "execute_result"
    }
   ],
   "source": [
    "{key.strip(): int(value) for key, value in [i.split(\":\") for i in s.split(\",\")]}"
   ]
  },
  {
   "cell_type": "markdown",
   "metadata": {},
   "source": [
    "Chúng ta sẽ còn ứng dụng việc giải nén danh sách vào trong định dạng chuỗi kí tự.\n",
    "\n",
    "\n",
    "## Giải nén từ điển\n",
    "\n",
    "Một mục đích thông dụng của giải nén từ điển là để gộp các từ điển với nhau. Kí hiệu giải nén cho từ điển là hai dấu sao `**`."
   ]
  },
  {
   "cell_type": "code",
   "execution_count": 9,
   "metadata": {},
   "outputs": [
    {
     "data": {
      "text/plain": [
       "{('sex', 0): 'Male',\n",
       " ('sex', 1): 'Female',\n",
       " ('bmi', 1): 'Underweight',\n",
       " ('bmi', 2): 'Normal',\n",
       " ('bmi', 3): 'Overweight'}"
      ]
     },
     "execution_count": 9,
     "metadata": {},
     "output_type": "execute_result"
    }
   ],
   "source": [
    "codebook_sex = {(\"sex\", 0): \"Male\", (\"sex\", 1): \"Female\"}\n",
    "codebook_bmi = {(\"bmi\", 1): \"Underweight\", (\"bmi\", 2): \"Normal\", (\"bmi\", 3): \"Overweight\"}\n",
    "\n",
    "{**codebook_sex, **codebook_bmi}"
   ]
  },
  {
   "cell_type": "markdown",
   "metadata": {},
   "source": [
    "Ngoài ra, việc giải nén từ điển cũng áp dụng cho đối số của hàm, nhưng là các đối số có tên."
   ]
  },
  {
   "cell_type": "code",
   "execution_count": 10,
   "metadata": {},
   "outputs": [
    {
     "name": "stdout",
     "output_type": "stream",
     "text": [
      "Hello~~~Hello~~~Hello~~~Hello~~~Hello~~~"
     ]
    }
   ],
   "source": [
    "def print_repeat(s, end, reps):\n",
    "    for i in range(reps):\n",
    "        print(s, end=end)\n",
    "\n",
    "print_repeat(\"Hello\", \"~~~\", 5)"
   ]
  },
  {
   "cell_type": "code",
   "execution_count": 11,
   "metadata": {},
   "outputs": [
    {
     "name": "stdout",
     "output_type": "stream",
     "text": [
      "Hello~~~Hello~~~Hello~~~Hello~~~Hello~~~"
     ]
    }
   ],
   "source": [
    "params = {\n",
    "    \"s\": \"Hello\",\n",
    "    \"end\": \"~~~\",\n",
    "    \"reps\": 5\n",
    "}\n",
    "print_repeat(**params)"
   ]
  },
  {
   "cell_type": "markdown",
   "metadata": {},
   "source": [
    "### Khai báo `**kwargs`\n",
    "\n",
    "Tương tự như `*args`, khai báo `**kwargs` dùng để báo cho Python biết hàm có thể nhận thêm một dãy các đối số. Khác với `*args`, `*kwargs` (viết tắt của keyword arguments) đòi hỏi chúng ta phải cung cấp tên của đối số, và do đó, từ điển là kiểu dữ liệu hợp lí hơn vì nó chứa các cặp key-value.\n",
    "\n",
    "Chẳng hạn, chúng ta có một hàm thống kê tổng và trung bình, nhưng không phải lúc nào cũng cần in ra cả hai chỉ số này. Bạn có thể bật/tắt việc hiển thị các chỉ số bằng một từ điển đối số."
   ]
  },
  {
   "cell_type": "code",
   "execution_count": 12,
   "metadata": {},
   "outputs": [
    {
     "name": "stdout",
     "output_type": "stream",
     "text": [
      "Input: 1 2 3 4 5\n",
      "Input: 1 2 3 4 5\n",
      "Sum = 15\n",
      "Input: 1 2 3 4 5\n",
      "Mean = 3.0\n"
     ]
    }
   ],
   "source": [
    "def summarize(*args, **kwargs):\n",
    "    s = sum(args)\n",
    "    m = s / len(args)\n",
    "\n",
    "    print(\"Input:\", *args)\n",
    "    if \"sum\" in kwargs and kwargs[\"sum\"] == True:\n",
    "        print(\"Sum =\", s)\n",
    "    if \"mean\" in kwargs and kwargs[\"mean\"] == True:\n",
    "        print(\"Mean =\", m)\n",
    "\n",
    "summarize(1, 2, 3, 4, 5)\n",
    "summarize(1, 2, 3, 4, 5, sum = True)\n",
    "\n",
    "data = range(1, 6)\n",
    "params = {\"sum\": False, \"mean\": True}\n",
    "summarize(*data, **params)"
   ]
  },
  {
   "cell_type": "markdown",
   "metadata": {},
   "source": [
    "---\n",
    "\n",
    "[Bài trước](./08_tupdictset.ipynb) - [Danh sách bài](../README.md) - [Bài sau](./10_slicing.ipynb)"
   ]
  }
 ],
 "metadata": {
  "kernelspec": {
   "display_name": "Python 3.9.9 64-bit",
   "language": "python",
   "name": "python3"
  },
  "language_info": {
   "codemirror_mode": {
    "name": "ipython",
    "version": 3
   },
   "file_extension": ".py",
   "mimetype": "text/x-python",
   "name": "python",
   "nbconvert_exporter": "python",
   "pygments_lexer": "ipython3",
   "version": "3.9.9"
  },
  "orig_nbformat": 4,
  "vscode": {
   "interpreter": {
    "hash": "11938c6bc6919ae2720b4d5011047913343b08a43b18698fd82dedb0d4417594"
   }
  }
 },
 "nbformat": 4,
 "nbformat_minor": 2
}
