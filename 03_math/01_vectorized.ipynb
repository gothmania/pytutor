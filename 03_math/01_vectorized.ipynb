{
 "cells": [
  {
   "cell_type": "markdown",
   "metadata": {},
   "source": [
    "# M01 Tính toán vector hóa\n",
    "\n",
    "## Mục đích\n",
    "\n",
    "Giới thiệu thư viện NumPy để làm quen với tính toán vector hóa.\n",
    "\n",
    "\n",
    "## Tính toán vector hóa\n",
    "\n",
    "Nếu bạn đã sử dụng R thì bạn biết rằng chúng ta có thể có một danh sách các số (gọi là `vector`) và thực hiện một phép tính nào đó với từng phần tử của danh sách đó. Chẳng hạn:\n",
    "\n",
    "```r\n",
    "v <- c(1, 2, 3, 4, 5)\n",
    "v + 1\n",
    "```\n",
    "\n",
    "Trong Python, bạn không thể làm tương tự như vậy. Lệnh sau sẽ báo lỗi khi thực hiện:\n",
    "\n",
    "```python\n",
    "v = [1, 2, 3, 4, 5]\n",
    "v + 1\n",
    "```\n",
    "\n",
    "```\n",
    "TypeError: can only concatenate list (not \"int\") to list\n",
    "```\n",
    "\n",
    "Exception này nghe hơi kì lạ, nhưng thật ra rất có lí, vì Python hiểu toán tử `+` sử dụng cho cấu trúc dữ liệu `list` là để nối hai `list` với nhau, tuy nhiên `1` lại không phải là `list` mà là kiểu `int`. Nếu muốn thực hiện phép tính cộng cho từng phần tử, bạn sẽ cần dùng list comprehension."
   ]
  },
  {
   "cell_type": "code",
   "execution_count": 1,
   "metadata": {},
   "outputs": [
    {
     "data": {
      "text/plain": [
       "[2, 3, 4, 5, 6]"
      ]
     },
     "execution_count": 1,
     "metadata": {},
     "output_type": "execute_result"
    }
   ],
   "source": [
    "v = [1, 2, 3, 4, 5]\n",
    "[i + 1 for i in v]"
   ]
  },
  {
   "cell_type": "markdown",
   "metadata": {},
   "source": [
    "Mặc dù list comprehension đã được tối ưu hơn vòng lặp `for`, nhưng nó vẫn sẽ rất chậm khi tiến hành với danh sách có kích thước lớn, bởi quá trình thực hiện phép tính cộng cho từng phần tử gồm nhiều bước (truy cập bộ nhớ, thực hiện phép tính, ghi kết quả tính vào bộ nhớ, di chuyển con trỏ xuống đối tượng tiếp theo, v.v.).\n",
    "\n",
    "R không thực hiện việc tính toán như vậy cho cấu trúc dữ liệu `vector`, mà nó sẽ \"vectorize\" việc tính toán. Có thể hiểu đơn giản là việc tính toán vẫn diễn ra cho từng phần tử, nhưng được tiến hành cùng một lúc với nhau, do đó giảm thiểu các bước phải truy xuất bộ nhớ. Bản thân Python không hỗ trợ việc này, nhưng thư viện mở rộng của Python thì có, và chúng ta sẽ làm quen với thư viện NumPy. Để bắt đầu, chúng ta sẽ tải thư viện này vào bộ nhớ. Nhóm phát triển NumPy khuyến cáo bạn viết tắt tên thư viện là `np` để thống nhất với tất cả các lập trình viên trên thế giới."
   ]
  },
  {
   "cell_type": "code",
   "execution_count": 2,
   "metadata": {},
   "outputs": [],
   "source": [
    "import numpy as np"
   ]
  },
  {
   "cell_type": "markdown",
   "metadata": {},
   "source": [
    "## Cấu trúc `array`\n",
    "\n",
    "Cấu trúc `array` (mảng) trong NumPy tương tự như `list` của Python và `vector` của R. Nó là một danh sách các phần tử. Khác với `list`, tất cả các phần tử trong `array` sẽ có cùng kiểu dữ liệu; chỉ cần một phần tử có kiểu dữ liệu `str`, tất cả các phần tử còn lại sẽ được chuyển đổi về kiểu `str`.\n",
    "\n",
    "Chúng ta sẽ khai báo một mảng dựa trên danh sách `v` ở trên."
   ]
  },
  {
   "cell_type": "code",
   "execution_count": 3,
   "metadata": {},
   "outputs": [
    {
     "data": {
      "text/plain": [
       "array([1, 2, 3, 4, 5])"
      ]
     },
     "execution_count": 3,
     "metadata": {},
     "output_type": "execute_result"
    }
   ],
   "source": [
    "a = np.array(v)\n",
    "a"
   ]
  },
  {
   "cell_type": "markdown",
   "metadata": {},
   "source": [
    "Bây giờ hãy thực hiện tính cộng trên mảng này."
   ]
  },
  {
   "cell_type": "code",
   "execution_count": 4,
   "metadata": {},
   "outputs": [
    {
     "data": {
      "text/plain": [
       "array([2, 3, 4, 5, 6])"
      ]
     },
     "execution_count": 4,
     "metadata": {},
     "output_type": "execute_result"
    }
   ],
   "source": [
    "a + 1"
   ]
  },
  {
   "cell_type": "markdown",
   "metadata": {},
   "source": [
    "NumPy cũng vectorize một số hàm để bạn có thể sử dụng trên `array`, chẳng hạn khai căn bậc hai."
   ]
  },
  {
   "cell_type": "code",
   "execution_count": 5,
   "metadata": {},
   "outputs": [
    {
     "data": {
      "text/plain": [
       "array([1.        , 1.41421356, 1.73205081, 2.        , 2.23606798])"
      ]
     },
     "execution_count": 5,
     "metadata": {},
     "output_type": "execute_result"
    }
   ],
   "source": [
    "np.sqrt(a)"
   ]
  },
  {
   "cell_type": "markdown",
   "metadata": {},
   "source": [
    "Còn tiện dụng hơn, bạn có thể dùng các hàm này trên `list`, và NumPy sẽ tự động tạo ra một mảng kết quả từ danh sách này."
   ]
  },
  {
   "cell_type": "code",
   "execution_count": 6,
   "metadata": {},
   "outputs": [
    {
     "data": {
      "text/plain": [
       "array([1.        , 1.41421356, 1.73205081, 2.        , 2.23606798])"
      ]
     },
     "execution_count": 6,
     "metadata": {},
     "output_type": "execute_result"
    }
   ],
   "source": [
    "np.sqrt(v)"
   ]
  },
  {
   "cell_type": "markdown",
   "metadata": {},
   "source": [
    "### Mảng hai chiều\n",
    "\n",
    "Bạn có thể tạo ra một ma trận (tương tự như `matrix` của R) bằng cách đưa một danh sách lồng vào đối số của `np.array()`. Để tạo ra một ma trận m hàng x n cột, danh sách lồng này phải có m phần tử, mỗi phần tử là một danh sách có n giá trị."
   ]
  },
  {
   "cell_type": "code",
   "execution_count": 7,
   "metadata": {},
   "outputs": [
    {
     "data": {
      "text/plain": [
       "array([[ 1,  2,  3,  4],\n",
       "       [ 3,  5,  7,  9],\n",
       "       [10, 20, 30, 40]])"
      ]
     },
     "execution_count": 7,
     "metadata": {},
     "output_type": "execute_result"
    }
   ],
   "source": [
    "m = np.array([\n",
    "    [1, 2, 3, 4],\n",
    "    [3, 5, 7, 9],\n",
    "    [10, 20, 30, 40]\n",
    "])\n",
    "m"
   ]
  },
  {
   "cell_type": "markdown",
   "metadata": {},
   "source": [
    "Bạn có thể mở rộng ma trận này bằng `np.append()`."
   ]
  },
  {
   "cell_type": "code",
   "execution_count": 8,
   "metadata": {},
   "outputs": [
    {
     "data": {
      "text/plain": [
       "array([[ 1,  2,  3,  4],\n",
       "       [ 3,  5,  7,  9],\n",
       "       [10, 20, 30, 40],\n",
       "       [ 2,  4,  6,  8]])"
      ]
     },
     "execution_count": 8,
     "metadata": {},
     "output_type": "execute_result"
    }
   ],
   "source": [
    "newrow = np.array([2, 4, 6, 8])\n",
    "n = np.append(m, [newrow], axis=0)\n",
    "n"
   ]
  },
  {
   "cell_type": "markdown",
   "metadata": {},
   "source": [
    "Bạn có thể thực hiện các phép tính với ma trận này tương tự như với mảng một chiều."
   ]
  },
  {
   "cell_type": "code",
   "execution_count": 9,
   "metadata": {},
   "outputs": [
    {
     "data": {
      "text/plain": [
       "array([[ 2,  4,  6,  8],\n",
       "       [ 6, 10, 14, 18],\n",
       "       [20, 40, 60, 80]])"
      ]
     },
     "execution_count": 9,
     "metadata": {},
     "output_type": "execute_result"
    }
   ],
   "source": [
    "m * 2"
   ]
  },
  {
   "cell_type": "markdown",
   "metadata": {},
   "source": [
    "NumPy cũng hỗ trợ các phép toán của ma trận như chuyển vị:"
   ]
  },
  {
   "cell_type": "code",
   "execution_count": 10,
   "metadata": {},
   "outputs": [
    {
     "data": {
      "text/plain": [
       "array([[ 1,  3, 10,  2],\n",
       "       [ 2,  5, 20,  4],\n",
       "       [ 3,  7, 30,  6],\n",
       "       [ 4,  9, 40,  8]])"
      ]
     },
     "execution_count": 10,
     "metadata": {},
     "output_type": "execute_result"
    }
   ],
   "source": [
    "np.transpose(n)"
   ]
  },
  {
   "cell_type": "markdown",
   "metadata": {},
   "source": [
    "hay nhân ma trận (dot product)"
   ]
  },
  {
   "cell_type": "code",
   "execution_count": 11,
   "metadata": {},
   "outputs": [
    {
     "data": {
      "text/plain": [
       "array([[  45,   88,  131,  174],\n",
       "       [ 106,  207,  308,  409],\n",
       "       [ 450,  880, 1310, 1740]])"
      ]
     },
     "execution_count": 11,
     "metadata": {},
     "output_type": "execute_result"
    }
   ],
   "source": [
    "m @ n"
   ]
  },
  {
   "cell_type": "markdown",
   "metadata": {},
   "source": [
    "hay lập ma trận đường chéo"
   ]
  },
  {
   "cell_type": "code",
   "execution_count": 12,
   "metadata": {},
   "outputs": [
    {
     "data": {
      "text/plain": [
       "array([[ 1,  0,  0,  0],\n",
       "       [ 0,  5,  0,  0],\n",
       "       [ 0,  0, 30,  0],\n",
       "       [ 0,  0,  0,  8]])"
      ]
     },
     "execution_count": 12,
     "metadata": {},
     "output_type": "execute_result"
    }
   ],
   "source": [
    "np.diag(np.diag(n))"
   ]
  },
  {
   "cell_type": "markdown",
   "metadata": {},
   "source": [
    "## Tạo một số mảng mới đặc biệt\n",
    "\n",
    "Bạn có thể tạo một mảng toàn các số 0."
   ]
  },
  {
   "cell_type": "code",
   "execution_count": 13,
   "metadata": {},
   "outputs": [
    {
     "data": {
      "text/plain": [
       "array([[0., 0., 0., 0.],\n",
       "       [0., 0., 0., 0.],\n",
       "       [0., 0., 0., 0.]])"
      ]
     },
     "execution_count": 13,
     "metadata": {},
     "output_type": "execute_result"
    }
   ],
   "source": [
    "np.zeros(shape=(3, 4))"
   ]
  },
  {
   "cell_type": "markdown",
   "metadata": {},
   "source": [
    "Hoặc mảng toàn số 1."
   ]
  },
  {
   "cell_type": "code",
   "execution_count": 14,
   "metadata": {},
   "outputs": [
    {
     "data": {
      "text/plain": [
       "array([[1., 1., 1.],\n",
       "       [1., 1., 1.]])"
      ]
     },
     "execution_count": 14,
     "metadata": {},
     "output_type": "execute_result"
    }
   ],
   "source": [
    "np.ones(shape=(2, 3))"
   ]
  },
  {
   "cell_type": "markdown",
   "metadata": {},
   "source": [
    "Hoặc ma trận đơn vị."
   ]
  },
  {
   "cell_type": "code",
   "execution_count": 15,
   "metadata": {},
   "outputs": [
    {
     "data": {
      "text/plain": [
       "array([[1., 0., 0.],\n",
       "       [0., 1., 0.],\n",
       "       [0., 0., 1.]])"
      ]
     },
     "execution_count": 15,
     "metadata": {},
     "output_type": "execute_result"
    }
   ],
   "source": [
    "np.identity(3)"
   ]
  },
  {
   "cell_type": "markdown",
   "metadata": {},
   "source": [
    "Hoặc một mảng với các số tăng dần (tương tự như `range()` của Python)."
   ]
  },
  {
   "cell_type": "code",
   "execution_count": 16,
   "metadata": {},
   "outputs": [
    {
     "data": {
      "text/plain": [
       "array([ 2,  5,  8, 11, 14])"
      ]
     },
     "execution_count": 16,
     "metadata": {},
     "output_type": "execute_result"
    }
   ],
   "source": [
    "np.arange(2, 15, 3)"
   ]
  },
  {
   "cell_type": "markdown",
   "metadata": {},
   "source": [
    "Trong trường hợp bạn xác định được điểm đầu, điểm cuối, và số phần tử (nhưng không muốn tính toán bước nhảy), bạn có thể sử dụng `np.linspace()` hoặc `np.logspace()` (cho thang ratio)."
   ]
  },
  {
   "cell_type": "code",
   "execution_count": 17,
   "metadata": {},
   "outputs": [
    {
     "data": {
      "text/plain": [
       "array([ 1. ,  5.5, 10. ])"
      ]
     },
     "execution_count": 17,
     "metadata": {},
     "output_type": "execute_result"
    }
   ],
   "source": [
    "np.linspace(1, 10, 3)"
   ]
  },
  {
   "cell_type": "markdown",
   "metadata": {},
   "source": [
    "## Luyện tập\n",
    "\n",
    "Trong hệ tọa độ Descartes phẳng (2 chiều), có một vector $\\vec{v} = \\langle x, y \\rangle$. Chúng ta sẽ xoay vector này đi một góc $\\theta$ ngược chiều kim đồng hồ bằng cách sử dụng ma trận xoay $R$ (rotation matrix). Ma trận xoay có dạng như sau:\n",
    "\n",
    "$$\n",
    "R = \\left[\n",
    "    \\begin{matrix}\n",
    "    \\cos \\theta & -\\sin \\theta \\\\\n",
    "    \\sin \\theta & \\cos \\theta\n",
    "    \\end{matrix}\n",
    "\\right]\n",
    "$$\n",
    "\n",
    "Vector xoay là kết quả phép nhân ma trận xoay với vector gốc. Chúng ta sẽ phải chuyển vị vector từ dạng hàng sang dạng cột để nhân ma trận. Vì kết quả trả về là một vector dạng cột, chúng ta sẽ chuyển vị nó một lần nữa sang dạng hàng.\n",
    "\n",
    "$$\n",
    "v_R = (R \\cdot v^T)^T\n",
    "$$\n",
    "\n",
    "Bạn có thể dùng luôn hàm `np.sin()` và `np.cos()` để tính sine và cosine, hoặc dùng hai hàm này trong thư viện `math`."
   ]
  },
  {
   "cell_type": "code",
   "execution_count": 18,
   "metadata": {},
   "outputs": [
    {
     "data": {
      "text/plain": [
       "array([-2.,  1.])"
      ]
     },
     "execution_count": 18,
     "metadata": {},
     "output_type": "execute_result"
    }
   ],
   "source": [
    "def rotation_matrix(theta):\n",
    "    return np.array([\n",
    "        [np.cos(theta), -np.sin(theta)],\n",
    "        [np.sin(theta), np.cos(theta)]\n",
    "    ])\n",
    "\n",
    "v = np.array([1, 2])\n",
    "R = rotation_matrix(np.pi / 2)    # Xoay 90 độ ngược chiều kim đồng hồ\n",
    "v_R = np.transpose(R @ np.transpose(v))\n",
    "\n",
    "v_R"
   ]
  },
  {
   "cell_type": "code",
   "execution_count": 19,
   "metadata": {},
   "outputs": [
    {
     "data": {
      "image/png": "[encoded data removed]",
      "text/plain": [
       "<Figure size 360x266.4 with 1 Axes>"
      ]
     },
     "metadata": {
      "needs_background": "light"
     },
     "output_type": "display_data"
    }
   ],
   "source": [
    "import matplotlib.pyplot as plt\n",
    "\n",
    "_, ax = plt.subplots(figsize=(5, 3.7), tight_layout=True)\n",
    "\n",
    "ax.axhline(0, color=\"k\", lw=1)\n",
    "ax.axvline(0, color=\"k\", lw=1)\n",
    "\n",
    "ax.arrow(0, 0, *v, color=\"k\", length_includes_head=True, head_width=0.1)\n",
    "ax.text(*v, r\"$\\vec{v}$\", fontsize=16, va=\"bottom\", ha=\"left\")\n",
    "ax.arrow(0, 0, *v_R, color=\"r\", length_includes_head=True, head_width=0.1)\n",
    "ax.text(*v_R, r\"$\\vec{v_R}$\", color=\"r\", fontsize=16, va=\"bottom\", ha=\"right\")\n",
    "\n",
    "ax.set_xticks([-2, -1, 1])\n",
    "ax.set_yticks([1, 2])\n",
    "ax.set_xlim(-2.5, 1.5)\n",
    "ax.set_ylim(-0.5, 2.5)\n",
    "\n",
    "ax.spines['left'].set_position('zero')\n",
    "ax.spines['right'].set_color('none')\n",
    "ax.spines['bottom'].set_position('zero')\n",
    "ax.spines['top'].set_color('none')\n",
    "\n",
    "plt.show()"
   ]
  },
  {
   "cell_type": "markdown",
   "metadata": {},
   "source": [
    "---\n",
    "\n",
    "[Bài trước](../02_inter/05_exceptions.ipynb) - [Danh sách bài](../README.md) - [Bài sau](./02_random.ipynb)"
   ]
  }
 ],
 "metadata": {
  "kernelspec": {
   "display_name": "Python 3.9.9 64-bit",
   "language": "python",
   "name": "python3"
  },
  "language_info": {
   "codemirror_mode": {
    "name": "ipython",
    "version": 3
   },
   "file_extension": ".py",
   "mimetype": "text/x-python",
   "name": "python",
   "nbconvert_exporter": "python",
   "pygments_lexer": "ipython3",
   "version": "3.9.9"
  },
  "orig_nbformat": 4,
  "vscode": {
   "interpreter": {
    "hash": "11938c6bc6919ae2720b4d5011047913343b08a43b18698fd82dedb0d4417594"
   }
  }
 },
 "nbformat": 4,
 "nbformat_minor": 2
}
