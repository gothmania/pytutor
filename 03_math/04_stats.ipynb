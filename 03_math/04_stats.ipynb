{
 "cells": [
  {
   "cell_type": "markdown",
   "metadata": {},
   "source": [
    "# M04 Thống kê\n",
    "\n",
    "## Mục đích\n",
    "\n",
    "Giới thiệu thư viện Scipy về các hàm toán học và Statsmodels về các mô hình thống kê. Bài này sẽ tập trung giới thiệu thư viện con của Scipy dành cho thống kê.\n",
    "\n",
    "\n",
    "## Phân bố xác suất\n",
    "\n",
    "Mặc dù NumPy cho phép chúng ta tạo số ngẫu nhiên theo một phân bố xác suất nào đó, nó không thể thực hiện được việc tính toán các hàm xác suất (ví dụ, tính $P(X < x)$ với $X \\sim N(\\mu, \\sigma^2)$). Bạn có thể sử dụng thư viện con `scipy.stats` cho việc này.\n",
    "\n",
    "Chúng ta sẽ xem thử ví dụ tính $P(X < 1.65); X \\sim N(0, 1)$."
   ]
  },
  {
   "cell_type": "code",
   "execution_count": 1,
   "metadata": {},
   "outputs": [
    {
     "data": {
      "text/plain": [
       "0.9505285319663519"
      ]
     },
     "execution_count": 1,
     "metadata": {},
     "output_type": "execute_result"
    }
   ],
   "source": [
    "import scipy.stats as stats\n",
    "\n",
    "stats.norm.cdf(1.65)"
   ]
  },
  {
   "cell_type": "markdown",
   "metadata": {},
   "source": [
    "Trong trường hợp phân bố của bạn có các tham số khác với tham số mặc định (ví dụ, phân bố chuẩn với trung bình $\\mu$ và phương sai $\\sigma^2$), bạn có thể cung cấp các thông tin này cho Scipy. Ví dụ sau đấy tính $P(X < 8); X \\sim N(2, 3)$"
   ]
  },
  {
   "cell_type": "code",
   "execution_count": 2,
   "metadata": {},
   "outputs": [
    {
     "data": {
      "text/plain": [
       "0.9772498680518208"
      ]
     },
     "execution_count": 2,
     "metadata": {},
     "output_type": "execute_result"
    }
   ],
   "source": [
    "stats.norm(2, 3).cdf(8)"
   ]
  },
  {
   "cell_type": "markdown",
   "metadata": {},
   "source": [
    "Nếu bạn chưa quen với các khái niệm về hàm xác suất thì bạn sẽ cần đi học một khóa về lí thuyết xác suất. Mình sẽ chỉ tóm tắt các hàm mà Scipy cung cấp cho mỗi phân bố xác suất.\n",
    "\n",
    "Hàm xác suất | Ví dụ\n",
    "-------------|------------------------------------\n",
    "CDF          | `stats.norm.cdf(x)`\n",
    "PDF (liên tục) | `stats.norm.pdf(x)`\n",
    "PMF (rời rạc) | `stats.poisson.pmf(x)`\n",
    "Hàm ngược của CDF | `stats.norm.ppf(x)`"
   ]
  },
  {
   "cell_type": "code",
   "execution_count": 3,
   "metadata": {},
   "outputs": [
    {
     "name": "stdout",
     "output_type": "stream",
     "text": [
      "X ~ Pois(mu=5), P(X=4) = 0.17546736976785063\n",
      "X ~ N(0, 1), P(X < a) = 0.95, a = 1.6448536269514722\n"
     ]
    }
   ],
   "source": [
    "print(\"X ~ Pois(mu=5), P(X=4) =\" , stats.poisson(mu=5).pmf(4))\n",
    "print(\"X ~ N(0, 1), P(X < a) = 0.95, a =\", stats.norm.ppf(0.95))"
   ]
  },
  {
   "cell_type": "markdown",
   "metadata": {},
   "source": [
    "Các hàm này cũng nhận đối số `x` là một danh sách hoặc mảng."
   ]
  },
  {
   "cell_type": "code",
   "execution_count": 4,
   "metadata": {},
   "outputs": [
    {
     "name": "stdout",
     "output_type": "stream",
     "text": [
      "X ~ Binomial(10, 0.4)\n",
      "P(X = 0) = 0.006\n",
      "P(X = 1) = 0.040\n",
      "P(X = 2) = 0.121\n",
      "P(X = 3) = 0.215\n",
      "P(X = 4) = 0.251\n"
     ]
    }
   ],
   "source": [
    "xs = list(range(5))\n",
    "ys = stats.binom(n=10, p=0.4).pmf(xs)\n",
    "\n",
    "print(\"X ~ Binomial(10, 0.4)\")\n",
    "for x, y in zip(xs, ys):\n",
    "    print(f\"P(X = {x}) = {y:.3f}\")"
   ]
  },
  {
   "cell_type": "markdown",
   "metadata": {},
   "source": [
    "Bạn có thể sử dụng các tính năng này của Scipy trong việc tính toán thống kê, chẳng hạn, tính p-value của kiểm định *t*-test một biến:\n",
    "\n",
    "$$\\text{p} = P(\\mu \\le \\bar{x} | H_0)\n",
    "= P\\left(\\frac{\\mu - \\mu_0}{s_{\\bar{X}}} \\le \\frac{m - \\mu_0}{s_{\\bar{X}}}\\right)\n",
    "= P(t \\le t_m) = t_{n-1}(t_m)$$\n",
    "$$s_{\\bar{X}} = \\frac{s_X}{\\sqrt{n}};\n",
    "t_m = \\frac{m - \\mu_0}{s_{\\bar{X}}}$$\n",
    "\n",
    "Ví dụ, nghiên cứu của bạn làm trên 100 người tính ra được chỉ số MCV trung bình là 85 fL (SD 25) và bạn muốn so sánh với trung bình quần thể là 90 fL."
   ]
  },
  {
   "cell_type": "code",
   "execution_count": 5,
   "metadata": {},
   "outputs": [
    {
     "name": "stdout",
     "output_type": "stream",
     "text": [
      "p value = 0.024119846686316487\n"
     ]
    }
   ],
   "source": [
    "from math import sqrt\n",
    "\n",
    "n, m, s, m0 = 100, 85, 25, 90\n",
    "t_m = (m - m0) / s * sqrt(n)\n",
    "print(\"p value =\", stats.t(n-1).cdf(t_m))"
   ]
  },
  {
   "cell_type": "markdown",
   "metadata": {},
   "source": [
    "Nếu không sử dụng các tính toán phức tạp, bạn có thể sử dụng sẵn các tính năng mà Scipy cung cấp. Chẳng hạn như hàm tính t-test một biến."
   ]
  },
  {
   "cell_type": "code",
   "execution_count": 6,
   "metadata": {},
   "outputs": [
    {
     "name": "stdout",
     "output_type": "stream",
     "text": [
      "mean = 86.49520038836212, SD = 25.197056117914492\n",
      "t = -1.384, p value = 0.085\n"
     ]
    }
   ],
   "source": [
    "a = stats.norm(loc=m, scale=s).rvs(size=n, random_state=0)    # Tương tự np.random.norm()\n",
    "print(\"mean = {}, SD = {}\".format(a.mean(), a.std()))\n",
    "\n",
    "t, p = stats.ttest_1samp(a, m0, alternative=\"less\")\n",
    "print(f\"t = {t:.3f}, p value = {p:.3f}\")"
   ]
  },
  {
   "cell_type": "markdown",
   "metadata": {},
   "source": [
    "## Mô hình thống kê\n",
    "\n",
    "Thư viện Statsmodels cung cấp các mô hình thống kê, chủ yếu là hồi quy. Việc chạy các mô hình hồi quy trên Statsmodels khá giống với trên R: (1) lập mô hình, (2) fit số liệu, và (3) trình bày kết quả / dự đoán / v.v. Nêu không sử dụng các tính năng chuyên sâu, thư viện con `statsmodels.api` là đủ cho bạn."
   ]
  },
  {
   "cell_type": "code",
   "execution_count": 7,
   "metadata": {},
   "outputs": [
    {
     "data": {
      "text/html": [
       "<table class=\"simpletable\">\n",
       "<caption>OLS Regression Results</caption>\n",
       "<tr>\n",
       "  <th>Dep. Variable:</th>            <td>y</td>        <th>  R-squared:         </th> <td>   0.996</td> \n",
       "</tr>\n",
       "<tr>\n",
       "  <th>Model:</th>                   <td>OLS</td>       <th>  Adj. R-squared:    </th> <td>   0.996</td> \n",
       "</tr>\n",
       "<tr>\n",
       "  <th>Method:</th>             <td>Least Squares</td>  <th>  F-statistic:       </th> <td>1.290e+04</td>\n",
       "</tr>\n",
       "<tr>\n",
       "  <th>Date:</th>             <td>Sun, 14 Aug 2022</td> <th>  Prob (F-statistic):</th> <td>4.39e-235</td>\n",
       "</tr>\n",
       "<tr>\n",
       "  <th>Time:</th>                 <td>23:07:40</td>     <th>  Log-Likelihood:    </th> <td> -281.37</td> \n",
       "</tr>\n",
       "<tr>\n",
       "  <th>No. Observations:</th>      <td>   200</td>      <th>  AIC:               </th> <td>   572.7</td> \n",
       "</tr>\n",
       "<tr>\n",
       "  <th>Df Residuals:</th>          <td>   195</td>      <th>  BIC:               </th> <td>   589.2</td> \n",
       "</tr>\n",
       "<tr>\n",
       "  <th>Df Model:</th>              <td>     4</td>      <th>                     </th>     <td> </td>    \n",
       "</tr>\n",
       "<tr>\n",
       "  <th>Covariance Type:</th>      <td>nonrobust</td>    <th>                     </th>     <td> </td>    \n",
       "</tr>\n",
       "</table>\n",
       "<table class=\"simpletable\">\n",
       "<tr>\n",
       "    <td></td>       <th>coef</th>     <th>std err</th>      <th>t</th>      <th>P>|t|</th>  <th>[0.025</th>    <th>0.975]</th>  \n",
       "</tr>\n",
       "<tr>\n",
       "  <th>const</th> <td>    0.8303</td> <td>    0.419</td> <td>    1.984</td> <td> 0.049</td> <td>    0.005</td> <td>    1.656</td>\n",
       "</tr>\n",
       "<tr>\n",
       "  <th>x1</th>    <td>    0.2607</td> <td>    0.157</td> <td>    1.657</td> <td> 0.099</td> <td>   -0.050</td> <td>    0.571</td>\n",
       "</tr>\n",
       "<tr>\n",
       "  <th>x2</th>    <td>    0.0113</td> <td>    0.006</td> <td>    1.757</td> <td> 0.080</td> <td>   -0.001</td> <td>    0.024</td>\n",
       "</tr>\n",
       "<tr>\n",
       "  <th>x3</th>    <td>    3.2128</td> <td>    0.014</td> <td>  223.395</td> <td> 0.000</td> <td>    3.184</td> <td>    3.241</td>\n",
       "</tr>\n",
       "<tr>\n",
       "  <th>x4</th>    <td>    1.2277</td> <td>    0.030</td> <td>   40.866</td> <td> 0.000</td> <td>    1.168</td> <td>    1.287</td>\n",
       "</tr>\n",
       "</table>\n",
       "<table class=\"simpletable\">\n",
       "<tr>\n",
       "  <th>Omnibus:</th>       <td> 0.551</td> <th>  Durbin-Watson:     </th> <td>   1.996</td>\n",
       "</tr>\n",
       "<tr>\n",
       "  <th>Prob(Omnibus):</th> <td> 0.759</td> <th>  Jarque-Bera (JB):  </th> <td>   0.672</td>\n",
       "</tr>\n",
       "<tr>\n",
       "  <th>Skew:</th>          <td> 0.109</td> <th>  Prob(JB):          </th> <td>   0.715</td>\n",
       "</tr>\n",
       "<tr>\n",
       "  <th>Kurtosis:</th>      <td> 2.819</td> <th>  Cond. No.          </th> <td>    305.</td>\n",
       "</tr>\n",
       "</table><br/><br/>Notes:<br/>[1] Standard Errors assume that the covariance matrix of the errors is correctly specified."
      ],
      "text/plain": [
       "<class 'statsmodels.iolib.summary.Summary'>\n",
       "\"\"\"\n",
       "                            OLS Regression Results                            \n",
       "==============================================================================\n",
       "Dep. Variable:                      y   R-squared:                       0.996\n",
       "Model:                            OLS   Adj. R-squared:                  0.996\n",
       "Method:                 Least Squares   F-statistic:                 1.290e+04\n",
       "Date:                Sun, 14 Aug 2022   Prob (F-statistic):          4.39e-235\n",
       "Time:                        23:07:40   Log-Likelihood:                -281.37\n",
       "No. Observations:                 200   AIC:                             572.7\n",
       "Df Residuals:                     195   BIC:                             589.2\n",
       "Df Model:                           4                                         \n",
       "Covariance Type:            nonrobust                                         \n",
       "==============================================================================\n",
       "                 coef    std err          t      P>|t|      [0.025      0.975]\n",
       "------------------------------------------------------------------------------\n",
       "const          0.8303      0.419      1.984      0.049       0.005       1.656\n",
       "x1             0.2607      0.157      1.657      0.099      -0.050       0.571\n",
       "x2             0.0113      0.006      1.757      0.080      -0.001       0.024\n",
       "x3             3.2128      0.014    223.395      0.000       3.184       3.241\n",
       "x4             1.2277      0.030     40.866      0.000       1.168       1.287\n",
       "==============================================================================\n",
       "Omnibus:                        0.551   Durbin-Watson:                   1.996\n",
       "Prob(Omnibus):                  0.759   Jarque-Bera (JB):                0.672\n",
       "Skew:                           0.109   Prob(JB):                        0.715\n",
       "Kurtosis:                       2.819   Cond. No.                         305.\n",
       "==============================================================================\n",
       "\n",
       "Notes:\n",
       "[1] Standard Errors assume that the covariance matrix of the errors is correctly specified.\n",
       "\"\"\""
      ]
     },
     "execution_count": 7,
     "metadata": {},
     "output_type": "execute_result"
    }
   ],
   "source": [
    "import numpy as np\n",
    "import statsmodels.api as sm\n",
    "\n",
    "np.random.seed(0)\n",
    "\n",
    "# Giả lập số liệu\n",
    "n = 200\n",
    "sex = np.random.choice([0, 1], n, replace=True, p=[0.3, 0.7])\n",
    "height = np.round(np.where(sex == 0, np.random.normal(45, 10, n), np.random.normal(50, 12, n)))\n",
    "bloodtest = np.round(np.random.gamma(7, 2, n), 2)\n",
    "qolscore = np.random.poisson(6, n)\n",
    "xs = np.array([sex, height, bloodtest, qolscore]).T\n",
    "y = 1.5 + sex * 0.3 + height * 0.01 + bloodtest * 3.2 + qolscore * 1.16 + np.random.normal(0, 1, n)\n",
    "\n",
    "# Hồi quy tuyến tính đa biến\n",
    "model = sm.OLS(y, sm.add_constant(xs))    # Lập mô hình\n",
    "result = model.fit()                      # Fit số liệu\n",
    "result.summary()                          # Trình bày kết quả"
   ]
  },
  {
   "cell_type": "markdown",
   "metadata": {},
   "source": [
    "Mô hình mà mình sử dụng ở trên là Ordinary Least Squares (OLS), là mô hình hồi quy tuyến tính mà bạn thường được dạy. Để sử dụng OLS, chúng ta cung cấp cho nó số liệu của biến trả lời (`endog`) và các biến giải thích (`exog`). Tuy nhiên, bạn có thể thấy mình sử dụng thêm hàm `sm.add_constant()`. Hàm này sẽ thêm một cột các số 1 vào bên trái của ma trận biến giải thích, cột này dành cho hệ số của intercept hay constant ($\\beta_0$) trong mô hình hồi quy.\n",
    "\n",
    "Nếu đã sử dụng thư viện Pandas và quen với cách viết công thức của R, bạn có thể làm một cách khác mà không cần thêm cột constant này."
   ]
  },
  {
   "cell_type": "code",
   "execution_count": 8,
   "metadata": {},
   "outputs": [
    {
     "data": {
      "text/html": [
       "<table class=\"simpletable\">\n",
       "<caption>OLS Regression Results</caption>\n",
       "<tr>\n",
       "  <th>Dep. Variable:</th>            <td>y</td>        <th>  R-squared:         </th> <td>   0.996</td> \n",
       "</tr>\n",
       "<tr>\n",
       "  <th>Model:</th>                   <td>OLS</td>       <th>  Adj. R-squared:    </th> <td>   0.996</td> \n",
       "</tr>\n",
       "<tr>\n",
       "  <th>Method:</th>             <td>Least Squares</td>  <th>  F-statistic:       </th> <td>1.290e+04</td>\n",
       "</tr>\n",
       "<tr>\n",
       "  <th>Date:</th>             <td>Sun, 14 Aug 2022</td> <th>  Prob (F-statistic):</th> <td>4.39e-235</td>\n",
       "</tr>\n",
       "<tr>\n",
       "  <th>Time:</th>                 <td>23:07:40</td>     <th>  Log-Likelihood:    </th> <td> -281.37</td> \n",
       "</tr>\n",
       "<tr>\n",
       "  <th>No. Observations:</th>      <td>   200</td>      <th>  AIC:               </th> <td>   572.7</td> \n",
       "</tr>\n",
       "<tr>\n",
       "  <th>Df Residuals:</th>          <td>   195</td>      <th>  BIC:               </th> <td>   589.2</td> \n",
       "</tr>\n",
       "<tr>\n",
       "  <th>Df Model:</th>              <td>     4</td>      <th>                     </th>     <td> </td>    \n",
       "</tr>\n",
       "<tr>\n",
       "  <th>Covariance Type:</th>      <td>nonrobust</td>    <th>                     </th>     <td> </td>    \n",
       "</tr>\n",
       "</table>\n",
       "<table class=\"simpletable\">\n",
       "<tr>\n",
       "      <td></td>         <th>coef</th>     <th>std err</th>      <th>t</th>      <th>P>|t|</th>  <th>[0.025</th>    <th>0.975]</th>  \n",
       "</tr>\n",
       "<tr>\n",
       "  <th>Intercept</th> <td>    0.8303</td> <td>    0.419</td> <td>    1.984</td> <td> 0.049</td> <td>    0.005</td> <td>    1.656</td>\n",
       "</tr>\n",
       "<tr>\n",
       "  <th>sex</th>       <td>    0.2607</td> <td>    0.157</td> <td>    1.657</td> <td> 0.099</td> <td>   -0.050</td> <td>    0.571</td>\n",
       "</tr>\n",
       "<tr>\n",
       "  <th>height</th>    <td>    0.0113</td> <td>    0.006</td> <td>    1.757</td> <td> 0.080</td> <td>   -0.001</td> <td>    0.024</td>\n",
       "</tr>\n",
       "<tr>\n",
       "  <th>bloodtest</th> <td>    3.2128</td> <td>    0.014</td> <td>  223.395</td> <td> 0.000</td> <td>    3.184</td> <td>    3.241</td>\n",
       "</tr>\n",
       "<tr>\n",
       "  <th>qolscore</th>  <td>    1.2277</td> <td>    0.030</td> <td>   40.866</td> <td> 0.000</td> <td>    1.168</td> <td>    1.287</td>\n",
       "</tr>\n",
       "</table>\n",
       "<table class=\"simpletable\">\n",
       "<tr>\n",
       "  <th>Omnibus:</th>       <td> 0.551</td> <th>  Durbin-Watson:     </th> <td>   1.996</td>\n",
       "</tr>\n",
       "<tr>\n",
       "  <th>Prob(Omnibus):</th> <td> 0.759</td> <th>  Jarque-Bera (JB):  </th> <td>   0.672</td>\n",
       "</tr>\n",
       "<tr>\n",
       "  <th>Skew:</th>          <td> 0.109</td> <th>  Prob(JB):          </th> <td>   0.715</td>\n",
       "</tr>\n",
       "<tr>\n",
       "  <th>Kurtosis:</th>      <td> 2.819</td> <th>  Cond. No.          </th> <td>    305.</td>\n",
       "</tr>\n",
       "</table><br/><br/>Notes:<br/>[1] Standard Errors assume that the covariance matrix of the errors is correctly specified."
      ],
      "text/plain": [
       "<class 'statsmodels.iolib.summary.Summary'>\n",
       "\"\"\"\n",
       "                            OLS Regression Results                            \n",
       "==============================================================================\n",
       "Dep. Variable:                      y   R-squared:                       0.996\n",
       "Model:                            OLS   Adj. R-squared:                  0.996\n",
       "Method:                 Least Squares   F-statistic:                 1.290e+04\n",
       "Date:                Sun, 14 Aug 2022   Prob (F-statistic):          4.39e-235\n",
       "Time:                        23:07:40   Log-Likelihood:                -281.37\n",
       "No. Observations:                 200   AIC:                             572.7\n",
       "Df Residuals:                     195   BIC:                             589.2\n",
       "Df Model:                           4                                         \n",
       "Covariance Type:            nonrobust                                         \n",
       "==============================================================================\n",
       "                 coef    std err          t      P>|t|      [0.025      0.975]\n",
       "------------------------------------------------------------------------------\n",
       "Intercept      0.8303      0.419      1.984      0.049       0.005       1.656\n",
       "sex            0.2607      0.157      1.657      0.099      -0.050       0.571\n",
       "height         0.0113      0.006      1.757      0.080      -0.001       0.024\n",
       "bloodtest      3.2128      0.014    223.395      0.000       3.184       3.241\n",
       "qolscore       1.2277      0.030     40.866      0.000       1.168       1.287\n",
       "==============================================================================\n",
       "Omnibus:                        0.551   Durbin-Watson:                   1.996\n",
       "Prob(Omnibus):                  0.759   Jarque-Bera (JB):                0.672\n",
       "Skew:                           0.109   Prob(JB):                        0.715\n",
       "Kurtosis:                       2.819   Cond. No.                         305.\n",
       "==============================================================================\n",
       "\n",
       "Notes:\n",
       "[1] Standard Errors assume that the covariance matrix of the errors is correctly specified.\n",
       "\"\"\""
      ]
     },
     "execution_count": 8,
     "metadata": {},
     "output_type": "execute_result"
    }
   ],
   "source": [
    "import pandas as pd\n",
    "\n",
    "d = pd.DataFrame({\n",
    "    \"sex\": sex,\n",
    "    \"height\": height,\n",
    "    \"bloodtest\": bloodtest,\n",
    "    \"qolscore\": qolscore,\n",
    "    \"y\": y\n",
    "})\n",
    "\n",
    "fml = \"y ~ sex + height + bloodtest + qolscore\"\n",
    "model = sm.OLS.from_formula(fml, data=d)\n",
    "result = model.fit()\n",
    "result.summary()"
   ]
  },
  {
   "cell_type": "markdown",
   "metadata": {},
   "source": [
    "Chạy những mô hình phức tạp hơn như GLM cũng không khó khăn gì."
   ]
  },
  {
   "cell_type": "code",
   "execution_count": 9,
   "metadata": {},
   "outputs": [
    {
     "data": {
      "text/html": [
       "<table class=\"simpletable\">\n",
       "<caption>Generalized Linear Model Regression Results</caption>\n",
       "<tr>\n",
       "  <th>Dep. Variable:</th>           <td>y</td>        <th>  No. Observations:  </th>  <td>   200</td> \n",
       "</tr>\n",
       "<tr>\n",
       "  <th>Model:</th>                  <td>GLM</td>       <th>  Df Residuals:      </th>  <td>   198</td> \n",
       "</tr>\n",
       "<tr>\n",
       "  <th>Model Family:</th>         <td>Poisson</td>     <th>  Df Model:          </th>  <td>     1</td> \n",
       "</tr>\n",
       "<tr>\n",
       "  <th>Link Function:</th>          <td>Log</td>       <th>  Scale:             </th> <td>  1.0000</td>\n",
       "</tr>\n",
       "<tr>\n",
       "  <th>Method:</th>                <td>IRLS</td>       <th>  Log-Likelihood:    </th> <td> -109.35</td>\n",
       "</tr>\n",
       "<tr>\n",
       "  <th>Date:</th>            <td>Sun, 14 Aug 2022</td> <th>  Deviance:          </th> <td>  139.64</td>\n",
       "</tr>\n",
       "<tr>\n",
       "  <th>Time:</th>                <td>23:07:40</td>     <th>  Pearson chi2:      </th>  <td>  195.</td> \n",
       "</tr>\n",
       "<tr>\n",
       "  <th>No. Iterations:</th>          <td>5</td>        <th>  Pseudo R-squ. (CS):</th>  <td>0.03159</td>\n",
       "</tr>\n",
       "<tr>\n",
       "  <th>Covariance Type:</th>     <td>nonrobust</td>    <th>                     </th>     <td> </td>   \n",
       "</tr>\n",
       "</table>\n",
       "<table class=\"simpletable\">\n",
       "<tr>\n",
       "      <td></td>         <th>coef</th>     <th>std err</th>      <th>z</th>      <th>P>|z|</th>  <th>[0.025</th>    <th>0.975]</th>  \n",
       "</tr>\n",
       "<tr>\n",
       "  <th>Intercept</th> <td>   -2.3191</td> <td>    0.408</td> <td>   -5.681</td> <td> 0.000</td> <td>   -3.119</td> <td>   -1.519</td>\n",
       "</tr>\n",
       "<tr>\n",
       "  <th>sex</th>       <td>    0.9956</td> <td>    0.440</td> <td>    2.262</td> <td> 0.024</td> <td>    0.133</td> <td>    1.858</td>\n",
       "</tr>\n",
       "</table>"
      ],
      "text/plain": [
       "<class 'statsmodels.iolib.summary.Summary'>\n",
       "\"\"\"\n",
       "                 Generalized Linear Model Regression Results                  \n",
       "==============================================================================\n",
       "Dep. Variable:                      y   No. Observations:                  200\n",
       "Model:                            GLM   Df Residuals:                      198\n",
       "Model Family:                 Poisson   Df Model:                            1\n",
       "Link Function:                    Log   Scale:                          1.0000\n",
       "Method:                          IRLS   Log-Likelihood:                -109.35\n",
       "Date:                Sun, 14 Aug 2022   Deviance:                       139.64\n",
       "Time:                        23:07:40   Pearson chi2:                     195.\n",
       "No. Iterations:                     5   Pseudo R-squ. (CS):            0.03159\n",
       "Covariance Type:            nonrobust                                         \n",
       "==============================================================================\n",
       "                 coef    std err          z      P>|z|      [0.025      0.975]\n",
       "------------------------------------------------------------------------------\n",
       "Intercept     -2.3191      0.408     -5.681      0.000      -3.119      -1.519\n",
       "sex            0.9956      0.440      2.262      0.024       0.133       1.858\n",
       "==============================================================================\n",
       "\"\"\""
      ]
     },
     "execution_count": 9,
     "metadata": {},
     "output_type": "execute_result"
    }
   ],
   "source": [
    "# Tạo dữ liệu ngẫu nhiên\n",
    "lam = np.exp(-2 + 0.7 * sex)\n",
    "\n",
    "d = pd.DataFrame({\n",
    "    \"sex\": sex,\n",
    "    \"y\": np.random.poisson(lam)\n",
    "})\n",
    "\n",
    "# Hồi quy Poisson\n",
    "fml = \"y ~ sex\"\n",
    "model = sm.GLM.from_formula(fml, data=d,\n",
    "    family=sm.families.Poisson())\n",
    "result = model.fit()\n",
    "result.summary()"
   ]
  },
  {
   "cell_type": "markdown",
   "metadata": {},
   "source": [
    "Hệ số hồi quy và khoảng tin cậy 95% đang ở dạng logarit cơ số tự nhiên. Chúng ta có thể mũ e để thu được IRR (95%CI) của nó. Dữ liệu về hệ số hồi quy, khoảng tin cậy 95%, p-value, v.v. có kiểu dữ liệu `pandas.Series` và `pandas.DataFrame`. Chúng ta sẽ tìm hiểu kĩ về các kiểu dữ liệu này cũng như các thao tác để kết hợp các chỉ số kia vào thành một bảng trong chương về Pandas."
   ]
  },
  {
   "cell_type": "code",
   "execution_count": 10,
   "metadata": {},
   "outputs": [
    {
     "data": {
      "text/plain": [
       "Intercept    0.098361\n",
       "sex          2.706235\n",
       "dtype: float64"
      ]
     },
     "execution_count": 10,
     "metadata": {},
     "output_type": "execute_result"
    }
   ],
   "source": [
    "np.exp(result.params)"
   ]
  },
  {
   "cell_type": "code",
   "execution_count": 11,
   "metadata": {},
   "outputs": [
    {
     "data": {
      "text/html": [
       "<div>\n",
       "<style scoped>\n",
       "    .dataframe tbody tr th:only-of-type {\n",
       "        vertical-align: middle;\n",
       "    }\n",
       "\n",
       "    .dataframe tbody tr th {\n",
       "        vertical-align: top;\n",
       "    }\n",
       "\n",
       "    .dataframe thead th {\n",
       "        text-align: right;\n",
       "    }\n",
       "</style>\n",
       "<table border=\"1\" class=\"dataframe\">\n",
       "  <thead>\n",
       "    <tr style=\"text-align: right;\">\n",
       "      <th></th>\n",
       "      <th>0</th>\n",
       "      <th>1</th>\n",
       "    </tr>\n",
       "  </thead>\n",
       "  <tbody>\n",
       "    <tr>\n",
       "      <th>Intercept</th>\n",
       "      <td>0.044190</td>\n",
       "      <td>0.218939</td>\n",
       "    </tr>\n",
       "    <tr>\n",
       "      <th>sex</th>\n",
       "      <td>1.142212</td>\n",
       "      <td>6.411865</td>\n",
       "    </tr>\n",
       "  </tbody>\n",
       "</table>\n",
       "</div>"
      ],
      "text/plain": [
       "                  0         1\n",
       "Intercept  0.044190  0.218939\n",
       "sex        1.142212  6.411865"
      ]
     },
     "execution_count": 11,
     "metadata": {},
     "output_type": "execute_result"
    }
   ],
   "source": [
    "np.exp(result.conf_int())"
   ]
  },
  {
   "cell_type": "markdown",
   "metadata": {},
   "source": [
    "---\n",
    "\n",
    "[Bài trước](./03_slicing.ipynb) - [Danh sách bài](../README.md) - [Bài sau]()"
   ]
  }
 ],
 "metadata": {
  "kernelspec": {
   "display_name": "Python 3.9.9 64-bit",
   "language": "python",
   "name": "python3"
  },
  "language_info": {
   "codemirror_mode": {
    "name": "ipython",
    "version": 3
   },
   "file_extension": ".py",
   "mimetype": "text/x-python",
   "name": "python",
   "nbconvert_exporter": "python",
   "pygments_lexer": "ipython3",
   "version": "3.9.9"
  },
  "orig_nbformat": 4,
  "vscode": {
   "interpreter": {
    "hash": "11938c6bc6919ae2720b4d5011047913343b08a43b18698fd82dedb0d4417594"
   }
  }
 },
 "nbformat": 4,
 "nbformat_minor": 2
}
