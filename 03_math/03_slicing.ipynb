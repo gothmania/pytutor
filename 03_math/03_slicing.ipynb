{
 "cells": [
  {
   "cell_type": "markdown",
   "metadata": {},
   "source": [
    "# M03 Slicing\n",
    "\n",
    "## Mục đích\n",
    "\n",
    "Giới thiệu về slicing cho mảng trong NumPy.\n",
    "\n",
    "\n",
    "## Slicing bằng chỉ mục\n",
    "\n",
    "Việc slicing bằng chỉ mục cho mảng giống như cho danh sách. Tất cả các kĩ thuật slicing bằng chỉ mục bạn đã làm quen ở [B10](../01_basic//10_slicing.ipynb) đều áp dụng được cho mảng."
   ]
  },
  {
   "cell_type": "code",
   "execution_count": 1,
   "metadata": {},
   "outputs": [
    {
     "name": "stdout",
     "output_type": "stream",
     "text": [
      "[0 1 2 3 4 5 6 7 8 9]\n",
      "0\n",
      "[1 2 3]\n",
      "[6 7 8 9]\n",
      "[0 1 2 3 4]\n",
      "9\n",
      "[0 1 2 3 4 5]\n",
      "[4 5 6 7 8 9]\n",
      "[3 5 7]\n",
      "[9 6 3]\n"
     ]
    }
   ],
   "source": [
    "import numpy as np\n",
    "\n",
    "a = np.arange(10)\n",
    "print(a)\n",
    "\n",
    "print(a[0])\n",
    "print(a[1:4])\n",
    "print(a[6:])\n",
    "print(a[:5])\n",
    "\n",
    "print(a[-1])\n",
    "print(a[:-4])\n",
    "print(a[-6:])\n",
    "\n",
    "print(a[3:9:2])\n",
    "print(a[9:2:-3])"
   ]
  },
  {
   "cell_type": "markdown",
   "metadata": {},
   "source": [
    "## Slicing bằng điều kiện logic\n",
    "\n",
    "Bên cạnh các phép toán số học, bạn cũng có thể sử dụng toán tử logic cho mảng."
   ]
  },
  {
   "cell_type": "code",
   "execution_count": 2,
   "metadata": {},
   "outputs": [
    {
     "name": "stdout",
     "output_type": "stream",
     "text": [
      "[ True  True  True  True False False False False False False]\n"
     ]
    }
   ],
   "source": [
    "print(a < 4)"
   ]
  },
  {
   "cell_type": "markdown",
   "metadata": {},
   "source": [
    "Kết quả của phép toán logic trên mảng là một mảng của các giá trị `True` và `False`, trong đó các giá trị `True` thể hiện phần tử tương ứng trong mảng gốc thỏa mãn điều kiện của chúng ta. NumPy cho phép sử dụng mảng này để \"lọc\" các phần tử thỏa mãn một điều kiện nào đó."
   ]
  },
  {
   "cell_type": "code",
   "execution_count": 3,
   "metadata": {},
   "outputs": [
    {
     "name": "stdout",
     "output_type": "stream",
     "text": [
      "[0 1 2 3]\n"
     ]
    }
   ],
   "source": [
    "print(a[a < 4])"
   ]
  },
  {
   "cell_type": "markdown",
   "metadata": {},
   "source": [
    "Để thay đổi một số giá trị thỏa mãn điều kiện, chúng ta dùng hàm `np.where()`. Cú pháp của hàm này như sau:\n",
    "\n",
    "`where(<điều_kiện>, <giá_trị_nếu_đúng>, <giá_trị_nếu_sai>)`\n",
    "\n",
    "Ví dụ dưới đây đổi các số nhỏ hơn 4 thành số âm."
   ]
  },
  {
   "cell_type": "code",
   "execution_count": 4,
   "metadata": {},
   "outputs": [
    {
     "name": "stdout",
     "output_type": "stream",
     "text": [
      "[0 1 2 3 4 5 6 7 8 9]\n",
      "[ 0 -1 -2 -3  4  5  6  7  8  9]\n"
     ]
    }
   ],
   "source": [
    "b = np.where(a < 4, -a, a)\n",
    "print(a)\n",
    "print(b)"
   ]
  },
  {
   "cell_type": "markdown",
   "metadata": {},
   "source": [
    "### Một số hàm liên quan đến mảng điều kiện logic\n",
    "\n",
    "Bạn có thể kiểm tra xem \"có bất kì giá trị nào thỏa mãn điều kiện hay không\"."
   ]
  },
  {
   "cell_type": "code",
   "execution_count": 5,
   "metadata": {},
   "outputs": [
    {
     "data": {
      "text/plain": [
       "(True, False)"
      ]
     },
     "execution_count": 5,
     "metadata": {},
     "output_type": "execute_result"
    }
   ],
   "source": [
    "np.any(a < 4), np.any(a > 20)"
   ]
  },
  {
   "cell_type": "markdown",
   "metadata": {},
   "source": [
    "Và kiểm tra \"tất cả các giá trị có thỏa mãn điều kiện hay không\"."
   ]
  },
  {
   "cell_type": "code",
   "execution_count": 6,
   "metadata": {},
   "outputs": [
    {
     "data": {
      "text/plain": [
       "(True, False)"
      ]
     },
     "execution_count": 6,
     "metadata": {},
     "output_type": "execute_result"
    }
   ],
   "source": [
    "np.all(a < 20), np.all(a > 5)"
   ]
  },
  {
   "cell_type": "markdown",
   "metadata": {},
   "source": [
    "## Giá trị NA\n",
    "\n",
    "Trong quá trình xử lí số liệu, chúng ta sẽ gặp một loại giá trị gọi là \"NA\" (not available). Ví dụ, câu hỏi đúng/sai và đối tượng nghiên cứu không trả lời câu này (chúng ta không thể mặc định không trả lời nghĩa là đúng hay sai), hoặc một kết quả xét nghiệm nào đó của bệnh nhân không được tiến hành (chúng ta không thể mặc định nó bằng 0 hoặc một giá trị nào đó). NumPy ghi nhận trường hợp này trong một giá trị riêng là `np.nan` (not a number).\n",
    "\n",
    "Bạn có thể kiểm tra một giá trị có phải là NA hay không bằng hàm `np.isnan()`."
   ]
  },
  {
   "cell_type": "code",
   "execution_count": 7,
   "metadata": {},
   "outputs": [
    {
     "data": {
      "text/plain": [
       "array([False, False, False,  True, False, False, False])"
      ]
     },
     "execution_count": 7,
     "metadata": {},
     "output_type": "execute_result"
    }
   ],
   "source": [
    "c = np.array([1, 2, 3, np.nan, 5, 6, 7])\n",
    "np.isnan(c)"
   ]
  },
  {
   "cell_type": "markdown",
   "metadata": {},
   "source": [
    "Để kiểm tra điều kiện ngược lại (\"không phải là NA\"), chúng ta dùng thêm toán tử \"NOT\"."
   ]
  },
  {
   "cell_type": "code",
   "execution_count": 8,
   "metadata": {},
   "outputs": [
    {
     "data": {
      "text/plain": [
       "array([ True,  True,  True, False,  True,  True,  True])"
      ]
     },
     "execution_count": 8,
     "metadata": {},
     "output_type": "execute_result"
    }
   ],
   "source": [
    "~np.isnan(c)"
   ]
  },
  {
   "cell_type": "markdown",
   "metadata": {},
   "source": [
    "Các phép tính số học khi thực hiện với NA sẽ trả về NA."
   ]
  },
  {
   "cell_type": "code",
   "execution_count": 9,
   "metadata": {},
   "outputs": [
    {
     "name": "stdout",
     "output_type": "stream",
     "text": [
      "[ 2.  3.  4. nan  6.  7.  8.]\n",
      "[ 0.  0.  0. nan  0.  0.  0.]\n"
     ]
    }
   ],
   "source": [
    "print(c + 1)\n",
    "print(c * 0)"
   ]
  },
  {
   "cell_type": "markdown",
   "metadata": {},
   "source": [
    "Tuy nhiên, bạn phải rất cẩn thận với các phép tính logic."
   ]
  },
  {
   "cell_type": "code",
   "execution_count": 10,
   "metadata": {},
   "outputs": [
    {
     "data": {
      "text/plain": [
       "array([False, False,  True, False,  True,  True,  True])"
      ]
     },
     "execution_count": 10,
     "metadata": {},
     "output_type": "execute_result"
    }
   ],
   "source": [
    "c > 2"
   ]
  },
  {
   "cell_type": "markdown",
   "metadata": {},
   "source": [
    "Bởi vì nó có thể dẫn đến các thao tác sai lầm, đặc biệt sau này khi bạn xử lí số liệu trên data frame (ví dụ, recode các biến, tạo biến danh mục cho các nhóm từ giá trị liên tục, v.v.)."
   ]
  },
  {
   "cell_type": "code",
   "execution_count": 11,
   "metadata": {},
   "outputs": [
    {
     "name": "stdout",
     "output_type": "stream",
     "text": [
      "['c <= 2' 'c <= 2' 'c > 2' 'c <= 2' 'c > 2' 'c > 2' 'c > 2']\n"
     ]
    }
   ],
   "source": [
    "d = np.where(c > 2, \"c > 2\", \"c <= 2\")\n",
    "print(d)"
   ]
  },
  {
   "cell_type": "markdown",
   "metadata": {},
   "source": [
    "Trong trường hợp trên, bạn có thể làm tiếp như sau."
   ]
  },
  {
   "cell_type": "code",
   "execution_count": 12,
   "metadata": {},
   "outputs": [
    {
     "name": "stdout",
     "output_type": "stream",
     "text": [
      "['c <= 2' 'c <= 2' 'c > 2' '' 'c > 2' 'c > 2' 'c > 2']\n"
     ]
    }
   ],
   "source": [
    "d[np.isnan(c)] = \"\"\n",
    "# Hoặc: d = np.where(np.isnan(c), \"\", d)\n",
    "print(d)"
   ]
  },
  {
   "cell_type": "markdown",
   "metadata": {},
   "source": [
    "Với mảng có phần tử kiểu chuỗi kí tự, bạn không thể sử dụng giá trị NA (`np.nan`) được. Giá trị đó là kiểu `float` (đó là lí do vì sao bạn thấy tất cả các phần tử trong mảng `c` đều là kiểu `float` mặc dù lúc khai báo thì chúng ta sử dụng `int`)."
   ]
  },
  {
   "cell_type": "code",
   "execution_count": 13,
   "metadata": {},
   "outputs": [
    {
     "data": {
      "text/plain": [
       "dtype('float64')"
      ]
     },
     "execution_count": 13,
     "metadata": {},
     "output_type": "execute_result"
    }
   ],
   "source": [
    "c.dtype"
   ]
  },
  {
   "cell_type": "markdown",
   "metadata": {},
   "source": [
    "## Kết hợp nhiều điều kiện logic\n",
    "\n",
    "Bạn có thể kết hợp các điều kiện logic bằng toán tử `&` (AND) và `|` (OR). Chú ý dùng dấu ngoặc tròn `()` để bao các điều kiện. Chẳng hạn:"
   ]
  },
  {
   "cell_type": "code",
   "execution_count": 14,
   "metadata": {},
   "outputs": [
    {
     "name": "stdout",
     "output_type": "stream",
     "text": [
      "[3. 5.]\n",
      "[nan  6.  7.]\n"
     ]
    }
   ],
   "source": [
    "print(c[(c > 2) & (c < 6)])\n",
    "print(c[np.isnan(c) | (c > 5)])"
   ]
  },
  {
   "cell_type": "markdown",
   "metadata": {},
   "source": [
    "Kết hợp nhiều điều kiện rất phổ biến trong công việc xử lí số liệu. Chẳng hạn, bạn muốn thay các giá trị NA và giá trị rất lớn của bộ số liệu bằng trung bình của các giá trị còn lại."
   ]
  },
  {
   "cell_type": "code",
   "execution_count": 15,
   "metadata": {},
   "outputs": [
    {
     "name": "stdout",
     "output_type": "stream",
     "text": [
      "[  nan 1000.]\n",
      "[1.   2.   3.   4.   5.   6.   4.75 8.   9.   4.75]\n"
     ]
    }
   ],
   "source": [
    "data = np.array([1, 2, 3, 4, 5, 6, np.nan, 8, 9, 1000])\n",
    "mask = np.isnan(data) | (data > 10)\n",
    "print(data[mask])\n",
    "\n",
    "data[mask] = np.mean(data[~mask])\n",
    "# Hoặc: data = np.where(mask, np.mean(data[~mask]), data)\n",
    "print(data)"
   ]
  },
  {
   "cell_type": "markdown",
   "metadata": {},
   "source": [
    "## Slicing cho mảng nhiều chiều\n",
    "\n",
    "Bạn sẽ cần cung cấp nhiều chỉ mục hơn cho mảng nhiều chiều."
   ]
  },
  {
   "cell_type": "code",
   "execution_count": 16,
   "metadata": {},
   "outputs": [
    {
     "data": {
      "text/plain": [
       "array([54, 55, 56])"
      ]
     },
     "execution_count": 16,
     "metadata": {},
     "output_type": "execute_result"
    }
   ],
   "source": [
    "a = np.array([\n",
    "    [1, 2, 3],\n",
    "    [7, 8, 9],\n",
    "    [54, 55, 56],\n",
    "    [65, 66, 67]\n",
    "])\n",
    "\n",
    "a[1, 2]\n",
    "a[0:3, 2]\n",
    "a[2, :]"
   ]
  },
  {
   "cell_type": "markdown",
   "metadata": {},
   "source": [
    "Mảng điều kiện logic cũng hoạt động tương tự như mảng một chiều."
   ]
  },
  {
   "cell_type": "code",
   "execution_count": 17,
   "metadata": {},
   "outputs": [
    {
     "data": {
      "text/plain": [
       "array([[False, False, False],\n",
       "       [False, False, False],\n",
       "       [False, False,  True],\n",
       "       [ True,  True,  True]])"
      ]
     },
     "execution_count": 17,
     "metadata": {},
     "output_type": "execute_result"
    }
   ],
   "source": [
    "a > 55"
   ]
  },
  {
   "cell_type": "markdown",
   "metadata": {},
   "source": [
    "Nhưng kết quả của slicing sẽ phức tạp hơn một chút. Bạn sẽ nhận được mảng một chiều thay vì hai chiều cho slicing dưới đây."
   ]
  },
  {
   "cell_type": "code",
   "execution_count": 18,
   "metadata": {},
   "outputs": [
    {
     "data": {
      "text/plain": [
       "array([56, 65, 66, 67])"
      ]
     },
     "execution_count": 18,
     "metadata": {},
     "output_type": "execute_result"
    }
   ],
   "source": [
    "a[a > 55]"
   ]
  },
  {
   "cell_type": "markdown",
   "metadata": {},
   "source": [
    "Muốn slice một phần của ma trận bằng điều kiện, chúng ta phải áp dụng điều kiện cho từng chiều không gian."
   ]
  },
  {
   "cell_type": "code",
   "execution_count": 19,
   "metadata": {},
   "outputs": [
    {
     "data": {
      "text/plain": [
       "array([[ 7,  8,  9],\n",
       "       [54, 55, 56]])"
      ]
     },
     "execution_count": 19,
     "metadata": {},
     "output_type": "execute_result"
    }
   ],
   "source": [
    "a[[False, True, True, False], :]"
   ]
  },
  {
   "cell_type": "markdown",
   "metadata": {},
   "source": [
    "Một ví dụ cho điều kiện trên là dòng có bất kì số nào chia hết cho 9. Chúng ta vẫn dùng hàm `np.any()`, nhưng phải thiết lập thêm đối số `axis` để chỉ ra chiều không gian mà chúng ta sẽ tiến hành lệnh điều kiện. Ví dụ, `axis=1` nghĩa là chúng ta sẽ tiến hành điều kiện trên các giá trị ở chiều không gian thứ 1 (\"cột\") theo tất cả các chiều không gian còn lại; trong trường hợp của chúng ta là chiều không gian thứ 0 (\"hàng\")."
   ]
  },
  {
   "cell_type": "code",
   "execution_count": 20,
   "metadata": {},
   "outputs": [
    {
     "data": {
      "text/plain": [
       "array([False,  True,  True, False])"
      ]
     },
     "execution_count": 20,
     "metadata": {},
     "output_type": "execute_result"
    }
   ],
   "source": [
    "np.any(a % 9 == 0, axis=1)"
   ]
  },
  {
   "cell_type": "markdown",
   "metadata": {},
   "source": [
    "Bạn có thể lồng điều kiện này vào trong slicing."
   ]
  },
  {
   "cell_type": "code",
   "execution_count": 21,
   "metadata": {},
   "outputs": [
    {
     "data": {
      "text/plain": [
       "array([[ 7,  8,  9],\n",
       "       [54, 55, 56]])"
      ]
     },
     "execution_count": 21,
     "metadata": {},
     "output_type": "execute_result"
    }
   ],
   "source": [
    "a[np.any(a % 9 == 0, axis=1), :]"
   ]
  },
  {
   "cell_type": "markdown",
   "metadata": {},
   "source": [
    "NumPy có nhiều hàm khác cho phép thao tác trên các chiều không gian. Ví dụ hàm `np.amax()` để tìm giá trị lón nhất dọc theo một chiều không gian nào đó."
   ]
  },
  {
   "cell_type": "code",
   "execution_count": 22,
   "metadata": {},
   "outputs": [
    {
     "data": {
      "text/plain": [
       "array([ 3,  9, 56, 67])"
      ]
     },
     "execution_count": 22,
     "metadata": {},
     "output_type": "execute_result"
    }
   ],
   "source": [
    "np.amax(a, axis=1)"
   ]
  },
  {
   "cell_type": "markdown",
   "metadata": {},
   "source": [
    "Bạn có thể lựa chọn một hoặc nhiều chiều không gian."
   ]
  },
  {
   "cell_type": "code",
   "execution_count": 23,
   "metadata": {},
   "outputs": [
    {
     "name": "stdout",
     "output_type": "stream",
     "text": [
      "[[[0.87 0.07 0.72]\n",
      "  [0.76 0.21 0.86]\n",
      "  [0.8  0.3  0.22]]\n",
      "\n",
      " [[0.55 0.5  0.11]\n",
      "  [0.21 0.27 0.24]\n",
      "  [0.   0.49 0.17]]\n",
      "\n",
      " [[0.02 0.19 0.86]\n",
      "  [0.9  0.94 0.19]\n",
      "  [0.6  0.94 0.4 ]]]\n",
      "\n",
      "[[0.87 0.86 0.8 ]\n",
      " [0.55 0.27 0.49]\n",
      " [0.86 0.94 0.94]]\n",
      "\n",
      "[0.87 0.55 0.94]\n"
     ]
    }
   ],
   "source": [
    "a = np.round(np.random.rand(3, 3, 3), 2)\n",
    "print(a, end=\"\\n\\n\")\n",
    "\n",
    "print(np.amax(a, axis=2), end=\"\\n\\n\")\n",
    "print(np.amax(a, axis=(1, 2)))"
   ]
  },
  {
   "cell_type": "markdown",
   "metadata": {},
   "source": [
    "Chúng ta có thể tận dụng các hàm này để lập điều kiện. Chẳng hạn, lọc ra các cột có tổng của cột nhỏ hơn 10."
   ]
  },
  {
   "cell_type": "code",
   "execution_count": 24,
   "metadata": {},
   "outputs": [
    {
     "data": {
      "text/plain": [
       "array([[1, 2],\n",
       "       [2, 1],\n",
       "       [3, 4],\n",
       "       [0, 1]])"
      ]
     },
     "execution_count": 24,
     "metadata": {},
     "output_type": "execute_result"
    }
   ],
   "source": [
    "a = np.array([\n",
    "    [1, 2, 3, 4],\n",
    "    [2, 1, 2, 1],\n",
    "    [3, 4, 5, 6],\n",
    "    [0, 1, 1, 0]\n",
    "])\n",
    "\n",
    "a[:, np.sum(a, axis=0) < 10]"
   ]
  },
  {
   "cell_type": "markdown",
   "metadata": {},
   "source": [
    "Đối với mảng vuông (số cột bằng số hàng), rất cẩn thận khi lọc theo cột hoặc hàng, vì bạn có thể để mảng điều kiện vào nhầm chiều không gian."
   ]
  },
  {
   "cell_type": "code",
   "execution_count": 25,
   "metadata": {},
   "outputs": [
    {
     "data": {
      "text/plain": [
       "array([[1, 2, 3, 4],\n",
       "       [2, 1, 2, 1]])"
      ]
     },
     "execution_count": 25,
     "metadata": {},
     "output_type": "execute_result"
    }
   ],
   "source": [
    "a[np.sum(a, axis=0) < 10, :]"
   ]
  },
  {
   "cell_type": "markdown",
   "metadata": {},
   "source": [
    "---\n",
    "\n",
    "[Bài trước](./02_random.ipynb) - [Danh sách bài](../README.md) - [Bài sau]()"
   ]
  }
 ],
 "metadata": {
  "kernelspec": {
   "display_name": "Python 3.9.9 64-bit",
   "language": "python",
   "name": "python3"
  },
  "language_info": {
   "codemirror_mode": {
    "name": "ipython",
    "version": 3
   },
   "file_extension": ".py",
   "mimetype": "text/x-python",
   "name": "python",
   "nbconvert_exporter": "python",
   "pygments_lexer": "ipython3",
   "version": "3.9.9"
  },
  "orig_nbformat": 4,
  "vscode": {
   "interpreter": {
    "hash": "11938c6bc6919ae2720b4d5011047913343b08a43b18698fd82dedb0d4417594"
   }
  }
 },
 "nbformat": 4,
 "nbformat_minor": 2
}
