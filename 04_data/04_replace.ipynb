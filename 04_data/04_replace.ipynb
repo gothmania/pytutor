{
 "cells": [
  {
   "cell_type": "markdown",
   "metadata": {},
   "source": [
    "# D04 Thay thế dữ liệu: `replace()`, `map()`, `mask()`, và `where()`\n",
    "\n",
    "## Mục đích\n",
    "\n",
    "Trong bài này, chúng ta sẽ tìm hiểu những cách thức khác nhau để thay thế dữ liệu trong data frame. Chúng ta sẽ chỉ tiếp cận với các kĩ thuật thay thế dữ liệu cơ bản, các kĩ thuật nâng cao và mở rộng khác bạn có thể xem trong [API Reference](https://pandas.pydata.org/docs/reference/index.html) trên trang của Pandas.\n",
    "\n",
    "\n",
    "## `replace()`\n",
    "\n",
    "Cách thức thay thế dữ liệu mà mình thường sử dụng nhất là sử dụng từ điển, và theo hai cách sau.\n",
    "\n",
    "### Thay thế giá trị bởi giá trị\n",
    "\n",
    "Bạn có thể thay thế một hoặc nhiều cột có cùng cách mã hóa số liệu. Chẳng hạn trong bộ số liệu HRM, chúng ta có hai cột xét nghiệm *H. pylori* đều mã hóa 0=Âm tính và 1=Dương tính."
   ]
  },
  {
   "cell_type": "code",
   "execution_count": 48,
   "metadata": {},
   "outputs": [
    {
     "data": {
      "text/html": [
       "<div>\n",
       "<style scoped>\n",
       "    .dataframe tbody tr th:only-of-type {\n",
       "        vertical-align: middle;\n",
       "    }\n",
       "\n",
       "    .dataframe tbody tr th {\n",
       "        vertical-align: top;\n",
       "    }\n",
       "\n",
       "    .dataframe thead th {\n",
       "        text-align: right;\n",
       "    }\n",
       "</style>\n",
       "<table border=\"1\" class=\"dataframe\">\n",
       "  <thead>\n",
       "    <tr style=\"text-align: right;\">\n",
       "      <th></th>\n",
       "      <th>hp_endo</th>\n",
       "      <th>hp_breath</th>\n",
       "    </tr>\n",
       "    <tr>\n",
       "      <th>id</th>\n",
       "      <th></th>\n",
       "      <th></th>\n",
       "    </tr>\n",
       "  </thead>\n",
       "  <tbody>\n",
       "    <tr>\n",
       "      <th>223</th>\n",
       "      <td>0.0</td>\n",
       "      <td>NaN</td>\n",
       "    </tr>\n",
       "    <tr>\n",
       "      <th>236</th>\n",
       "      <td>0.0</td>\n",
       "      <td>NaN</td>\n",
       "    </tr>\n",
       "    <tr>\n",
       "      <th>256</th>\n",
       "      <td>0.0</td>\n",
       "      <td>1.0</td>\n",
       "    </tr>\n",
       "    <tr>\n",
       "      <th>296</th>\n",
       "      <td>1.0</td>\n",
       "      <td>99.0</td>\n",
       "    </tr>\n",
       "    <tr>\n",
       "      <th>310</th>\n",
       "      <td>0.0</td>\n",
       "      <td>NaN</td>\n",
       "    </tr>\n",
       "    <tr>\n",
       "      <th>312</th>\n",
       "      <td>NaN</td>\n",
       "      <td>NaN</td>\n",
       "    </tr>\n",
       "    <tr>\n",
       "      <th>326</th>\n",
       "      <td>0.0</td>\n",
       "      <td>1.0</td>\n",
       "    </tr>\n",
       "    <tr>\n",
       "      <th>339</th>\n",
       "      <td>1.0</td>\n",
       "      <td>99.0</td>\n",
       "    </tr>\n",
       "    <tr>\n",
       "      <th>342</th>\n",
       "      <td>NaN</td>\n",
       "      <td>NaN</td>\n",
       "    </tr>\n",
       "    <tr>\n",
       "      <th>347</th>\n",
       "      <td>NaN</td>\n",
       "      <td>NaN</td>\n",
       "    </tr>\n",
       "  </tbody>\n",
       "</table>\n",
       "</div>"
      ],
      "text/plain": [
       "     hp_endo  hp_breath\n",
       "id                     \n",
       "223      0.0        NaN\n",
       "236      0.0        NaN\n",
       "256      0.0        1.0\n",
       "296      1.0       99.0\n",
       "310      0.0        NaN\n",
       "312      NaN        NaN\n",
       "326      0.0        1.0\n",
       "339      1.0       99.0\n",
       "342      NaN        NaN\n",
       "347      NaN        NaN"
      ]
     },
     "execution_count": 48,
     "metadata": {},
     "output_type": "execute_result"
    }
   ],
   "source": [
    "import pandas as pd\n",
    "d = pd.read_excel(\"hrm.xlsx\", index_col=\"id\")\n",
    "d.filter(like=\"hp\").head(10)"
   ]
  },
  {
   "cell_type": "markdown",
   "metadata": {},
   "source": [
    "Chúng ta có thể thay thế các giá trị 0 và 1 này bằng `\"Âm tính\"` và `\"Dương tính\"` để tiện cho việc xuất báo cáo."
   ]
  },
  {
   "cell_type": "code",
   "execution_count": 49,
   "metadata": {},
   "outputs": [
    {
     "data": {
      "text/html": [
       "<div>\n",
       "<style scoped>\n",
       "    .dataframe tbody tr th:only-of-type {\n",
       "        vertical-align: middle;\n",
       "    }\n",
       "\n",
       "    .dataframe tbody tr th {\n",
       "        vertical-align: top;\n",
       "    }\n",
       "\n",
       "    .dataframe thead th {\n",
       "        text-align: right;\n",
       "    }\n",
       "</style>\n",
       "<table border=\"1\" class=\"dataframe\">\n",
       "  <thead>\n",
       "    <tr style=\"text-align: right;\">\n",
       "      <th></th>\n",
       "      <th>hp_endo</th>\n",
       "      <th>hp_breath</th>\n",
       "    </tr>\n",
       "    <tr>\n",
       "      <th>id</th>\n",
       "      <th></th>\n",
       "      <th></th>\n",
       "    </tr>\n",
       "  </thead>\n",
       "  <tbody>\n",
       "    <tr>\n",
       "      <th>223</th>\n",
       "      <td>Âm tính</td>\n",
       "      <td>NaN</td>\n",
       "    </tr>\n",
       "    <tr>\n",
       "      <th>236</th>\n",
       "      <td>Âm tính</td>\n",
       "      <td>NaN</td>\n",
       "    </tr>\n",
       "    <tr>\n",
       "      <th>256</th>\n",
       "      <td>Âm tính</td>\n",
       "      <td>Dương tính</td>\n",
       "    </tr>\n",
       "    <tr>\n",
       "      <th>296</th>\n",
       "      <td>Dương tính</td>\n",
       "      <td>99.0</td>\n",
       "    </tr>\n",
       "    <tr>\n",
       "      <th>310</th>\n",
       "      <td>Âm tính</td>\n",
       "      <td>NaN</td>\n",
       "    </tr>\n",
       "    <tr>\n",
       "      <th>...</th>\n",
       "      <td>...</td>\n",
       "      <td>...</td>\n",
       "    </tr>\n",
       "    <tr>\n",
       "      <th>4200</th>\n",
       "      <td>NaN</td>\n",
       "      <td>NaN</td>\n",
       "    </tr>\n",
       "    <tr>\n",
       "      <th>4214</th>\n",
       "      <td>Dương tính</td>\n",
       "      <td>Dương tính</td>\n",
       "    </tr>\n",
       "    <tr>\n",
       "      <th>4216</th>\n",
       "      <td>Âm tính</td>\n",
       "      <td>NaN</td>\n",
       "    </tr>\n",
       "    <tr>\n",
       "      <th>4220</th>\n",
       "      <td>Âm tính</td>\n",
       "      <td>Dương tính</td>\n",
       "    </tr>\n",
       "    <tr>\n",
       "      <th>4240</th>\n",
       "      <td>Dương tính</td>\n",
       "      <td>Âm tính</td>\n",
       "    </tr>\n",
       "  </tbody>\n",
       "</table>\n",
       "<p>330 rows × 2 columns</p>\n",
       "</div>"
      ],
      "text/plain": [
       "         hp_endo   hp_breath\n",
       "id                          \n",
       "223      Âm tính         NaN\n",
       "236      Âm tính         NaN\n",
       "256      Âm tính  Dương tính\n",
       "296   Dương tính        99.0\n",
       "310      Âm tính         NaN\n",
       "...          ...         ...\n",
       "4200         NaN         NaN\n",
       "4214  Dương tính  Dương tính\n",
       "4216     Âm tính         NaN\n",
       "4220     Âm tính  Dương tính\n",
       "4240  Dương tính     Âm tính\n",
       "\n",
       "[330 rows x 2 columns]"
      ]
     },
     "execution_count": 49,
     "metadata": {},
     "output_type": "execute_result"
    }
   ],
   "source": [
    "d.filter(like=\"hp\").replace({0: \"Âm tính\", 1: \"Dương tính\"})"
   ]
  },
  {
   "cell_type": "markdown",
   "metadata": {},
   "source": [
    "Chú ý rằng lệnh trên không lưu nội dung thay đổi lại vào bộ nhớ. Nếu muốn thay đổi lại nội dung, bạn cần sử dụng lệnh gán như chúng ta đã học trong bài [D03](./03_slicing.ipynb)."
   ]
  },
  {
   "cell_type": "code",
   "execution_count": 50,
   "metadata": {},
   "outputs": [
    {
     "data": {
      "text/html": [
       "<div>\n",
       "<style scoped>\n",
       "    .dataframe tbody tr th:only-of-type {\n",
       "        vertical-align: middle;\n",
       "    }\n",
       "\n",
       "    .dataframe tbody tr th {\n",
       "        vertical-align: top;\n",
       "    }\n",
       "\n",
       "    .dataframe thead th {\n",
       "        text-align: right;\n",
       "    }\n",
       "</style>\n",
       "<table border=\"1\" class=\"dataframe\">\n",
       "  <thead>\n",
       "    <tr style=\"text-align: right;\">\n",
       "      <th></th>\n",
       "      <th>hp_endo</th>\n",
       "      <th>hp_breath</th>\n",
       "    </tr>\n",
       "    <tr>\n",
       "      <th>id</th>\n",
       "      <th></th>\n",
       "      <th></th>\n",
       "    </tr>\n",
       "  </thead>\n",
       "  <tbody>\n",
       "    <tr>\n",
       "      <th>223</th>\n",
       "      <td>Âm tính</td>\n",
       "      <td>NaN</td>\n",
       "    </tr>\n",
       "    <tr>\n",
       "      <th>236</th>\n",
       "      <td>Âm tính</td>\n",
       "      <td>NaN</td>\n",
       "    </tr>\n",
       "    <tr>\n",
       "      <th>256</th>\n",
       "      <td>Âm tính</td>\n",
       "      <td>Dương tính</td>\n",
       "    </tr>\n",
       "    <tr>\n",
       "      <th>296</th>\n",
       "      <td>Dương tính</td>\n",
       "      <td>99.0</td>\n",
       "    </tr>\n",
       "    <tr>\n",
       "      <th>310</th>\n",
       "      <td>Âm tính</td>\n",
       "      <td>NaN</td>\n",
       "    </tr>\n",
       "    <tr>\n",
       "      <th>...</th>\n",
       "      <td>...</td>\n",
       "      <td>...</td>\n",
       "    </tr>\n",
       "    <tr>\n",
       "      <th>4200</th>\n",
       "      <td>NaN</td>\n",
       "      <td>NaN</td>\n",
       "    </tr>\n",
       "    <tr>\n",
       "      <th>4214</th>\n",
       "      <td>Dương tính</td>\n",
       "      <td>Dương tính</td>\n",
       "    </tr>\n",
       "    <tr>\n",
       "      <th>4216</th>\n",
       "      <td>Âm tính</td>\n",
       "      <td>NaN</td>\n",
       "    </tr>\n",
       "    <tr>\n",
       "      <th>4220</th>\n",
       "      <td>Âm tính</td>\n",
       "      <td>Dương tính</td>\n",
       "    </tr>\n",
       "    <tr>\n",
       "      <th>4240</th>\n",
       "      <td>Dương tính</td>\n",
       "      <td>Âm tính</td>\n",
       "    </tr>\n",
       "  </tbody>\n",
       "</table>\n",
       "<p>330 rows × 2 columns</p>\n",
       "</div>"
      ],
      "text/plain": [
       "         hp_endo   hp_breath\n",
       "id                          \n",
       "223      Âm tính         NaN\n",
       "236      Âm tính         NaN\n",
       "256      Âm tính  Dương tính\n",
       "296   Dương tính        99.0\n",
       "310      Âm tính         NaN\n",
       "...          ...         ...\n",
       "4200         NaN         NaN\n",
       "4214  Dương tính  Dương tính\n",
       "4216     Âm tính         NaN\n",
       "4220     Âm tính  Dương tính\n",
       "4240  Dương tính     Âm tính\n",
       "\n",
       "[330 rows x 2 columns]"
      ]
     },
     "execution_count": 50,
     "metadata": {},
     "output_type": "execute_result"
    }
   ],
   "source": [
    "# Dùng lệnh này để lấy danh sách tên cột\n",
    "cols_hp = list(d.filter(like=\"hp\").columns)\n",
    "\n",
    "# Thay thế dữ liệu và gán lại vào cột cũ\n",
    "d.loc[:, cols_hp] = d[cols_hp].replace({0: \"Âm tính\", 1: \"Dương tính\"})\n",
    "\n",
    "d[cols_hp]"
   ]
  },
  {
   "cell_type": "markdown",
   "metadata": {},
   "source": [
    "Mình có một thói quen tạo từ điển để thay thế như sau. Nếu bạn chưa quen với `zip()` thì quay lại bài [I01](../02_inter/01_zipenum.ipynb) để ôn lại nhé."
   ]
  },
  {
   "cell_type": "code",
   "execution_count": 51,
   "metadata": {},
   "outputs": [
    {
     "data": {
      "text/plain": [
       "{0: 'Âm tính', 1: 'Dương tính'}"
      ]
     },
     "execution_count": 51,
     "metadata": {},
     "output_type": "execute_result"
    }
   ],
   "source": [
    "negpos_codes = [0, 1]\n",
    "negpos_values = [\"Âm tính\", \"Dương tính\"]\n",
    "dict(zip(negpos_codes, negpos_values))"
   ]
  },
  {
   "cell_type": "markdown",
   "metadata": {},
   "source": [
    "### Thay thế cho một cột cụ thể\n",
    "\n",
    "Đôi khi bạn muốn thay thế cụ thể cho một cột nào đó (để không ảnh hưởng đến giá trị của những cột khác). Trong trường hợp này, chúng ta sẽ dùng một từ điển lồng (nested dictionary) như sau:\n",
    "\n",
    "```python\n",
    "{\n",
    "    \"tên_cột_1\": {\n",
    "        code_1: value_1,\n",
    "        code_2: value_2,\n",
    "        ...\n",
    "    },\n",
    "    \"tên_cột_2\": {...}\n",
    "}\n",
    "```\n",
    "\n",
    "Chẳng hạn, nếu muốn thay đổi nội dung của cột giới tính và hai cột xét nghiệm *H. pylori*, mình sẽ tạo một từ điển như sau."
   ]
  },
  {
   "cell_type": "code",
   "execution_count": 52,
   "metadata": {},
   "outputs": [
    {
     "data": {
      "text/plain": [
       "{'sex': {0: 'Nữ', 1: 'Nam'},\n",
       " 'hp_endo': {0: 'Âm tính', 1: 'Dương tính'},\n",
       " 'hp_breath': {0: 'Âm tính', 1: 'Dương tính'}}"
      ]
     },
     "execution_count": 52,
     "metadata": {},
     "output_type": "execute_result"
    }
   ],
   "source": [
    "sex_codes = [0, 1]\n",
    "sex_values = [\"Nữ\", \"Nam\"]\n",
    "sex_dict = dict(zip(sex_codes, sex_values))\n",
    "\n",
    "negpos_codes = [0, 1]\n",
    "negpos_values = [\"Âm tính\", \"Dương tính\"]\n",
    "negpos_dict = dict(zip(negpos_codes, negpos_values))\n",
    "\n",
    "values_dict = {\n",
    "    \"sex\": sex_dict,\n",
    "    \"hp_endo\": negpos_dict,\n",
    "    \"hp_breath\": negpos_dict\n",
    "}\n",
    "\n",
    "values_dict"
   ]
  },
  {
   "cell_type": "markdown",
   "metadata": {},
   "source": [
    "Và sử dụng hàm `replace()` như sau."
   ]
  },
  {
   "cell_type": "code",
   "execution_count": 53,
   "metadata": {},
   "outputs": [
    {
     "data": {
      "text/html": [
       "<div>\n",
       "<style scoped>\n",
       "    .dataframe tbody tr th:only-of-type {\n",
       "        vertical-align: middle;\n",
       "    }\n",
       "\n",
       "    .dataframe tbody tr th {\n",
       "        vertical-align: top;\n",
       "    }\n",
       "\n",
       "    .dataframe thead th {\n",
       "        text-align: right;\n",
       "    }\n",
       "</style>\n",
       "<table border=\"1\" class=\"dataframe\">\n",
       "  <thead>\n",
       "    <tr style=\"text-align: right;\">\n",
       "      <th></th>\n",
       "      <th>sex</th>\n",
       "      <th>hp_endo</th>\n",
       "      <th>hp_breath</th>\n",
       "    </tr>\n",
       "    <tr>\n",
       "      <th>id</th>\n",
       "      <th></th>\n",
       "      <th></th>\n",
       "      <th></th>\n",
       "    </tr>\n",
       "  </thead>\n",
       "  <tbody>\n",
       "    <tr>\n",
       "      <th>223</th>\n",
       "      <td>1</td>\n",
       "      <td>0.0</td>\n",
       "      <td>NaN</td>\n",
       "    </tr>\n",
       "    <tr>\n",
       "      <th>236</th>\n",
       "      <td>1</td>\n",
       "      <td>0.0</td>\n",
       "      <td>NaN</td>\n",
       "    </tr>\n",
       "    <tr>\n",
       "      <th>256</th>\n",
       "      <td>1</td>\n",
       "      <td>0.0</td>\n",
       "      <td>1.0</td>\n",
       "    </tr>\n",
       "    <tr>\n",
       "      <th>296</th>\n",
       "      <td>1</td>\n",
       "      <td>1.0</td>\n",
       "      <td>99.0</td>\n",
       "    </tr>\n",
       "    <tr>\n",
       "      <th>310</th>\n",
       "      <td>0</td>\n",
       "      <td>0.0</td>\n",
       "      <td>NaN</td>\n",
       "    </tr>\n",
       "  </tbody>\n",
       "</table>\n",
       "</div>"
      ],
      "text/plain": [
       "     sex  hp_endo  hp_breath\n",
       "id                          \n",
       "223    1      0.0        NaN\n",
       "236    1      0.0        NaN\n",
       "256    1      0.0        1.0\n",
       "296    1      1.0       99.0\n",
       "310    0      0.0        NaN"
      ]
     },
     "execution_count": 53,
     "metadata": {},
     "output_type": "execute_result"
    }
   ],
   "source": [
    "d = pd.read_excel(\"hrm.xlsx\", index_col=\"id\")\n",
    "d[values_dict.keys()].head(5)"
   ]
  },
  {
   "cell_type": "code",
   "execution_count": 54,
   "metadata": {},
   "outputs": [
    {
     "data": {
      "text/html": [
       "<div>\n",
       "<style scoped>\n",
       "    .dataframe tbody tr th:only-of-type {\n",
       "        vertical-align: middle;\n",
       "    }\n",
       "\n",
       "    .dataframe tbody tr th {\n",
       "        vertical-align: top;\n",
       "    }\n",
       "\n",
       "    .dataframe thead th {\n",
       "        text-align: right;\n",
       "    }\n",
       "</style>\n",
       "<table border=\"1\" class=\"dataframe\">\n",
       "  <thead>\n",
       "    <tr style=\"text-align: right;\">\n",
       "      <th></th>\n",
       "      <th>sex</th>\n",
       "      <th>hp_endo</th>\n",
       "      <th>hp_breath</th>\n",
       "    </tr>\n",
       "    <tr>\n",
       "      <th>id</th>\n",
       "      <th></th>\n",
       "      <th></th>\n",
       "      <th></th>\n",
       "    </tr>\n",
       "  </thead>\n",
       "  <tbody>\n",
       "    <tr>\n",
       "      <th>223</th>\n",
       "      <td>Nam</td>\n",
       "      <td>Âm tính</td>\n",
       "      <td>NaN</td>\n",
       "    </tr>\n",
       "    <tr>\n",
       "      <th>236</th>\n",
       "      <td>Nam</td>\n",
       "      <td>Âm tính</td>\n",
       "      <td>NaN</td>\n",
       "    </tr>\n",
       "    <tr>\n",
       "      <th>256</th>\n",
       "      <td>Nam</td>\n",
       "      <td>Âm tính</td>\n",
       "      <td>Dương tính</td>\n",
       "    </tr>\n",
       "    <tr>\n",
       "      <th>296</th>\n",
       "      <td>Nam</td>\n",
       "      <td>Dương tính</td>\n",
       "      <td>99.0</td>\n",
       "    </tr>\n",
       "    <tr>\n",
       "      <th>310</th>\n",
       "      <td>Nữ</td>\n",
       "      <td>Âm tính</td>\n",
       "      <td>NaN</td>\n",
       "    </tr>\n",
       "  </tbody>\n",
       "</table>\n",
       "</div>"
      ],
      "text/plain": [
       "     sex     hp_endo   hp_breath\n",
       "id                              \n",
       "223  Nam     Âm tính         NaN\n",
       "236  Nam     Âm tính         NaN\n",
       "256  Nam     Âm tính  Dương tính\n",
       "296  Nam  Dương tính        99.0\n",
       "310   Nữ     Âm tính         NaN"
      ]
     },
     "execution_count": 54,
     "metadata": {},
     "output_type": "execute_result"
    }
   ],
   "source": [
    "d.replace(values_dict)[values_dict.keys()].head(5)"
   ]
  },
  {
   "cell_type": "markdown",
   "metadata": {},
   "source": [
    "## `map()`\n",
    "\n",
    "Tính năng của `map()` rất giống với `replace()` ngoại trừ hai điểm: nó chỉ hoạt động trên series, và những giá trị không có chìa khóa của từ điển sẽ tự động được chuyển về NA.\n",
    "\n",
    "Trong bộ số liệu của chúng ta, bạn có thể thấy bản ghi số 296 có `hp_breath` là `99`, và `replace()` đã giữ nguyên giá trị này. Kết quả sẽ khác nếu bạn dùng `map()`."
   ]
  },
  {
   "cell_type": "code",
   "execution_count": 55,
   "metadata": {},
   "outputs": [
    {
     "data": {
      "text/plain": [
       "id\n",
       "223           NaN\n",
       "236           NaN\n",
       "256    Dương tính\n",
       "296           NaN\n",
       "310           NaN\n",
       "Name: hp_breath, dtype: object"
      ]
     },
     "execution_count": 55,
     "metadata": {},
     "output_type": "execute_result"
    }
   ],
   "source": [
    "d[\"hp_breath\"].map(negpos_dict).iloc[:5]"
   ]
  },
  {
   "cell_type": "markdown",
   "metadata": {},
   "source": [
    "## `mask()` và `where()`\n",
    "\n",
    "Trong nhiều trường hợp bạn sẽ cần thay đổi một số giá trị nếu chúng thỏa mãn điều kiện nào đó, các giá trị không thỏa mãn sẽ được giữ nguyên. Đó là lúc bạn cần đến hàm `mask()`.\n",
    "\n",
    "Trong ví dụ dưới đây, chúng ta sẽ tạo ra biến `hp_result` là tổng hợp của hai xét nghiệm `hp_endo` và `hp_breath`. Chúng ta sẽ thực hiện việc thay thế như sau:\n",
    "\n",
    "* Nếu xét nghiệm *H. pylori* trong nội soi không có (NA) thì thay bằng kết quả xét nghiệm trong hơi thở.\n",
    "* Nếu xét nghiệm *H. pylori* trong hơi thở là dương tính (=1) thì cho dù kết quả xét nghiệm trong nội soi như thế nào cũng sẽ thay bằng 1."
   ]
  },
  {
   "cell_type": "code",
   "execution_count": 56,
   "metadata": {},
   "outputs": [
    {
     "data": {
      "text/html": [
       "<div>\n",
       "<style scoped>\n",
       "    .dataframe tbody tr th:only-of-type {\n",
       "        vertical-align: middle;\n",
       "    }\n",
       "\n",
       "    .dataframe tbody tr th {\n",
       "        vertical-align: top;\n",
       "    }\n",
       "\n",
       "    .dataframe thead th {\n",
       "        text-align: right;\n",
       "    }\n",
       "</style>\n",
       "<table border=\"1\" class=\"dataframe\">\n",
       "  <thead>\n",
       "    <tr style=\"text-align: right;\">\n",
       "      <th></th>\n",
       "      <th>hp_endo</th>\n",
       "      <th>hp_breath</th>\n",
       "      <th>hp_result</th>\n",
       "    </tr>\n",
       "    <tr>\n",
       "      <th>id</th>\n",
       "      <th></th>\n",
       "      <th></th>\n",
       "      <th></th>\n",
       "    </tr>\n",
       "  </thead>\n",
       "  <tbody>\n",
       "    <tr>\n",
       "      <th>223</th>\n",
       "      <td>0.0</td>\n",
       "      <td>NaN</td>\n",
       "      <td>0.0</td>\n",
       "    </tr>\n",
       "    <tr>\n",
       "      <th>236</th>\n",
       "      <td>0.0</td>\n",
       "      <td>NaN</td>\n",
       "      <td>0.0</td>\n",
       "    </tr>\n",
       "    <tr>\n",
       "      <th>256</th>\n",
       "      <td>0.0</td>\n",
       "      <td>1.0</td>\n",
       "      <td>1.0</td>\n",
       "    </tr>\n",
       "    <tr>\n",
       "      <th>296</th>\n",
       "      <td>1.0</td>\n",
       "      <td>99.0</td>\n",
       "      <td>1.0</td>\n",
       "    </tr>\n",
       "    <tr>\n",
       "      <th>310</th>\n",
       "      <td>0.0</td>\n",
       "      <td>NaN</td>\n",
       "      <td>0.0</td>\n",
       "    </tr>\n",
       "    <tr>\n",
       "      <th>312</th>\n",
       "      <td>NaN</td>\n",
       "      <td>NaN</td>\n",
       "      <td>NaN</td>\n",
       "    </tr>\n",
       "    <tr>\n",
       "      <th>326</th>\n",
       "      <td>0.0</td>\n",
       "      <td>1.0</td>\n",
       "      <td>1.0</td>\n",
       "    </tr>\n",
       "    <tr>\n",
       "      <th>339</th>\n",
       "      <td>1.0</td>\n",
       "      <td>99.0</td>\n",
       "      <td>1.0</td>\n",
       "    </tr>\n",
       "    <tr>\n",
       "      <th>342</th>\n",
       "      <td>NaN</td>\n",
       "      <td>NaN</td>\n",
       "      <td>NaN</td>\n",
       "    </tr>\n",
       "    <tr>\n",
       "      <th>347</th>\n",
       "      <td>NaN</td>\n",
       "      <td>NaN</td>\n",
       "      <td>NaN</td>\n",
       "    </tr>\n",
       "  </tbody>\n",
       "</table>\n",
       "</div>"
      ],
      "text/plain": [
       "     hp_endo  hp_breath  hp_result\n",
       "id                                \n",
       "223      0.0        NaN        0.0\n",
       "236      0.0        NaN        0.0\n",
       "256      0.0        1.0        1.0\n",
       "296      1.0       99.0        1.0\n",
       "310      0.0        NaN        0.0\n",
       "312      NaN        NaN        NaN\n",
       "326      0.0        1.0        1.0\n",
       "339      1.0       99.0        1.0\n",
       "342      NaN        NaN        NaN\n",
       "347      NaN        NaN        NaN"
      ]
     },
     "execution_count": 56,
     "metadata": {},
     "output_type": "execute_result"
    }
   ],
   "source": [
    "d[\"hp_result\"] = d[\"hp_endo\"].mask(d[\"hp_endo\"].isna(), d[\"hp_breath\"]).mask(d[\"hp_breath\"].eq(1), d[\"hp_breath\"])\n",
    "d.filter(like=\"hp\").head(10)"
   ]
  },
  {
   "cell_type": "markdown",
   "metadata": {},
   "source": [
    "Cú pháp của hàm `mask()` như sau: `mask(cond=<điều_kiện>, other=<giá_trị_thay_thế_nếu_ĐÚNG>)`.\n",
    "\n",
    "Ngược lại, nếu bạn muốn thay thế khi điều kiện không thỏa mãn (sai), bạn sẽ dùng hàm `where()`: `where(cond=<điều_kiện>, other=<giá_trị_thay_thế_nếu_SAI>)`. Nếu bạn không thiết lập đối số `other` cho các hàm này, Pandas sẽ mặc định thay thế bằng giá trị NA (`np.nan`).\n",
    "\n",
    "Chẳng hạn bạn có thể loại bỏ các giá trị không phải là 0 và 1 bằng cách sau (sẽ loại bỏ các giá trị như 99)."
   ]
  },
  {
   "cell_type": "code",
   "execution_count": 57,
   "metadata": {},
   "outputs": [
    {
     "data": {
      "text/plain": [
       "id\n",
       "223    NaN\n",
       "236    NaN\n",
       "256    1.0\n",
       "296    NaN\n",
       "310    NaN\n",
       "Name: hp_breath, dtype: float64"
      ]
     },
     "execution_count": 57,
     "metadata": {},
     "output_type": "execute_result"
    }
   ],
   "source": [
    "d[\"hp_breath\"].where(d[\"hp_breath\"].isin([0, 1])).iloc[:5]"
   ]
  },
  {
   "cell_type": "markdown",
   "metadata": {},
   "source": [
    "## Luyện tập\n",
    "\n",
    "Bạn sẽ thấy cột `eso_LA`"
   ]
  },
  {
   "cell_type": "code",
   "execution_count": 58,
   "metadata": {},
   "outputs": [
    {
     "data": {
      "text/plain": [
       "id\n",
       "223     2.0\n",
       "236     1.0\n",
       "256     3.0\n",
       "296     1.0\n",
       "310     0.0\n",
       "       ... \n",
       "4200    NaN\n",
       "4214    0.0\n",
       "4216    0.0\n",
       "4220    0.0\n",
       "4240    0.0\n",
       "Name: eso_LA, Length: 330, dtype: float64"
      ]
     },
     "execution_count": 58,
     "metadata": {},
     "output_type": "execute_result"
    }
   ],
   "source": [
    "d[\"eso_LA\"]"
   ]
  },
  {
   "cell_type": "markdown",
   "metadata": {},
   "source": [
    "có một vài giá trị như sau:"
   ]
  },
  {
   "cell_type": "code",
   "execution_count": 59,
   "metadata": {},
   "outputs": [
    {
     "data": {
      "text/plain": [
       "array([ 2.,  1.,  3.,  0., nan])"
      ]
     },
     "execution_count": 59,
     "metadata": {},
     "output_type": "execute_result"
    }
   ],
   "source": [
    "d[\"eso_LA\"].unique()"
   ]
  },
  {
   "cell_type": "markdown",
   "metadata": {},
   "source": [
    "**Nhiệm vụ 1**: Tạo biến mới tên là `eso_vtq` có giá trị 0 nếu `eso_LA` bằng 0 và 1 với các giá trị còn lại khác NA. Hãy tự suy nghĩ trước khi xem giải thích dưới đây.\n",
    "\n",
    "Tư duy: Với các biến nhị phân được tạo ra từ biến danh mục có nhiều nhóm, chúng ta có thể sử dụng một điều kiện logic và chuyển giá trị `True`/`False` về 1/0 bằng hàm `astype(int)`."
   ]
  },
  {
   "cell_type": "code",
   "execution_count": 60,
   "metadata": {},
   "outputs": [
    {
     "data": {
      "text/plain": [
       "id\n",
       "223     1\n",
       "236     1\n",
       "256     1\n",
       "296     1\n",
       "310     0\n",
       "       ..\n",
       "4200    0\n",
       "4214    0\n",
       "4216    0\n",
       "4220    0\n",
       "4240    0\n",
       "Name: eso_LA, Length: 330, dtype: int32"
      ]
     },
     "execution_count": 60,
     "metadata": {},
     "output_type": "execute_result"
    }
   ],
   "source": [
    "d[\"eso_LA\"].gt(0).astype(int)"
   ]
  },
  {
   "cell_type": "markdown",
   "metadata": {},
   "source": [
    "Tuy nhiên bạn sẽ thấy bản ghi 4200 ban đầu có giá trị NA, nhưng sau khi thay thế dữ liệu lại có giá trị là 0. Lí do là vì theo quy định của NumPy, so sánh `np.nan` với điều kiện `> 0` cho kết quả `False`. Chúng ta cần loại bỏ các giá trị này bằng `mask()`."
   ]
  },
  {
   "cell_type": "code",
   "execution_count": 61,
   "metadata": {},
   "outputs": [
    {
     "data": {
      "text/html": [
       "<div>\n",
       "<style scoped>\n",
       "    .dataframe tbody tr th:only-of-type {\n",
       "        vertical-align: middle;\n",
       "    }\n",
       "\n",
       "    .dataframe tbody tr th {\n",
       "        vertical-align: top;\n",
       "    }\n",
       "\n",
       "    .dataframe thead th {\n",
       "        text-align: right;\n",
       "    }\n",
       "</style>\n",
       "<table border=\"1\" class=\"dataframe\">\n",
       "  <thead>\n",
       "    <tr style=\"text-align: right;\">\n",
       "      <th></th>\n",
       "      <th>eso_LA</th>\n",
       "      <th>eso_vtq</th>\n",
       "    </tr>\n",
       "    <tr>\n",
       "      <th>id</th>\n",
       "      <th></th>\n",
       "      <th></th>\n",
       "    </tr>\n",
       "  </thead>\n",
       "  <tbody>\n",
       "    <tr>\n",
       "      <th>223</th>\n",
       "      <td>2.0</td>\n",
       "      <td>1.0</td>\n",
       "    </tr>\n",
       "    <tr>\n",
       "      <th>236</th>\n",
       "      <td>1.0</td>\n",
       "      <td>1.0</td>\n",
       "    </tr>\n",
       "    <tr>\n",
       "      <th>256</th>\n",
       "      <td>3.0</td>\n",
       "      <td>1.0</td>\n",
       "    </tr>\n",
       "    <tr>\n",
       "      <th>296</th>\n",
       "      <td>1.0</td>\n",
       "      <td>1.0</td>\n",
       "    </tr>\n",
       "    <tr>\n",
       "      <th>310</th>\n",
       "      <td>0.0</td>\n",
       "      <td>0.0</td>\n",
       "    </tr>\n",
       "    <tr>\n",
       "      <th>...</th>\n",
       "      <td>...</td>\n",
       "      <td>...</td>\n",
       "    </tr>\n",
       "    <tr>\n",
       "      <th>4200</th>\n",
       "      <td>NaN</td>\n",
       "      <td>NaN</td>\n",
       "    </tr>\n",
       "    <tr>\n",
       "      <th>4214</th>\n",
       "      <td>0.0</td>\n",
       "      <td>0.0</td>\n",
       "    </tr>\n",
       "    <tr>\n",
       "      <th>4216</th>\n",
       "      <td>0.0</td>\n",
       "      <td>0.0</td>\n",
       "    </tr>\n",
       "    <tr>\n",
       "      <th>4220</th>\n",
       "      <td>0.0</td>\n",
       "      <td>0.0</td>\n",
       "    </tr>\n",
       "    <tr>\n",
       "      <th>4240</th>\n",
       "      <td>0.0</td>\n",
       "      <td>0.0</td>\n",
       "    </tr>\n",
       "  </tbody>\n",
       "</table>\n",
       "<p>330 rows × 2 columns</p>\n",
       "</div>"
      ],
      "text/plain": [
       "      eso_LA  eso_vtq\n",
       "id                   \n",
       "223      2.0      1.0\n",
       "236      1.0      1.0\n",
       "256      3.0      1.0\n",
       "296      1.0      1.0\n",
       "310      0.0      0.0\n",
       "...      ...      ...\n",
       "4200     NaN      NaN\n",
       "4214     0.0      0.0\n",
       "4216     0.0      0.0\n",
       "4220     0.0      0.0\n",
       "4240     0.0      0.0\n",
       "\n",
       "[330 rows x 2 columns]"
      ]
     },
     "execution_count": 61,
     "metadata": {},
     "output_type": "execute_result"
    }
   ],
   "source": [
    "d[\"eso_vtq\"] = d[\"eso_LA\"].gt(0).astype(int).mask(d[\"eso_LA\"].isna())\n",
    "d[[\"eso_LA\", \"eso_vtq\"]]"
   ]
  },
  {
   "cell_type": "markdown",
   "metadata": {},
   "source": [
    "**Nhiệm vụ 2**: Thay vì tạo giá trị 0 và 1, tạo giá trị là `\"Không VTQ\"` và `\"Có VTQ\"` (VTQ là viêm thực quản).\n",
    "\n",
    "Ở bước này chúng ta có thể dùng `map()` hoặc `replace()` đều được, và sử dụng thay thế cho `astype(int)`."
   ]
  },
  {
   "cell_type": "code",
   "execution_count": 62,
   "metadata": {},
   "outputs": [
    {
     "data": {
      "text/html": [
       "<div>\n",
       "<style scoped>\n",
       "    .dataframe tbody tr th:only-of-type {\n",
       "        vertical-align: middle;\n",
       "    }\n",
       "\n",
       "    .dataframe tbody tr th {\n",
       "        vertical-align: top;\n",
       "    }\n",
       "\n",
       "    .dataframe thead th {\n",
       "        text-align: right;\n",
       "    }\n",
       "</style>\n",
       "<table border=\"1\" class=\"dataframe\">\n",
       "  <thead>\n",
       "    <tr style=\"text-align: right;\">\n",
       "      <th></th>\n",
       "      <th>eso_LA</th>\n",
       "      <th>eso_vtq</th>\n",
       "    </tr>\n",
       "    <tr>\n",
       "      <th>id</th>\n",
       "      <th></th>\n",
       "      <th></th>\n",
       "    </tr>\n",
       "  </thead>\n",
       "  <tbody>\n",
       "    <tr>\n",
       "      <th>223</th>\n",
       "      <td>2.0</td>\n",
       "      <td>Có VTQ</td>\n",
       "    </tr>\n",
       "    <tr>\n",
       "      <th>236</th>\n",
       "      <td>1.0</td>\n",
       "      <td>Có VTQ</td>\n",
       "    </tr>\n",
       "    <tr>\n",
       "      <th>256</th>\n",
       "      <td>3.0</td>\n",
       "      <td>Có VTQ</td>\n",
       "    </tr>\n",
       "    <tr>\n",
       "      <th>296</th>\n",
       "      <td>1.0</td>\n",
       "      <td>Có VTQ</td>\n",
       "    </tr>\n",
       "    <tr>\n",
       "      <th>310</th>\n",
       "      <td>0.0</td>\n",
       "      <td>Không VTQ</td>\n",
       "    </tr>\n",
       "    <tr>\n",
       "      <th>...</th>\n",
       "      <td>...</td>\n",
       "      <td>...</td>\n",
       "    </tr>\n",
       "    <tr>\n",
       "      <th>4200</th>\n",
       "      <td>NaN</td>\n",
       "      <td>NaN</td>\n",
       "    </tr>\n",
       "    <tr>\n",
       "      <th>4214</th>\n",
       "      <td>0.0</td>\n",
       "      <td>Không VTQ</td>\n",
       "    </tr>\n",
       "    <tr>\n",
       "      <th>4216</th>\n",
       "      <td>0.0</td>\n",
       "      <td>Không VTQ</td>\n",
       "    </tr>\n",
       "    <tr>\n",
       "      <th>4220</th>\n",
       "      <td>0.0</td>\n",
       "      <td>Không VTQ</td>\n",
       "    </tr>\n",
       "    <tr>\n",
       "      <th>4240</th>\n",
       "      <td>0.0</td>\n",
       "      <td>Không VTQ</td>\n",
       "    </tr>\n",
       "  </tbody>\n",
       "</table>\n",
       "<p>330 rows × 2 columns</p>\n",
       "</div>"
      ],
      "text/plain": [
       "      eso_LA    eso_vtq\n",
       "id                     \n",
       "223      2.0     Có VTQ\n",
       "236      1.0     Có VTQ\n",
       "256      3.0     Có VTQ\n",
       "296      1.0     Có VTQ\n",
       "310      0.0  Không VTQ\n",
       "...      ...        ...\n",
       "4200     NaN        NaN\n",
       "4214     0.0  Không VTQ\n",
       "4216     0.0  Không VTQ\n",
       "4220     0.0  Không VTQ\n",
       "4240     0.0  Không VTQ\n",
       "\n",
       "[330 rows x 2 columns]"
      ]
     },
     "execution_count": 62,
     "metadata": {},
     "output_type": "execute_result"
    }
   ],
   "source": [
    "d[\"eso_vtq\"] = d[\"eso_LA\"].gt(0).map({False: \"Không VTQ\", True: \"Có VTQ\"}).mask(d[\"eso_LA\"].isna())\n",
    "d[[\"eso_LA\", \"eso_vtq\"]]"
   ]
  },
  {
   "cell_type": "markdown",
   "metadata": {},
   "source": [
    "---\n",
    "\n",
    "[Bài trước](./03_slicing.ipynb) - [Danh sách bài](../README.md) - [Bài sau]()"
   ]
  }
 ],
 "metadata": {
  "kernelspec": {
   "display_name": "Python 3.9.9 64-bit",
   "language": "python",
   "name": "python3"
  },
  "language_info": {
   "codemirror_mode": {
    "name": "ipython",
    "version": 3
   },
   "file_extension": ".py",
   "mimetype": "text/x-python",
   "name": "python",
   "nbconvert_exporter": "python",
   "pygments_lexer": "ipython3",
   "version": "3.9.9"
  },
  "orig_nbformat": 4,
  "vscode": {
   "interpreter": {
    "hash": "11938c6bc6919ae2720b4d5011047913343b08a43b18698fd82dedb0d4417594"
   }
  }
 },
 "nbformat": 4,
 "nbformat_minor": 2
}
