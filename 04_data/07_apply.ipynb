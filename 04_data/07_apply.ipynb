{
 "cells": [
  {
   "cell_type": "markdown",
   "metadata": {},
   "source": [
    "# D07 Biến đổi dữ liệu (transformation): `apply()`\n",
    "\n",
    "## Mục đích\n",
    "\n",
    "Giới thiệu hàm `apply()` và `applymap()` để biến đổi dữ liệu trong Pandas.\n",
    "\n",
    "\n",
    "## Các cách thức biến đổi dữ liệu trong Pandas\n",
    "\n",
    "Trên thực tế, chúng ta đã tìm hiểu một số cách thức biến đổi dữ liệu trong Pandas. Chẳng hạn, sử dụng biểu thức số học hoặc logic để tạo ra biến mới."
   ]
  },
  {
   "cell_type": "code",
   "execution_count": 1,
   "metadata": {},
   "outputs": [
    {
     "data": {
      "text/plain": [
       "id\n",
       "223     44\n",
       "236     48\n",
       "256     49\n",
       "296     37\n",
       "310     39\n",
       "        ..\n",
       "4200    36\n",
       "4214    47\n",
       "4216    58\n",
       "4220    57\n",
       "4240    35\n",
       "Length: 330, dtype: int64"
      ]
     },
     "execution_count": 1,
     "metadata": {},
     "output_type": "execute_result"
    }
   ],
   "source": [
    "import pandas as pd\n",
    "import numpy as np\n",
    "\n",
    "d = pd.read_excel(\"hrm.xlsx\", index_col=\"id\")\n",
    "d[\"date_exam\"].dt.year - d[\"yob\"]"
   ]
  },
  {
   "cell_type": "markdown",
   "metadata": {},
   "source": [
    "Hoặc sử dụng các hàm masking (`mask()` hoặc `where()`)."
   ]
  },
  {
   "cell_type": "code",
   "execution_count": 2,
   "metadata": {},
   "outputs": [
    {
     "data": {
      "text/plain": [
       "id\n",
       "223      True\n",
       "236      True\n",
       "256      True\n",
       "296      True\n",
       "310     False\n",
       "        ...  \n",
       "4200      NaN\n",
       "4214    False\n",
       "4216    False\n",
       "4220    False\n",
       "4240    False\n",
       "Name: eso_LA, Length: 330, dtype: object"
      ]
     },
     "execution_count": 2,
     "metadata": {},
     "output_type": "execute_result"
    }
   ],
   "source": [
    "d[\"eso_LA\"].gt(0).mask(d[\"eso_LA\"].isna())"
   ]
  },
  {
   "cell_type": "markdown",
   "metadata": {},
   "source": [
    "Hoặc sử dụng các hàm thay thế (`replace()` và `map()`)."
   ]
  },
  {
   "cell_type": "code",
   "execution_count": 3,
   "metadata": {},
   "outputs": [
    {
     "data": {
      "text/plain": [
       "id\n",
       "223     Nam\n",
       "236     Nam\n",
       "256     Nam\n",
       "296     Nam\n",
       "310      Nữ\n",
       "       ... \n",
       "4200     Nữ\n",
       "4214     Nữ\n",
       "4216     Nữ\n",
       "4220     Nữ\n",
       "4240     Nữ\n",
       "Name: sex, Length: 330, dtype: object"
      ]
     },
     "execution_count": 3,
     "metadata": {},
     "output_type": "execute_result"
    }
   ],
   "source": [
    "d[\"sex\"].replace({0: \"Nữ\", 1: \"Nam\"})"
   ]
  },
  {
   "cell_type": "markdown",
   "metadata": {},
   "source": [
    "Nhưng nếu phép biến đổi (transformation) mà bạn sử dụng không có sẵn trong Pandas, chúng ta sẽ phải viết một hàm riêng cho nó. Chẳng hạn, nếu muốn tạo một biến kết quả *H. pylori* dựa trên điều kiện như sau:\n",
    "\n",
    "* Nếu có một trong hai kết quả xét nghiệm `\"hp_endo\"` hoặc `\"hp_breath\"` thì sử dụng kết quả đó.\n",
    "* Nếu có cả hai kết quả thì xét nghiệm chỉ âm tính khi cả hai kết quả đều âm tính.\n",
    "\n",
    "Chúng ta có thể tạo ra một biểu thức logic cho việc này, nhưng sẽ hơi mất thời gian. Chúng ta có thể làm đơn giản hơn bằng hàm sau."
   ]
  },
  {
   "cell_type": "code",
   "execution_count": 4,
   "metadata": {},
   "outputs": [],
   "source": [
    "def hp_result(hp_endo, hp_breath):\n",
    "    # Nếu cả hai đều là NA, trả về NA\n",
    "    if pd.isna(hp_endo) and pd.isna(hp_breath):\n",
    "        return np.nan\n",
    "    \n",
    "    # Nếu cả hai đều không phải NA,\n",
    "    # trả về False khi cả hai đều bằng 0\n",
    "    if not (pd.isna(hp_endo) or pd.isna(hp_breath)):\n",
    "        return (hp_endo == 1) | (hp_breath == 1)\n",
    "    \n",
    "    # Nếu một trong hai không phải NA,\n",
    "    # trả về kết quả không phải NA\n",
    "    return (hp_endo == 1) if pd.isna(hp_breath) else (hp_breath == 1)"
   ]
  },
  {
   "cell_type": "markdown",
   "metadata": {},
   "source": [
    "Bạn có thể test thử như dưới đây. Câu hỏi đặt ra là làm sao chúng ta áp dụng hàm này cho toàn bộ các bản ghi trong data frame."
   ]
  },
  {
   "cell_type": "code",
   "execution_count": 5,
   "metadata": {},
   "outputs": [
    {
     "name": "stdout",
     "output_type": "stream",
     "text": [
      "False False True True\n"
     ]
    }
   ],
   "source": [
    "print(\n",
    "    hp_result(0, 0),\n",
    "    hp_result(0, None),\n",
    "    hp_result(1, 0),\n",
    "    hp_result(None, 1)\n",
    ")"
   ]
  },
  {
   "cell_type": "markdown",
   "metadata": {},
   "source": [
    "## Hàm `apply()`\n",
    "\n",
    "Tương tự hàm `map()` có sẵn trong Python hay hàm `apply()` trong thư viện Numpy, Pandas cũng hỗ trợ việc lặp thông qua hàm `apply()`. Bạn có thể dùng hàm `apply()` cho data frame hoặc series, nhưng sẽ hơi khác nhau một chút. Chúng ta sẽ tiếp tục ví dụ trên trước."
   ]
  },
  {
   "cell_type": "code",
   "execution_count": 6,
   "metadata": {},
   "outputs": [
    {
     "data": {
      "text/plain": [
       "id\n",
       "223     False\n",
       "236     False\n",
       "256      True\n",
       "296      True\n",
       "310     False\n",
       "        ...  \n",
       "4200      NaN\n",
       "4214     True\n",
       "4216    False\n",
       "4220     True\n",
       "4240     True\n",
       "Length: 330, dtype: object"
      ]
     },
     "execution_count": 6,
     "metadata": {},
     "output_type": "execute_result"
    }
   ],
   "source": [
    "d[[\"hp_endo\", \"hp_breath\"]].apply(lambda x: hp_result(*x), axis=1)"
   ]
  },
  {
   "cell_type": "markdown",
   "metadata": {},
   "source": [
    "Bạn sẽ thấy một vài chi tiết kĩ thuật trong hàm `apply()`:\n",
    "\n",
    "* Đối số đầu tiên là *hàm sẽ lặp qua các hàng hoặc cột*. Nếu hàm của bạn chỉ nhận một đối số duy nhất, bạn có thể chỉ cần cung cấp tên hàm là đủ. Trong trường hợp của chúng ta, hàm `hp_result()` có hai đối số, do đó bạn sẽ cần đến hàm lambda để gọi được hàm này. Chúng ta dùng kĩ thuật unpacking với một dấu sao để giải nén nội dung của từng hàng (là một tuple bao gồm hai giá trị của cột `\"hp_endo\"` và `\"hp_breath\"`).\n",
    "* Đối số thứ hai là `axis`, quy định chiều không gian chúng ta sẽ thao tác. Ở đây, chúng ta thiết lập `axis=1` (cột) vì chúng ta muốn lặp theo hàng, mỗi lần lặp sẽ trả về thông tin của các cột của từng hàng.\n",
    "\n",
    "Bạn cũng có thể lặp trên series. Hàm `apply()` của series không có đối số `axis` (vì chúng ta không cần đến nó)."
   ]
  },
  {
   "cell_type": "code",
   "execution_count": 7,
   "metadata": {},
   "outputs": [
    {
     "data": {
      "text/plain": [
       "id\n",
       "223     Nam\n",
       "236     Nam\n",
       "256     Nam\n",
       "296     Nam\n",
       "310      Nữ\n",
       "       ... \n",
       "4200     Nữ\n",
       "4214     Nữ\n",
       "4216     Nữ\n",
       "4220     Nữ\n",
       "4240     Nữ\n",
       "Name: sex, Length: 330, dtype: object"
      ]
     },
     "execution_count": 7,
     "metadata": {},
     "output_type": "execute_result"
    }
   ],
   "source": [
    "d[\"sex\"].apply(lambda x: \"Nam\" if x == 1 else \"Nữ\")"
   ]
  },
  {
   "cell_type": "markdown",
   "metadata": {},
   "source": [
    "### Kết quả trả về của hàm là danh sách\n",
    "\n",
    "Trong một số trường hợp, hàm của chúng ta sẽ trả về một danh sách (hoặc tuple, set, v.v.). Ví dụ bạn viết một hàm để tính cả BMI và BSA của bệnh nhân (BSA theo Haycock được tính như sau: $\\text{BSA} (m^2) = w (kg)^{0.5378} \\times h (cm)^{0.3964} \\times 0.024265$)."
   ]
  },
  {
   "cell_type": "code",
   "execution_count": 8,
   "metadata": {},
   "outputs": [
    {
     "data": {
      "text/plain": [
       "(22.03856749311295, 1.6606598033454585)"
      ]
     },
     "execution_count": 8,
     "metadata": {},
     "output_type": "execute_result"
    }
   ],
   "source": [
    "def body_indices(w, h):\n",
    "    if pd.isna(w) or pd.isna(h):\n",
    "        return np.nan, np.nan\n",
    "    \n",
    "    return w / h ** 2, w ** 0.5378 * (h * 100) ** 0.3964 * 0.024265\n",
    "\n",
    "body_indices(60, 1.65)"
   ]
  },
  {
   "cell_type": "markdown",
   "metadata": {},
   "source": [
    "Nếu dùng hàm `apply()` như ở trên, chúng ta sẽ có kết quả như sau:"
   ]
  },
  {
   "cell_type": "code",
   "execution_count": 9,
   "metadata": {},
   "outputs": [
    {
     "data": {
      "text/plain": [
       "id\n",
       "223     (22.758306781975424, 1.7502471879547865)\n",
       "236     (23.306680053067517, 1.7420070489068296)\n",
       "256       (20.41522491349481, 1.665307584246721)\n",
       "296     (23.938989774631512, 1.8299266404185566)\n",
       "310      (19.976218787158146, 1.302356974386245)\n",
       "                          ...                   \n",
       "4200    (19.067710657633167, 1.4278715677393228)\n",
       "4214     (23.53036634346221, 1.5988454774446972)\n",
       "4216     (19.024970273483948, 1.268628416419575)\n",
       "4220     (20.66115702479339, 1.4491086913307503)\n",
       "4240    (22.582709172343712, 1.6526512045433615)\n",
       "Length: 330, dtype: object"
      ]
     },
     "execution_count": 9,
     "metadata": {},
     "output_type": "execute_result"
    }
   ],
   "source": [
    "d[[\"weight\", \"height\"]].apply(lambda x: body_indices(*x), axis=1)"
   ]
  },
  {
   "cell_type": "markdown",
   "metadata": {},
   "source": [
    "Đây không phải là kết quả chúng ta mong muốn. Chúng ta muốn trả về hai cột. Bạn có thể thêm đối số `result_type` như sau."
   ]
  },
  {
   "cell_type": "code",
   "execution_count": 10,
   "metadata": {},
   "outputs": [
    {
     "data": {
      "text/html": [
       "<div>\n",
       "<style scoped>\n",
       "    .dataframe tbody tr th:only-of-type {\n",
       "        vertical-align: middle;\n",
       "    }\n",
       "\n",
       "    .dataframe tbody tr th {\n",
       "        vertical-align: top;\n",
       "    }\n",
       "\n",
       "    .dataframe thead th {\n",
       "        text-align: right;\n",
       "    }\n",
       "</style>\n",
       "<table border=\"1\" class=\"dataframe\">\n",
       "  <thead>\n",
       "    <tr style=\"text-align: right;\">\n",
       "      <th></th>\n",
       "      <th>0</th>\n",
       "      <th>1</th>\n",
       "    </tr>\n",
       "    <tr>\n",
       "      <th>id</th>\n",
       "      <th></th>\n",
       "      <th></th>\n",
       "    </tr>\n",
       "  </thead>\n",
       "  <tbody>\n",
       "    <tr>\n",
       "      <th>223</th>\n",
       "      <td>22.758307</td>\n",
       "      <td>1.750247</td>\n",
       "    </tr>\n",
       "    <tr>\n",
       "      <th>236</th>\n",
       "      <td>23.306680</td>\n",
       "      <td>1.742007</td>\n",
       "    </tr>\n",
       "    <tr>\n",
       "      <th>256</th>\n",
       "      <td>20.415225</td>\n",
       "      <td>1.665308</td>\n",
       "    </tr>\n",
       "    <tr>\n",
       "      <th>296</th>\n",
       "      <td>23.938990</td>\n",
       "      <td>1.829927</td>\n",
       "    </tr>\n",
       "    <tr>\n",
       "      <th>310</th>\n",
       "      <td>19.976219</td>\n",
       "      <td>1.302357</td>\n",
       "    </tr>\n",
       "    <tr>\n",
       "      <th>...</th>\n",
       "      <td>...</td>\n",
       "      <td>...</td>\n",
       "    </tr>\n",
       "    <tr>\n",
       "      <th>4200</th>\n",
       "      <td>19.067711</td>\n",
       "      <td>1.427872</td>\n",
       "    </tr>\n",
       "    <tr>\n",
       "      <th>4214</th>\n",
       "      <td>23.530366</td>\n",
       "      <td>1.598845</td>\n",
       "    </tr>\n",
       "    <tr>\n",
       "      <th>4216</th>\n",
       "      <td>19.024970</td>\n",
       "      <td>1.268628</td>\n",
       "    </tr>\n",
       "    <tr>\n",
       "      <th>4220</th>\n",
       "      <td>20.661157</td>\n",
       "      <td>1.449109</td>\n",
       "    </tr>\n",
       "    <tr>\n",
       "      <th>4240</th>\n",
       "      <td>22.582709</td>\n",
       "      <td>1.652651</td>\n",
       "    </tr>\n",
       "  </tbody>\n",
       "</table>\n",
       "<p>330 rows × 2 columns</p>\n",
       "</div>"
      ],
      "text/plain": [
       "              0         1\n",
       "id                       \n",
       "223   22.758307  1.750247\n",
       "236   23.306680  1.742007\n",
       "256   20.415225  1.665308\n",
       "296   23.938990  1.829927\n",
       "310   19.976219  1.302357\n",
       "...         ...       ...\n",
       "4200  19.067711  1.427872\n",
       "4214  23.530366  1.598845\n",
       "4216  19.024970  1.268628\n",
       "4220  20.661157  1.449109\n",
       "4240  22.582709  1.652651\n",
       "\n",
       "[330 rows x 2 columns]"
      ]
     },
     "execution_count": 10,
     "metadata": {},
     "output_type": "execute_result"
    }
   ],
   "source": [
    "d[[\"weight\", \"height\"]].apply(lambda x: body_indices(*x), axis=1, result_type=\"expand\")"
   ]
  },
  {
   "cell_type": "markdown",
   "metadata": {},
   "source": [
    "## Hàm `applymap()`\n",
    "\n",
    "Trong trường hợp muốn áp dụng cùng một hàm cho tất cả các hàng ở nhiều cột khác nhau, chúng ta sử dụng hàm `applymap()`. Ví dụ:"
   ]
  },
  {
   "cell_type": "code",
   "execution_count": 11,
   "metadata": {},
   "outputs": [
    {
     "data": {
      "text/html": [
       "<div>\n",
       "<style scoped>\n",
       "    .dataframe tbody tr th:only-of-type {\n",
       "        vertical-align: middle;\n",
       "    }\n",
       "\n",
       "    .dataframe tbody tr th {\n",
       "        vertical-align: top;\n",
       "    }\n",
       "\n",
       "    .dataframe thead th {\n",
       "        text-align: right;\n",
       "    }\n",
       "</style>\n",
       "<table border=\"1\" class=\"dataframe\">\n",
       "  <thead>\n",
       "    <tr style=\"text-align: right;\">\n",
       "      <th></th>\n",
       "      <th>hp_endo</th>\n",
       "      <th>hp_breath</th>\n",
       "    </tr>\n",
       "    <tr>\n",
       "      <th>id</th>\n",
       "      <th></th>\n",
       "      <th></th>\n",
       "    </tr>\n",
       "  </thead>\n",
       "  <tbody>\n",
       "    <tr>\n",
       "      <th>223</th>\n",
       "      <td>NEG / NA</td>\n",
       "      <td>NEG / NA</td>\n",
       "    </tr>\n",
       "    <tr>\n",
       "      <th>236</th>\n",
       "      <td>NEG / NA</td>\n",
       "      <td>NEG / NA</td>\n",
       "    </tr>\n",
       "    <tr>\n",
       "      <th>256</th>\n",
       "      <td>NEG / NA</td>\n",
       "      <td>POS</td>\n",
       "    </tr>\n",
       "    <tr>\n",
       "      <th>296</th>\n",
       "      <td>POS</td>\n",
       "      <td>NEG / NA</td>\n",
       "    </tr>\n",
       "    <tr>\n",
       "      <th>310</th>\n",
       "      <td>NEG / NA</td>\n",
       "      <td>NEG / NA</td>\n",
       "    </tr>\n",
       "    <tr>\n",
       "      <th>...</th>\n",
       "      <td>...</td>\n",
       "      <td>...</td>\n",
       "    </tr>\n",
       "    <tr>\n",
       "      <th>4200</th>\n",
       "      <td>NEG / NA</td>\n",
       "      <td>NEG / NA</td>\n",
       "    </tr>\n",
       "    <tr>\n",
       "      <th>4214</th>\n",
       "      <td>POS</td>\n",
       "      <td>POS</td>\n",
       "    </tr>\n",
       "    <tr>\n",
       "      <th>4216</th>\n",
       "      <td>NEG / NA</td>\n",
       "      <td>NEG / NA</td>\n",
       "    </tr>\n",
       "    <tr>\n",
       "      <th>4220</th>\n",
       "      <td>NEG / NA</td>\n",
       "      <td>POS</td>\n",
       "    </tr>\n",
       "    <tr>\n",
       "      <th>4240</th>\n",
       "      <td>POS</td>\n",
       "      <td>NEG / NA</td>\n",
       "    </tr>\n",
       "  </tbody>\n",
       "</table>\n",
       "<p>330 rows × 2 columns</p>\n",
       "</div>"
      ],
      "text/plain": [
       "       hp_endo hp_breath\n",
       "id                      \n",
       "223   NEG / NA  NEG / NA\n",
       "236   NEG / NA  NEG / NA\n",
       "256   NEG / NA       POS\n",
       "296        POS  NEG / NA\n",
       "310   NEG / NA  NEG / NA\n",
       "...        ...       ...\n",
       "4200  NEG / NA  NEG / NA\n",
       "4214       POS       POS\n",
       "4216  NEG / NA  NEG / NA\n",
       "4220  NEG / NA       POS\n",
       "4240       POS  NEG / NA\n",
       "\n",
       "[330 rows x 2 columns]"
      ]
     },
     "execution_count": 11,
     "metadata": {},
     "output_type": "execute_result"
    }
   ],
   "source": [
    "d[[\"hp_endo\", \"hp_breath\"]].applymap(lambda x: \"POS\" if x == 1 else \"NEG / NA\")"
   ]
  },
  {
   "cell_type": "markdown",
   "metadata": {},
   "source": [
    "Các hàm `apply()` và `applymap()` đều được vector hóa trong Pandas, nên tốc độ xử lí cao và ổn định hơn việc lặp qua từng bản ghi bằng vòng lặp. Tuy nhiên, nếu có thể sử dụng các hàm sẵn có của Pandas, tốc độ xử lí thường sẽ nhanh hơn. Trong thực tế, đa số trường hợp bạn sẽ không cần dùng đến hàm `apply()`, nhưng trong một số tình huống nhất định bạn sẽ cần đến nó, hãy xem ở bài sau nhé."
   ]
  },
  {
   "cell_type": "markdown",
   "metadata": {},
   "source": [
    "---\n",
    "\n",
    "[Bài trước](./06_groupby.ipynb) - [Danh sách bài](../README.md) - [Bài sau](./08_agg.ipynb)"
   ]
  }
 ],
 "metadata": {
  "kernelspec": {
   "display_name": "Python 3.9.9 64-bit",
   "language": "python",
   "name": "python3"
  },
  "language_info": {
   "codemirror_mode": {
    "name": "ipython",
    "version": 3
   },
   "file_extension": ".py",
   "mimetype": "text/x-python",
   "name": "python",
   "nbconvert_exporter": "python",
   "pygments_lexer": "ipython3",
   "version": "3.9.9"
  },
  "orig_nbformat": 4,
  "vscode": {
   "interpreter": {
    "hash": "11938c6bc6919ae2720b4d5011047913343b08a43b18698fd82dedb0d4417594"
   }
  }
 },
 "nbformat": 4,
 "nbformat_minor": 2
}
