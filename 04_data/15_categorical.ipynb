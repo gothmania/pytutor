{
 "cells": [
  {
   "cell_type": "markdown",
   "metadata": {},
   "source": [
    "# D15 Số liệu dạng danh mục\n",
    "\n",
    "## Mục đích\n",
    "\n",
    "Trong bài này chúng ta sẽ làm quen với kiểu số liệu dạng danh mục (categorical).\n",
    "\n",
    "\n",
    "## Categorical hay string?\n",
    "\n",
    "Lấy ví dụ chúng ta có dữ liệu về trình độ học vấn được mã hóa như sau: 1=Trung học phổ thông trở xuống, 2=Đại học, cao đẳng, 3=Sau đại học. Thông thường bộ số liệu gốc của bạn khi xuất ra sẽ có dạng mã (code) là các số. Trong hầu hết các công cụ phân tích số liệu, chúng ta sẽ cần chuyển chúng sang dạng chuỗi kí tự (nhãn, label) để hiển thị kết quả. Hãy xem kích thước của bộ số liệu."
   ]
  },
  {
   "cell_type": "code",
   "execution_count": 1,
   "metadata": {},
   "outputs": [
    {
     "name": "stdout",
     "output_type": "stream",
     "text": [
      "<class 'pandas.core.frame.DataFrame'>\n",
      "RangeIndex: 1000 entries, 0 to 999\n",
      "Data columns (total 3 columns):\n",
      " #   Column  Non-Null Count  Dtype\n",
      "---  ------  --------------  -----\n",
      " 0   id      1000 non-null   int64\n",
      " 1   sex     1000 non-null   int32\n",
      " 2   edu     1000 non-null   int32\n",
      "dtypes: int32(2), int64(1)\n",
      "memory usage: 15.8 KB\n"
     ]
    }
   ],
   "source": [
    "import pandas as pd\n",
    "import numpy as np\n",
    "\n",
    "n = 1000\n",
    "np.random.seed(0)\n",
    "\n",
    "d = pd.DataFrame({\n",
    "    \"id\": range(n),\n",
    "    \"sex\": np.random.choice([1, 2], n, replace=True),\n",
    "    \"edu\": np.random.choice([1, 2, 3], n, replace=True)\n",
    "})\n",
    "\n",
    "d.info()"
   ]
  },
  {
   "cell_type": "markdown",
   "metadata": {},
   "source": [
    "Chúng ta sẽ dán nhãn cho biến `edu`."
   ]
  },
  {
   "cell_type": "code",
   "execution_count": 2,
   "metadata": {},
   "outputs": [
    {
     "data": {
      "text/html": [
       "<div>\n",
       "<style scoped>\n",
       "    .dataframe tbody tr th:only-of-type {\n",
       "        vertical-align: middle;\n",
       "    }\n",
       "\n",
       "    .dataframe tbody tr th {\n",
       "        vertical-align: top;\n",
       "    }\n",
       "\n",
       "    .dataframe thead th {\n",
       "        text-align: right;\n",
       "    }\n",
       "</style>\n",
       "<table border=\"1\" class=\"dataframe\">\n",
       "  <thead>\n",
       "    <tr style=\"text-align: right;\">\n",
       "      <th></th>\n",
       "      <th>id</th>\n",
       "      <th>sex</th>\n",
       "      <th>edu</th>\n",
       "    </tr>\n",
       "  </thead>\n",
       "  <tbody>\n",
       "    <tr>\n",
       "      <th>0</th>\n",
       "      <td>0</td>\n",
       "      <td>1</td>\n",
       "      <td>Sau đại học</td>\n",
       "    </tr>\n",
       "    <tr>\n",
       "      <th>1</th>\n",
       "      <td>1</td>\n",
       "      <td>2</td>\n",
       "      <td>Trung học phổ thông trở xuống</td>\n",
       "    </tr>\n",
       "    <tr>\n",
       "      <th>2</th>\n",
       "      <td>2</td>\n",
       "      <td>2</td>\n",
       "      <td>Trung học phổ thông trở xuống</td>\n",
       "    </tr>\n",
       "    <tr>\n",
       "      <th>3</th>\n",
       "      <td>3</td>\n",
       "      <td>1</td>\n",
       "      <td>Sau đại học</td>\n",
       "    </tr>\n",
       "    <tr>\n",
       "      <th>4</th>\n",
       "      <td>4</td>\n",
       "      <td>2</td>\n",
       "      <td>Trung học phổ thông trở xuống</td>\n",
       "    </tr>\n",
       "  </tbody>\n",
       "</table>\n",
       "</div>"
      ],
      "text/plain": [
       "   id  sex                            edu\n",
       "0   0    1                    Sau đại học\n",
       "1   1    2  Trung học phổ thông trở xuống\n",
       "2   2    2  Trung học phổ thông trở xuống\n",
       "3   3    1                    Sau đại học\n",
       "4   4    2  Trung học phổ thông trở xuống"
      ]
     },
     "execution_count": 2,
     "metadata": {},
     "output_type": "execute_result"
    }
   ],
   "source": [
    "edu_labels = [\"Trung học phổ thông trở xuống\", \"Đại học, cao đẳng\", \"Sau đại học\"]\n",
    "edu_dict = dict(zip([1, 2, 3], edu_labels))\n",
    "d[\"edu\"] = d[\"edu\"].replace(edu_dict)\n",
    "\n",
    "d.head()"
   ]
  },
  {
   "cell_type": "code",
   "execution_count": 3,
   "metadata": {},
   "outputs": [
    {
     "name": "stdout",
     "output_type": "stream",
     "text": [
      "<class 'pandas.core.frame.DataFrame'>\n",
      "RangeIndex: 1000 entries, 0 to 999\n",
      "Data columns (total 3 columns):\n",
      " #   Column  Non-Null Count  Dtype \n",
      "---  ------  --------------  ----- \n",
      " 0   id      1000 non-null   int64 \n",
      " 1   sex     1000 non-null   int32 \n",
      " 2   edu     1000 non-null   object\n",
      "dtypes: int32(1), int64(1), object(1)\n",
      "memory usage: 19.7+ KB\n"
     ]
    }
   ],
   "source": [
    "d.info()"
   ]
  },
  {
   "cell_type": "markdown",
   "metadata": {},
   "source": [
    "Mặc dù bạn thấy kích thước của cơ sở dữ liệu không tăng lên nhiều (4 KB), nhưng hãy nhớ rằng chúng ta chỉ có 1000 bản ghi và mới dán nhãn cho 1 biến. Nếu bạn có 1000 biến và hàng triệu bản ghi, kích thước bộ số liệu trong bộ nhớ máy tính sẽ phình ra đáng kể.\n",
    "\n",
    "Hãy cũng xem dữ liệu categorical thì sẽ như thế nào."
   ]
  },
  {
   "cell_type": "code",
   "execution_count": 4,
   "metadata": {},
   "outputs": [
    {
     "data": {
      "text/html": [
       "<div>\n",
       "<style scoped>\n",
       "    .dataframe tbody tr th:only-of-type {\n",
       "        vertical-align: middle;\n",
       "    }\n",
       "\n",
       "    .dataframe tbody tr th {\n",
       "        vertical-align: top;\n",
       "    }\n",
       "\n",
       "    .dataframe thead th {\n",
       "        text-align: right;\n",
       "    }\n",
       "</style>\n",
       "<table border=\"1\" class=\"dataframe\">\n",
       "  <thead>\n",
       "    <tr style=\"text-align: right;\">\n",
       "      <th></th>\n",
       "      <th>id</th>\n",
       "      <th>sex</th>\n",
       "      <th>edu</th>\n",
       "    </tr>\n",
       "  </thead>\n",
       "  <tbody>\n",
       "    <tr>\n",
       "      <th>0</th>\n",
       "      <td>0</td>\n",
       "      <td>1</td>\n",
       "      <td>Sau đại học</td>\n",
       "    </tr>\n",
       "    <tr>\n",
       "      <th>1</th>\n",
       "      <td>1</td>\n",
       "      <td>2</td>\n",
       "      <td>Trung học phổ thông trở xuống</td>\n",
       "    </tr>\n",
       "    <tr>\n",
       "      <th>2</th>\n",
       "      <td>2</td>\n",
       "      <td>2</td>\n",
       "      <td>Trung học phổ thông trở xuống</td>\n",
       "    </tr>\n",
       "    <tr>\n",
       "      <th>3</th>\n",
       "      <td>3</td>\n",
       "      <td>1</td>\n",
       "      <td>Sau đại học</td>\n",
       "    </tr>\n",
       "    <tr>\n",
       "      <th>4</th>\n",
       "      <td>4</td>\n",
       "      <td>2</td>\n",
       "      <td>Trung học phổ thông trở xuống</td>\n",
       "    </tr>\n",
       "  </tbody>\n",
       "</table>\n",
       "</div>"
      ],
      "text/plain": [
       "   id  sex                            edu\n",
       "0   0    1                    Sau đại học\n",
       "1   1    2  Trung học phổ thông trở xuống\n",
       "2   2    2  Trung học phổ thông trở xuống\n",
       "3   3    1                    Sau đại học\n",
       "4   4    2  Trung học phổ thông trở xuống"
      ]
     },
     "execution_count": 4,
     "metadata": {},
     "output_type": "execute_result"
    }
   ],
   "source": [
    "d[\"edu\"] = pd.Categorical(d[\"edu\"])\n",
    "\n",
    "d.head()"
   ]
  },
  {
   "cell_type": "code",
   "execution_count": 5,
   "metadata": {},
   "outputs": [
    {
     "name": "stdout",
     "output_type": "stream",
     "text": [
      "<class 'pandas.core.frame.DataFrame'>\n",
      "RangeIndex: 1000 entries, 0 to 999\n",
      "Data columns (total 3 columns):\n",
      " #   Column  Non-Null Count  Dtype   \n",
      "---  ------  --------------  -----   \n",
      " 0   id      1000 non-null   int64   \n",
      " 1   sex     1000 non-null   int32   \n",
      " 2   edu     1000 non-null   category\n",
      "dtypes: category(1), int32(1), int64(1)\n",
      "memory usage: 12.9 KB\n"
     ]
    }
   ],
   "source": [
    "d.info()"
   ]
  },
  {
   "cell_type": "markdown",
   "metadata": {},
   "source": [
    "Bạn có thể thấy về mặt hiển thị kết quả thì không có gì khác nhau (đều hiển thị label), nhưng kích thước bộ nhớ đã giảm đi đáng kể, thậm chí còn thấp hơn so với lúc để dưới dạng code. Hãy quan sát series của `edu`."
   ]
  },
  {
   "cell_type": "code",
   "execution_count": 6,
   "metadata": {},
   "outputs": [
    {
     "data": {
      "text/plain": [
       "0                      Sau đại học\n",
       "1    Trung học phổ thông trở xuống\n",
       "2    Trung học phổ thông trở xuống\n",
       "3                      Sau đại học\n",
       "4    Trung học phổ thông trở xuống\n",
       "Name: edu, dtype: category\n",
       "Categories (3, object): ['Sau đại học', 'Trung học phổ thông trở xuống', 'Đại học, cao đẳng']"
      ]
     },
     "execution_count": 6,
     "metadata": {},
     "output_type": "execute_result"
    }
   ],
   "source": [
    "d[\"edu\"].head()"
   ]
  },
  {
   "cell_type": "markdown",
   "metadata": {},
   "source": [
    "Nếu bạn đã sử dụng R thì có thể đã quen với kiểu dữ liệu `factor`. Dữ liệu categorical trong Pandas cũng tương tự như factor trong R: chúng thực sự là các giá trị số, và mỗi giá trị này được dán cho một nhãn. Hiệu quả cải thiện bộ nhớ chỉ có được nếu số lượng hạng mục (category) trong số liệu của bạn ít hơn rất nhiều so với số bản ghi."
   ]
  },
  {
   "cell_type": "markdown",
   "metadata": {},
   "source": [
    "## Các đặc trưng của dữ liệu categorical\n",
    "\n",
    "### Nhãn có và không có thứ tự\n",
    "\n",
    "Chúng ta có thể giả sử rằng trình độ học vấn sẽ tăng dần từ \"THPT trở xuống\" cho đến \"Sau đại học\" (biến thứ hạng), và muốn số liệu categorical thể hiện điều này. Dữ liệu categorical như vậy được gọi là danh mục có thứ tự (ordered)."
   ]
  },
  {
   "cell_type": "code",
   "execution_count": 7,
   "metadata": {},
   "outputs": [
    {
     "data": {
      "text/plain": [
       "0                      Sau đại học\n",
       "1    Trung học phổ thông trở xuống\n",
       "2    Trung học phổ thông trở xuống\n",
       "3                      Sau đại học\n",
       "4    Trung học phổ thông trở xuống\n",
       "Name: edu, dtype: category\n",
       "Categories (3, object): ['Trung học phổ thông trở xuống' < 'Đại học, cao đẳng' < 'Sau đại học']"
      ]
     },
     "execution_count": 7,
     "metadata": {},
     "output_type": "execute_result"
    }
   ],
   "source": [
    "d[\"edu\"] = pd.Categorical(d[\"edu\"], categories=edu_labels, ordered=True)\n",
    "d[\"edu\"].head()"
   ]
  },
  {
   "cell_type": "markdown",
   "metadata": {},
   "source": [
    "Bạn có thể thấy rằng nếu như dữ liệu categorical có thứ tự thì Pandas sẽ hiển thị các hạng mục theo thứ tự tăng dần đã được quy định. Dữ liệu có thứ tự có thể so sánh nhỏ hơn và lớn hơn được."
   ]
  },
  {
   "cell_type": "code",
   "execution_count": 8,
   "metadata": {},
   "outputs": [
    {
     "data": {
      "text/html": [
       "<div>\n",
       "<style scoped>\n",
       "    .dataframe tbody tr th:only-of-type {\n",
       "        vertical-align: middle;\n",
       "    }\n",
       "\n",
       "    .dataframe tbody tr th {\n",
       "        vertical-align: top;\n",
       "    }\n",
       "\n",
       "    .dataframe thead th {\n",
       "        text-align: right;\n",
       "    }\n",
       "</style>\n",
       "<table border=\"1\" class=\"dataframe\">\n",
       "  <thead>\n",
       "    <tr style=\"text-align: right;\">\n",
       "      <th></th>\n",
       "      <th>edu</th>\n",
       "      <th>other_edu</th>\n",
       "    </tr>\n",
       "  </thead>\n",
       "  <tbody>\n",
       "    <tr>\n",
       "      <th>0</th>\n",
       "      <td>Sau đại học</td>\n",
       "      <td>Đại học, cao đẳng</td>\n",
       "    </tr>\n",
       "    <tr>\n",
       "      <th>1</th>\n",
       "      <td>Trung học phổ thông trở xuống</td>\n",
       "      <td>Đại học, cao đẳng</td>\n",
       "    </tr>\n",
       "    <tr>\n",
       "      <th>2</th>\n",
       "      <td>Trung học phổ thông trở xuống</td>\n",
       "      <td>Sau đại học</td>\n",
       "    </tr>\n",
       "    <tr>\n",
       "      <th>3</th>\n",
       "      <td>Sau đại học</td>\n",
       "      <td>Đại học, cao đẳng</td>\n",
       "    </tr>\n",
       "    <tr>\n",
       "      <th>4</th>\n",
       "      <td>Trung học phổ thông trở xuống</td>\n",
       "      <td>Sau đại học</td>\n",
       "    </tr>\n",
       "  </tbody>\n",
       "</table>\n",
       "</div>"
      ],
      "text/plain": [
       "                             edu          other_edu\n",
       "0                    Sau đại học  Đại học, cao đẳng\n",
       "1  Trung học phổ thông trở xuống  Đại học, cao đẳng\n",
       "2  Trung học phổ thông trở xuống        Sau đại học\n",
       "3                    Sau đại học  Đại học, cao đẳng\n",
       "4  Trung học phổ thông trở xuống        Sau đại học"
      ]
     },
     "execution_count": 8,
     "metadata": {},
     "output_type": "execute_result"
    }
   ],
   "source": [
    "d2 = pd.DataFrame({\n",
    "    \"edu\": d[\"edu\"],\n",
    "    \"other_edu\": d.loc[::-1, \"edu\"].rename(index=lambda x: n - x - 1)\n",
    "})\n",
    "\n",
    "d2.head()"
   ]
  },
  {
   "cell_type": "code",
   "execution_count": 9,
   "metadata": {},
   "outputs": [
    {
     "data": {
      "text/html": [
       "<div>\n",
       "<style scoped>\n",
       "    .dataframe tbody tr th:only-of-type {\n",
       "        vertical-align: middle;\n",
       "    }\n",
       "\n",
       "    .dataframe tbody tr th {\n",
       "        vertical-align: top;\n",
       "    }\n",
       "\n",
       "    .dataframe thead th {\n",
       "        text-align: right;\n",
       "    }\n",
       "</style>\n",
       "<table border=\"1\" class=\"dataframe\">\n",
       "  <thead>\n",
       "    <tr style=\"text-align: right;\">\n",
       "      <th></th>\n",
       "      <th>edu</th>\n",
       "      <th>other_edu</th>\n",
       "      <th>compare</th>\n",
       "    </tr>\n",
       "  </thead>\n",
       "  <tbody>\n",
       "    <tr>\n",
       "      <th>0</th>\n",
       "      <td>Sau đại học</td>\n",
       "      <td>Đại học, cao đẳng</td>\n",
       "      <td>True</td>\n",
       "    </tr>\n",
       "    <tr>\n",
       "      <th>1</th>\n",
       "      <td>Trung học phổ thông trở xuống</td>\n",
       "      <td>Đại học, cao đẳng</td>\n",
       "      <td>False</td>\n",
       "    </tr>\n",
       "    <tr>\n",
       "      <th>2</th>\n",
       "      <td>Trung học phổ thông trở xuống</td>\n",
       "      <td>Sau đại học</td>\n",
       "      <td>False</td>\n",
       "    </tr>\n",
       "    <tr>\n",
       "      <th>3</th>\n",
       "      <td>Sau đại học</td>\n",
       "      <td>Đại học, cao đẳng</td>\n",
       "      <td>True</td>\n",
       "    </tr>\n",
       "    <tr>\n",
       "      <th>4</th>\n",
       "      <td>Trung học phổ thông trở xuống</td>\n",
       "      <td>Sau đại học</td>\n",
       "      <td>False</td>\n",
       "    </tr>\n",
       "  </tbody>\n",
       "</table>\n",
       "</div>"
      ],
      "text/plain": [
       "                             edu          other_edu  compare\n",
       "0                    Sau đại học  Đại học, cao đẳng     True\n",
       "1  Trung học phổ thông trở xuống  Đại học, cao đẳng    False\n",
       "2  Trung học phổ thông trở xuống        Sau đại học    False\n",
       "3                    Sau đại học  Đại học, cao đẳng     True\n",
       "4  Trung học phổ thông trở xuống        Sau đại học    False"
      ]
     },
     "execution_count": 9,
     "metadata": {},
     "output_type": "execute_result"
    }
   ],
   "source": [
    "d2[\"compare\"] = d2[\"edu\"] > d2[\"other_edu\"]\n",
    "\n",
    "d2.head()"
   ]
  },
  {
   "cell_type": "markdown",
   "metadata": {},
   "source": [
    "### Dữ liệu categorical bị giới hạn bởi danh sách hạng mục\n",
    "\n",
    "Bạn có thể giới hạn các hạng mục trong dữ liệu categorical để loại bỏ các nội dung không chính xác. Chẳng hạn, trong dữ liệu dưới đây có một dòng ghi là \"Không rõ\", bạn có thể muốn chuyển nó thành NA thay vì thêm một hạng mục vào dữ liệu categorical."
   ]
  },
  {
   "cell_type": "code",
   "execution_count": 10,
   "metadata": {},
   "outputs": [
    {
     "data": {
      "text/plain": [
       "['Cấp 1', 'Cấp 2', 'Cấp 3', 'Không rõ']\n",
       "Categories (4, object): ['Cấp 1', 'Cấp 2', 'Cấp 3', 'Không rõ']"
      ]
     },
     "execution_count": 10,
     "metadata": {},
     "output_type": "execute_result"
    }
   ],
   "source": [
    "# Nếu không giới hạn\n",
    "pd.Categorical([\"Cấp 1\", \"Cấp 2\", \"Cấp 3\", \"Không rõ\"])"
   ]
  },
  {
   "cell_type": "code",
   "execution_count": 11,
   "metadata": {},
   "outputs": [
    {
     "data": {
      "text/plain": [
       "['Cấp 1', 'Cấp 2', 'Cấp 3', NaN]\n",
       "Categories (3, object): ['Cấp 1', 'Cấp 2', 'Cấp 3']"
      ]
     },
     "execution_count": 11,
     "metadata": {},
     "output_type": "execute_result"
    }
   ],
   "source": [
    "# Có giới hạn\n",
    "pd.Categorical([\"Cấp 1\", \"Cấp 2\", \"Cấp 3\", \"Không rõ\"],\n",
    "    categories=[\"Cấp 1\", \"Cấp 2\", \"Cấp 3\"])"
   ]
  },
  {
   "cell_type": "markdown",
   "metadata": {},
   "source": [
    "### Kiểu dữ liệu của hạng mục\n",
    "\n",
    "Khác với R, hạng mục trong Pandas có thể là bất kì kiểu dữ liệu nào."
   ]
  },
  {
   "cell_type": "code",
   "execution_count": 12,
   "metadata": {},
   "outputs": [
    {
     "data": {
      "text/plain": [
       "[1, 2, 3]\n",
       "Categories (3, int64): [1, 2, 3]"
      ]
     },
     "execution_count": 12,
     "metadata": {},
     "output_type": "execute_result"
    }
   ],
   "source": [
    "pd.Categorical([1, 2, 3])"
   ]
  },
  {
   "cell_type": "code",
   "execution_count": 13,
   "metadata": {},
   "outputs": [
    {
     "data": {
      "text/plain": [
       "[2022-10-01, 2022-11-01, 2022-12-01]\n",
       "Categories (3, datetime64[ns]): [2022-10-01, 2022-11-01, 2022-12-01]"
      ]
     },
     "execution_count": 13,
     "metadata": {},
     "output_type": "execute_result"
    }
   ],
   "source": [
    "s1 = pd.to_datetime([\"2022-10-01\", \"2022-11-01\", \"2022-12-01\"])\n",
    "pd.Categorical(s1)"
   ]
  },
  {
   "cell_type": "markdown",
   "metadata": {},
   "source": [
    "## Tạo số liệu categorical\n",
    "\n",
    "### Số liệu label\n",
    "\n",
    "Nếu số liệu đã ở dưới dạng label, bạn không cần \"convert\" từ code sang nữa mà có thể chuyển thẳng sang số liệu categorical."
   ]
  },
  {
   "cell_type": "code",
   "execution_count": 14,
   "metadata": {},
   "outputs": [
    {
     "data": {
      "text/plain": [
       "0              Nam\n",
       "1               Nữ\n",
       "2    Không tiết lộ\n",
       "3               Nữ\n",
       "4               Nữ\n",
       "5              Nam\n",
       "Name: sex, dtype: object"
      ]
     },
     "execution_count": 14,
     "metadata": {},
     "output_type": "execute_result"
    }
   ],
   "source": [
    "s2 = pd.Series([\"Nam\", \"Nữ\", \"Không tiết lộ\", \"Nữ\", \"Nữ\", \"Nam\"], name=\"sex\")\n",
    "s2"
   ]
  },
  {
   "cell_type": "code",
   "execution_count": 15,
   "metadata": {},
   "outputs": [
    {
     "data": {
      "text/plain": [
       "0              Nam\n",
       "1               Nữ\n",
       "2    Không tiết lộ\n",
       "3               Nữ\n",
       "4               Nữ\n",
       "5              Nam\n",
       "Name: sex, dtype: category\n",
       "Categories (3, object): ['Không tiết lộ', 'Nam', 'Nữ']"
      ]
     },
     "execution_count": 15,
     "metadata": {},
     "output_type": "execute_result"
    }
   ],
   "source": [
    "s2.astype(\"category\")"
   ]
  },
  {
   "cell_type": "code",
   "execution_count": 16,
   "metadata": {},
   "outputs": [
    {
     "data": {
      "text/plain": [
       "0              Nam\n",
       "1               Nữ\n",
       "2    Không tiết lộ\n",
       "3               Nữ\n",
       "4               Nữ\n",
       "5              Nam\n",
       "Name: sex, dtype: category\n",
       "Categories (3, object): ['Không tiết lộ', 'Nam', 'Nữ']"
      ]
     },
     "execution_count": 16,
     "metadata": {},
     "output_type": "execute_result"
    }
   ],
   "source": [
    "pd.Series([\"Nam\", \"Nữ\", \"Không tiết lộ\", \"Nữ\", \"Nữ\", \"Nam\"], name=\"sex\", dtype=\"category\")"
   ]
  },
  {
   "cell_type": "markdown",
   "metadata": {},
   "source": [
    "Cách sau đây sẽ không tạo ra series."
   ]
  },
  {
   "cell_type": "code",
   "execution_count": 17,
   "metadata": {},
   "outputs": [
    {
     "data": {
      "text/plain": [
       "['Nam', 'Nữ', 'Không tiết lộ', 'Nữ', 'Nữ', 'Nam']\n",
       "Categories (3, object): ['Không tiết lộ', 'Nam', 'Nữ']"
      ]
     },
     "execution_count": 17,
     "metadata": {},
     "output_type": "execute_result"
    }
   ],
   "source": [
    "pd.Categorical(s2)"
   ]
  },
  {
   "cell_type": "markdown",
   "metadata": {},
   "source": [
    "### Số liệu code\n",
    "\n",
    "Với số liệu code, bạn có thể dùng `replace()` để thay thế code bằng label, sau đó chuyển sang dữ liệu categorical. Hoặc bạn có thể dùng hàm `from_codes()` của dữ liệu categorical. Tuy nhiên để sử dụng được cách này, code của bạn phải bắt đầu liên tục từ giá trị 0."
   ]
  },
  {
   "cell_type": "code",
   "execution_count": 18,
   "metadata": {},
   "outputs": [
    {
     "data": {
      "text/plain": [
       "['Nữ', 'Nam', 'Nữ', 'Nữ', 'Nữ', 'Nam', 'Nữ', 'Nam']\n",
       "Categories (2, object): ['Nam', 'Nữ']"
      ]
     },
     "execution_count": 18,
     "metadata": {},
     "output_type": "execute_result"
    }
   ],
   "source": [
    "s3 = [1, 0, 1, 1, 1, 0, 1, 0]\n",
    "pd.Categorical.from_codes(s3, [\"Nam\", \"Nữ\"])"
   ]
  },
  {
   "cell_type": "markdown",
   "metadata": {},
   "source": [
    "### Phân nhóm từ số liệu liên tục\n",
    "\n",
    "Bạn có thể dùng hàm `cut()` để thực hiện việc phân nhóm này. Mặc định số liệu categorical được tạo thành sẽ được tạo label tự động và có thứ tự."
   ]
  },
  {
   "cell_type": "code",
   "execution_count": 19,
   "metadata": {},
   "outputs": [
    {
     "data": {
      "text/plain": [
       "array([22.79097015, 20.27535373, 33.89251437, 17.71096866, 29.40531705,\n",
       "       33.50790051, 28.29331173, 23.4610888 , 18.9798188 , 22.34950645])"
      ]
     },
     "execution_count": 19,
     "metadata": {},
     "output_type": "execute_result"
    }
   ],
   "source": [
    "s4 = np.random.uniform(15, 35, size=10)\n",
    "s4"
   ]
  },
  {
   "cell_type": "code",
   "execution_count": 20,
   "metadata": {},
   "outputs": [
    {
     "data": {
      "text/plain": [
       "[(18.5, 25.0], (18.5, 25.0], (25.0, 100.0], (0.0, 18.5], (25.0, 100.0], (25.0, 100.0], (25.0, 100.0], (18.5, 25.0], (18.5, 25.0], (18.5, 25.0]]\n",
       "Categories (3, interval[float64, right]): [(0.0, 18.5] < (18.5, 25.0] < (25.0, 100.0]]"
      ]
     },
     "execution_count": 20,
     "metadata": {},
     "output_type": "execute_result"
    }
   ],
   "source": [
    "pd.cut(s4, [0, 18.5, 25, 100])"
   ]
  },
  {
   "cell_type": "markdown",
   "metadata": {},
   "source": [
    "Bạn có thể thay đổi label cho số liệu categorical mới được tạo ra."
   ]
  },
  {
   "cell_type": "code",
   "execution_count": 21,
   "metadata": {},
   "outputs": [
    {
     "data": {
      "text/plain": [
       "['Normal', 'Normal', 'Overweight', 'Underweight', 'Overweight', 'Overweight', 'Overweight', 'Normal', 'Normal', 'Normal']\n",
       "Categories (3, object): ['Underweight' < 'Normal' < 'Overweight']"
      ]
     },
     "execution_count": 21,
     "metadata": {},
     "output_type": "execute_result"
    }
   ],
   "source": [
    "bmi_labels = [\"Underweight\", \"Normal\", \"Overweight\"]\n",
    "s4_cat = pd.cut(s4, [0, 18.5, 25, 100],\n",
    "    labels=bmi_labels)\n",
    "s4_cat"
   ]
  },
  {
   "cell_type": "markdown",
   "metadata": {},
   "source": [
    "Hàm `cut()` có một vài thiết lập quan trọng, bạn nên nghiên cứu và luyện tập thêm để đảm bảo việc sinh số liệu được chính xác."
   ]
  },
  {
   "cell_type": "markdown",
   "metadata": {},
   "source": [
    "## Thao tác với hạng mục\n",
    "\n",
    "### Đổi tên hạng mục\n",
    "\n",
    "Tương tự như index, Pandas cho phép bạn đổi tên hạng mục bằng từ điển, hàm, hoặc danh sách. Nếu là danh sách, danh sách label mới cần có kích thước bằng với danh sách hạng mục hiện tại, và Pandas sẽ đổi tên theo thứ tự tương ứng."
   ]
  },
  {
   "cell_type": "code",
   "execution_count": 22,
   "metadata": {},
   "outputs": [
    {
     "data": {
      "text/plain": [
       "['BMI (Normal)', 'BMI (Normal)', 'BMI (Overweight)', 'BMI (Underweight)', 'BMI (Overweight)', 'BMI (Overweight)', 'BMI (Overweight)', 'BMI (Normal)', 'BMI (Normal)', 'BMI (Normal)']\n",
       "Categories (3, object): ['BMI (Underweight)' < 'BMI (Normal)' < 'BMI (Overweight)']"
      ]
     },
     "execution_count": 22,
     "metadata": {},
     "output_type": "execute_result"
    }
   ],
   "source": [
    "s4_cat.rename_categories(lambda x: f\"BMI ({x})\")"
   ]
  },
  {
   "cell_type": "code",
   "execution_count": 23,
   "metadata": {},
   "outputs": [
    {
     "data": {
      "text/plain": [
       "['Bình thường', 'Bình thường', 'Thừa cân', 'Nhẹ cân', 'Thừa cân', 'Thừa cân', 'Thừa cân', 'Bình thường', 'Bình thường', 'Bình thường']\n",
       "Categories (3, object): ['Nhẹ cân' < 'Bình thường' < 'Thừa cân']"
      ]
     },
     "execution_count": 23,
     "metadata": {},
     "output_type": "execute_result"
    }
   ],
   "source": [
    "bmi_newlabels = [\"Nhẹ cân\", \"Bình thường\", \"Thừa cân\"]\n",
    "bmi_dict = dict(zip(bmi_labels, bmi_newlabels))\n",
    "\n",
    "s4_cat.rename_categories(bmi_dict)"
   ]
  },
  {
   "cell_type": "code",
   "execution_count": 24,
   "metadata": {},
   "outputs": [
    {
     "data": {
      "text/plain": [
       "['Bình thường', 'Bình thường', 'Thừa cân', 'Nhẹ cân', 'Thừa cân', 'Thừa cân', 'Thừa cân', 'Bình thường', 'Bình thường', 'Bình thường']\n",
       "Categories (3, object): ['Nhẹ cân' < 'Bình thường' < 'Thừa cân']"
      ]
     },
     "execution_count": 24,
     "metadata": {},
     "output_type": "execute_result"
    }
   ],
   "source": [
    "s4_cat.rename_categories(bmi_newlabels)"
   ]
  },
  {
   "cell_type": "markdown",
   "metadata": {},
   "source": [
    "### Thêm bớt hạng mục\n",
    "\n",
    "Bạn không thể cung cấp dữ liệu mới là các hạng mục không tồn tại trong danh sách hạng mục hiện tại. Trước khi thêm dữ liệu như vậy, bạn cần mở rộng danh sách hạng mục."
   ]
  },
  {
   "cell_type": "code",
   "execution_count": 25,
   "metadata": {},
   "outputs": [
    {
     "data": {
      "text/plain": [
       "Index(['Underweight', 'Normal', 'Overweight'], dtype='object')"
      ]
     },
     "execution_count": 25,
     "metadata": {},
     "output_type": "execute_result"
    }
   ],
   "source": [
    "s4_cat.categories"
   ]
  },
  {
   "cell_type": "code",
   "execution_count": 26,
   "metadata": {},
   "outputs": [
    {
     "data": {
      "text/plain": [
       "Index(['Underweight', 'Normal', 'Overweight', 'Obese'], dtype='object')"
      ]
     },
     "execution_count": 26,
     "metadata": {},
     "output_type": "execute_result"
    }
   ],
   "source": [
    "s4_cat = s4_cat.add_categories(\"Obese\")\n",
    "s4_cat.categories"
   ]
  },
  {
   "cell_type": "code",
   "execution_count": 27,
   "metadata": {},
   "outputs": [
    {
     "data": {
      "text/plain": [
       "['Obese', 'Normal', 'Overweight', 'Underweight', 'Overweight', 'Overweight', 'Overweight', 'Normal', 'Normal', 'Normal']\n",
       "Categories (4, object): ['Underweight' < 'Normal' < 'Overweight' < 'Obese']"
      ]
     },
     "execution_count": 27,
     "metadata": {},
     "output_type": "execute_result"
    }
   ],
   "source": [
    "s4_cat[0] = \"Obese\"\n",
    "s4_cat"
   ]
  },
  {
   "cell_type": "markdown",
   "metadata": {},
   "source": [
    "Khi phân tích số liệu, Pandas sẽ hiển thị kết quả phân tích cho tất cả các hạng mục, kể cả khi không có bản ghi nào."
   ]
  },
  {
   "cell_type": "code",
   "execution_count": 28,
   "metadata": {},
   "outputs": [
    {
     "data": {
      "text/html": [
       "<div>\n",
       "<style scoped>\n",
       "    .dataframe tbody tr th:only-of-type {\n",
       "        vertical-align: middle;\n",
       "    }\n",
       "\n",
       "    .dataframe tbody tr th {\n",
       "        vertical-align: top;\n",
       "    }\n",
       "\n",
       "    .dataframe thead th {\n",
       "        text-align: right;\n",
       "    }\n",
       "</style>\n",
       "<table border=\"1\" class=\"dataframe\">\n",
       "  <thead>\n",
       "    <tr style=\"text-align: right;\">\n",
       "      <th></th>\n",
       "      <th>id</th>\n",
       "      <th>sex</th>\n",
       "      <th>bmi</th>\n",
       "    </tr>\n",
       "  </thead>\n",
       "  <tbody>\n",
       "    <tr>\n",
       "      <th>0</th>\n",
       "      <td>0</td>\n",
       "      <td>F</td>\n",
       "      <td>33.317567</td>\n",
       "    </tr>\n",
       "    <tr>\n",
       "      <th>1</th>\n",
       "      <td>1</td>\n",
       "      <td>M</td>\n",
       "      <td>21.250406</td>\n",
       "    </tr>\n",
       "    <tr>\n",
       "      <th>2</th>\n",
       "      <td>2</td>\n",
       "      <td>F</td>\n",
       "      <td>23.020947</td>\n",
       "    </tr>\n",
       "    <tr>\n",
       "      <th>3</th>\n",
       "      <td>3</td>\n",
       "      <td>F</td>\n",
       "      <td>23.217984</td>\n",
       "    </tr>\n",
       "    <tr>\n",
       "      <th>4</th>\n",
       "      <td>4</td>\n",
       "      <td>M</td>\n",
       "      <td>26.648561</td>\n",
       "    </tr>\n",
       "    <tr>\n",
       "      <th>5</th>\n",
       "      <td>5</td>\n",
       "      <td>M</td>\n",
       "      <td>28.696146</td>\n",
       "    </tr>\n",
       "    <tr>\n",
       "      <th>6</th>\n",
       "      <td>6</td>\n",
       "      <td>F</td>\n",
       "      <td>21.447617</td>\n",
       "    </tr>\n",
       "    <tr>\n",
       "      <th>7</th>\n",
       "      <td>7</td>\n",
       "      <td>F</td>\n",
       "      <td>16.369787</td>\n",
       "    </tr>\n",
       "    <tr>\n",
       "      <th>8</th>\n",
       "      <td>8</td>\n",
       "      <td>F</td>\n",
       "      <td>23.585225</td>\n",
       "    </tr>\n",
       "    <tr>\n",
       "      <th>9</th>\n",
       "      <td>9</td>\n",
       "      <td>F</td>\n",
       "      <td>21.862031</td>\n",
       "    </tr>\n",
       "  </tbody>\n",
       "</table>\n",
       "</div>"
      ],
      "text/plain": [
       "   id sex        bmi\n",
       "0   0   F  33.317567\n",
       "1   1   M  21.250406\n",
       "2   2   F  23.020947\n",
       "3   3   F  23.217984\n",
       "4   4   M  26.648561\n",
       "5   5   M  28.696146\n",
       "6   6   F  21.447617\n",
       "7   7   F  16.369787\n",
       "8   8   F  23.585225\n",
       "9   9   F  21.862031"
      ]
     },
     "execution_count": 28,
     "metadata": {},
     "output_type": "execute_result"
    }
   ],
   "source": [
    "n = 10\n",
    "d3 = pd.DataFrame({\n",
    "    \"id\": range(n),\n",
    "    \"sex\": pd.Categorical(np.random.choice([\"M\", \"F\"], size=n, replace=True),\n",
    "        categories=[\"M\", \"F\", \"Other\"]),\n",
    "    \"bmi\": np.random.uniform(16, 35, size=n)\n",
    "})\n",
    "\n",
    "d3"
   ]
  },
  {
   "cell_type": "code",
   "execution_count": 29,
   "metadata": {},
   "outputs": [
    {
     "data": {
      "text/plain": [
       "F        7\n",
       "M        3\n",
       "Other    0\n",
       "Name: sex, dtype: int64"
      ]
     },
     "execution_count": 29,
     "metadata": {},
     "output_type": "execute_result"
    }
   ],
   "source": [
    "d3[\"sex\"].value_counts()"
   ]
  },
  {
   "cell_type": "markdown",
   "metadata": {},
   "source": [
    "Bạn có thể sẽ muốn loại bỏ những hạng mục không tồn tại trong bộ số liệu, ví dụ khi tính BMI theo giới."
   ]
  },
  {
   "cell_type": "code",
   "execution_count": 30,
   "metadata": {},
   "outputs": [
    {
     "data": {
      "text/html": [
       "<div>\n",
       "<style scoped>\n",
       "    .dataframe tbody tr th:only-of-type {\n",
       "        vertical-align: middle;\n",
       "    }\n",
       "\n",
       "    .dataframe tbody tr th {\n",
       "        vertical-align: top;\n",
       "    }\n",
       "\n",
       "    .dataframe thead th {\n",
       "        text-align: right;\n",
       "    }\n",
       "</style>\n",
       "<table border=\"1\" class=\"dataframe\">\n",
       "  <thead>\n",
       "    <tr style=\"text-align: right;\">\n",
       "      <th></th>\n",
       "      <th>mean</th>\n",
       "      <th>std</th>\n",
       "    </tr>\n",
       "    <tr>\n",
       "      <th>sex</th>\n",
       "      <th></th>\n",
       "      <th></th>\n",
       "    </tr>\n",
       "  </thead>\n",
       "  <tbody>\n",
       "    <tr>\n",
       "      <th>M</th>\n",
       "      <td>25.531704</td>\n",
       "      <td>3.846465</td>\n",
       "    </tr>\n",
       "    <tr>\n",
       "      <th>F</th>\n",
       "      <td>23.260165</td>\n",
       "      <td>5.066778</td>\n",
       "    </tr>\n",
       "    <tr>\n",
       "      <th>Other</th>\n",
       "      <td>NaN</td>\n",
       "      <td>NaN</td>\n",
       "    </tr>\n",
       "  </tbody>\n",
       "</table>\n",
       "</div>"
      ],
      "text/plain": [
       "            mean       std\n",
       "sex                       \n",
       "M      25.531704  3.846465\n",
       "F      23.260165  5.066778\n",
       "Other        NaN       NaN"
      ]
     },
     "execution_count": 30,
     "metadata": {},
     "output_type": "execute_result"
    }
   ],
   "source": [
    "d3.groupby(\"sex\")[\"bmi\"].agg([\"mean\", \"std\"])"
   ]
  },
  {
   "cell_type": "markdown",
   "metadata": {},
   "source": [
    "Chúng ta có thể loại bỏ từng hạng mục cụ thể, hoặc loại bỏ tất cả các hạng mục không dùng đến."
   ]
  },
  {
   "cell_type": "code",
   "execution_count": 31,
   "metadata": {},
   "outputs": [
    {
     "data": {
      "text/plain": [
       "0    F\n",
       "1    M\n",
       "2    F\n",
       "3    F\n",
       "4    M\n",
       "5    M\n",
       "6    F\n",
       "7    F\n",
       "8    F\n",
       "9    F\n",
       "Name: sex, dtype: category\n",
       "Categories (2, object): ['M', 'F']"
      ]
     },
     "execution_count": 31,
     "metadata": {},
     "output_type": "execute_result"
    }
   ],
   "source": [
    "d3[\"sex\"].cat.remove_categories(\"Other\")"
   ]
  },
  {
   "cell_type": "code",
   "execution_count": 32,
   "metadata": {},
   "outputs": [
    {
     "data": {
      "text/html": [
       "<div>\n",
       "<style scoped>\n",
       "    .dataframe tbody tr th:only-of-type {\n",
       "        vertical-align: middle;\n",
       "    }\n",
       "\n",
       "    .dataframe tbody tr th {\n",
       "        vertical-align: top;\n",
       "    }\n",
       "\n",
       "    .dataframe thead th {\n",
       "        text-align: right;\n",
       "    }\n",
       "</style>\n",
       "<table border=\"1\" class=\"dataframe\">\n",
       "  <thead>\n",
       "    <tr style=\"text-align: right;\">\n",
       "      <th></th>\n",
       "      <th>mean</th>\n",
       "      <th>std</th>\n",
       "    </tr>\n",
       "    <tr>\n",
       "      <th>sex</th>\n",
       "      <th></th>\n",
       "      <th></th>\n",
       "    </tr>\n",
       "  </thead>\n",
       "  <tbody>\n",
       "    <tr>\n",
       "      <th>M</th>\n",
       "      <td>25.531704</td>\n",
       "      <td>3.846465</td>\n",
       "    </tr>\n",
       "    <tr>\n",
       "      <th>F</th>\n",
       "      <td>23.260165</td>\n",
       "      <td>5.066778</td>\n",
       "    </tr>\n",
       "  </tbody>\n",
       "</table>\n",
       "</div>"
      ],
      "text/plain": [
       "          mean       std\n",
       "sex                     \n",
       "M    25.531704  3.846465\n",
       "F    23.260165  5.066778"
      ]
     },
     "execution_count": 32,
     "metadata": {},
     "output_type": "execute_result"
    }
   ],
   "source": [
    "d3[\"sex\"] = d3[\"sex\"].cat.remove_unused_categories()\n",
    "\n",
    "d3.groupby(\"sex\")[\"bmi\"].agg([\"mean\", \"std\"])"
   ]
  },
  {
   "cell_type": "markdown",
   "metadata": {},
   "source": [
    "Bạn có thể sắp xếp lại các hạng mục theo thứ tự nhất định để phục vụ việc hiển thị phân tích số liệu. Ví dụ, chúng ta muốn kết quả phân tích sẽ hiển thị Nữ (\"F\") trước Nam (\"M\")."
   ]
  },
  {
   "cell_type": "code",
   "execution_count": 33,
   "metadata": {},
   "outputs": [
    {
     "data": {
      "text/plain": [
       "0    F\n",
       "1    M\n",
       "2    F\n",
       "3    F\n",
       "4    M\n",
       "5    M\n",
       "6    F\n",
       "7    F\n",
       "8    F\n",
       "9    F\n",
       "Name: sex, dtype: category\n",
       "Categories (2, object): ['F', 'M']"
      ]
     },
     "execution_count": 33,
     "metadata": {},
     "output_type": "execute_result"
    }
   ],
   "source": [
    "d3[\"sex\"] = d3[\"sex\"].cat.reorder_categories([\"F\", \"M\"])\n",
    "d3[\"sex\"]"
   ]
  },
  {
   "cell_type": "code",
   "execution_count": 34,
   "metadata": {},
   "outputs": [
    {
     "data": {
      "text/html": [
       "<div>\n",
       "<style scoped>\n",
       "    .dataframe tbody tr th:only-of-type {\n",
       "        vertical-align: middle;\n",
       "    }\n",
       "\n",
       "    .dataframe tbody tr th {\n",
       "        vertical-align: top;\n",
       "    }\n",
       "\n",
       "    .dataframe thead th {\n",
       "        text-align: right;\n",
       "    }\n",
       "</style>\n",
       "<table border=\"1\" class=\"dataframe\">\n",
       "  <thead>\n",
       "    <tr style=\"text-align: right;\">\n",
       "      <th></th>\n",
       "      <th>mean</th>\n",
       "      <th>std</th>\n",
       "    </tr>\n",
       "    <tr>\n",
       "      <th>sex</th>\n",
       "      <th></th>\n",
       "      <th></th>\n",
       "    </tr>\n",
       "  </thead>\n",
       "  <tbody>\n",
       "    <tr>\n",
       "      <th>F</th>\n",
       "      <td>23.260165</td>\n",
       "      <td>5.066778</td>\n",
       "    </tr>\n",
       "    <tr>\n",
       "      <th>M</th>\n",
       "      <td>25.531704</td>\n",
       "      <td>3.846465</td>\n",
       "    </tr>\n",
       "  </tbody>\n",
       "</table>\n",
       "</div>"
      ],
      "text/plain": [
       "          mean       std\n",
       "sex                     \n",
       "F    23.260165  5.066778\n",
       "M    25.531704  3.846465"
      ]
     },
     "execution_count": 34,
     "metadata": {},
     "output_type": "execute_result"
    }
   ],
   "source": [
    "d3.groupby(\"sex\")[\"bmi\"].agg([\"mean\", \"std\"])"
   ]
  },
  {
   "cell_type": "markdown",
   "metadata": {},
   "source": [
    "Với tất cả những kiến thức đã học, chúng ta sẽ sẵn sàng cho ví dụ trong bài sau: tạo ra data dictionary và sử dụng nó để label số liệu dạng code."
   ]
  },
  {
   "cell_type": "markdown",
   "metadata": {},
   "source": [
    "---\n",
    "\n",
    "[Bài trước](./14_datetime.ipynb) - [Danh sách bài](../README.md) - [Bài sau]()"
   ]
  }
 ],
 "metadata": {
  "kernelspec": {
   "display_name": "Python 3.10.7 64-bit",
   "language": "python",
   "name": "python3"
  },
  "language_info": {
   "codemirror_mode": {
    "name": "ipython",
    "version": 3
   },
   "file_extension": ".py",
   "mimetype": "text/x-python",
   "name": "python",
   "nbconvert_exporter": "python",
   "pygments_lexer": "ipython3",
   "version": "3.10.7"
  },
  "orig_nbformat": 4,
  "vscode": {
   "interpreter": {
    "hash": "6a3c7fd02703099d697b86914af8afc6c3883c409bde85e680daef2475a3a8dd"
   }
  }
 },
 "nbformat": 4,
 "nbformat_minor": 2
}
