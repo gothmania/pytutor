{
 "cells": [
  {
   "cell_type": "markdown",
   "metadata": {},
   "source": [
    "# D16 Ví dụ: Data dictionary\n",
    "\n",
    "## Mục đích\n",
    "\n",
    "Áp dụng tất cả những kiến thức đã học về Pandas để xây dựng một công cụ rất quan trọng trong quản lí số liệu: từ điển số liệu (data dictionary, codebook).\n",
    "\n",
    "\n",
    "## Bài toán\n",
    "\n",
    "Thông thường khi nhập liệu và xuất số liệu để phân tích, số liệu của bạn sẽ nằm ở một trong hai định dạng: mã hóa (code) hoặc dán nhãn (label). Những người làm phân tích số liệu chuyên nghiệp thường không thích số liệu dán nhãn vì có thể họ sẽ muốn điều chỉnh số liệu trước khi phân tích (chẳng hạn, nhóm trình độ học vấn \"Cấp 1\", \"Cấp 2\" và \"Cấp 3\" thành \"Từ cấp 3 trở xuống\"). Ngoài ra, tên biến cũng là một vấn đề: tên biến code là \"hads_02\" nhưng label sẽ là \"2. Tôi vẫn có hứng thú với những thứ từng có hứng thú\"; nếu chúng ta để tên biến dưới dạng label thì nó sẽ rất phiền khi phân tích số liệu. Tóm lại, khi xuất số liệu ra chúng ta nên để dưới dạng code.\n",
    "\n",
    "Điều này dẫn đến việc bạn sẽ phải label lại các biến khi bạn phân tích vì kết quả phân tích không thể để dưới dạng code và gửi đi cho nhóm nghiên cứu hoặc nhà tài trợ. Tuy nhiên, nếu label biến bằng tay, bạn sẽ mất rất nhiều thời gian và khi label thay đổi, bạn sẽ phải lần mò trong các đoạn code để sửa lại. Do vậy, chúng ta cần tìm cách tự động hóa công việc này. Cách đơn giản nhất là sử dụng data dictionary.\n",
    "\n",
    "Quan sát bộ số liệu sau."
   ]
  },
  {
   "cell_type": "code",
   "execution_count": 1,
   "metadata": {},
   "outputs": [
    {
     "data": {
      "text/html": [
       "<div>\n",
       "<style scoped>\n",
       "    .dataframe tbody tr th:only-of-type {\n",
       "        vertical-align: middle;\n",
       "    }\n",
       "\n",
       "    .dataframe tbody tr th {\n",
       "        vertical-align: top;\n",
       "    }\n",
       "\n",
       "    .dataframe thead th {\n",
       "        text-align: right;\n",
       "    }\n",
       "</style>\n",
       "<table border=\"1\" class=\"dataframe\">\n",
       "  <thead>\n",
       "    <tr style=\"text-align: right;\">\n",
       "      <th></th>\n",
       "      <th>id</th>\n",
       "      <th>sex</th>\n",
       "      <th>age</th>\n",
       "      <th>edu</th>\n",
       "      <th>bmi</th>\n",
       "      <th>tc_1_tngc</th>\n",
       "      <th>tc_2_nrat</th>\n",
       "      <th>tc_3_dnguc</th>\n",
       "    </tr>\n",
       "  </thead>\n",
       "  <tbody>\n",
       "    <tr>\n",
       "      <th>0</th>\n",
       "      <td>1</td>\n",
       "      <td>1</td>\n",
       "      <td>38</td>\n",
       "      <td>3</td>\n",
       "      <td>18.411116</td>\n",
       "      <td>1</td>\n",
       "      <td>1</td>\n",
       "      <td>1</td>\n",
       "    </tr>\n",
       "    <tr>\n",
       "      <th>1</th>\n",
       "      <td>2</td>\n",
       "      <td>2</td>\n",
       "      <td>43</td>\n",
       "      <td>3</td>\n",
       "      <td>21.438402</td>\n",
       "      <td>1</td>\n",
       "      <td>1</td>\n",
       "      <td>0</td>\n",
       "    </tr>\n",
       "    <tr>\n",
       "      <th>2</th>\n",
       "      <td>3</td>\n",
       "      <td>2</td>\n",
       "      <td>21</td>\n",
       "      <td>2</td>\n",
       "      <td>20.884253</td>\n",
       "      <td>1</td>\n",
       "      <td>1</td>\n",
       "      <td>1</td>\n",
       "    </tr>\n",
       "    <tr>\n",
       "      <th>3</th>\n",
       "      <td>4</td>\n",
       "      <td>1</td>\n",
       "      <td>26</td>\n",
       "      <td>3</td>\n",
       "      <td>20.912275</td>\n",
       "      <td>1</td>\n",
       "      <td>1</td>\n",
       "      <td>1</td>\n",
       "    </tr>\n",
       "    <tr>\n",
       "      <th>4</th>\n",
       "      <td>5</td>\n",
       "      <td>2</td>\n",
       "      <td>50</td>\n",
       "      <td>1</td>\n",
       "      <td>20.355965</td>\n",
       "      <td>1</td>\n",
       "      <td>1</td>\n",
       "      <td>1</td>\n",
       "    </tr>\n",
       "  </tbody>\n",
       "</table>\n",
       "</div>"
      ],
      "text/plain": [
       "   id  sex  age  edu        bmi  tc_1_tngc  tc_2_nrat  tc_3_dnguc\n",
       "0   1    1   38    3  18.411116          1          1           1\n",
       "1   2    2   43    3  21.438402          1          1           0\n",
       "2   3    2   21    2  20.884253          1          1           1\n",
       "3   4    1   26    3  20.912275          1          1           1\n",
       "4   5    2   50    1  20.355965          1          1           1"
      ]
     },
     "execution_count": 1,
     "metadata": {},
     "output_type": "execute_result"
    }
   ],
   "source": [
    "import pandas as pd\n",
    "import numpy as np\n",
    "\n",
    "np.random.seed(0)\n",
    "n = 500\n",
    "\n",
    "d = pd.DataFrame({\n",
    "    \"id\": range(1, n + 1),\n",
    "    \"sex\": np.random.choice([1, 2], n, replace=True),\n",
    "    \"age\": np.random.randint(20, 60, n),\n",
    "    \"edu\": np.random.choice([1, 2, 3], n, replace=True, p=[0.2, 0.5, 0.3]),\n",
    "    \"bmi\": np.random.normal(21.5, 1.5, n),\n",
    "    \"tc_1_tngc\": np.random.choice([0, 1], n, replace=True, p=[0.35, 0.65]),\n",
    "    \"tc_2_nrat\": np.random.choice([0, 1], n, replace=True, p=[0.25, 0.75]),\n",
    "    \"tc_3_dnguc\": np.random.choice([0, 1], n, replace=True, p=[0.05, 0.95]),\n",
    "})\n",
    "\n",
    "d.head()"
   ]
  },
  {
   "cell_type": "markdown",
   "metadata": {},
   "source": [
    "Bạn có thể thấy rằng biến `\"sex\"` và `\"edu\"` là biến danh mục (categorical) và đang để ở dạng code. Chúng ta sẽ cần dán nhãn cho nó khi phân tích số liệu. Với những kiến thức đã học, bạn biết rằng chúng ta có thể dùng hàm `replace()` để làm việc này; ví dụ, chúng ta có thể xây dựng một từ điển như sau."
   ]
  },
  {
   "cell_type": "code",
   "execution_count": 2,
   "metadata": {},
   "outputs": [
    {
     "data": {
      "text/html": [
       "<div>\n",
       "<style scoped>\n",
       "    .dataframe tbody tr th:only-of-type {\n",
       "        vertical-align: middle;\n",
       "    }\n",
       "\n",
       "    .dataframe tbody tr th {\n",
       "        vertical-align: top;\n",
       "    }\n",
       "\n",
       "    .dataframe thead th {\n",
       "        text-align: right;\n",
       "    }\n",
       "</style>\n",
       "<table border=\"1\" class=\"dataframe\">\n",
       "  <thead>\n",
       "    <tr style=\"text-align: right;\">\n",
       "      <th></th>\n",
       "      <th>id</th>\n",
       "      <th>sex</th>\n",
       "      <th>age</th>\n",
       "      <th>edu</th>\n",
       "      <th>bmi</th>\n",
       "      <th>tc_1_tngc</th>\n",
       "      <th>tc_2_nrat</th>\n",
       "      <th>tc_3_dnguc</th>\n",
       "    </tr>\n",
       "  </thead>\n",
       "  <tbody>\n",
       "    <tr>\n",
       "      <th>0</th>\n",
       "      <td>1</td>\n",
       "      <td>Nam</td>\n",
       "      <td>38</td>\n",
       "      <td>Đại học trở lên</td>\n",
       "      <td>18.411116</td>\n",
       "      <td>1</td>\n",
       "      <td>1</td>\n",
       "      <td>1</td>\n",
       "    </tr>\n",
       "    <tr>\n",
       "      <th>1</th>\n",
       "      <td>2</td>\n",
       "      <td>Nữ</td>\n",
       "      <td>43</td>\n",
       "      <td>Đại học trở lên</td>\n",
       "      <td>21.438402</td>\n",
       "      <td>1</td>\n",
       "      <td>1</td>\n",
       "      <td>0</td>\n",
       "    </tr>\n",
       "    <tr>\n",
       "      <th>2</th>\n",
       "      <td>3</td>\n",
       "      <td>Nữ</td>\n",
       "      <td>21</td>\n",
       "      <td>Cấp 3</td>\n",
       "      <td>20.884253</td>\n",
       "      <td>1</td>\n",
       "      <td>1</td>\n",
       "      <td>1</td>\n",
       "    </tr>\n",
       "    <tr>\n",
       "      <th>3</th>\n",
       "      <td>4</td>\n",
       "      <td>Nam</td>\n",
       "      <td>26</td>\n",
       "      <td>Đại học trở lên</td>\n",
       "      <td>20.912275</td>\n",
       "      <td>1</td>\n",
       "      <td>1</td>\n",
       "      <td>1</td>\n",
       "    </tr>\n",
       "    <tr>\n",
       "      <th>4</th>\n",
       "      <td>5</td>\n",
       "      <td>Nữ</td>\n",
       "      <td>50</td>\n",
       "      <td>Cấp 2 trở xuống</td>\n",
       "      <td>20.355965</td>\n",
       "      <td>1</td>\n",
       "      <td>1</td>\n",
       "      <td>1</td>\n",
       "    </tr>\n",
       "  </tbody>\n",
       "</table>\n",
       "</div>"
      ],
      "text/plain": [
       "   id  sex  age              edu        bmi  tc_1_tngc  tc_2_nrat  tc_3_dnguc\n",
       "0   1  Nam   38  Đại học trở lên  18.411116          1          1           1\n",
       "1   2   Nữ   43  Đại học trở lên  21.438402          1          1           0\n",
       "2   3   Nữ   21            Cấp 3  20.884253          1          1           1\n",
       "3   4  Nam   26  Đại học trở lên  20.912275          1          1           1\n",
       "4   5   Nữ   50  Cấp 2 trở xuống  20.355965          1          1           1"
      ]
     },
     "execution_count": 2,
     "metadata": {},
     "output_type": "execute_result"
    }
   ],
   "source": [
    "data_dict = {\n",
    "    \"sex\": {1: \"Nam\", 2: \"Nữ\"},\n",
    "    \"edu\": {1: \"Cấp 2 trở xuống\", 2: \"Cấp 3\", 3: \"Đại học trở lên\"}\n",
    "}\n",
    "\n",
    "d.replace(data_dict).head()"
   ]
  },
  {
   "cell_type": "markdown",
   "metadata": {},
   "source": [
    "Hoặc trong một số trường hợp bạn muốn làm như vậy khi phân tích số liệu."
   ]
  },
  {
   "cell_type": "code",
   "execution_count": 3,
   "metadata": {},
   "outputs": [
    {
     "data": {
      "text/html": [
       "<div>\n",
       "<style scoped>\n",
       "    .dataframe tbody tr th:only-of-type {\n",
       "        vertical-align: middle;\n",
       "    }\n",
       "\n",
       "    .dataframe tbody tr th {\n",
       "        vertical-align: top;\n",
       "    }\n",
       "\n",
       "    .dataframe thead th {\n",
       "        text-align: right;\n",
       "    }\n",
       "</style>\n",
       "<table border=\"1\" class=\"dataframe\">\n",
       "  <thead>\n",
       "    <tr style=\"text-align: right;\">\n",
       "      <th></th>\n",
       "      <th>sex</th>\n",
       "      <th>edu</th>\n",
       "      <th>age</th>\n",
       "      <th>bmi</th>\n",
       "    </tr>\n",
       "  </thead>\n",
       "  <tbody>\n",
       "    <tr>\n",
       "      <th>0</th>\n",
       "      <td>Nam</td>\n",
       "      <td>Cấp 2 trở xuống</td>\n",
       "      <td>37.36 (11.70)</td>\n",
       "      <td>21.73 (1.43)</td>\n",
       "    </tr>\n",
       "    <tr>\n",
       "      <th>1</th>\n",
       "      <td>Nam</td>\n",
       "      <td>Cấp 3</td>\n",
       "      <td>41.30 (11.84)</td>\n",
       "      <td>21.63 (1.60)</td>\n",
       "    </tr>\n",
       "    <tr>\n",
       "      <th>2</th>\n",
       "      <td>Nam</td>\n",
       "      <td>Đại học trở lên</td>\n",
       "      <td>39.23 (10.98)</td>\n",
       "      <td>21.34 (1.81)</td>\n",
       "    </tr>\n",
       "    <tr>\n",
       "      <th>3</th>\n",
       "      <td>Nữ</td>\n",
       "      <td>Cấp 2 trở xuống</td>\n",
       "      <td>37.62 (11.47)</td>\n",
       "      <td>21.38 (1.37)</td>\n",
       "    </tr>\n",
       "    <tr>\n",
       "      <th>4</th>\n",
       "      <td>Nữ</td>\n",
       "      <td>Cấp 3</td>\n",
       "      <td>39.47 (11.82)</td>\n",
       "      <td>21.56 (1.46)</td>\n",
       "    </tr>\n",
       "    <tr>\n",
       "      <th>5</th>\n",
       "      <td>Nữ</td>\n",
       "      <td>Đại học trở lên</td>\n",
       "      <td>39.49 (11.88)</td>\n",
       "      <td>21.52 (1.59)</td>\n",
       "    </tr>\n",
       "  </tbody>\n",
       "</table>\n",
       "</div>"
      ],
      "text/plain": [
       "   sex              edu            age           bmi\n",
       "0  Nam  Cấp 2 trở xuống  37.36 (11.70)  21.73 (1.43)\n",
       "1  Nam            Cấp 3  41.30 (11.84)  21.63 (1.60)\n",
       "2  Nam  Đại học trở lên  39.23 (10.98)  21.34 (1.81)\n",
       "3   Nữ  Cấp 2 trở xuống  37.62 (11.47)  21.38 (1.37)\n",
       "4   Nữ            Cấp 3  39.47 (11.82)  21.56 (1.46)\n",
       "5   Nữ  Đại học trở lên  39.49 (11.88)  21.52 (1.59)"
      ]
     },
     "execution_count": 3,
     "metadata": {},
     "output_type": "execute_result"
    }
   ],
   "source": [
    "d.set_index(\"id\").groupby([\"sex\", \"edu\"])[[\"age\", \"bmi\"]] \\\n",
    "    .agg([\"mean\", \"std\"]) \\\n",
    "    .stack(0).apply(lambda x: \"{:.2f} ({:.2f})\".format(*x), axis=1) \\\n",
    "    .unstack(-1).reset_index() \\\n",
    "    .replace(data_dict)"
   ]
  },
  {
   "cell_type": "markdown",
   "metadata": {},
   "source": [
    "Nhưng câu hỏi đặt ra là chúng ta sẽ xây dựng từ điển này như thế nào? Thông thường, chúng ta sẽ lưu nó vào trong một sheet trong Excel hoặc các công cụ bảng tính khác như thế này."
   ]
  },
  {
   "cell_type": "code",
   "execution_count": 4,
   "metadata": {},
   "outputs": [
    {
     "data": {
      "text/html": [
       "<div>\n",
       "<style scoped>\n",
       "    .dataframe tbody tr th:only-of-type {\n",
       "        vertical-align: middle;\n",
       "    }\n",
       "\n",
       "    .dataframe tbody tr th {\n",
       "        vertical-align: top;\n",
       "    }\n",
       "\n",
       "    .dataframe thead th {\n",
       "        text-align: right;\n",
       "    }\n",
       "</style>\n",
       "<table border=\"1\" class=\"dataframe\">\n",
       "  <thead>\n",
       "    <tr style=\"text-align: right;\">\n",
       "      <th></th>\n",
       "      <th>list_name</th>\n",
       "      <th>code</th>\n",
       "      <th>label</th>\n",
       "    </tr>\n",
       "  </thead>\n",
       "  <tbody>\n",
       "    <tr>\n",
       "      <th>0</th>\n",
       "      <td>sex</td>\n",
       "      <td>1</td>\n",
       "      <td>Nam</td>\n",
       "    </tr>\n",
       "    <tr>\n",
       "      <th>1</th>\n",
       "      <td>sex</td>\n",
       "      <td>2</td>\n",
       "      <td>Nữ</td>\n",
       "    </tr>\n",
       "    <tr>\n",
       "      <th>0</th>\n",
       "      <td>edu</td>\n",
       "      <td>1</td>\n",
       "      <td>Cấp 2 trở xuống</td>\n",
       "    </tr>\n",
       "    <tr>\n",
       "      <th>1</th>\n",
       "      <td>edu</td>\n",
       "      <td>2</td>\n",
       "      <td>Cấp 3</td>\n",
       "    </tr>\n",
       "    <tr>\n",
       "      <th>2</th>\n",
       "      <td>edu</td>\n",
       "      <td>3</td>\n",
       "      <td>Đại học trở lên</td>\n",
       "    </tr>\n",
       "  </tbody>\n",
       "</table>\n",
       "</div>"
      ],
      "text/plain": [
       "  list_name  code            label\n",
       "0       sex     1              Nam\n",
       "1       sex     2               Nữ\n",
       "0       edu     1  Cấp 2 trở xuống\n",
       "1       edu     2            Cấp 3\n",
       "2       edu     3  Đại học trở lên"
      ]
     },
     "execution_count": 4,
     "metadata": {},
     "output_type": "execute_result"
    }
   ],
   "source": [
    "d_codes = pd.concat(list(map(\n",
    "    lambda x: pd.DataFrame([{\"list_name\": x, \"code\": code, \"label\": value}\n",
    "        for code, value in data_dict[x].items()]),\n",
    "    data_dict.keys()\n",
    ")))\n",
    "\n",
    "d_codes"
   ]
  },
  {
   "cell_type": "markdown",
   "metadata": {},
   "source": [
    "Bạn có thể thấy trong bộ số liệu ở trên của chúng ta, có 3 trường triệu chứng là biến nhị phân (binary). Thông thường chúng ta sẽ mã hóa chung các biến nhị phân giống nhau (ví dụ, 1=Có, 0=Không). Do đó, tất cả các trường này đều chỉ cần một danh sách code."
   ]
  },
  {
   "cell_type": "code",
   "execution_count": 5,
   "metadata": {},
   "outputs": [
    {
     "data": {
      "text/html": [
       "<div>\n",
       "<style scoped>\n",
       "    .dataframe tbody tr th:only-of-type {\n",
       "        vertical-align: middle;\n",
       "    }\n",
       "\n",
       "    .dataframe tbody tr th {\n",
       "        vertical-align: top;\n",
       "    }\n",
       "\n",
       "    .dataframe thead th {\n",
       "        text-align: right;\n",
       "    }\n",
       "</style>\n",
       "<table border=\"1\" class=\"dataframe\">\n",
       "  <thead>\n",
       "    <tr style=\"text-align: right;\">\n",
       "      <th></th>\n",
       "      <th>list_name</th>\n",
       "      <th>code</th>\n",
       "      <th>label</th>\n",
       "    </tr>\n",
       "  </thead>\n",
       "  <tbody>\n",
       "    <tr>\n",
       "      <th>0</th>\n",
       "      <td>sex</td>\n",
       "      <td>1</td>\n",
       "      <td>Nam</td>\n",
       "    </tr>\n",
       "    <tr>\n",
       "      <th>1</th>\n",
       "      <td>sex</td>\n",
       "      <td>2</td>\n",
       "      <td>Nữ</td>\n",
       "    </tr>\n",
       "    <tr>\n",
       "      <th>0</th>\n",
       "      <td>edu</td>\n",
       "      <td>1</td>\n",
       "      <td>Cấp 2 trở xuống</td>\n",
       "    </tr>\n",
       "    <tr>\n",
       "      <th>1</th>\n",
       "      <td>edu</td>\n",
       "      <td>2</td>\n",
       "      <td>Cấp 3</td>\n",
       "    </tr>\n",
       "    <tr>\n",
       "      <th>2</th>\n",
       "      <td>edu</td>\n",
       "      <td>3</td>\n",
       "      <td>Đại học trở lên</td>\n",
       "    </tr>\n",
       "    <tr>\n",
       "      <th>0</th>\n",
       "      <td>yesno</td>\n",
       "      <td>0</td>\n",
       "      <td>Không</td>\n",
       "    </tr>\n",
       "    <tr>\n",
       "      <th>1</th>\n",
       "      <td>yesno</td>\n",
       "      <td>1</td>\n",
       "      <td>Có</td>\n",
       "    </tr>\n",
       "  </tbody>\n",
       "</table>\n",
       "</div>"
      ],
      "text/plain": [
       "  list_name  code            label\n",
       "0       sex     1              Nam\n",
       "1       sex     2               Nữ\n",
       "0       edu     1  Cấp 2 trở xuống\n",
       "1       edu     2            Cấp 3\n",
       "2       edu     3  Đại học trở lên\n",
       "0     yesno     0            Không\n",
       "1     yesno     1               Có"
      ]
     },
     "execution_count": 5,
     "metadata": {},
     "output_type": "execute_result"
    }
   ],
   "source": [
    "d_codes = pd.concat([d_codes,\n",
    "    pd.DataFrame({\n",
    "        \"list_name\": \"yesno\",\n",
    "        \"code\": [0, 1],\n",
    "        \"label\": [\"Không\", \"Có\"],\n",
    "    })\n",
    "])\n",
    "\n",
    "d_codes"
   ]
  },
  {
   "cell_type": "markdown",
   "metadata": {},
   "source": [
    "Trong trường hợp này, bạn sẽ cần thêm một \"từ điển\" nữa, ghi danh sách các biến và tên \"code list\" tương ứng của chúng."
   ]
  },
  {
   "cell_type": "code",
   "execution_count": 6,
   "metadata": {},
   "outputs": [
    {
     "data": {
      "text/html": [
       "<div>\n",
       "<style scoped>\n",
       "    .dataframe tbody tr th:only-of-type {\n",
       "        vertical-align: middle;\n",
       "    }\n",
       "\n",
       "    .dataframe tbody tr th {\n",
       "        vertical-align: top;\n",
       "    }\n",
       "\n",
       "    .dataframe thead th {\n",
       "        text-align: right;\n",
       "    }\n",
       "</style>\n",
       "<table border=\"1\" class=\"dataframe\">\n",
       "  <thead>\n",
       "    <tr style=\"text-align: right;\">\n",
       "      <th></th>\n",
       "      <th>var</th>\n",
       "      <th>label</th>\n",
       "      <th>list_name</th>\n",
       "    </tr>\n",
       "  </thead>\n",
       "  <tbody>\n",
       "    <tr>\n",
       "      <th>0</th>\n",
       "      <td>id</td>\n",
       "      <td>STT</td>\n",
       "      <td>NaN</td>\n",
       "    </tr>\n",
       "    <tr>\n",
       "      <th>1</th>\n",
       "      <td>sex</td>\n",
       "      <td>Giới</td>\n",
       "      <td>sex</td>\n",
       "    </tr>\n",
       "    <tr>\n",
       "      <th>2</th>\n",
       "      <td>age</td>\n",
       "      <td>Tuổi</td>\n",
       "      <td>NaN</td>\n",
       "    </tr>\n",
       "    <tr>\n",
       "      <th>3</th>\n",
       "      <td>edu</td>\n",
       "      <td>Trình độ học vấn</td>\n",
       "      <td>edu</td>\n",
       "    </tr>\n",
       "    <tr>\n",
       "      <th>4</th>\n",
       "      <td>bmi</td>\n",
       "      <td>BMI</td>\n",
       "      <td>NaN</td>\n",
       "    </tr>\n",
       "    <tr>\n",
       "      <th>5</th>\n",
       "      <td>tc_1_tngc</td>\n",
       "      <td>Trào ngược</td>\n",
       "      <td>yesno</td>\n",
       "    </tr>\n",
       "    <tr>\n",
       "      <th>6</th>\n",
       "      <td>tc_2_nrat</td>\n",
       "      <td>Nóng rát</td>\n",
       "      <td>yesno</td>\n",
       "    </tr>\n",
       "    <tr>\n",
       "      <th>7</th>\n",
       "      <td>tc_3_dnguc</td>\n",
       "      <td>Đau ngực</td>\n",
       "      <td>yesno</td>\n",
       "    </tr>\n",
       "  </tbody>\n",
       "</table>\n",
       "</div>"
      ],
      "text/plain": [
       "          var             label list_name\n",
       "0          id               STT       NaN\n",
       "1         sex              Giới       sex\n",
       "2         age              Tuổi       NaN\n",
       "3         edu  Trình độ học vấn       edu\n",
       "4         bmi               BMI       NaN\n",
       "5   tc_1_tngc        Trào ngược     yesno\n",
       "6   tc_2_nrat          Nóng rát     yesno\n",
       "7  tc_3_dnguc          Đau ngực     yesno"
      ]
     },
     "execution_count": 6,
     "metadata": {},
     "output_type": "execute_result"
    }
   ],
   "source": [
    "d_vars = pd.DataFrame({\n",
    "    \"var\": d.columns,\n",
    "    \"label\": [\"STT\", \"Giới\", \"Tuổi\", \"Trình độ học vấn\",\n",
    "        \"BMI\", \"Trào ngược\", \"Nóng rát\", \"Đau ngực\"],\n",
    "    \"list_name\": [np.nan, \"sex\", np.nan, \"edu\",\n",
    "        np.nan, \"yesno\", \"yesno\", \"yesno\"],\n",
    "})\n",
    "\n",
    "d_vars"
   ]
  },
  {
   "cell_type": "markdown",
   "metadata": {},
   "source": [
    "Với ba bảng `d_vars`, `d_codes`, và `d`, chúng ta đã sẵn sàng cho giải pháp về data dictionary."
   ]
  },
  {
   "cell_type": "markdown",
   "metadata": {},
   "source": [
    "## Giải pháp\n",
    "\n",
    "### Xây dựng từ điển từ `d_codes`\n",
    "\n",
    "Việc đầu tiên, chúng ta sẽ xây dựng từ điển từ các danh sách mã trong `d_codes`. Từ điển này chưa thể dùng cho hàm `replace()` được ngay vì nó chứa danh sách code và label theo `\"list_name\"`, không phải theo tên biến.\n",
    "\n",
    "Chúng ta sẽ xây dựng một hàm tên là `make_dict()` để tạo từ điển từ các cột trong data frame. Chúng ta sẽ dùng nó nhiều lần."
   ]
  },
  {
   "cell_type": "code",
   "execution_count": 7,
   "metadata": {},
   "outputs": [
    {
     "data": {
      "text/plain": [
       "{0: 'Không', 1: 'Có'}"
      ]
     },
     "execution_count": 7,
     "metadata": {},
     "output_type": "execute_result"
    }
   ],
   "source": [
    "def make_dict(d: pd.DataFrame, key_col: str, value_col: str) -> dict:\n",
    "    return dict(zip(d[key_col], d[value_col]))\n",
    "\n",
    "make_dict(d_codes.query(\"list_name == 'yesno'\"), \"code\", \"label\")"
   ]
  },
  {
   "cell_type": "markdown",
   "metadata": {},
   "source": [
    "Như bạn thấy, chúng ta có thể dễ dàng tạo ra một từ điển cho từng `\"list_name\"`. Bây giờ làm thế nào để tạo ra từ điển cho tất cả các danh sách này? Nếu bạn còn nhớ hàm `groupby()` của Pandas, đây sẽ là công cụ hữu dụng."
   ]
  },
  {
   "cell_type": "code",
   "execution_count": 8,
   "metadata": {},
   "outputs": [
    {
     "data": {
      "text/plain": [
       "{'edu': {1: 'Cấp 2 trở xuống', 2: 'Cấp 3', 3: 'Đại học trở lên'},\n",
       " 'sex': {1: 'Nam', 2: 'Nữ'},\n",
       " 'yesno': {0: 'Không', 1: 'Có'}}"
      ]
     },
     "execution_count": 8,
     "metadata": {},
     "output_type": "execute_result"
    }
   ],
   "source": [
    "def make_codes_dict(d: pd.DataFrame, listname_col: str, key_col: str, value_col: str) -> dict[str, dict]:\n",
    "    d_grpby = d.groupby(listname_col)\n",
    "    return {\n",
    "        list_name: make_dict(d_grpby.get_group(list_name), key_col, value_col)\n",
    "        for list_name in d_grpby.groups\n",
    "    }\n",
    "\n",
    "codes_dict = make_codes_dict(d_codes, \"list_name\", \"code\", \"label\")\n",
    "codes_dict"
   ]
  },
  {
   "cell_type": "markdown",
   "metadata": {},
   "source": [
    "### Xây dựng từ điển cho hàm `replace()`\n",
    "\n",
    "Công việc này sẽ gồm hai bước. Bước đầu tiên, chúng ta sẽ lọc ra các biến nào là biến danh mục (có trường `\"list_name\"` không phải NA) để xây dựng một từ điển từ `\"var\"` sang `\"list_name\"`, sau đó bước hai là dùng từ điển này để xây dựng từ điển cho hàm `replace()`."
   ]
  },
  {
   "cell_type": "code",
   "execution_count": 9,
   "metadata": {},
   "outputs": [
    {
     "data": {
      "text/plain": [
       "{'sex': 'sex',\n",
       " 'edu': 'edu',\n",
       " 'tc_1_tngc': 'yesno',\n",
       " 'tc_2_nrat': 'yesno',\n",
       " 'tc_3_dnguc': 'yesno'}"
      ]
     },
     "execution_count": 9,
     "metadata": {},
     "output_type": "execute_result"
    }
   ],
   "source": [
    "vars_dict = make_dict(d_vars.query(\"list_name.notna()\"), \"var\", \"list_name\")\n",
    "vars_dict"
   ]
  },
  {
   "cell_type": "code",
   "execution_count": 10,
   "metadata": {},
   "outputs": [
    {
     "data": {
      "text/plain": [
       "{'sex': {1: 'Nam', 2: 'Nữ'},\n",
       " 'edu': {1: 'Cấp 2 trở xuống', 2: 'Cấp 3', 3: 'Đại học trở lên'},\n",
       " 'tc_1_tngc': {0: 'Không', 1: 'Có'},\n",
       " 'tc_2_nrat': {0: 'Không', 1: 'Có'},\n",
       " 'tc_3_dnguc': {0: 'Không', 1: 'Có'}}"
      ]
     },
     "execution_count": 10,
     "metadata": {},
     "output_type": "execute_result"
    }
   ],
   "source": [
    "replace_dict = {v: codes_dict[list_name] for v, list_name in vars_dict.items()}\n",
    "replace_dict"
   ]
  },
  {
   "cell_type": "markdown",
   "metadata": {},
   "source": [
    "Hãy cùng xem kết quả."
   ]
  },
  {
   "cell_type": "code",
   "execution_count": 11,
   "metadata": {},
   "outputs": [
    {
     "data": {
      "text/html": [
       "<div>\n",
       "<style scoped>\n",
       "    .dataframe tbody tr th:only-of-type {\n",
       "        vertical-align: middle;\n",
       "    }\n",
       "\n",
       "    .dataframe tbody tr th {\n",
       "        vertical-align: top;\n",
       "    }\n",
       "\n",
       "    .dataframe thead th {\n",
       "        text-align: right;\n",
       "    }\n",
       "</style>\n",
       "<table border=\"1\" class=\"dataframe\">\n",
       "  <thead>\n",
       "    <tr style=\"text-align: right;\">\n",
       "      <th></th>\n",
       "      <th>id</th>\n",
       "      <th>sex</th>\n",
       "      <th>age</th>\n",
       "      <th>edu</th>\n",
       "      <th>bmi</th>\n",
       "      <th>tc_1_tngc</th>\n",
       "      <th>tc_2_nrat</th>\n",
       "      <th>tc_3_dnguc</th>\n",
       "    </tr>\n",
       "  </thead>\n",
       "  <tbody>\n",
       "    <tr>\n",
       "      <th>0</th>\n",
       "      <td>1</td>\n",
       "      <td>Nam</td>\n",
       "      <td>38</td>\n",
       "      <td>Đại học trở lên</td>\n",
       "      <td>18.411116</td>\n",
       "      <td>Có</td>\n",
       "      <td>Có</td>\n",
       "      <td>Có</td>\n",
       "    </tr>\n",
       "    <tr>\n",
       "      <th>1</th>\n",
       "      <td>2</td>\n",
       "      <td>Nữ</td>\n",
       "      <td>43</td>\n",
       "      <td>Đại học trở lên</td>\n",
       "      <td>21.438402</td>\n",
       "      <td>Có</td>\n",
       "      <td>Có</td>\n",
       "      <td>Không</td>\n",
       "    </tr>\n",
       "    <tr>\n",
       "      <th>2</th>\n",
       "      <td>3</td>\n",
       "      <td>Nữ</td>\n",
       "      <td>21</td>\n",
       "      <td>Cấp 3</td>\n",
       "      <td>20.884253</td>\n",
       "      <td>Có</td>\n",
       "      <td>Có</td>\n",
       "      <td>Có</td>\n",
       "    </tr>\n",
       "    <tr>\n",
       "      <th>3</th>\n",
       "      <td>4</td>\n",
       "      <td>Nam</td>\n",
       "      <td>26</td>\n",
       "      <td>Đại học trở lên</td>\n",
       "      <td>20.912275</td>\n",
       "      <td>Có</td>\n",
       "      <td>Có</td>\n",
       "      <td>Có</td>\n",
       "    </tr>\n",
       "    <tr>\n",
       "      <th>4</th>\n",
       "      <td>5</td>\n",
       "      <td>Nữ</td>\n",
       "      <td>50</td>\n",
       "      <td>Cấp 2 trở xuống</td>\n",
       "      <td>20.355965</td>\n",
       "      <td>Có</td>\n",
       "      <td>Có</td>\n",
       "      <td>Có</td>\n",
       "    </tr>\n",
       "  </tbody>\n",
       "</table>\n",
       "</div>"
      ],
      "text/plain": [
       "   id  sex  age              edu        bmi tc_1_tngc tc_2_nrat tc_3_dnguc\n",
       "0   1  Nam   38  Đại học trở lên  18.411116        Có        Có         Có\n",
       "1   2   Nữ   43  Đại học trở lên  21.438402        Có        Có      Không\n",
       "2   3   Nữ   21            Cấp 3  20.884253        Có        Có         Có\n",
       "3   4  Nam   26  Đại học trở lên  20.912275        Có        Có         Có\n",
       "4   5   Nữ   50  Cấp 2 trở xuống  20.355965        Có        Có         Có"
      ]
     },
     "execution_count": 11,
     "metadata": {},
     "output_type": "execute_result"
    }
   ],
   "source": [
    "d_labeled = d.replace(replace_dict)\n",
    "d_labeled.head()"
   ]
  },
  {
   "cell_type": "code",
   "execution_count": 12,
   "metadata": {},
   "outputs": [
    {
     "data": {
      "text/plain": [
       "{'id': 'STT',\n",
       " 'sex': 'Giới',\n",
       " 'age': 'Tuổi',\n",
       " 'edu': 'Trình độ học vấn',\n",
       " 'bmi': 'BMI',\n",
       " 'tc_1_tngc': 'Trào ngược',\n",
       " 'tc_2_nrat': 'Nóng rát',\n",
       " 'tc_3_dnguc': 'Đau ngực'}"
      ]
     },
     "execution_count": 12,
     "metadata": {},
     "output_type": "execute_result"
    }
   ],
   "source": [
    "var_label_dict = make_dict(d_vars, \"var\", \"label\")\n",
    "var_label_dict"
   ]
  },
  {
   "cell_type": "code",
   "execution_count": 13,
   "metadata": {},
   "outputs": [
    {
     "data": {
      "text/html": [
       "<div>\n",
       "<style scoped>\n",
       "    .dataframe tbody tr th:only-of-type {\n",
       "        vertical-align: middle;\n",
       "    }\n",
       "\n",
       "    .dataframe tbody tr th {\n",
       "        vertical-align: top;\n",
       "    }\n",
       "\n",
       "    .dataframe thead th {\n",
       "        text-align: right;\n",
       "    }\n",
       "</style>\n",
       "<table border=\"1\" class=\"dataframe\">\n",
       "  <thead>\n",
       "    <tr style=\"text-align: right;\">\n",
       "      <th></th>\n",
       "      <th>Giới</th>\n",
       "      <th>Trình độ học vấn</th>\n",
       "      <th>Tuổi</th>\n",
       "      <th>BMI</th>\n",
       "    </tr>\n",
       "  </thead>\n",
       "  <tbody>\n",
       "    <tr>\n",
       "      <th>0</th>\n",
       "      <td>Nam</td>\n",
       "      <td>Cấp 2 trở xuống</td>\n",
       "      <td>37.36 (11.70)</td>\n",
       "      <td>21.73 (1.43)</td>\n",
       "    </tr>\n",
       "    <tr>\n",
       "      <th>1</th>\n",
       "      <td>Nam</td>\n",
       "      <td>Cấp 3</td>\n",
       "      <td>41.30 (11.84)</td>\n",
       "      <td>21.63 (1.60)</td>\n",
       "    </tr>\n",
       "    <tr>\n",
       "      <th>2</th>\n",
       "      <td>Nam</td>\n",
       "      <td>Đại học trở lên</td>\n",
       "      <td>39.23 (10.98)</td>\n",
       "      <td>21.34 (1.81)</td>\n",
       "    </tr>\n",
       "    <tr>\n",
       "      <th>3</th>\n",
       "      <td>Nữ</td>\n",
       "      <td>Cấp 2 trở xuống</td>\n",
       "      <td>37.62 (11.47)</td>\n",
       "      <td>21.38 (1.37)</td>\n",
       "    </tr>\n",
       "    <tr>\n",
       "      <th>4</th>\n",
       "      <td>Nữ</td>\n",
       "      <td>Cấp 3</td>\n",
       "      <td>39.47 (11.82)</td>\n",
       "      <td>21.56 (1.46)</td>\n",
       "    </tr>\n",
       "    <tr>\n",
       "      <th>5</th>\n",
       "      <td>Nữ</td>\n",
       "      <td>Đại học trở lên</td>\n",
       "      <td>39.49 (11.88)</td>\n",
       "      <td>21.52 (1.59)</td>\n",
       "    </tr>\n",
       "  </tbody>\n",
       "</table>\n",
       "</div>"
      ],
      "text/plain": [
       "  Giới Trình độ học vấn           Tuổi           BMI\n",
       "0  Nam  Cấp 2 trở xuống  37.36 (11.70)  21.73 (1.43)\n",
       "1  Nam            Cấp 3  41.30 (11.84)  21.63 (1.60)\n",
       "2  Nam  Đại học trở lên  39.23 (10.98)  21.34 (1.81)\n",
       "3   Nữ  Cấp 2 trở xuống  37.62 (11.47)  21.38 (1.37)\n",
       "4   Nữ            Cấp 3  39.47 (11.82)  21.56 (1.46)\n",
       "5   Nữ  Đại học trở lên  39.49 (11.88)  21.52 (1.59)"
      ]
     },
     "execution_count": 13,
     "metadata": {},
     "output_type": "execute_result"
    }
   ],
   "source": [
    "d.set_index(\"id\").groupby([\"sex\", \"edu\"])[[\"age\", \"bmi\"]] \\\n",
    "    .agg([\"mean\", \"std\"]) \\\n",
    "    .stack(0).apply(lambda x: \"{:.2f} ({:.2f})\".format(*x), axis=1) \\\n",
    "    .unstack(-1).reset_index() \\\n",
    "    .replace(data_dict).rename(columns=var_label_dict)"
   ]
  },
  {
   "cell_type": "markdown",
   "metadata": {},
   "source": [
    "## Tạo biến categorical\n",
    "\n",
    "Sau khi `replace()`, bạn có thể sẽ muốn chuyển các biến này thành dạng categorical để tiết kiệm không gian bộ nhớ máy tính và tối ưu hóa các tính toán. Bạn có thể làm như sau."
   ]
  },
  {
   "cell_type": "code",
   "execution_count": 14,
   "metadata": {},
   "outputs": [
    {
     "name": "stdout",
     "output_type": "stream",
     "text": [
      "<class 'pandas.core.frame.DataFrame'>\n",
      "RangeIndex: 500 entries, 0 to 499\n",
      "Data columns (total 8 columns):\n",
      " #   Column      Non-Null Count  Dtype  \n",
      "---  ------      --------------  -----  \n",
      " 0   id          500 non-null    int64  \n",
      " 1   sex         500 non-null    object \n",
      " 2   age         500 non-null    int32  \n",
      " 3   edu         500 non-null    object \n",
      " 4   bmi         500 non-null    float64\n",
      " 5   tc_1_tngc   500 non-null    object \n",
      " 6   tc_2_nrat   500 non-null    object \n",
      " 7   tc_3_dnguc  500 non-null    object \n",
      "dtypes: float64(1), int32(1), int64(1), object(5)\n",
      "memory usage: 29.4+ KB\n"
     ]
    }
   ],
   "source": [
    "d_labeled.info()"
   ]
  },
  {
   "cell_type": "code",
   "execution_count": 15,
   "metadata": {},
   "outputs": [
    {
     "name": "stdout",
     "output_type": "stream",
     "text": [
      "<class 'pandas.core.frame.DataFrame'>\n",
      "RangeIndex: 500 entries, 0 to 499\n",
      "Data columns (total 8 columns):\n",
      " #   Column      Non-Null Count  Dtype   \n",
      "---  ------      --------------  -----   \n",
      " 0   id          500 non-null    int64   \n",
      " 1   sex         500 non-null    category\n",
      " 2   age         500 non-null    int32   \n",
      " 3   edu         500 non-null    category\n",
      " 4   bmi         500 non-null    float64 \n",
      " 5   tc_1_tngc   500 non-null    category\n",
      " 6   tc_2_nrat   500 non-null    category\n",
      " 7   tc_3_dnguc  500 non-null    category\n",
      "dtypes: category(5), float64(1), int32(1), int64(1)\n",
      "memory usage: 12.9 KB\n"
     ]
    }
   ],
   "source": [
    "vars_cat = list(replace_dict.keys())\n",
    "d_labeled[vars_cat] = d_labeled[vars_cat].astype(\"category\")\n",
    "\n",
    "d_labeled.info()"
   ]
  },
  {
   "cell_type": "markdown",
   "metadata": {},
   "source": [
    "Đối với biến `\"edu\"`, bạn có thể muốn thiết lập dưới dạng biến thứ hạng (ordinal) thay vì định danh (nominal). Tương tự, đối với các biến nhị phân, bạn muốn hiển thị kết quả \"Có\" trước \"Không\". Trong trường hợp này, chúng ta cần thiết lập thêm một thông số cho từ điển `d_vars` để tạo ra các trường categorical có thứ tự (ordered)."
   ]
  },
  {
   "cell_type": "code",
   "execution_count": 16,
   "metadata": {},
   "outputs": [
    {
     "data": {
      "text/html": [
       "<div>\n",
       "<style scoped>\n",
       "    .dataframe tbody tr th:only-of-type {\n",
       "        vertical-align: middle;\n",
       "    }\n",
       "\n",
       "    .dataframe tbody tr th {\n",
       "        vertical-align: top;\n",
       "    }\n",
       "\n",
       "    .dataframe thead th {\n",
       "        text-align: right;\n",
       "    }\n",
       "</style>\n",
       "<table border=\"1\" class=\"dataframe\">\n",
       "  <thead>\n",
       "    <tr style=\"text-align: right;\">\n",
       "      <th></th>\n",
       "      <th>var</th>\n",
       "      <th>label</th>\n",
       "      <th>list_name</th>\n",
       "      <th>order</th>\n",
       "    </tr>\n",
       "  </thead>\n",
       "  <tbody>\n",
       "    <tr>\n",
       "      <th>0</th>\n",
       "      <td>id</td>\n",
       "      <td>STT</td>\n",
       "      <td>NaN</td>\n",
       "      <td>NaN</td>\n",
       "    </tr>\n",
       "    <tr>\n",
       "      <th>1</th>\n",
       "      <td>sex</td>\n",
       "      <td>Giới</td>\n",
       "      <td>sex</td>\n",
       "      <td>NaN</td>\n",
       "    </tr>\n",
       "    <tr>\n",
       "      <th>2</th>\n",
       "      <td>age</td>\n",
       "      <td>Tuổi</td>\n",
       "      <td>NaN</td>\n",
       "      <td>NaN</td>\n",
       "    </tr>\n",
       "    <tr>\n",
       "      <th>3</th>\n",
       "      <td>edu</td>\n",
       "      <td>Trình độ học vấn</td>\n",
       "      <td>edu</td>\n",
       "      <td>1 2 3</td>\n",
       "    </tr>\n",
       "    <tr>\n",
       "      <th>4</th>\n",
       "      <td>bmi</td>\n",
       "      <td>BMI</td>\n",
       "      <td>NaN</td>\n",
       "      <td>NaN</td>\n",
       "    </tr>\n",
       "    <tr>\n",
       "      <th>5</th>\n",
       "      <td>tc_1_tngc</td>\n",
       "      <td>Trào ngược</td>\n",
       "      <td>yesno</td>\n",
       "      <td>1 0</td>\n",
       "    </tr>\n",
       "    <tr>\n",
       "      <th>6</th>\n",
       "      <td>tc_2_nrat</td>\n",
       "      <td>Nóng rát</td>\n",
       "      <td>yesno</td>\n",
       "      <td>1 0</td>\n",
       "    </tr>\n",
       "    <tr>\n",
       "      <th>7</th>\n",
       "      <td>tc_3_dnguc</td>\n",
       "      <td>Đau ngực</td>\n",
       "      <td>yesno</td>\n",
       "      <td>1 0</td>\n",
       "    </tr>\n",
       "  </tbody>\n",
       "</table>\n",
       "</div>"
      ],
      "text/plain": [
       "          var             label list_name  order\n",
       "0          id               STT       NaN    NaN\n",
       "1         sex              Giới       sex    NaN\n",
       "2         age              Tuổi       NaN    NaN\n",
       "3         edu  Trình độ học vấn       edu  1 2 3\n",
       "4         bmi               BMI       NaN    NaN\n",
       "5   tc_1_tngc        Trào ngược     yesno    1 0\n",
       "6   tc_2_nrat          Nóng rát     yesno    1 0\n",
       "7  tc_3_dnguc          Đau ngực     yesno    1 0"
      ]
     },
     "execution_count": 16,
     "metadata": {},
     "output_type": "execute_result"
    }
   ],
   "source": [
    "d_vars[\"order\"] = [np.nan, np.nan, np.nan, \"1 2 3\", np.nan, \"1 0\", \"1 0\", \"1 0\"]\n",
    "d_vars"
   ]
  },
  {
   "cell_type": "markdown",
   "metadata": {},
   "source": [
    "Việc đầu tiên là cần tạo ra danh sách các code dưới dạng số từ các chuỗi kí tự trong trường `\"order\"`."
   ]
  },
  {
   "cell_type": "code",
   "execution_count": 17,
   "metadata": {},
   "outputs": [
    {
     "data": {
      "text/plain": [
       "{'edu': [1, 2, 3],\n",
       " 'tc_1_tngc': [1, 0],\n",
       " 'tc_2_nrat': [1, 0],\n",
       " 'tc_3_dnguc': [1, 0]}"
      ]
     },
     "execution_count": 17,
     "metadata": {},
     "output_type": "execute_result"
    }
   ],
   "source": [
    "d_hasorder = d_vars.query(\"order.notna()\")\n",
    "ordered_dict = {\n",
    "    v: [int(s) for s in order.split()]\n",
    "    for v, order in zip(d_hasorder[\"var\"], d_hasorder[\"order\"])\n",
    "}\n",
    "ordered_dict"
   ]
  },
  {
   "cell_type": "markdown",
   "metadata": {},
   "source": [
    "Sau đó, chúng ta có thể tra cứu label tương ứng của các code này."
   ]
  },
  {
   "cell_type": "code",
   "execution_count": 18,
   "metadata": {},
   "outputs": [
    {
     "data": {
      "text/plain": [
       "{'edu': ['Cấp 2 trở xuống', 'Cấp 3', 'Đại học trở lên'],\n",
       " 'tc_1_tngc': ['Có', 'Không'],\n",
       " 'tc_2_nrat': ['Có', 'Không'],\n",
       " 'tc_3_dnguc': ['Có', 'Không']}"
      ]
     },
     "execution_count": 18,
     "metadata": {},
     "output_type": "execute_result"
    }
   ],
   "source": [
    "{\n",
    "    v: [replace_dict[v][code] for code in codes_order]\n",
    "    for v, codes_order in ordered_dict.items()\n",
    "}"
   ]
  },
  {
   "cell_type": "markdown",
   "metadata": {},
   "source": [
    "Vậy chúng ta có thể kết hợp hai đoạn lệnh trên vào một hàm."
   ]
  },
  {
   "cell_type": "code",
   "execution_count": 19,
   "metadata": {},
   "outputs": [
    {
     "data": {
      "text/plain": [
       "{'edu': ['Cấp 2 trở xuống', 'Cấp 3', 'Đại học trở lên'],\n",
       " 'tc_1_tngc': ['Có', 'Không'],\n",
       " 'tc_2_nrat': ['Có', 'Không'],\n",
       " 'tc_3_dnguc': ['Có', 'Không']}"
      ]
     },
     "execution_count": 19,
     "metadata": {},
     "output_type": "execute_result"
    }
   ],
   "source": [
    "def make_order_dict(d: pd.DataFrame, var_col: str, order_col: str, replace_dict: dict) -> dict[str, list]:\n",
    "    return {\n",
    "        v: [replace_dict[v][int(s)] for s in order.split()]\n",
    "        for v, order in zip(d[var_col], d_hasorder[order_col])\n",
    "    }\n",
    "\n",
    "order_dict = make_order_dict(d_vars.query(\"order.notna()\"), \"var\", \"order\", replace_dict)\n",
    "order_dict"
   ]
  },
  {
   "cell_type": "code",
   "execution_count": 20,
   "metadata": {},
   "outputs": [
    {
     "data": {
      "text/plain": [
       "0    Đại học trở lên\n",
       "1    Đại học trở lên\n",
       "2              Cấp 3\n",
       "3    Đại học trở lên\n",
       "4    Cấp 2 trở xuống\n",
       "Name: edu, dtype: category\n",
       "Categories (3, object): ['Cấp 2 trở xuống' < 'Cấp 3' < 'Đại học trở lên']"
      ]
     },
     "execution_count": 20,
     "metadata": {},
     "output_type": "execute_result"
    }
   ],
   "source": [
    "for v, order in order_dict.items():\n",
    "    d_labeled[v] = d_labeled[v].cat.set_categories(order, ordered=True)\n",
    "\n",
    "d_labeled[\"edu\"].head()"
   ]
  },
  {
   "cell_type": "code",
   "execution_count": 21,
   "metadata": {},
   "outputs": [
    {
     "data": {
      "text/html": [
       "<div>\n",
       "<style scoped>\n",
       "    .dataframe tbody tr th:only-of-type {\n",
       "        vertical-align: middle;\n",
       "    }\n",
       "\n",
       "    .dataframe tbody tr th {\n",
       "        vertical-align: top;\n",
       "    }\n",
       "\n",
       "    .dataframe thead th {\n",
       "        text-align: right;\n",
       "    }\n",
       "</style>\n",
       "<table border=\"1\" class=\"dataframe\">\n",
       "  <thead>\n",
       "    <tr style=\"text-align: right;\">\n",
       "      <th></th>\n",
       "      <th></th>\n",
       "      <th>Overall</th>\n",
       "    </tr>\n",
       "  </thead>\n",
       "  <tbody>\n",
       "    <tr>\n",
       "      <th>n</th>\n",
       "      <th></th>\n",
       "      <td>500</td>\n",
       "    </tr>\n",
       "    <tr>\n",
       "      <th rowspan=\"2\" valign=\"top\">Giới, n (%)</th>\n",
       "      <th>Nam</th>\n",
       "      <td>238 (47.6)</td>\n",
       "    </tr>\n",
       "    <tr>\n",
       "      <th>Nữ</th>\n",
       "      <td>262 (52.4)</td>\n",
       "    </tr>\n",
       "    <tr>\n",
       "      <th>Tuổi, mean (SD)</th>\n",
       "      <th></th>\n",
       "      <td>39.5 (11.7)</td>\n",
       "    </tr>\n",
       "    <tr>\n",
       "      <th rowspan=\"3\" valign=\"top\">Trình độ học vấn, n (%)</th>\n",
       "      <th>Cấp 2 trở xuống</th>\n",
       "      <td>97 (19.4)</td>\n",
       "    </tr>\n",
       "    <tr>\n",
       "      <th>Cấp 3</th>\n",
       "      <td>253 (50.6)</td>\n",
       "    </tr>\n",
       "    <tr>\n",
       "      <th>Đại học trở lên</th>\n",
       "      <td>150 (30.0)</td>\n",
       "    </tr>\n",
       "    <tr>\n",
       "      <th>BMI, mean (SD)</th>\n",
       "      <th></th>\n",
       "      <td>21.5 (1.6)</td>\n",
       "    </tr>\n",
       "    <tr>\n",
       "      <th rowspan=\"2\" valign=\"top\">Trào ngược, n (%)</th>\n",
       "      <th>Có</th>\n",
       "      <td>342 (68.4)</td>\n",
       "    </tr>\n",
       "    <tr>\n",
       "      <th>Không</th>\n",
       "      <td>158 (31.6)</td>\n",
       "    </tr>\n",
       "    <tr>\n",
       "      <th rowspan=\"2\" valign=\"top\">Nóng rát, n (%)</th>\n",
       "      <th>Có</th>\n",
       "      <td>380 (76.0)</td>\n",
       "    </tr>\n",
       "    <tr>\n",
       "      <th>Không</th>\n",
       "      <td>120 (24.0)</td>\n",
       "    </tr>\n",
       "    <tr>\n",
       "      <th rowspan=\"2\" valign=\"top\">Đau ngực, n (%)</th>\n",
       "      <th>Có</th>\n",
       "      <td>472 (94.4)</td>\n",
       "    </tr>\n",
       "    <tr>\n",
       "      <th>Không</th>\n",
       "      <td>28 (5.6)</td>\n",
       "    </tr>\n",
       "  </tbody>\n",
       "</table>\n",
       "</div><br />"
      ],
      "text/plain": [
       "                                             Overall\n",
       "n                                                500\n",
       "Giới, n (%)             Nam               238 (47.6)\n",
       "                        Nữ                262 (52.4)\n",
       "Tuổi, mean (SD)                          39.5 (11.7)\n",
       "Trình độ học vấn, n (%) Cấp 2 trở xuống    97 (19.4)\n",
       "                        Cấp 3             253 (50.6)\n",
       "                        Đại học trở lên   150 (30.0)\n",
       "BMI, mean (SD)                            21.5 (1.6)\n",
       "Trào ngược, n (%)       Có                342 (68.4)\n",
       "                        Không             158 (31.6)\n",
       "Nóng rát, n (%)         Có                380 (76.0)\n",
       "                        Không             120 (24.0)\n",
       "Đau ngực, n (%)         Có                472 (94.4)\n",
       "                        Không               28 (5.6)"
      ]
     },
     "execution_count": 21,
     "metadata": {},
     "output_type": "execute_result"
    }
   ],
   "source": [
    "from tableone import TableOne\n",
    "\n",
    "TableOne(d_labeled.set_index(\"id\"), missing=False, rename=var_label_dict)"
   ]
  },
  {
   "cell_type": "markdown",
   "metadata": {},
   "source": [
    "## Tổng kết toàn bộ quá trình\n",
    "\n",
    "Nếu bạn xác định sẽ làm tất cả những thao tác trên, chúng ta có thể tổng hợp lại như sau."
   ]
  },
  {
   "cell_type": "code",
   "execution_count": 22,
   "metadata": {},
   "outputs": [
    {
     "data": {
      "text/html": [
       "<div>\n",
       "<style scoped>\n",
       "    .dataframe tbody tr th:only-of-type {\n",
       "        vertical-align: middle;\n",
       "    }\n",
       "\n",
       "    .dataframe tbody tr th {\n",
       "        vertical-align: top;\n",
       "    }\n",
       "\n",
       "    .dataframe thead th {\n",
       "        text-align: right;\n",
       "    }\n",
       "</style>\n",
       "<table border=\"1\" class=\"dataframe\">\n",
       "  <thead>\n",
       "    <tr style=\"text-align: right;\">\n",
       "      <th></th>\n",
       "      <th>STT</th>\n",
       "      <th>Giới</th>\n",
       "      <th>Tuổi</th>\n",
       "      <th>Trình độ học vấn</th>\n",
       "      <th>BMI</th>\n",
       "      <th>Trào ngược</th>\n",
       "      <th>Nóng rát</th>\n",
       "      <th>Đau ngực</th>\n",
       "    </tr>\n",
       "  </thead>\n",
       "  <tbody>\n",
       "    <tr>\n",
       "      <th>0</th>\n",
       "      <td>1</td>\n",
       "      <td>Nam</td>\n",
       "      <td>38</td>\n",
       "      <td>Đại học trở lên</td>\n",
       "      <td>18.411116</td>\n",
       "      <td>Có</td>\n",
       "      <td>Có</td>\n",
       "      <td>Có</td>\n",
       "    </tr>\n",
       "    <tr>\n",
       "      <th>1</th>\n",
       "      <td>2</td>\n",
       "      <td>Nữ</td>\n",
       "      <td>43</td>\n",
       "      <td>Đại học trở lên</td>\n",
       "      <td>21.438402</td>\n",
       "      <td>Có</td>\n",
       "      <td>Có</td>\n",
       "      <td>Không</td>\n",
       "    </tr>\n",
       "    <tr>\n",
       "      <th>2</th>\n",
       "      <td>3</td>\n",
       "      <td>Nữ</td>\n",
       "      <td>21</td>\n",
       "      <td>Cấp 3</td>\n",
       "      <td>20.884253</td>\n",
       "      <td>Có</td>\n",
       "      <td>Có</td>\n",
       "      <td>Có</td>\n",
       "    </tr>\n",
       "    <tr>\n",
       "      <th>3</th>\n",
       "      <td>4</td>\n",
       "      <td>Nam</td>\n",
       "      <td>26</td>\n",
       "      <td>Đại học trở lên</td>\n",
       "      <td>20.912275</td>\n",
       "      <td>Có</td>\n",
       "      <td>Có</td>\n",
       "      <td>Có</td>\n",
       "    </tr>\n",
       "    <tr>\n",
       "      <th>4</th>\n",
       "      <td>5</td>\n",
       "      <td>Nữ</td>\n",
       "      <td>50</td>\n",
       "      <td>Cấp 2 trở xuống</td>\n",
       "      <td>20.355965</td>\n",
       "      <td>Có</td>\n",
       "      <td>Có</td>\n",
       "      <td>Có</td>\n",
       "    </tr>\n",
       "  </tbody>\n",
       "</table>\n",
       "</div>"
      ],
      "text/plain": [
       "   STT Giới  Tuổi Trình độ học vấn        BMI Trào ngược Nóng rát Đau ngực\n",
       "0    1  Nam    38  Đại học trở lên  18.411116         Có       Có       Có\n",
       "1    2   Nữ    43  Đại học trở lên  21.438402         Có       Có    Không\n",
       "2    3   Nữ    21            Cấp 3  20.884253         Có       Có       Có\n",
       "3    4  Nam    26  Đại học trở lên  20.912275         Có       Có       Có\n",
       "4    5   Nữ    50  Cấp 2 trở xuống  20.355965         Có       Có       Có"
      ]
     },
     "execution_count": 22,
     "metadata": {},
     "output_type": "execute_result"
    }
   ],
   "source": [
    "def make_dict(d: pd.DataFrame, key_col: str, value_col: str) -> dict:\n",
    "    return dict(zip(d[key_col], d[value_col]))\n",
    "\n",
    "def make_codes_dict(d: pd.DataFrame, listname_col: str, key_col: str, value_col: str) -> dict[str, dict]:\n",
    "    d_grpby = d.groupby(listname_col)\n",
    "    return {\n",
    "        list_name: make_dict(d_grpby.get_group(list_name), key_col, value_col)\n",
    "        for list_name in d_grpby.groups\n",
    "    }\n",
    "\n",
    "def make_replace_dict(d: pd.DataFrame, var_col: str, listname_col: str, codes_dict: dict) -> dict[str, dict]:\n",
    "    return {\n",
    "        v: codes_dict[list_name]\n",
    "        for v, list_name in zip(d[var_col], d[listname_col])\n",
    "    }\n",
    "\n",
    "def make_order_dict(d: pd.DataFrame, var_col: str, order_col: str, replace_dict: dict) -> dict[str, list]:\n",
    "    return {\n",
    "        v: [replace_dict[v][int(s)] for s in order.split()]\n",
    "        for v, order in zip(d[var_col], d_hasorder[order_col])\n",
    "    }\n",
    "\n",
    "codes_dict = make_codes_dict(d_codes, \"list_name\", \"code\", \"label\")\n",
    "replace_dict = make_replace_dict(d_vars.query(\"list_name.notna()\"), \"var\", \"list_name\", codes_dict)\n",
    "order_dict = make_order_dict(d_vars.query(\"order.notna()\"), \"var\", \"order\", replace_dict)\n",
    "\n",
    "# Đổi code thành label\n",
    "d = d.replace(replace_dict)\n",
    "# Tạo biến categorical và thiết lập thứ tự\n",
    "for v in replace_dict:\n",
    "    d[v] = pd.Categorical(d[v]) if v not in order_dict \\\n",
    "        else pd.Categorical(d[v], categories=order_dict[v], ordered=True)\n",
    "# Đổi tên biến\n",
    "d = d.rename(columns=make_dict(d_vars, \"var\", \"label\"))\n",
    "\n",
    "d.head()"
   ]
  },
  {
   "cell_type": "markdown",
   "metadata": {},
   "source": [
    "---\n",
    "\n",
    "[Bài trước](./15_categorical.ipynb) - [Danh sách bài](../README.md) - [Bài sau]()"
   ]
  }
 ],
 "metadata": {
  "kernelspec": {
   "display_name": "Python 3.10.7 64-bit",
   "language": "python",
   "name": "python3"
  },
  "language_info": {
   "codemirror_mode": {
    "name": "ipython",
    "version": 3
   },
   "file_extension": ".py",
   "mimetype": "text/x-python",
   "name": "python",
   "nbconvert_exporter": "python",
   "pygments_lexer": "ipython3",
   "version": "3.10.7"
  },
  "orig_nbformat": 4,
  "vscode": {
   "interpreter": {
    "hash": "6a3c7fd02703099d697b86914af8afc6c3883c409bde85e680daef2475a3a8dd"
   }
  }
 },
 "nbformat": 4,
 "nbformat_minor": 2
}
