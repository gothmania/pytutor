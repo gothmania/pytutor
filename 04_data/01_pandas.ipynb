{
 "cells": [
  {
   "cell_type": "markdown",
   "metadata": {},
   "source": [
    "# D01 Pandas: Data Frame và Series\n",
    "\n",
    "## Mục đích\n",
    "\n",
    "Giới thiệu hai kiểu dữ liệu quan trọng trong thư viện [Pandas](https://pandas.pydata.org/): Data Frame và Series.\n",
    "\n",
    "\n",
    "## Đọc dữ liệu\n",
    "\n",
    "Thông thường dữ liệu của bạn sẽ được lưu trữ trên một file nào đó hoặc trong máy chủ dữ liệu (ví dụ, SQL Server). Chúng ta sẽ cần đọc dữ liệu vào trong bộ nhớ để thao tác.\n",
    "\n",
    "Chẳng hạn, bạn có thể đọc file Excel `hrm.xlsx` vào Python bằng hàm `pandas.read_excel()`. Sau đó chúng ta sẽ kiểm tra cấu trúc của bộ số liệu này."
   ]
  },
  {
   "cell_type": "code",
   "execution_count": 1,
   "metadata": {},
   "outputs": [
    {
     "name": "stdout",
     "output_type": "stream",
     "text": [
      "<class 'pandas.core.frame.DataFrame'>\n",
      "RangeIndex: 330 entries, 0 to 329\n",
      "Data columns (total 26 columns):\n",
      " #   Column                     Non-Null Count  Dtype         \n",
      "---  ------                     --------------  -----         \n",
      " 0   id                         330 non-null    int64         \n",
      " 1   sex                        330 non-null    int64         \n",
      " 2   yob                        330 non-null    int64         \n",
      " 3   height                     316 non-null    float64       \n",
      " 4   weight                     324 non-null    float64       \n",
      " 5   date_exam                  330 non-null    datetime64[ns]\n",
      " 6   endo_avail                 330 non-null    int64         \n",
      " 7   eso_LA                     305 non-null    float64       \n",
      " 8   hp_endo                    302 non-null    float64       \n",
      " 9   hp_breath                  0 non-null      float64       \n",
      " 10  hrm_avail                  330 non-null    int64         \n",
      " 11  les_baserestp              328 non-null    float64       \n",
      " 12  les_irp4s                  328 non-null    float64       \n",
      " 13  fssg                       330 non-null    object        \n",
      " 14  q_fssg_01_nongrat          329 non-null    float64       \n",
      " 15  q_fssg_02_dayhoi           329 non-null    float64       \n",
      " 16  q_fssg_03_nangbung         329 non-null    float64       \n",
      " 17  q_fssg_04_xoanguc          329 non-null    float64       \n",
      " 18  q_fssg_05_metsauan         329 non-null    float64       \n",
      " 19  q_fssg_06_nongratsauan     329 non-null    float64       \n",
      " 20  q_fssg_07_hong             329 non-null    float64       \n",
      " 21  q_fssg_08_daylucan         329 non-null    float64       \n",
      " 22  q_fssg_09_nuotnghen        329 non-null    float64       \n",
      " 23  q_fssg_10_dichtraolen      329 non-null    float64       \n",
      " 24  q_fssg_11_onhieu           329 non-null    float64       \n",
      " 25  q_fssg_12_nongratcuixuong  329 non-null    float64       \n",
      "dtypes: datetime64[ns](1), float64(19), int64(5), object(1)\n",
      "memory usage: 67.2+ KB\n"
     ]
    }
   ],
   "source": [
    "import pandas as pd\n",
    "d = pd.read_excel(\"hrm.xlsx\")\n",
    "d.info()"
   ]
  },
  {
   "cell_type": "markdown",
   "metadata": {},
   "source": [
    "## Data frame\n",
    "\n",
    "Như bạn thấy, Pandas lưu trữ bảng số liệu trong kiểu dữ liệu `pandas.DataFrame`. Một data frame có *n* cột, mỗi cột có *m* hàng, tương tự như một mảng hai chiều m x n của NumPy, nhưng điểm khác quan trọng giữa data frame và mảng hai chiều là kiểu dữ liệu của tất cả phần tử của một mảng hai chiều phải giống nhau. Đối với data frame, các phần tử trong một cột phải có kiểu dữ liệu giống nhau, nhưng kiểu dữ liệu của các cột có thể khác nhau (xem ví dụ trên).\n",
    "\n",
    "Chúng ta có thể xem thông tin về số hàng và số cột qua thuộc tính `shape`."
   ]
  },
  {
   "cell_type": "code",
   "execution_count": 2,
   "metadata": {},
   "outputs": [
    {
     "data": {
      "text/plain": [
       "(330, 26)"
      ]
     },
     "execution_count": 2,
     "metadata": {},
     "output_type": "execute_result"
    }
   ],
   "source": [
    "d.shape"
   ]
  },
  {
   "cell_type": "markdown",
   "metadata": {},
   "source": [
    "Bạn có thể lấy danh sách các cột thông qua thuộc tính `columns`. Chúng ta sẽ tìm hiểu kĩ hơn về index và columns ở trong bài sau."
   ]
  },
  {
   "cell_type": "code",
   "execution_count": 3,
   "metadata": {},
   "outputs": [
    {
     "name": "stdout",
     "output_type": "stream",
     "text": [
      "Index(['id', 'sex', 'yob', 'height', 'weight', 'date_exam', 'endo_avail',\n",
      "       'eso_LA', 'hp_endo', 'hp_breath', 'hrm_avail', 'les_baserestp',\n",
      "       'les_irp4s', 'fssg', 'q_fssg_01_nongrat', 'q_fssg_02_dayhoi',\n",
      "       'q_fssg_03_nangbung', 'q_fssg_04_xoanguc', 'q_fssg_05_metsauan',\n",
      "       'q_fssg_06_nongratsauan', 'q_fssg_07_hong', 'q_fssg_08_daylucan',\n",
      "       'q_fssg_09_nuotnghen', 'q_fssg_10_dichtraolen', 'q_fssg_11_onhieu',\n",
      "       'q_fssg_12_nongratcuixuong'],\n",
      "      dtype='object')\n"
     ]
    }
   ],
   "source": [
    "print(d.columns)"
   ]
  },
  {
   "cell_type": "markdown",
   "metadata": {},
   "source": [
    "Chúng ta có thể xem phần đầu của data frame bằng hàm `head()`."
   ]
  },
  {
   "cell_type": "code",
   "execution_count": 4,
   "metadata": {},
   "outputs": [
    {
     "data": {
      "text/html": [
       "<div>\n",
       "<style scoped>\n",
       "    .dataframe tbody tr th:only-of-type {\n",
       "        vertical-align: middle;\n",
       "    }\n",
       "\n",
       "    .dataframe tbody tr th {\n",
       "        vertical-align: top;\n",
       "    }\n",
       "\n",
       "    .dataframe thead th {\n",
       "        text-align: right;\n",
       "    }\n",
       "</style>\n",
       "<table border=\"1\" class=\"dataframe\">\n",
       "  <thead>\n",
       "    <tr style=\"text-align: right;\">\n",
       "      <th></th>\n",
       "      <th>id</th>\n",
       "      <th>sex</th>\n",
       "      <th>yob</th>\n",
       "      <th>height</th>\n",
       "      <th>weight</th>\n",
       "      <th>date_exam</th>\n",
       "      <th>endo_avail</th>\n",
       "      <th>eso_LA</th>\n",
       "      <th>hp_endo</th>\n",
       "      <th>hp_breath</th>\n",
       "      <th>...</th>\n",
       "      <th>q_fssg_03_nangbung</th>\n",
       "      <th>q_fssg_04_xoanguc</th>\n",
       "      <th>q_fssg_05_metsauan</th>\n",
       "      <th>q_fssg_06_nongratsauan</th>\n",
       "      <th>q_fssg_07_hong</th>\n",
       "      <th>q_fssg_08_daylucan</th>\n",
       "      <th>q_fssg_09_nuotnghen</th>\n",
       "      <th>q_fssg_10_dichtraolen</th>\n",
       "      <th>q_fssg_11_onhieu</th>\n",
       "      <th>q_fssg_12_nongratcuixuong</th>\n",
       "    </tr>\n",
       "  </thead>\n",
       "  <tbody>\n",
       "    <tr>\n",
       "      <th>0</th>\n",
       "      <td>1</td>\n",
       "      <td>0</td>\n",
       "      <td>1944</td>\n",
       "      <td>1.5</td>\n",
       "      <td>42.0</td>\n",
       "      <td>2019-02-25</td>\n",
       "      <td>1</td>\n",
       "      <td>0.0</td>\n",
       "      <td>0.0</td>\n",
       "      <td>NaN</td>\n",
       "      <td>...</td>\n",
       "      <td>3.0</td>\n",
       "      <td>2.0</td>\n",
       "      <td>2.0</td>\n",
       "      <td>0.0</td>\n",
       "      <td>1.0</td>\n",
       "      <td>2.0</td>\n",
       "      <td>1.0</td>\n",
       "      <td>0.0</td>\n",
       "      <td>1.0</td>\n",
       "      <td>0.0</td>\n",
       "    </tr>\n",
       "    <tr>\n",
       "      <th>1</th>\n",
       "      <td>2</td>\n",
       "      <td>0</td>\n",
       "      <td>1976</td>\n",
       "      <td>1.5</td>\n",
       "      <td>48.0</td>\n",
       "      <td>2019-02-23</td>\n",
       "      <td>1</td>\n",
       "      <td>0.0</td>\n",
       "      <td>1.0</td>\n",
       "      <td>NaN</td>\n",
       "      <td>...</td>\n",
       "      <td>0.0</td>\n",
       "      <td>0.0</td>\n",
       "      <td>0.0</td>\n",
       "      <td>0.0</td>\n",
       "      <td>4.0</td>\n",
       "      <td>0.0</td>\n",
       "      <td>1.0</td>\n",
       "      <td>0.0</td>\n",
       "      <td>3.0</td>\n",
       "      <td>0.0</td>\n",
       "    </tr>\n",
       "    <tr>\n",
       "      <th>2</th>\n",
       "      <td>3</td>\n",
       "      <td>1</td>\n",
       "      <td>1990</td>\n",
       "      <td>1.6</td>\n",
       "      <td>46.0</td>\n",
       "      <td>2019-02-23</td>\n",
       "      <td>1</td>\n",
       "      <td>1.0</td>\n",
       "      <td>0.0</td>\n",
       "      <td>NaN</td>\n",
       "      <td>...</td>\n",
       "      <td>4.0</td>\n",
       "      <td>0.0</td>\n",
       "      <td>1.0</td>\n",
       "      <td>2.0</td>\n",
       "      <td>0.0</td>\n",
       "      <td>0.0</td>\n",
       "      <td>0.0</td>\n",
       "      <td>2.0</td>\n",
       "      <td>4.0</td>\n",
       "      <td>0.0</td>\n",
       "    </tr>\n",
       "    <tr>\n",
       "      <th>3</th>\n",
       "      <td>4</td>\n",
       "      <td>1</td>\n",
       "      <td>1974</td>\n",
       "      <td>1.7</td>\n",
       "      <td>67.0</td>\n",
       "      <td>2019-02-19</td>\n",
       "      <td>1</td>\n",
       "      <td>0.0</td>\n",
       "      <td>0.0</td>\n",
       "      <td>NaN</td>\n",
       "      <td>...</td>\n",
       "      <td>2.0</td>\n",
       "      <td>0.0</td>\n",
       "      <td>2.0</td>\n",
       "      <td>1.0</td>\n",
       "      <td>0.0</td>\n",
       "      <td>2.0</td>\n",
       "      <td>0.0</td>\n",
       "      <td>2.0</td>\n",
       "      <td>2.0</td>\n",
       "      <td>0.0</td>\n",
       "    </tr>\n",
       "    <tr>\n",
       "      <th>4</th>\n",
       "      <td>5</td>\n",
       "      <td>0</td>\n",
       "      <td>1985</td>\n",
       "      <td>1.6</td>\n",
       "      <td>46.0</td>\n",
       "      <td>2019-02-23</td>\n",
       "      <td>1</td>\n",
       "      <td>1.0</td>\n",
       "      <td>1.0</td>\n",
       "      <td>NaN</td>\n",
       "      <td>...</td>\n",
       "      <td>0.0</td>\n",
       "      <td>3.0</td>\n",
       "      <td>1.0</td>\n",
       "      <td>3.0</td>\n",
       "      <td>2.0</td>\n",
       "      <td>0.0</td>\n",
       "      <td>3.0</td>\n",
       "      <td>0.0</td>\n",
       "      <td>4.0</td>\n",
       "      <td>0.0</td>\n",
       "    </tr>\n",
       "  </tbody>\n",
       "</table>\n",
       "<p>5 rows × 26 columns</p>\n",
       "</div>"
      ],
      "text/plain": [
       "   id  sex   yob  height  weight  date_exam  endo_avail  eso_LA  hp_endo  \\\n",
       "0   1    0  1944     1.5    42.0 2019-02-25           1     0.0      0.0   \n",
       "1   2    0  1976     1.5    48.0 2019-02-23           1     0.0      1.0   \n",
       "2   3    1  1990     1.6    46.0 2019-02-23           1     1.0      0.0   \n",
       "3   4    1  1974     1.7    67.0 2019-02-19           1     0.0      0.0   \n",
       "4   5    0  1985     1.6    46.0 2019-02-23           1     1.0      1.0   \n",
       "\n",
       "   hp_breath  ...  q_fssg_03_nangbung  q_fssg_04_xoanguc  q_fssg_05_metsauan  \\\n",
       "0        NaN  ...                 3.0                2.0                 2.0   \n",
       "1        NaN  ...                 0.0                0.0                 0.0   \n",
       "2        NaN  ...                 4.0                0.0                 1.0   \n",
       "3        NaN  ...                 2.0                0.0                 2.0   \n",
       "4        NaN  ...                 0.0                3.0                 1.0   \n",
       "\n",
       "  q_fssg_06_nongratsauan  q_fssg_07_hong  q_fssg_08_daylucan  \\\n",
       "0                    0.0             1.0                 2.0   \n",
       "1                    0.0             4.0                 0.0   \n",
       "2                    2.0             0.0                 0.0   \n",
       "3                    1.0             0.0                 2.0   \n",
       "4                    3.0             2.0                 0.0   \n",
       "\n",
       "   q_fssg_09_nuotnghen  q_fssg_10_dichtraolen  q_fssg_11_onhieu  \\\n",
       "0                  1.0                    0.0               1.0   \n",
       "1                  1.0                    0.0               3.0   \n",
       "2                  0.0                    2.0               4.0   \n",
       "3                  0.0                    2.0               2.0   \n",
       "4                  3.0                    0.0               4.0   \n",
       "\n",
       "   q_fssg_12_nongratcuixuong  \n",
       "0                        0.0  \n",
       "1                        0.0  \n",
       "2                        0.0  \n",
       "3                        0.0  \n",
       "4                        0.0  \n",
       "\n",
       "[5 rows x 26 columns]"
      ]
     },
     "execution_count": 4,
     "metadata": {},
     "output_type": "execute_result"
    }
   ],
   "source": [
    "d.head()"
   ]
  },
  {
   "cell_type": "markdown",
   "metadata": {},
   "source": [
    "Hoặc xem phần cuối của data frame bằng hàm `tail()`."
   ]
  },
  {
   "cell_type": "code",
   "execution_count": 5,
   "metadata": {},
   "outputs": [
    {
     "data": {
      "text/html": [
       "<div>\n",
       "<style scoped>\n",
       "    .dataframe tbody tr th:only-of-type {\n",
       "        vertical-align: middle;\n",
       "    }\n",
       "\n",
       "    .dataframe tbody tr th {\n",
       "        vertical-align: top;\n",
       "    }\n",
       "\n",
       "    .dataframe thead th {\n",
       "        text-align: right;\n",
       "    }\n",
       "</style>\n",
       "<table border=\"1\" class=\"dataframe\">\n",
       "  <thead>\n",
       "    <tr style=\"text-align: right;\">\n",
       "      <th></th>\n",
       "      <th>id</th>\n",
       "      <th>sex</th>\n",
       "      <th>yob</th>\n",
       "      <th>height</th>\n",
       "      <th>weight</th>\n",
       "      <th>date_exam</th>\n",
       "      <th>endo_avail</th>\n",
       "      <th>eso_LA</th>\n",
       "      <th>hp_endo</th>\n",
       "      <th>hp_breath</th>\n",
       "      <th>...</th>\n",
       "      <th>q_fssg_03_nangbung</th>\n",
       "      <th>q_fssg_04_xoanguc</th>\n",
       "      <th>q_fssg_05_metsauan</th>\n",
       "      <th>q_fssg_06_nongratsauan</th>\n",
       "      <th>q_fssg_07_hong</th>\n",
       "      <th>q_fssg_08_daylucan</th>\n",
       "      <th>q_fssg_09_nuotnghen</th>\n",
       "      <th>q_fssg_10_dichtraolen</th>\n",
       "      <th>q_fssg_11_onhieu</th>\n",
       "      <th>q_fssg_12_nongratcuixuong</th>\n",
       "    </tr>\n",
       "  </thead>\n",
       "  <tbody>\n",
       "    <tr>\n",
       "      <th>327</th>\n",
       "      <td>331</td>\n",
       "      <td>0</td>\n",
       "      <td>1965</td>\n",
       "      <td>1.50</td>\n",
       "      <td>47.0</td>\n",
       "      <td>2019-05-21</td>\n",
       "      <td>0</td>\n",
       "      <td>NaN</td>\n",
       "      <td>NaN</td>\n",
       "      <td>NaN</td>\n",
       "      <td>...</td>\n",
       "      <td>0.0</td>\n",
       "      <td>0.0</td>\n",
       "      <td>0.0</td>\n",
       "      <td>0.0</td>\n",
       "      <td>1.0</td>\n",
       "      <td>0.0</td>\n",
       "      <td>2.0</td>\n",
       "      <td>0.0</td>\n",
       "      <td>1.0</td>\n",
       "      <td>0.0</td>\n",
       "    </tr>\n",
       "    <tr>\n",
       "      <th>328</th>\n",
       "      <td>332</td>\n",
       "      <td>0</td>\n",
       "      <td>1970</td>\n",
       "      <td>1.52</td>\n",
       "      <td>53.0</td>\n",
       "      <td>2019-04-30</td>\n",
       "      <td>1</td>\n",
       "      <td>0.0</td>\n",
       "      <td>0.0</td>\n",
       "      <td>NaN</td>\n",
       "      <td>...</td>\n",
       "      <td>0.0</td>\n",
       "      <td>0.0</td>\n",
       "      <td>0.0</td>\n",
       "      <td>0.0</td>\n",
       "      <td>0.0</td>\n",
       "      <td>0.0</td>\n",
       "      <td>0.0</td>\n",
       "      <td>0.0</td>\n",
       "      <td>2.0</td>\n",
       "      <td>0.0</td>\n",
       "    </tr>\n",
       "    <tr>\n",
       "      <th>329</th>\n",
       "      <td>333</td>\n",
       "      <td>0</td>\n",
       "      <td>1959</td>\n",
       "      <td>1.55</td>\n",
       "      <td>48.0</td>\n",
       "      <td>2019-04-30</td>\n",
       "      <td>1</td>\n",
       "      <td>0.0</td>\n",
       "      <td>0.0</td>\n",
       "      <td>NaN</td>\n",
       "      <td>...</td>\n",
       "      <td>3.0</td>\n",
       "      <td>2.0</td>\n",
       "      <td>3.0</td>\n",
       "      <td>2.0</td>\n",
       "      <td>0.0</td>\n",
       "      <td>0.0</td>\n",
       "      <td>0.0</td>\n",
       "      <td>2.0</td>\n",
       "      <td>1.0</td>\n",
       "      <td>0.0</td>\n",
       "    </tr>\n",
       "  </tbody>\n",
       "</table>\n",
       "<p>3 rows × 26 columns</p>\n",
       "</div>"
      ],
      "text/plain": [
       "      id  sex   yob  height  weight  date_exam  endo_avail  eso_LA  hp_endo  \\\n",
       "327  331    0  1965    1.50    47.0 2019-05-21           0     NaN      NaN   \n",
       "328  332    0  1970    1.52    53.0 2019-04-30           1     0.0      0.0   \n",
       "329  333    0  1959    1.55    48.0 2019-04-30           1     0.0      0.0   \n",
       "\n",
       "     hp_breath  ...  q_fssg_03_nangbung  q_fssg_04_xoanguc  \\\n",
       "327        NaN  ...                 0.0                0.0   \n",
       "328        NaN  ...                 0.0                0.0   \n",
       "329        NaN  ...                 3.0                2.0   \n",
       "\n",
       "     q_fssg_05_metsauan q_fssg_06_nongratsauan  q_fssg_07_hong  \\\n",
       "327                 0.0                    0.0             1.0   \n",
       "328                 0.0                    0.0             0.0   \n",
       "329                 3.0                    2.0             0.0   \n",
       "\n",
       "     q_fssg_08_daylucan  q_fssg_09_nuotnghen  q_fssg_10_dichtraolen  \\\n",
       "327                 0.0                  2.0                    0.0   \n",
       "328                 0.0                  0.0                    0.0   \n",
       "329                 0.0                  0.0                    2.0   \n",
       "\n",
       "     q_fssg_11_onhieu  q_fssg_12_nongratcuixuong  \n",
       "327               1.0                        0.0  \n",
       "328               2.0                        0.0  \n",
       "329               1.0                        0.0  \n",
       "\n",
       "[3 rows x 26 columns]"
      ]
     },
     "execution_count": 5,
     "metadata": {},
     "output_type": "execute_result"
    }
   ],
   "source": [
    "d.tail(3)"
   ]
  },
  {
   "cell_type": "markdown",
   "metadata": {},
   "source": [
    "Bạn có thể lấy dữ liệu của một cột bằng cách gọi tên cột đó. Chúng ta sẽ tìm hiểu kĩ hơn về slicing ở bài sau."
   ]
  },
  {
   "cell_type": "code",
   "execution_count": 6,
   "metadata": {},
   "outputs": [
    {
     "data": {
      "text/plain": [
       "0        1\n",
       "1        2\n",
       "2        3\n",
       "3        4\n",
       "4        5\n",
       "      ... \n",
       "325    329\n",
       "326    330\n",
       "327    331\n",
       "328    332\n",
       "329    333\n",
       "Name: id, Length: 330, dtype: int64"
      ]
     },
     "execution_count": 6,
     "metadata": {},
     "output_type": "execute_result"
    }
   ],
   "source": [
    "d[\"id\"]"
   ]
  },
  {
   "cell_type": "markdown",
   "metadata": {},
   "source": [
    "Việc tạo cột mới trong Pandas hết sức dễ dàng. Pandas cung cấp nhiều tính năng để biến đổi dữ liệu. Chúng ta sẽ làm quen với các tính năng này trong các bài tiếp theo."
   ]
  },
  {
   "cell_type": "code",
   "execution_count": 7,
   "metadata": {},
   "outputs": [
    {
     "data": {
      "text/plain": [
       "0      18.666667\n",
       "1      21.333333\n",
       "2      17.968750\n",
       "3      23.183391\n",
       "4      17.968750\n",
       "         ...    \n",
       "325    17.850623\n",
       "326    20.395421\n",
       "327    20.888889\n",
       "328    22.939751\n",
       "329    19.979188\n",
       "Name: bmi, Length: 330, dtype: float64"
      ]
     },
     "execution_count": 7,
     "metadata": {},
     "output_type": "execute_result"
    }
   ],
   "source": [
    "d[\"bmi\"] = d[\"weight\"] / d[\"height\"] ** 2\n",
    "d[\"bmi\"]"
   ]
  },
  {
   "cell_type": "markdown",
   "metadata": {},
   "source": [
    "## Series\n",
    "\n",
    "Khi lấy ra một cột trong data frame, chúng ta nhận được kiểu dữ liệu `pandas.Series`. Series là một chuỗi các giá trị có cùng kiểu (gọi là `dtype`). Do vậy, thông thường series chứa nội dung của một cột. Nhưng nếu lấy ra một hàng, bạn cũng có một series; trong trường hợp này kiểu dữ liệu của các phần tử trong series sẽ không giống nhau, và Pandas sẽ coi kiểu dữ liệu chung của series là `object`."
   ]
  },
  {
   "cell_type": "code",
   "execution_count": 8,
   "metadata": {},
   "outputs": [
    {
     "data": {
      "text/plain": [
       "id           1\n",
       "sex          0\n",
       "yob       1944\n",
       "height     1.5\n",
       "weight    42.0\n",
       "Name: 0, dtype: object"
      ]
     },
     "execution_count": 8,
     "metadata": {},
     "output_type": "execute_result"
    }
   ],
   "source": [
    "d.iloc[0, 0:5]    # Hàng thứ 0 trong data frame, giới hạn ở cột thứ 0 đến 4."
   ]
  },
  {
   "cell_type": "markdown",
   "metadata": {},
   "source": [
    "Bạn có thể thao tác trên series như trên mảng một chiều của NumPy. Tất cả các phép toán đều đã được vector hóa."
   ]
  },
  {
   "cell_type": "code",
   "execution_count": 9,
   "metadata": {},
   "outputs": [
    {
     "data": {
      "text/plain": [
       "0      150.0\n",
       "1      150.0\n",
       "2      160.0\n",
       "3      170.0\n",
       "4      160.0\n",
       "       ...  \n",
       "325    157.0\n",
       "326    155.0\n",
       "327    150.0\n",
       "328    152.0\n",
       "329    155.0\n",
       "Name: height, Length: 330, dtype: float64"
      ]
     },
     "execution_count": 9,
     "metadata": {},
     "output_type": "execute_result"
    }
   ],
   "source": [
    "d[\"height\"] * 100"
   ]
  },
  {
   "cell_type": "code",
   "execution_count": 10,
   "metadata": {},
   "outputs": [
    {
     "data": {
      "text/plain": [
       "0      False\n",
       "1      False\n",
       "2       True\n",
       "3       True\n",
       "4      False\n",
       "       ...  \n",
       "325    False\n",
       "326    False\n",
       "327    False\n",
       "328    False\n",
       "329    False\n",
       "Name: sex, Length: 330, dtype: bool"
      ]
     },
     "execution_count": 10,
     "metadata": {},
     "output_type": "execute_result"
    }
   ],
   "source": [
    "d[\"sex\"] == 1"
   ]
  },
  {
   "cell_type": "markdown",
   "metadata": {},
   "source": [
    "Pandas cũng cung cấp các hàm để phục vụ các toán tử này. Sự khác biệt giữa hàm và toán tử là hàm cho phép \"lấy đầy\" các giá trị NA bằng một giá trị nào đó."
   ]
  },
  {
   "cell_type": "code",
   "execution_count": 11,
   "metadata": {},
   "outputs": [
    {
     "data": {
      "text/plain": [
       "0      False\n",
       "1      False\n",
       "2       True\n",
       "3       True\n",
       "4      False\n",
       "       ...  \n",
       "325    False\n",
       "326    False\n",
       "327    False\n",
       "328    False\n",
       "329    False\n",
       "Name: sex, Length: 330, dtype: bool"
      ]
     },
     "execution_count": 11,
     "metadata": {},
     "output_type": "execute_result"
    }
   ],
   "source": [
    "d[\"sex\"].eq(1)"
   ]
  },
  {
   "cell_type": "markdown",
   "metadata": {},
   "source": [
    "Bạn cũng có thể áp dụng tính toán cho toàn bộ data frame, các phép tính sẽ được thực hiện trên từng phần tử (từng ô), nhưng nên hạn chế làm cách này trừ khi bạn xác định việc áp dụng cho nhiều cột là an toàn."
   ]
  },
  {
   "cell_type": "code",
   "execution_count": 12,
   "metadata": {},
   "outputs": [
    {
     "data": {
      "text/html": [
       "<div>\n",
       "<style scoped>\n",
       "    .dataframe tbody tr th:only-of-type {\n",
       "        vertical-align: middle;\n",
       "    }\n",
       "\n",
       "    .dataframe tbody tr th {\n",
       "        vertical-align: top;\n",
       "    }\n",
       "\n",
       "    .dataframe thead th {\n",
       "        text-align: right;\n",
       "    }\n",
       "</style>\n",
       "<table border=\"1\" class=\"dataframe\">\n",
       "  <thead>\n",
       "    <tr style=\"text-align: right;\">\n",
       "      <th></th>\n",
       "      <th>q_fssg_01_nongrat</th>\n",
       "      <th>q_fssg_02_dayhoi</th>\n",
       "      <th>q_fssg_03_nangbung</th>\n",
       "      <th>q_fssg_04_xoanguc</th>\n",
       "      <th>q_fssg_05_metsauan</th>\n",
       "      <th>q_fssg_06_nongratsauan</th>\n",
       "      <th>q_fssg_07_hong</th>\n",
       "      <th>q_fssg_08_daylucan</th>\n",
       "      <th>q_fssg_09_nuotnghen</th>\n",
       "      <th>q_fssg_10_dichtraolen</th>\n",
       "      <th>q_fssg_11_onhieu</th>\n",
       "      <th>q_fssg_12_nongratcuixuong</th>\n",
       "    </tr>\n",
       "  </thead>\n",
       "  <tbody>\n",
       "    <tr>\n",
       "      <th>0</th>\n",
       "      <td>False</td>\n",
       "      <td>False</td>\n",
       "      <td>True</td>\n",
       "      <td>False</td>\n",
       "      <td>False</td>\n",
       "      <td>False</td>\n",
       "      <td>False</td>\n",
       "      <td>False</td>\n",
       "      <td>False</td>\n",
       "      <td>False</td>\n",
       "      <td>False</td>\n",
       "      <td>False</td>\n",
       "    </tr>\n",
       "    <tr>\n",
       "      <th>1</th>\n",
       "      <td>False</td>\n",
       "      <td>False</td>\n",
       "      <td>False</td>\n",
       "      <td>False</td>\n",
       "      <td>False</td>\n",
       "      <td>False</td>\n",
       "      <td>True</td>\n",
       "      <td>False</td>\n",
       "      <td>False</td>\n",
       "      <td>False</td>\n",
       "      <td>True</td>\n",
       "      <td>False</td>\n",
       "    </tr>\n",
       "    <tr>\n",
       "      <th>2</th>\n",
       "      <td>True</td>\n",
       "      <td>True</td>\n",
       "      <td>True</td>\n",
       "      <td>False</td>\n",
       "      <td>False</td>\n",
       "      <td>False</td>\n",
       "      <td>False</td>\n",
       "      <td>False</td>\n",
       "      <td>False</td>\n",
       "      <td>False</td>\n",
       "      <td>True</td>\n",
       "      <td>False</td>\n",
       "    </tr>\n",
       "    <tr>\n",
       "      <th>3</th>\n",
       "      <td>False</td>\n",
       "      <td>False</td>\n",
       "      <td>False</td>\n",
       "      <td>False</td>\n",
       "      <td>False</td>\n",
       "      <td>False</td>\n",
       "      <td>False</td>\n",
       "      <td>False</td>\n",
       "      <td>False</td>\n",
       "      <td>False</td>\n",
       "      <td>False</td>\n",
       "      <td>False</td>\n",
       "    </tr>\n",
       "    <tr>\n",
       "      <th>4</th>\n",
       "      <td>True</td>\n",
       "      <td>False</td>\n",
       "      <td>False</td>\n",
       "      <td>True</td>\n",
       "      <td>False</td>\n",
       "      <td>True</td>\n",
       "      <td>False</td>\n",
       "      <td>False</td>\n",
       "      <td>True</td>\n",
       "      <td>False</td>\n",
       "      <td>True</td>\n",
       "      <td>False</td>\n",
       "    </tr>\n",
       "    <tr>\n",
       "      <th>...</th>\n",
       "      <td>...</td>\n",
       "      <td>...</td>\n",
       "      <td>...</td>\n",
       "      <td>...</td>\n",
       "      <td>...</td>\n",
       "      <td>...</td>\n",
       "      <td>...</td>\n",
       "      <td>...</td>\n",
       "      <td>...</td>\n",
       "      <td>...</td>\n",
       "      <td>...</td>\n",
       "      <td>...</td>\n",
       "    </tr>\n",
       "    <tr>\n",
       "      <th>325</th>\n",
       "      <td>False</td>\n",
       "      <td>True</td>\n",
       "      <td>False</td>\n",
       "      <td>True</td>\n",
       "      <td>True</td>\n",
       "      <td>False</td>\n",
       "      <td>True</td>\n",
       "      <td>True</td>\n",
       "      <td>False</td>\n",
       "      <td>True</td>\n",
       "      <td>True</td>\n",
       "      <td>False</td>\n",
       "    </tr>\n",
       "    <tr>\n",
       "      <th>326</th>\n",
       "      <td>False</td>\n",
       "      <td>True</td>\n",
       "      <td>False</td>\n",
       "      <td>False</td>\n",
       "      <td>True</td>\n",
       "      <td>False</td>\n",
       "      <td>True</td>\n",
       "      <td>False</td>\n",
       "      <td>True</td>\n",
       "      <td>False</td>\n",
       "      <td>False</td>\n",
       "      <td>False</td>\n",
       "    </tr>\n",
       "    <tr>\n",
       "      <th>327</th>\n",
       "      <td>False</td>\n",
       "      <td>False</td>\n",
       "      <td>False</td>\n",
       "      <td>False</td>\n",
       "      <td>False</td>\n",
       "      <td>False</td>\n",
       "      <td>False</td>\n",
       "      <td>False</td>\n",
       "      <td>False</td>\n",
       "      <td>False</td>\n",
       "      <td>False</td>\n",
       "      <td>False</td>\n",
       "    </tr>\n",
       "    <tr>\n",
       "      <th>328</th>\n",
       "      <td>False</td>\n",
       "      <td>False</td>\n",
       "      <td>False</td>\n",
       "      <td>False</td>\n",
       "      <td>False</td>\n",
       "      <td>False</td>\n",
       "      <td>False</td>\n",
       "      <td>False</td>\n",
       "      <td>False</td>\n",
       "      <td>False</td>\n",
       "      <td>False</td>\n",
       "      <td>False</td>\n",
       "    </tr>\n",
       "    <tr>\n",
       "      <th>329</th>\n",
       "      <td>True</td>\n",
       "      <td>False</td>\n",
       "      <td>True</td>\n",
       "      <td>False</td>\n",
       "      <td>True</td>\n",
       "      <td>False</td>\n",
       "      <td>False</td>\n",
       "      <td>False</td>\n",
       "      <td>False</td>\n",
       "      <td>False</td>\n",
       "      <td>False</td>\n",
       "      <td>False</td>\n",
       "    </tr>\n",
       "  </tbody>\n",
       "</table>\n",
       "<p>330 rows × 12 columns</p>\n",
       "</div>"
      ],
      "text/plain": [
       "     q_fssg_01_nongrat  q_fssg_02_dayhoi  q_fssg_03_nangbung  \\\n",
       "0                False             False                True   \n",
       "1                False             False               False   \n",
       "2                 True              True                True   \n",
       "3                False             False               False   \n",
       "4                 True             False               False   \n",
       "..                 ...               ...                 ...   \n",
       "325              False              True               False   \n",
       "326              False              True               False   \n",
       "327              False             False               False   \n",
       "328              False             False               False   \n",
       "329               True             False                True   \n",
       "\n",
       "     q_fssg_04_xoanguc  q_fssg_05_metsauan  q_fssg_06_nongratsauan  \\\n",
       "0                False               False                   False   \n",
       "1                False               False                   False   \n",
       "2                False               False                   False   \n",
       "3                False               False                   False   \n",
       "4                 True               False                    True   \n",
       "..                 ...                 ...                     ...   \n",
       "325               True                True                   False   \n",
       "326              False                True                   False   \n",
       "327              False               False                   False   \n",
       "328              False               False                   False   \n",
       "329              False                True                   False   \n",
       "\n",
       "     q_fssg_07_hong  q_fssg_08_daylucan  q_fssg_09_nuotnghen  \\\n",
       "0             False               False                False   \n",
       "1              True               False                False   \n",
       "2             False               False                False   \n",
       "3             False               False                False   \n",
       "4             False               False                 True   \n",
       "..              ...                 ...                  ...   \n",
       "325            True                True                False   \n",
       "326            True               False                 True   \n",
       "327           False               False                False   \n",
       "328           False               False                False   \n",
       "329           False               False                False   \n",
       "\n",
       "     q_fssg_10_dichtraolen  q_fssg_11_onhieu  q_fssg_12_nongratcuixuong  \n",
       "0                    False             False                      False  \n",
       "1                    False              True                      False  \n",
       "2                    False              True                      False  \n",
       "3                    False             False                      False  \n",
       "4                    False              True                      False  \n",
       "..                     ...               ...                        ...  \n",
       "325                   True              True                      False  \n",
       "326                  False             False                      False  \n",
       "327                  False             False                      False  \n",
       "328                  False             False                      False  \n",
       "329                  False             False                      False  \n",
       "\n",
       "[330 rows x 12 columns]"
      ]
     },
     "execution_count": 12,
     "metadata": {},
     "output_type": "execute_result"
    }
   ],
   "source": [
    "d.filter(like=\"q_fssg_\") >= 3"
   ]
  },
  {
   "cell_type": "markdown",
   "metadata": {},
   "source": [
    "## Tạo mới Data frame và Series\n",
    "\n",
    "Có nhiều cách để tạo mới data frame và series. Cách đầu tiên là dùng từ điển. Chúng ta dùng cách này để đặt tên cho mỗi cột trong data frame hoặc mỗi phần tử trong series."
   ]
  },
  {
   "cell_type": "code",
   "execution_count": 13,
   "metadata": {},
   "outputs": [
    {
     "data": {
      "text/html": [
       "<div>\n",
       "<style scoped>\n",
       "    .dataframe tbody tr th:only-of-type {\n",
       "        vertical-align: middle;\n",
       "    }\n",
       "\n",
       "    .dataframe tbody tr th {\n",
       "        vertical-align: top;\n",
       "    }\n",
       "\n",
       "    .dataframe thead th {\n",
       "        text-align: right;\n",
       "    }\n",
       "</style>\n",
       "<table border=\"1\" class=\"dataframe\">\n",
       "  <thead>\n",
       "    <tr style=\"text-align: right;\">\n",
       "      <th></th>\n",
       "      <th>sex</th>\n",
       "      <th>age</th>\n",
       "    </tr>\n",
       "  </thead>\n",
       "  <tbody>\n",
       "    <tr>\n",
       "      <th>0</th>\n",
       "      <td>0</td>\n",
       "      <td>21</td>\n",
       "    </tr>\n",
       "    <tr>\n",
       "      <th>1</th>\n",
       "      <td>1</td>\n",
       "      <td>29</td>\n",
       "    </tr>\n",
       "    <tr>\n",
       "      <th>2</th>\n",
       "      <td>1</td>\n",
       "      <td>33</td>\n",
       "    </tr>\n",
       "    <tr>\n",
       "      <th>3</th>\n",
       "      <td>0</td>\n",
       "      <td>24</td>\n",
       "    </tr>\n",
       "  </tbody>\n",
       "</table>\n",
       "</div>"
      ],
      "text/plain": [
       "   sex  age\n",
       "0    0   21\n",
       "1    1   29\n",
       "2    1   33\n",
       "3    0   24"
      ]
     },
     "execution_count": 13,
     "metadata": {},
     "output_type": "execute_result"
    }
   ],
   "source": [
    "pd.DataFrame({\n",
    "    \"sex\": [0, 1, 1, 0],\n",
    "    \"age\": [21, 29, 33, 24]\n",
    "})"
   ]
  },
  {
   "cell_type": "code",
   "execution_count": 14,
   "metadata": {},
   "outputs": [
    {
     "data": {
      "text/plain": [
       "sex     0\n",
       "age    21\n",
       "dtype: int64"
      ]
     },
     "execution_count": 14,
     "metadata": {},
     "output_type": "execute_result"
    }
   ],
   "source": [
    "pd.Series({\n",
    "    \"sex\": 0,\n",
    "    \"age\": 21\n",
    "})"
   ]
  },
  {
   "cell_type": "markdown",
   "metadata": {},
   "source": [
    "Đối với data frame, bạn cung cấp các danh sách giá trị cho từng cột (chìa khóa trong từ điển). Còn đối với series, bạn cung cấp các giá trị cho từng chìa khóa. Nếu bạn cung cấp danh sách các giá trị, Pandas sẽ coi như giá trị của chìa khóa đó là danh sách (chứ không mở rộng thành nhiều series)."
   ]
  },
  {
   "cell_type": "code",
   "execution_count": 15,
   "metadata": {},
   "outputs": [
    {
     "data": {
      "text/plain": [
       "sex    [0, 1]\n",
       "age        21\n",
       "dtype: object"
      ]
     },
     "execution_count": 15,
     "metadata": {},
     "output_type": "execute_result"
    }
   ],
   "source": [
    "pd.Series({\n",
    "    \"sex\": [0, 1],\n",
    "    \"age\": 21\n",
    "})"
   ]
  },
  {
   "cell_type": "markdown",
   "metadata": {},
   "source": [
    "Một cách tạo data frame mới khác là dùng danh sách cho từng hàng, trong trường hợp này bạn sẽ cần thêm tên cột vào trong đối số `columns`."
   ]
  },
  {
   "cell_type": "code",
   "execution_count": 16,
   "metadata": {},
   "outputs": [
    {
     "data": {
      "text/html": [
       "<div>\n",
       "<style scoped>\n",
       "    .dataframe tbody tr th:only-of-type {\n",
       "        vertical-align: middle;\n",
       "    }\n",
       "\n",
       "    .dataframe tbody tr th {\n",
       "        vertical-align: top;\n",
       "    }\n",
       "\n",
       "    .dataframe thead th {\n",
       "        text-align: right;\n",
       "    }\n",
       "</style>\n",
       "<table border=\"1\" class=\"dataframe\">\n",
       "  <thead>\n",
       "    <tr style=\"text-align: right;\">\n",
       "      <th></th>\n",
       "      <th>sex</th>\n",
       "      <th>age</th>\n",
       "    </tr>\n",
       "  </thead>\n",
       "  <tbody>\n",
       "    <tr>\n",
       "      <th>0</th>\n",
       "      <td>0</td>\n",
       "      <td>21</td>\n",
       "    </tr>\n",
       "    <tr>\n",
       "      <th>1</th>\n",
       "      <td>1</td>\n",
       "      <td>29</td>\n",
       "    </tr>\n",
       "  </tbody>\n",
       "</table>\n",
       "</div>"
      ],
      "text/plain": [
       "   sex  age\n",
       "0    0   21\n",
       "1    1   29"
      ]
     },
     "execution_count": 16,
     "metadata": {},
     "output_type": "execute_result"
    }
   ],
   "source": [
    "pd.DataFrame([\n",
    "    [0, 21],\n",
    "    [1, 29]\n",
    "], columns=[\"sex\", \"age\"])"
   ]
  },
  {
   "cell_type": "markdown",
   "metadata": {},
   "source": [
    "Bạn có thể thêm cả tên hàng vào đối số `index` nếu cần."
   ]
  },
  {
   "cell_type": "code",
   "execution_count": 17,
   "metadata": {},
   "outputs": [
    {
     "data": {
      "text/html": [
       "<div>\n",
       "<style scoped>\n",
       "    .dataframe tbody tr th:only-of-type {\n",
       "        vertical-align: middle;\n",
       "    }\n",
       "\n",
       "    .dataframe tbody tr th {\n",
       "        vertical-align: top;\n",
       "    }\n",
       "\n",
       "    .dataframe thead th {\n",
       "        text-align: right;\n",
       "    }\n",
       "</style>\n",
       "<table border=\"1\" class=\"dataframe\">\n",
       "  <thead>\n",
       "    <tr style=\"text-align: right;\">\n",
       "      <th></th>\n",
       "      <th>sex</th>\n",
       "      <th>age</th>\n",
       "    </tr>\n",
       "  </thead>\n",
       "  <tbody>\n",
       "    <tr>\n",
       "      <th>Mai</th>\n",
       "      <td>0</td>\n",
       "      <td>21</td>\n",
       "    </tr>\n",
       "    <tr>\n",
       "      <th>Hung</th>\n",
       "      <td>1</td>\n",
       "      <td>29</td>\n",
       "    </tr>\n",
       "  </tbody>\n",
       "</table>\n",
       "</div>"
      ],
      "text/plain": [
       "      sex  age\n",
       "Mai     0   21\n",
       "Hung    1   29"
      ]
     },
     "execution_count": 17,
     "metadata": {},
     "output_type": "execute_result"
    }
   ],
   "source": [
    "pd.DataFrame([\n",
    "    [0, 21],\n",
    "    [1, 29]\n",
    "], columns=[\"sex\", \"age\"], index=[\"Mai\", \"Hung\"])"
   ]
  },
  {
   "cell_type": "markdown",
   "metadata": {},
   "source": [
    "Bạn có thể tạo data frame từ các series, vì series cũng là một dạng danh sách. Điểm thú vị của series là mỗi giá trị có một \"tên gọi\", gọi là \"nhãn\" hay \"index\". Khi tạo data frame từ các series, bạn không cần xác định đúng thứ tự của đối tượng trong series, vì Pandas sẽ tự động ghép các giá trị có cùng index vào cùng một hàng."
   ]
  },
  {
   "cell_type": "code",
   "execution_count": 18,
   "metadata": {},
   "outputs": [
    {
     "name": "stdout",
     "output_type": "stream",
     "text": [
      "Mai     0\n",
      "Hung    1\n",
      "dtype: int64\n",
      "Hung    29\n",
      "Mai     21\n",
      "dtype: int64\n"
     ]
    },
    {
     "data": {
      "text/html": [
       "<div>\n",
       "<style scoped>\n",
       "    .dataframe tbody tr th:only-of-type {\n",
       "        vertical-align: middle;\n",
       "    }\n",
       "\n",
       "    .dataframe tbody tr th {\n",
       "        vertical-align: top;\n",
       "    }\n",
       "\n",
       "    .dataframe thead th {\n",
       "        text-align: right;\n",
       "    }\n",
       "</style>\n",
       "<table border=\"1\" class=\"dataframe\">\n",
       "  <thead>\n",
       "    <tr style=\"text-align: right;\">\n",
       "      <th></th>\n",
       "      <th>sex</th>\n",
       "      <th>age</th>\n",
       "    </tr>\n",
       "  </thead>\n",
       "  <tbody>\n",
       "    <tr>\n",
       "      <th>Hung</th>\n",
       "      <td>1</td>\n",
       "      <td>29</td>\n",
       "    </tr>\n",
       "    <tr>\n",
       "      <th>Mai</th>\n",
       "      <td>0</td>\n",
       "      <td>21</td>\n",
       "    </tr>\n",
       "  </tbody>\n",
       "</table>\n",
       "</div>"
      ],
      "text/plain": [
       "      sex  age\n",
       "Hung    1   29\n",
       "Mai     0   21"
      ]
     },
     "execution_count": 18,
     "metadata": {},
     "output_type": "execute_result"
    }
   ],
   "source": [
    "sex = pd.Series([0, 1], index=[\"Mai\", \"Hung\"])\n",
    "age = pd.Series([29, 21], index=[\"Hung\", \"Mai\"])\n",
    "\n",
    "print(sex)\n",
    "print(age)\n",
    "\n",
    "df = pd.DataFrame({\n",
    "    \"sex\": sex,\n",
    "    \"age\": age\n",
    "})\n",
    "df"
   ]
  },
  {
   "cell_type": "markdown",
   "metadata": {},
   "source": [
    "Cung cấp danh sách trống để tạo data frame hoặc series không có bản ghi nào."
   ]
  },
  {
   "cell_type": "code",
   "execution_count": 19,
   "metadata": {},
   "outputs": [
    {
     "data": {
      "text/html": [
       "<div>\n",
       "<style scoped>\n",
       "    .dataframe tbody tr th:only-of-type {\n",
       "        vertical-align: middle;\n",
       "    }\n",
       "\n",
       "    .dataframe tbody tr th {\n",
       "        vertical-align: top;\n",
       "    }\n",
       "\n",
       "    .dataframe thead th {\n",
       "        text-align: right;\n",
       "    }\n",
       "</style>\n",
       "<table border=\"1\" class=\"dataframe\">\n",
       "  <thead>\n",
       "    <tr style=\"text-align: right;\">\n",
       "      <th></th>\n",
       "      <th>sex</th>\n",
       "      <th>age</th>\n",
       "    </tr>\n",
       "  </thead>\n",
       "  <tbody>\n",
       "  </tbody>\n",
       "</table>\n",
       "</div>"
      ],
      "text/plain": [
       "Empty DataFrame\n",
       "Columns: [sex, age]\n",
       "Index: []"
      ]
     },
     "execution_count": 19,
     "metadata": {},
     "output_type": "execute_result"
    }
   ],
   "source": [
    "pd.DataFrame([], columns=[\"sex\", \"age\"])"
   ]
  },
  {
   "cell_type": "code",
   "execution_count": 20,
   "metadata": {},
   "outputs": [
    {
     "data": {
      "text/plain": [
       "Series([], dtype: float64)"
      ]
     },
     "execution_count": 20,
     "metadata": {},
     "output_type": "execute_result"
    }
   ],
   "source": [
    "pd.Series([], dtype=\"float64\")"
   ]
  },
  {
   "cell_type": "markdown",
   "metadata": {},
   "source": [
    "## Bổ sung nội dung\n",
    "\n",
    "Để thêm các nội dung mới vào cuối series, bạn sử dụng hàm `pandas.concat()`. Nội dung thêm vào cũng phải là series, và nếu series ban đầu có index thì series mới thêm vào cũng nên có index. Chú ý rằng đoạn lệnh sau KHÔNG lưu lại nội dung đã bổ sung của series vào bộ nhớ mà chỉ hiện ra màn hình. Bạn cần dùng lệnh gán (ví dụ, `sex = pd.concat(...)`) để lưu lại dữ liệu mới."
   ]
  },
  {
   "cell_type": "code",
   "execution_count": 21,
   "metadata": {},
   "outputs": [
    {
     "data": {
      "text/plain": [
       "Mai      0\n",
       "Hung     1\n",
       "Trang    0\n",
       "Minh     1\n",
       "Thang    1\n",
       "dtype: int64"
      ]
     },
     "execution_count": 21,
     "metadata": {},
     "output_type": "execute_result"
    }
   ],
   "source": [
    "new_sex = pd.Series([0, 1, 1], index=[\"Trang\", \"Minh\", \"Thang\"])\n",
    "pd.concat([sex, new_sex])"
   ]
  },
  {
   "cell_type": "markdown",
   "metadata": {},
   "source": [
    "Tương tự, bạn có thể thêm các hàng mới vào data frame bằng cách này. Các hàng mới này cần là một data frame (thậm chí ngay cả khi có 1 hàng bạn cũng cần tạo data frame)."
   ]
  },
  {
   "cell_type": "code",
   "execution_count": 22,
   "metadata": {},
   "outputs": [
    {
     "data": {
      "text/html": [
       "<div>\n",
       "<style scoped>\n",
       "    .dataframe tbody tr th:only-of-type {\n",
       "        vertical-align: middle;\n",
       "    }\n",
       "\n",
       "    .dataframe tbody tr th {\n",
       "        vertical-align: top;\n",
       "    }\n",
       "\n",
       "    .dataframe thead th {\n",
       "        text-align: right;\n",
       "    }\n",
       "</style>\n",
       "<table border=\"1\" class=\"dataframe\">\n",
       "  <thead>\n",
       "    <tr style=\"text-align: right;\">\n",
       "      <th></th>\n",
       "      <th>sex</th>\n",
       "      <th>age</th>\n",
       "    </tr>\n",
       "  </thead>\n",
       "  <tbody>\n",
       "    <tr>\n",
       "      <th>Hung</th>\n",
       "      <td>1</td>\n",
       "      <td>29</td>\n",
       "    </tr>\n",
       "    <tr>\n",
       "      <th>Mai</th>\n",
       "      <td>0</td>\n",
       "      <td>21</td>\n",
       "    </tr>\n",
       "    <tr>\n",
       "      <th>Hang</th>\n",
       "      <td>0</td>\n",
       "      <td>31</td>\n",
       "    </tr>\n",
       "  </tbody>\n",
       "</table>\n",
       "</div>"
      ],
      "text/plain": [
       "      sex  age\n",
       "Hung    1   29\n",
       "Mai     0   21\n",
       "Hang    0   31"
      ]
     },
     "execution_count": 22,
     "metadata": {},
     "output_type": "execute_result"
    }
   ],
   "source": [
    "new_person = pd.DataFrame({\n",
    "    \"sex\": [0],\n",
    "    \"age\": [31]\n",
    "}, index=[\"Hang\"])\n",
    "\n",
    "pd.concat([df, new_person])"
   ]
  },
  {
   "cell_type": "markdown",
   "metadata": {},
   "source": [
    "---\n",
    "\n",
    "[Bài trước](../03_math/04_stats.ipynb) - [Danh sách bài](../README.md) - [Bài sau](./02_colindex.ipynb)"
   ]
  }
 ],
 "metadata": {
  "kernelspec": {
   "display_name": "Python 3.9.9 64-bit",
   "language": "python",
   "name": "python3"
  },
  "language_info": {
   "codemirror_mode": {
    "name": "ipython",
    "version": 3
   },
   "file_extension": ".py",
   "mimetype": "text/x-python",
   "name": "python",
   "nbconvert_exporter": "python",
   "pygments_lexer": "ipython3",
   "version": "3.9.9"
  },
  "orig_nbformat": 4,
  "vscode": {
   "interpreter": {
    "hash": "11938c6bc6919ae2720b4d5011047913343b08a43b18698fd82dedb0d4417594"
   }
  }
 },
 "nbformat": 4,
 "nbformat_minor": 2
}
