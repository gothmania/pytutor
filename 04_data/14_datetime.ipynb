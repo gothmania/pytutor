{
 "cells": [
  {
   "cell_type": "markdown",
   "metadata": {},
   "source": [
    "# D14 Số liệu thời gian\n",
    "\n",
    "## Mục đích\n",
    "\n",
    "Trong bài này chúng ta sẽ làm quen với kiểu số liệu thời gian và các hàm xử lí số liệu thời gian trong Pandas.\n",
    "\n",
    "\n",
    "## Kiểu dữ liệu thời gian\n",
    "\n",
    "Thời gian (ngày và giờ) luôn là một dạng dữ liệu đặc biệt trong tất cả các ngôn ngữ lập trình, lí do là vì nó có cấu trúc thông tin đặc biệt. Bên cạnh việc đọc số liệu thời gian tự động từ Excel (với những cột đã được định dạng thời gian), bạn có thể tạo ra số liệu thời gian từ số liệu `str` trong Pandas."
   ]
  },
  {
   "cell_type": "code",
   "execution_count": 1,
   "metadata": {},
   "outputs": [
    {
     "data": {
      "text/plain": [
       "DatetimeIndex(['2020-12-19 00:00:00', '2022-05-29 17:30:00'], dtype='datetime64[ns]', freq=None)"
      ]
     },
     "execution_count": 1,
     "metadata": {},
     "output_type": "execute_result"
    }
   ],
   "source": [
    "import pandas as pd\n",
    "\n",
    "dt_data1 = [\"2020-12-19\", \"2022-05-29 17:30:00\"]\n",
    "pd.to_datetime(dt_data1)"
   ]
  },
  {
   "cell_type": "markdown",
   "metadata": {},
   "source": [
    "Hàm `pandas.to_datetime()` sẽ báo lỗi nếu dữ liệu `str` mà bạn cung cấp không phải thể dịch ra (parse) được dưới dạng thời gian. Nếu không chắc chắn về tính chính xác của các chuỗi kí tự, bạn có thể yêu cầu Pandas bỏ qua lỗi đó và trả về NA."
   ]
  },
  {
   "cell_type": "code",
   "execution_count": 2,
   "metadata": {},
   "outputs": [
    {
     "data": {
      "text/plain": [
       "DatetimeIndex(['NaT', '2022-05-29 17:30:00'], dtype='datetime64[ns]', freq=None)"
      ]
     },
     "execution_count": 2,
     "metadata": {},
     "output_type": "execute_result"
    }
   ],
   "source": [
    "dt_data2 = [\"2020-13-19\", \"2022-05-29 17:30:00\"]\n",
    "pd.to_datetime(dt_data2, errors=\"coerce\")"
   ]
  },
  {
   "cell_type": "markdown",
   "metadata": {},
   "source": [
    "Nếu dữ liệu thời gian của bạn nằm ở một dạng đặc biệt, không giống với những định dạng thông thường, bạn có thể quy định định dạng này. Bạn xem thêm cách định dạng thời gian ở [đây](https://docs.python.org/3/library/datetime.html#strftime-and-strptime-format-codes)."
   ]
  },
  {
   "cell_type": "code",
   "execution_count": 3,
   "metadata": {},
   "outputs": [
    {
     "data": {
      "text/plain": [
       "DatetimeIndex(['2020-12-19', '2022-05-29'], dtype='datetime64[ns]', freq=None)"
      ]
     },
     "execution_count": 3,
     "metadata": {},
     "output_type": "execute_result"
    }
   ],
   "source": [
    "dt_data3 = [\"19/12, 2020\", \"29/5, 2022\"]\n",
    "pd.to_datetime(dt_data3, format=\"%d/%m, %Y\")"
   ]
  },
  {
   "cell_type": "markdown",
   "metadata": {},
   "source": [
    "Để lấy thời gian hiện tại, chúng ta sẽ dùng hàm `datetime.now()` trong thư viện `datetime`."
   ]
  },
  {
   "cell_type": "code",
   "execution_count": 4,
   "metadata": {},
   "outputs": [
    {
     "name": "stdout",
     "output_type": "stream",
     "text": [
      "2022.11.15\n"
     ]
    }
   ],
   "source": [
    "from datetime import datetime\n",
    "\n",
    "print(\"{:%Y.%m.%d}\".format(datetime.now()))"
   ]
  },
  {
   "cell_type": "markdown",
   "metadata": {},
   "source": [
    "### `Timestamp`\n",
    "\n",
    "Bạn cũng có thể tạo ra dữ liệu thời gian từ kiểu `Timestamp`. Tuy nhiên, `Timestamp` không có cơ chế giải quyết lỗi nếu chuỗi kí tự thời gian có định dạng không chuẩn."
   ]
  },
  {
   "cell_type": "code",
   "execution_count": 5,
   "metadata": {},
   "outputs": [
    {
     "data": {
      "text/plain": [
       "Timestamp('2020-12-19 00:00:00')"
      ]
     },
     "execution_count": 5,
     "metadata": {},
     "output_type": "execute_result"
    }
   ],
   "source": [
    "pd.Timestamp(2020, 12, 19)"
   ]
  },
  {
   "cell_type": "markdown",
   "metadata": {},
   "source": [
    "### Tạo thời gian từ nhiều cột\n",
    "\n",
    "Một số bộ số liệu thu thập riêng các trường thời gian như ngày, tháng, năm. Pandas cho phép bạn gộp các trường này lại thành dữ liệu thời gian, theo thứ tự năm, tháng, ngày."
   ]
  },
  {
   "cell_type": "code",
   "execution_count": 6,
   "metadata": {},
   "outputs": [
    {
     "data": {
      "text/plain": [
       "0   2022-01-18\n",
       "1   2021-11-21\n",
       "dtype: datetime64[ns]"
      ]
     },
     "execution_count": 6,
     "metadata": {},
     "output_type": "execute_result"
    }
   ],
   "source": [
    "dt_data4 = pd.DataFrame({\n",
    "    \"year\": [2022, 2021],\n",
    "    \"month\": [1, 11],\n",
    "    \"day\": [18, 21]\n",
    "})\n",
    "\n",
    "pd.to_datetime(dt_data4)"
   ]
  },
  {
   "cell_type": "markdown",
   "metadata": {},
   "source": [
    "### Tạo dữ liệu khoảng thời gian\n",
    "\n",
    "Tương tự như việc tạo các khoảng dữ liệu số, trong một số công việc, bạn cũng cần tạo ra các khoảng dữ liệu thời gian, ví dụ trong phân tích time seres. Việc này rất đơn giản với Pandas."
   ]
  },
  {
   "cell_type": "code",
   "execution_count": 7,
   "metadata": {},
   "outputs": [
    {
     "data": {
      "text/plain": [
       "DatetimeIndex(['2022-01-01', '2022-01-02', '2022-01-03', '2022-01-04',\n",
       "               '2022-01-05', '2022-01-06', '2022-01-07', '2022-01-08'],\n",
       "              dtype='datetime64[ns]', freq='D')"
      ]
     },
     "execution_count": 7,
     "metadata": {},
     "output_type": "execute_result"
    }
   ],
   "source": [
    "pd.date_range(\"2022-01-01\", \"2022-01-08\")"
   ]
  },
  {
   "cell_type": "markdown",
   "metadata": {},
   "source": [
    "Với những đối số mặc định như trên, Pandas sẽ tạo ra các khoảng thời gian là ngày liên tiếp nhau. Bạn có thể thay đổi thiết lập để tạo ra các khoảng thời gian khác."
   ]
  },
  {
   "cell_type": "code",
   "execution_count": 8,
   "metadata": {},
   "outputs": [
    {
     "data": {
      "text/plain": [
       "DatetimeIndex(['2022-01-01', '2022-01-03', '2022-01-05', '2022-01-07'], dtype='datetime64[ns]', freq='2D')"
      ]
     },
     "execution_count": 8,
     "metadata": {},
     "output_type": "execute_result"
    }
   ],
   "source": [
    "pd.date_range(\"2022-01-01\", \"2022-01-08\", freq=\"2D\")"
   ]
  },
  {
   "cell_type": "code",
   "execution_count": 9,
   "metadata": {},
   "outputs": [
    {
     "data": {
      "text/plain": [
       "DatetimeIndex(['2022-01-31', '2022-02-28', '2022-03-31', '2022-04-30',\n",
       "               '2022-05-31', '2022-06-30', '2022-07-31', '2022-08-31',\n",
       "               '2022-09-30', '2022-10-31', '2022-11-30', '2022-12-31',\n",
       "               '2023-01-31'],\n",
       "              dtype='datetime64[ns]', freq='M')"
      ]
     },
     "execution_count": 9,
     "metadata": {},
     "output_type": "execute_result"
    }
   ],
   "source": [
    "pd.date_range(\"2022-01-01\", \"2023-02-01\", freq=\"M\")"
   ]
  },
  {
   "cell_type": "markdown",
   "metadata": {},
   "source": [
    "## Trích xuất các thành phần thời gian\n",
    "\n",
    "Trong thực tế công việc, bạn sẽ rất thường xuyên phải trích xuất một số thành phần thời gian phục vụ các thao tác và phân tích số liệu. Trong ví dụ sau đây, chúng ta sẽ tạo ra một tập số liệu trong nhiều tháng và thống kê trung bình theo tháng."
   ]
  },
  {
   "cell_type": "code",
   "execution_count": 10,
   "metadata": {},
   "outputs": [
    {
     "data": {
      "text/html": [
       "<div>\n",
       "<style scoped>\n",
       "    .dataframe tbody tr th:only-of-type {\n",
       "        vertical-align: middle;\n",
       "    }\n",
       "\n",
       "    .dataframe tbody tr th {\n",
       "        vertical-align: top;\n",
       "    }\n",
       "\n",
       "    .dataframe thead th {\n",
       "        text-align: right;\n",
       "    }\n",
       "</style>\n",
       "<table border=\"1\" class=\"dataframe\">\n",
       "  <thead>\n",
       "    <tr style=\"text-align: right;\">\n",
       "      <th></th>\n",
       "      <th>collection_date</th>\n",
       "      <th>value</th>\n",
       "    </tr>\n",
       "  </thead>\n",
       "  <tbody>\n",
       "    <tr>\n",
       "      <th>0</th>\n",
       "      <td>2021-01-01</td>\n",
       "      <td>684</td>\n",
       "    </tr>\n",
       "    <tr>\n",
       "      <th>1</th>\n",
       "      <td>2021-01-08</td>\n",
       "      <td>559</td>\n",
       "    </tr>\n",
       "    <tr>\n",
       "      <th>2</th>\n",
       "      <td>2021-01-15</td>\n",
       "      <td>629</td>\n",
       "    </tr>\n",
       "    <tr>\n",
       "      <th>3</th>\n",
       "      <td>2021-01-22</td>\n",
       "      <td>192</td>\n",
       "    </tr>\n",
       "    <tr>\n",
       "      <th>4</th>\n",
       "      <td>2021-01-29</td>\n",
       "      <td>835</td>\n",
       "    </tr>\n",
       "    <tr>\n",
       "      <th>5</th>\n",
       "      <td>2021-02-05</td>\n",
       "      <td>763</td>\n",
       "    </tr>\n",
       "    <tr>\n",
       "      <th>6</th>\n",
       "      <td>2021-02-12</td>\n",
       "      <td>707</td>\n",
       "    </tr>\n",
       "    <tr>\n",
       "      <th>7</th>\n",
       "      <td>2021-02-19</td>\n",
       "      <td>359</td>\n",
       "    </tr>\n",
       "    <tr>\n",
       "      <th>8</th>\n",
       "      <td>2021-02-26</td>\n",
       "      <td>9</td>\n",
       "    </tr>\n",
       "    <tr>\n",
       "      <th>9</th>\n",
       "      <td>2021-03-05</td>\n",
       "      <td>723</td>\n",
       "    </tr>\n",
       "  </tbody>\n",
       "</table>\n",
       "</div>"
      ],
      "text/plain": [
       "  collection_date  value\n",
       "0      2021-01-01    684\n",
       "1      2021-01-08    559\n",
       "2      2021-01-15    629\n",
       "3      2021-01-22    192\n",
       "4      2021-01-29    835\n",
       "5      2021-02-05    763\n",
       "6      2021-02-12    707\n",
       "7      2021-02-19    359\n",
       "8      2021-02-26      9\n",
       "9      2021-03-05    723"
      ]
     },
     "execution_count": 10,
     "metadata": {},
     "output_type": "execute_result"
    }
   ],
   "source": [
    "import numpy as np\n",
    "\n",
    "np.random.seed(0)\n",
    "\n",
    "dates = pd.date_range(\"2021-01-01\", \"2022-01-01\", freq=\"7D\")\n",
    "\n",
    "dt_data5 = pd.DataFrame({\n",
    "    \"collection_date\": dates,\n",
    "    \"value\": np.random.randint(0, 1000, len(dates))\n",
    "})\n",
    "\n",
    "dt_data5.head(10)"
   ]
  },
  {
   "cell_type": "markdown",
   "metadata": {},
   "source": [
    "Việc truy cập vào thành phần tháng của số liệu thời gian được thông qua accessor `dt`."
   ]
  },
  {
   "cell_type": "code",
   "execution_count": 11,
   "metadata": {},
   "outputs": [
    {
     "data": {
      "text/plain": [
       "0    1\n",
       "1    1\n",
       "2    1\n",
       "3    1\n",
       "4    1\n",
       "5    2\n",
       "6    2\n",
       "7    2\n",
       "8    2\n",
       "9    3\n",
       "Name: collection_date, dtype: int64"
      ]
     },
     "execution_count": 11,
     "metadata": {},
     "output_type": "execute_result"
    }
   ],
   "source": [
    "dt_data5[\"collection_date\"].dt.month.head(10)"
   ]
  },
  {
   "cell_type": "markdown",
   "metadata": {},
   "source": [
    "Việc truy cập vào các thành phần của thời gian có thể được tiến hành mọi lúc mọi nơi."
   ]
  },
  {
   "cell_type": "code",
   "execution_count": 12,
   "metadata": {},
   "outputs": [
    {
     "data": {
      "text/html": [
       "<div>\n",
       "<style scoped>\n",
       "    .dataframe tbody tr th:only-of-type {\n",
       "        vertical-align: middle;\n",
       "    }\n",
       "\n",
       "    .dataframe tbody tr th {\n",
       "        vertical-align: top;\n",
       "    }\n",
       "\n",
       "    .dataframe thead th {\n",
       "        text-align: right;\n",
       "    }\n",
       "</style>\n",
       "<table border=\"1\" class=\"dataframe\">\n",
       "  <thead>\n",
       "    <tr style=\"text-align: right;\">\n",
       "      <th></th>\n",
       "      <th>value</th>\n",
       "    </tr>\n",
       "    <tr>\n",
       "      <th>collection_date</th>\n",
       "      <th></th>\n",
       "    </tr>\n",
       "  </thead>\n",
       "  <tbody>\n",
       "    <tr>\n",
       "      <th>1</th>\n",
       "      <td>579.80</td>\n",
       "    </tr>\n",
       "    <tr>\n",
       "      <th>2</th>\n",
       "      <td>459.50</td>\n",
       "    </tr>\n",
       "    <tr>\n",
       "      <th>3</th>\n",
       "      <td>639.50</td>\n",
       "    </tr>\n",
       "    <tr>\n",
       "      <th>4</th>\n",
       "      <td>427.40</td>\n",
       "    </tr>\n",
       "    <tr>\n",
       "      <th>5</th>\n",
       "      <td>514.00</td>\n",
       "    </tr>\n",
       "    <tr>\n",
       "      <th>6</th>\n",
       "      <td>427.50</td>\n",
       "    </tr>\n",
       "    <tr>\n",
       "      <th>7</th>\n",
       "      <td>581.60</td>\n",
       "    </tr>\n",
       "    <tr>\n",
       "      <th>8</th>\n",
       "      <td>690.50</td>\n",
       "    </tr>\n",
       "    <tr>\n",
       "      <th>9</th>\n",
       "      <td>608.75</td>\n",
       "    </tr>\n",
       "    <tr>\n",
       "      <th>10</th>\n",
       "      <td>573.00</td>\n",
       "    </tr>\n",
       "    <tr>\n",
       "      <th>11</th>\n",
       "      <td>628.25</td>\n",
       "    </tr>\n",
       "    <tr>\n",
       "      <th>12</th>\n",
       "      <td>526.80</td>\n",
       "    </tr>\n",
       "  </tbody>\n",
       "</table>\n",
       "</div>"
      ],
      "text/plain": [
       "                  value\n",
       "collection_date        \n",
       "1                579.80\n",
       "2                459.50\n",
       "3                639.50\n",
       "4                427.40\n",
       "5                514.00\n",
       "6                427.50\n",
       "7                581.60\n",
       "8                690.50\n",
       "9                608.75\n",
       "10               573.00\n",
       "11               628.25\n",
       "12               526.80"
      ]
     },
     "execution_count": 12,
     "metadata": {},
     "output_type": "execute_result"
    }
   ],
   "source": [
    "dt_data5.groupby(dt_data5.collection_date.dt.month).mean({\"value\": \"mean\"})"
   ]
  },
  {
   "cell_type": "markdown",
   "metadata": {},
   "source": [
    "## Phép toán thời gian\n",
    "\n",
    "### Dịch chuyển thời gian\n",
    "\n",
    "Để thực hiện các phép toán của một giá trị thời gian và một giá trị số, bạn sẽ cần tìm hiểu thêm khái niệm kiểu dữ liệu `TimeDelta` và `DateOffset`. Các kiểu dữ liệu này cho phép bạn xác định là bạn sẽ thay đổi giá trị thời gian hiện tại đi bao nhiêu đơn vị thời gian, ví dụ 3 giờ, 2 ngày làm việc, v.v.."
   ]
  },
  {
   "cell_type": "code",
   "execution_count": 13,
   "metadata": {},
   "outputs": [
    {
     "data": {
      "text/plain": [
       "Timestamp('2022-11-15 19:29:20.393493')"
      ]
     },
     "execution_count": 13,
     "metadata": {},
     "output_type": "execute_result"
    }
   ],
   "source": [
    "today_value = pd.to_datetime(datetime.today())\n",
    "today_value"
   ]
  },
  {
   "cell_type": "code",
   "execution_count": 14,
   "metadata": {},
   "outputs": [
    {
     "data": {
      "text/plain": [
       "Timestamp('2022-11-15 22:29:20.393493')"
      ]
     },
     "execution_count": 14,
     "metadata": {},
     "output_type": "execute_result"
    }
   ],
   "source": [
    "today_value + pd.Timedelta(\"3H\")"
   ]
  },
  {
   "cell_type": "markdown",
   "metadata": {},
   "source": [
    "Kiểu dữ liệu `TimeDelta` rất đơn giản, bạn cần cung cấp hai thông tin là đơn vị (ngày, giờ) và số lượng. Để khởi tạo một đối tượng `TimeDelta`, bạn có thể sử dụng chuỗi kí tự (như ví dụ trên) hoặc cung cấp riêng hai thông tin này như dưới đây."
   ]
  },
  {
   "cell_type": "code",
   "execution_count": 15,
   "metadata": {},
   "outputs": [
    {
     "data": {
      "text/plain": [
       "Timestamp('2022-11-15 22:29:20.393493')"
      ]
     },
     "execution_count": 15,
     "metadata": {},
     "output_type": "execute_result"
    }
   ],
   "source": [
    "today_value + pd.Timedelta(value=3, unit=\"H\")"
   ]
  },
  {
   "cell_type": "markdown",
   "metadata": {},
   "source": [
    "Một cách khác là bạn có thể cung cấp thẳng trực tiếp số ngày, số giờ cho đối số tương ứng."
   ]
  },
  {
   "cell_type": "code",
   "execution_count": 16,
   "metadata": {},
   "outputs": [
    {
     "data": {
      "text/plain": [
       "Timestamp('2022-11-15 22:29:20.393493')"
      ]
     },
     "execution_count": 16,
     "metadata": {},
     "output_type": "execute_result"
    }
   ],
   "source": [
    "today_value + pd.Timedelta(hours=3)"
   ]
  },
  {
   "cell_type": "markdown",
   "metadata": {},
   "source": [
    "Kiểu dữ liệu `DateOffset` cho phép bạn hiệu chỉnh khoảng thời gian theo một số điều kiện như thay đổi giờ ban ngày (daylight saving time) hoặc ngày làm việc trong tuần."
   ]
  },
  {
   "cell_type": "code",
   "execution_count": 17,
   "metadata": {},
   "outputs": [
    {
     "name": "stdout",
     "output_type": "stream",
     "text": [
      "2022-11-20 19:29:20.393493\n",
      "2022-11-22 19:29:20.393493\n"
     ]
    }
   ],
   "source": [
    "# BDay là viết tắt của Business day\n",
    "five_working_days = pd.offsets.BDay(5)\n",
    "print(\n",
    "    today_value + pd.Timedelta(days=5),\n",
    "    today_value + five_working_days,\n",
    "    sep=\"\\n\"\n",
    ")"
   ]
  },
  {
   "cell_type": "markdown",
   "metadata": {},
   "source": [
    "`DateOffset` có rất nhiều tính năng. Chẳng hạn, bạn có thể sử dụng nó để tìm ngày Black Friday hàng năm (ngày thứ sáu của tuần thứ 4 tháng 11)."
   ]
  },
  {
   "cell_type": "code",
   "execution_count": 18,
   "metadata": {},
   "outputs": [
    {
     "name": "stderr",
     "output_type": "stream",
     "text": [
      "C:\\Users\\longh\\AppData\\Local\\Temp\\ipykernel_8932\\1681235526.py:2: PerformanceWarning: Non-vectorized DateOffset being applied to Series or DatetimeIndex.\n",
      "  pd.to_datetime([f\"{y}-11-01\" for y in range(2020, 2025)]) + offset_blkfri\n"
     ]
    },
    {
     "data": {
      "text/plain": [
       "DatetimeIndex(['2020-11-27', '2021-11-26', '2022-11-25', '2023-11-24',\n",
       "               '2024-11-22'],\n",
       "              dtype='datetime64[ns]', freq=None)"
      ]
     },
     "execution_count": 18,
     "metadata": {},
     "output_type": "execute_result"
    }
   ],
   "source": [
    "offset_blkfri = pd.offsets.WeekOfMonth(week=3, weekday=4)\n",
    "pd.to_datetime([f\"{y}-11-01\" for y in range(2020, 2025)]) + offset_blkfri"
   ]
  },
  {
   "cell_type": "markdown",
   "metadata": {},
   "source": [
    "### Hiệu số thời gian\n",
    "\n",
    "Bạn có thể tính toán chênh lệch giữa hai thời gian bằng phép trừ. Kết quả tính toán là kiểu `Timedelta`."
   ]
  },
  {
   "cell_type": "code",
   "execution_count": 19,
   "metadata": {},
   "outputs": [
    {
     "data": {
      "text/plain": [
       "Timedelta('9 days 03:30:00')"
      ]
     },
     "execution_count": 19,
     "metadata": {},
     "output_type": "execute_result"
    }
   ],
   "source": [
    "dt1 = pd.Timestamp(2022, 1, 10, 3, 30)\n",
    "dt2 = pd.Timestamp(2022, 1, 1)\n",
    "\n",
    "dt1 - dt2"
   ]
  },
  {
   "cell_type": "markdown",
   "metadata": {},
   "source": [
    "Bạn có thể trích xuất các thành phần thời gian từ hiệu số này."
   ]
  },
  {
   "cell_type": "code",
   "execution_count": 20,
   "metadata": {},
   "outputs": [
    {
     "data": {
      "text/plain": [
       "9"
      ]
     },
     "execution_count": 20,
     "metadata": {},
     "output_type": "execute_result"
    }
   ],
   "source": [
    "(dt1 - dt2).days"
   ]
  },
  {
   "cell_type": "markdown",
   "metadata": {},
   "source": [
    "## Chỉ mục thời gian\n",
    "\n",
    "Trong các nghiên cứu về chuỗi thời gian, chúng ta thường có nhiều quan sát theo thời điểm (ngày, giờ). Bạn có thể thiết lập để dữ liệu của bạn nhận index là thời gian."
   ]
  },
  {
   "cell_type": "code",
   "execution_count": 21,
   "metadata": {},
   "outputs": [
    {
     "data": {
      "text/html": [
       "<div>\n",
       "<style scoped>\n",
       "    .dataframe tbody tr th:only-of-type {\n",
       "        vertical-align: middle;\n",
       "    }\n",
       "\n",
       "    .dataframe tbody tr th {\n",
       "        vertical-align: top;\n",
       "    }\n",
       "\n",
       "    .dataframe thead th {\n",
       "        text-align: right;\n",
       "    }\n",
       "</style>\n",
       "<table border=\"1\" class=\"dataframe\">\n",
       "  <thead>\n",
       "    <tr style=\"text-align: right;\">\n",
       "      <th></th>\n",
       "      <th>value</th>\n",
       "    </tr>\n",
       "    <tr>\n",
       "      <th>collection_date</th>\n",
       "      <th></th>\n",
       "    </tr>\n",
       "  </thead>\n",
       "  <tbody>\n",
       "    <tr>\n",
       "      <th>2021-01-01</th>\n",
       "      <td>684</td>\n",
       "    </tr>\n",
       "    <tr>\n",
       "      <th>2021-01-08</th>\n",
       "      <td>559</td>\n",
       "    </tr>\n",
       "    <tr>\n",
       "      <th>2021-01-15</th>\n",
       "      <td>629</td>\n",
       "    </tr>\n",
       "    <tr>\n",
       "      <th>2021-01-22</th>\n",
       "      <td>192</td>\n",
       "    </tr>\n",
       "    <tr>\n",
       "      <th>2021-01-29</th>\n",
       "      <td>835</td>\n",
       "    </tr>\n",
       "  </tbody>\n",
       "</table>\n",
       "</div>"
      ],
      "text/plain": [
       "                 value\n",
       "collection_date       \n",
       "2021-01-01         684\n",
       "2021-01-08         559\n",
       "2021-01-15         629\n",
       "2021-01-22         192\n",
       "2021-01-29         835"
      ]
     },
     "execution_count": 21,
     "metadata": {},
     "output_type": "execute_result"
    }
   ],
   "source": [
    "dt_data6 = dt_data5.set_index(\"collection_date\")\n",
    "dt_data6.head()"
   ]
  },
  {
   "cell_type": "markdown",
   "metadata": {},
   "source": [
    "Bạn có thể vẽ rất nhanh một biểu đồ cho time series khi có chỉ mục thời gian."
   ]
  },
  {
   "cell_type": "code",
   "execution_count": 22,
   "metadata": {},
   "outputs": [
    {
     "data": {
      "image/png": "[encoded data removed]",
      "text/plain": [
       "<Figure size 640x480 with 1 Axes>"
      ]
     },
     "metadata": {},
     "output_type": "display_data"
    }
   ],
   "source": [
    "import matplotlib.pyplot as plt\n",
    "\n",
    "dt_data6[\"value\"].plot()\n",
    "plt.show()"
   ]
  },
  {
   "cell_type": "markdown",
   "metadata": {},
   "source": [
    "Bạn cũng có thể dịch chuyển dữ liệu theo thời gian (gọi là shift và lag). Ví dụ, lùi số liệu lại hai dòng."
   ]
  },
  {
   "cell_type": "code",
   "execution_count": 23,
   "metadata": {},
   "outputs": [
    {
     "data": {
      "text/html": [
       "<div>\n",
       "<style scoped>\n",
       "    .dataframe tbody tr th:only-of-type {\n",
       "        vertical-align: middle;\n",
       "    }\n",
       "\n",
       "    .dataframe tbody tr th {\n",
       "        vertical-align: top;\n",
       "    }\n",
       "\n",
       "    .dataframe thead th {\n",
       "        text-align: right;\n",
       "    }\n",
       "</style>\n",
       "<table border=\"1\" class=\"dataframe\">\n",
       "  <thead>\n",
       "    <tr style=\"text-align: right;\">\n",
       "      <th></th>\n",
       "      <th>value</th>\n",
       "      <th>value_lagged</th>\n",
       "    </tr>\n",
       "    <tr>\n",
       "      <th>collection_date</th>\n",
       "      <th></th>\n",
       "      <th></th>\n",
       "    </tr>\n",
       "  </thead>\n",
       "  <tbody>\n",
       "    <tr>\n",
       "      <th>2021-01-01</th>\n",
       "      <td>684</td>\n",
       "      <td>629.0</td>\n",
       "    </tr>\n",
       "    <tr>\n",
       "      <th>2021-01-08</th>\n",
       "      <td>559</td>\n",
       "      <td>192.0</td>\n",
       "    </tr>\n",
       "    <tr>\n",
       "      <th>2021-01-15</th>\n",
       "      <td>629</td>\n",
       "      <td>835.0</td>\n",
       "    </tr>\n",
       "    <tr>\n",
       "      <th>2021-01-22</th>\n",
       "      <td>192</td>\n",
       "      <td>763.0</td>\n",
       "    </tr>\n",
       "    <tr>\n",
       "      <th>2021-01-29</th>\n",
       "      <td>835</td>\n",
       "      <td>707.0</td>\n",
       "    </tr>\n",
       "  </tbody>\n",
       "</table>\n",
       "</div>"
      ],
      "text/plain": [
       "                 value  value_lagged\n",
       "collection_date                     \n",
       "2021-01-01         684         629.0\n",
       "2021-01-08         559         192.0\n",
       "2021-01-15         629         835.0\n",
       "2021-01-22         192         763.0\n",
       "2021-01-29         835         707.0"
      ]
     },
     "execution_count": 23,
     "metadata": {},
     "output_type": "execute_result"
    }
   ],
   "source": [
    "dt_data6[\"value_lagged\"] = dt_data6[\"value\"].shift(-2)\n",
    "dt_data6.head()"
   ]
  },
  {
   "cell_type": "markdown",
   "metadata": {},
   "source": [
    "Bạn cũng có thể shift / lag thời gian thay vì giá trị."
   ]
  },
  {
   "cell_type": "code",
   "execution_count": 24,
   "metadata": {},
   "outputs": [
    {
     "data": {
      "text/plain": [
       "collection_date\n",
       "2020-12-30    684\n",
       "2021-01-06    559\n",
       "2021-01-13    629\n",
       "2021-01-20    192\n",
       "2021-01-27    835\n",
       "Name: value, dtype: int32"
      ]
     },
     "execution_count": 24,
     "metadata": {},
     "output_type": "execute_result"
    }
   ],
   "source": [
    "dt_data6[\"value\"].shift(-2, \"D\").head()"
   ]
  },
  {
   "cell_type": "markdown",
   "metadata": {},
   "source": [
    "---\n",
    "\n",
    "[Bài trước](./13_string.ipynb) - [Danh sách bài](../README.md) - [Bài sau](./15_categorical.ipynb)"
   ]
  }
 ],
 "metadata": {
  "kernelspec": {
   "display_name": "Python 3.10.7 64-bit",
   "language": "python",
   "name": "python3"
  },
  "language_info": {
   "codemirror_mode": {
    "name": "ipython",
    "version": 3
   },
   "file_extension": ".py",
   "mimetype": "text/x-python",
   "name": "python",
   "nbconvert_exporter": "python",
   "pygments_lexer": "ipython3",
   "version": "3.10.7"
  },
  "orig_nbformat": 4,
  "vscode": {
   "interpreter": {
    "hash": "6a3c7fd02703099d697b86914af8afc6c3883c409bde85e680daef2475a3a8dd"
   }
  }
 },
 "nbformat": 4,
 "nbformat_minor": 2
}
