{
 "cells": [
  {
   "cell_type": "markdown",
   "metadata": {},
   "source": [
    "# D06 Thống kê cơ bản và `groupby()`\n",
    "\n",
    "## Mục đích\n",
    "\n",
    "Giới thiệu các hàm thống kê trên Pandas và thống kê phân tầng bằng `groupby()`.\n",
    "\n",
    "\n",
    "## Thống kê bằng Pandas\n",
    "\n",
    "Pandas hỗ trợ sẵn một số hàm thống kê đơn giản như trung bình hay trung vị. Bạn có thể thống kê cho một cột (dữ liệu dạng series):"
   ]
  },
  {
   "cell_type": "code",
   "execution_count": 1,
   "metadata": {},
   "outputs": [
    {
     "data": {
      "text/plain": [
       "55.68827160493827"
      ]
     },
     "execution_count": 1,
     "metadata": {},
     "output_type": "execute_result"
    }
   ],
   "source": [
    "import pandas as pd\n",
    "\n",
    "d = pd.read_excel(\"hrm.xlsx\", index_col=\"id\")\n",
    "d[\"weight\"].mean()"
   ]
  },
  {
   "cell_type": "markdown",
   "metadata": {},
   "source": [
    "Hoặc cho nhiều cột (dữ liệu dạng data frame):"
   ]
  },
  {
   "cell_type": "code",
   "execution_count": 2,
   "metadata": {},
   "outputs": [
    {
     "data": {
      "text/plain": [
       "weight    55.688272\n",
       "height     1.595127\n",
       "dtype: float64"
      ]
     },
     "execution_count": 2,
     "metadata": {},
     "output_type": "execute_result"
    }
   ],
   "source": [
    "d[[\"weight\", \"height\"]].mean()"
   ]
  },
  {
   "cell_type": "markdown",
   "metadata": {},
   "source": [
    "Khi thống kê trên data frame, bạn có thể thống kê trên từng dòng thay vì theo cột."
   ]
  },
  {
   "cell_type": "code",
   "execution_count": 3,
   "metadata": {},
   "outputs": [
    {
     "data": {
      "text/plain": [
       "id\n",
       "223     0.833333\n",
       "236     0.916667\n",
       "256     1.416667\n",
       "296     1.333333\n",
       "310     1.083333\n",
       "          ...   \n",
       "4200    1.500000\n",
       "4214    0.583333\n",
       "4216    0.916667\n",
       "4220    0.583333\n",
       "4240    0.333333\n",
       "Length: 330, dtype: float64"
      ]
     },
     "execution_count": 3,
     "metadata": {},
     "output_type": "execute_result"
    }
   ],
   "source": [
    "d.filter(like=\"q_fssg_\").mean(axis=1)"
   ]
  },
  {
   "cell_type": "markdown",
   "metadata": {},
   "source": [
    "### Thống kê nhiều chỉ số\n",
    "\n",
    "Pandas cung cấp hàm `agg()` cho phép bạn xác định kế hoạch thống kê cho dữ liệu của mình. Với hàm `agg()` (viết tắt của aggregate), bạn có thể thống kê nhiều chỉ số cho cùng một cột. Ví dụ:"
   ]
  },
  {
   "cell_type": "code",
   "execution_count": 4,
   "metadata": {},
   "outputs": [
    {
     "data": {
      "text/plain": [
       "mean      55.688272\n",
       "median    55.000000\n",
       "Name: weight, dtype: float64"
      ]
     },
     "execution_count": 4,
     "metadata": {},
     "output_type": "execute_result"
    }
   ],
   "source": [
    "d[\"weight\"].agg([\"mean\", \"median\"])"
   ]
  },
  {
   "cell_type": "markdown",
   "metadata": {},
   "source": [
    "Kết quả trả về sẽ là data frame nếu bạn thống kê cho nhiều cột."
   ]
  },
  {
   "cell_type": "code",
   "execution_count": 5,
   "metadata": {},
   "outputs": [
    {
     "data": {
      "text/html": [
       "<div>\n",
       "<style scoped>\n",
       "    .dataframe tbody tr th:only-of-type {\n",
       "        vertical-align: middle;\n",
       "    }\n",
       "\n",
       "    .dataframe tbody tr th {\n",
       "        vertical-align: top;\n",
       "    }\n",
       "\n",
       "    .dataframe thead th {\n",
       "        text-align: right;\n",
       "    }\n",
       "</style>\n",
       "<table border=\"1\" class=\"dataframe\">\n",
       "  <thead>\n",
       "    <tr style=\"text-align: right;\">\n",
       "      <th></th>\n",
       "      <th>weight</th>\n",
       "      <th>height</th>\n",
       "    </tr>\n",
       "  </thead>\n",
       "  <tbody>\n",
       "    <tr>\n",
       "      <th>mean</th>\n",
       "      <td>55.688272</td>\n",
       "      <td>1.595127</td>\n",
       "    </tr>\n",
       "    <tr>\n",
       "      <th>median</th>\n",
       "      <td>55.000000</td>\n",
       "      <td>1.580000</td>\n",
       "    </tr>\n",
       "  </tbody>\n",
       "</table>\n",
       "</div>"
      ],
      "text/plain": [
       "           weight    height\n",
       "mean    55.688272  1.595127\n",
       "median  55.000000  1.580000"
      ]
     },
     "execution_count": 5,
     "metadata": {},
     "output_type": "execute_result"
    }
   ],
   "source": [
    "d[[\"weight\", \"height\"]].agg([\"mean\", \"median\"])"
   ]
  },
  {
   "cell_type": "markdown",
   "metadata": {},
   "source": [
    "Thông thường chúng ta sẽ hiển thị các trường dữ liệu ở hàng, và các chỉ số thống kê ở cột. Do đó, đối với kết quả như trên, bạn có thể chuyển vị."
   ]
  },
  {
   "cell_type": "code",
   "execution_count": 6,
   "metadata": {},
   "outputs": [
    {
     "data": {
      "text/html": [
       "<div>\n",
       "<style scoped>\n",
       "    .dataframe tbody tr th:only-of-type {\n",
       "        vertical-align: middle;\n",
       "    }\n",
       "\n",
       "    .dataframe tbody tr th {\n",
       "        vertical-align: top;\n",
       "    }\n",
       "\n",
       "    .dataframe thead th {\n",
       "        text-align: right;\n",
       "    }\n",
       "</style>\n",
       "<table border=\"1\" class=\"dataframe\">\n",
       "  <thead>\n",
       "    <tr style=\"text-align: right;\">\n",
       "      <th></th>\n",
       "      <th>mean</th>\n",
       "      <th>median</th>\n",
       "    </tr>\n",
       "  </thead>\n",
       "  <tbody>\n",
       "    <tr>\n",
       "      <th>weight</th>\n",
       "      <td>55.688272</td>\n",
       "      <td>55.00</td>\n",
       "    </tr>\n",
       "    <tr>\n",
       "      <th>height</th>\n",
       "      <td>1.595127</td>\n",
       "      <td>1.58</td>\n",
       "    </tr>\n",
       "  </tbody>\n",
       "</table>\n",
       "</div>"
      ],
      "text/plain": [
       "             mean  median\n",
       "weight  55.688272   55.00\n",
       "height   1.595127    1.58"
      ]
     },
     "execution_count": 6,
     "metadata": {},
     "output_type": "execute_result"
    }
   ],
   "source": [
    "d[[\"weight\", \"height\"]].agg([\"mean\", \"median\"]).T"
   ]
  },
  {
   "cell_type": "markdown",
   "metadata": {},
   "source": [
    "Hàm `agg()` rất linh hoạt. Bạn có thể cung cấp hàm tự viết (user-defined function, UDF) cho `agg()`. Các hàm tự viết phải nhận đối số là một series."
   ]
  },
  {
   "cell_type": "code",
   "execution_count": 7,
   "metadata": {},
   "outputs": [
    {
     "data": {
      "text/plain": [
       "count    330.000000\n",
       "sum      106.000000\n",
       "prop      32.121212\n",
       "Name: sex, dtype: float64"
      ]
     },
     "execution_count": 7,
     "metadata": {},
     "output_type": "execute_result"
    }
   ],
   "source": [
    "def prop(x):\n",
    "    return x.sum() / x.count() * 100\n",
    "\n",
    "# Tính tỉ lệ nam giới (sex == 1) trong quần thể nghiên cứu\n",
    "d[\"sex\"].agg([\"count\", \"sum\", prop])"
   ]
  },
  {
   "cell_type": "markdown",
   "metadata": {},
   "source": [
    "Tên của các phần tử trong series không được phù hợp cho lắm, chúng ta hoàn toàn có thể đổi tên lại. Nếu cần ôn lại thao tác với index và columns, hãy xem lại bài [D02](./02_colindex.ipynb) nhé."
   ]
  },
  {
   "cell_type": "code",
   "execution_count": 8,
   "metadata": {},
   "outputs": [
    {
     "data": {
      "text/plain": [
       "Tổng số    330.000000\n",
       "Nam (N)    106.000000\n",
       "Nam (%)     32.121212\n",
       "Name: sex, dtype: float64"
      ]
     },
     "execution_count": 8,
     "metadata": {},
     "output_type": "execute_result"
    }
   ],
   "source": [
    "d[\"sex\"].agg([\"count\", \"sum\", prop]).rename({\"count\": \"Tổng số\", \"sum\": \"Nam (N)\", \"prop\": \"Nam (%)\"})"
   ]
  },
  {
   "cell_type": "markdown",
   "metadata": {},
   "source": [
    "Trong trường hợp chỉ yêu cầu một hàm UDF cho `agg()` và nội dung hàm đơn giản, bạn có thể dùng hàm [lambda](../02_inter/02_lambda.ipynb)."
   ]
  },
  {
   "cell_type": "code",
   "execution_count": 9,
   "metadata": {},
   "outputs": [
    {
     "data": {
      "text/plain": [
       "sex       32.121212\n",
       "eso_LA    37.049180\n",
       "dtype: float64"
      ]
     },
     "execution_count": 9,
     "metadata": {},
     "output_type": "execute_result"
    }
   ],
   "source": [
    "# Tạo biến nhị phân: sex == True là nam giới, eso_LA == True là có viêm thực quản\n",
    "d_compare = d[[\"sex\", \"eso_LA\"]].gt(0).mask(d[[\"sex\", \"eso_LA\"]].isna())\n",
    "\n",
    "# Tính tỉ lệ nam giới và có viêm thực quản\n",
    "d_compare.agg(lambda x: x.sum() / x.count() * 100)"
   ]
  },
  {
   "cell_type": "markdown",
   "metadata": {},
   "source": [
    "Hàm `agg()` còn có thể tính toán các chỉ số khác nhau cho các cột khác nhau bằng cách cung cấp một từ điển trong đó chìa khóa là tên các cột."
   ]
  },
  {
   "cell_type": "code",
   "execution_count": 10,
   "metadata": {},
   "outputs": [
    {
     "data": {
      "text/html": [
       "<div>\n",
       "<style scoped>\n",
       "    .dataframe tbody tr th:only-of-type {\n",
       "        vertical-align: middle;\n",
       "    }\n",
       "\n",
       "    .dataframe tbody tr th {\n",
       "        vertical-align: top;\n",
       "    }\n",
       "\n",
       "    .dataframe thead th {\n",
       "        text-align: right;\n",
       "    }\n",
       "</style>\n",
       "<table border=\"1\" class=\"dataframe\">\n",
       "  <thead>\n",
       "    <tr style=\"text-align: right;\">\n",
       "      <th></th>\n",
       "      <th>count</th>\n",
       "      <th>sum</th>\n",
       "      <th>prop</th>\n",
       "      <th>mean</th>\n",
       "      <th>std</th>\n",
       "    </tr>\n",
       "  </thead>\n",
       "  <tbody>\n",
       "    <tr>\n",
       "      <th>sex</th>\n",
       "      <td>330.0</td>\n",
       "      <td>106.0</td>\n",
       "      <td>32.121212</td>\n",
       "      <td>NaN</td>\n",
       "      <td>NaN</td>\n",
       "    </tr>\n",
       "    <tr>\n",
       "      <th>weight</th>\n",
       "      <td>324.0</td>\n",
       "      <td>NaN</td>\n",
       "      <td>NaN</td>\n",
       "      <td>55.688272</td>\n",
       "      <td>8.606556</td>\n",
       "    </tr>\n",
       "  </tbody>\n",
       "</table>\n",
       "</div>"
      ],
      "text/plain": [
       "        count    sum       prop       mean       std\n",
       "sex     330.0  106.0  32.121212        NaN       NaN\n",
       "weight  324.0    NaN        NaN  55.688272  8.606556"
      ]
     },
     "execution_count": 10,
     "metadata": {},
     "output_type": "execute_result"
    }
   ],
   "source": [
    "d[[\"sex\", \"weight\"]].agg({\"sex\": [\"count\", \"sum\", prop], \"weight\": [\"count\", \"mean\", \"std\"]}).T"
   ]
  },
  {
   "cell_type": "markdown",
   "metadata": {},
   "source": [
    "### Thêm đối số cho hàm `agg()`\n",
    "\n",
    "Đôi khi hàm thống kê của bạn cần có thêm đối số. Chẳng hạn, hàm `quantile()` dùng để tính các phân vị."
   ]
  },
  {
   "cell_type": "code",
   "execution_count": 11,
   "metadata": {},
   "outputs": [
    {
     "data": {
      "text/plain": [
       "0.25    49.0\n",
       "0.50    55.0\n",
       "0.75    60.0\n",
       "Name: weight, dtype: float64"
      ]
     },
     "execution_count": 11,
     "metadata": {},
     "output_type": "execute_result"
    }
   ],
   "source": [
    "d[\"weight\"].quantile(q=[0.25, 0.5, 0.75])"
   ]
  },
  {
   "cell_type": "markdown",
   "metadata": {},
   "source": [
    "Khi sử dụng hàm này trong `agg()`, bạn có thể cung cấp đối số của hàm `quantile()` cho hàm `agg()`."
   ]
  },
  {
   "cell_type": "code",
   "execution_count": 12,
   "metadata": {},
   "outputs": [
    {
     "data": {
      "text/html": [
       "<div>\n",
       "<style scoped>\n",
       "    .dataframe tbody tr th:only-of-type {\n",
       "        vertical-align: middle;\n",
       "    }\n",
       "\n",
       "    .dataframe tbody tr th {\n",
       "        vertical-align: top;\n",
       "    }\n",
       "\n",
       "    .dataframe thead th {\n",
       "        text-align: right;\n",
       "    }\n",
       "</style>\n",
       "<table border=\"1\" class=\"dataframe\">\n",
       "  <thead>\n",
       "    <tr style=\"text-align: right;\">\n",
       "      <th></th>\n",
       "      <th>0.25</th>\n",
       "      <th>0.50</th>\n",
       "      <th>0.75</th>\n",
       "    </tr>\n",
       "  </thead>\n",
       "  <tbody>\n",
       "    <tr>\n",
       "      <th>weight</th>\n",
       "      <td>49.00</td>\n",
       "      <td>55.00</td>\n",
       "      <td>60.00</td>\n",
       "    </tr>\n",
       "    <tr>\n",
       "      <th>height</th>\n",
       "      <td>1.54</td>\n",
       "      <td>1.58</td>\n",
       "      <td>1.65</td>\n",
       "    </tr>\n",
       "  </tbody>\n",
       "</table>\n",
       "</div>"
      ],
      "text/plain": [
       "         0.25   0.50   0.75\n",
       "weight  49.00  55.00  60.00\n",
       "height   1.54   1.58   1.65"
      ]
     },
     "execution_count": 12,
     "metadata": {},
     "output_type": "execute_result"
    }
   ],
   "source": [
    "d[[\"weight\", \"height\"]].agg(\"quantile\", q=[0.25, 0.5, 0.75]).T"
   ]
  },
  {
   "cell_type": "markdown",
   "metadata": {},
   "source": [
    "Bạn chỉ có thể chạy riêng hàm thống kê có đối số. Trong trường hợp có một số dùng đối số, một số không dùng đối số, bạn chạy riêng từng phần rồi ghép chúng lại. Ở điểm này, Pandas không linh hoạt bằng `dplyr` của R."
   ]
  },
  {
   "cell_type": "code",
   "execution_count": 13,
   "metadata": {},
   "outputs": [
    {
     "data": {
      "text/html": [
       "<div>\n",
       "<style scoped>\n",
       "    .dataframe tbody tr th:only-of-type {\n",
       "        vertical-align: middle;\n",
       "    }\n",
       "\n",
       "    .dataframe tbody tr th {\n",
       "        vertical-align: top;\n",
       "    }\n",
       "\n",
       "    .dataframe thead th {\n",
       "        text-align: right;\n",
       "    }\n",
       "</style>\n",
       "<table border=\"1\" class=\"dataframe\">\n",
       "  <thead>\n",
       "    <tr style=\"text-align: right;\">\n",
       "      <th></th>\n",
       "      <th>min</th>\n",
       "      <th>max</th>\n",
       "      <th>0.25</th>\n",
       "      <th>0.5</th>\n",
       "      <th>0.75</th>\n",
       "    </tr>\n",
       "  </thead>\n",
       "  <tbody>\n",
       "    <tr>\n",
       "      <th>weight</th>\n",
       "      <td>39.00</td>\n",
       "      <td>90.00</td>\n",
       "      <td>49.00</td>\n",
       "      <td>55.00</td>\n",
       "      <td>60.00</td>\n",
       "    </tr>\n",
       "    <tr>\n",
       "      <th>height</th>\n",
       "      <td>1.45</td>\n",
       "      <td>1.85</td>\n",
       "      <td>1.54</td>\n",
       "      <td>1.58</td>\n",
       "      <td>1.65</td>\n",
       "    </tr>\n",
       "  </tbody>\n",
       "</table>\n",
       "</div>"
      ],
      "text/plain": [
       "          min    max   0.25    0.5   0.75\n",
       "weight  39.00  90.00  49.00  55.00  60.00\n",
       "height   1.45   1.85   1.54   1.58   1.65"
      ]
     },
     "execution_count": 13,
     "metadata": {},
     "output_type": "execute_result"
    }
   ],
   "source": [
    "agg_minmax = d[[\"weight\", \"height\"]].agg([\"min\", \"max\"])\n",
    "agg_quant = d[[\"weight\", \"height\"]].agg(\"quantile\", q=[0.25, 0.5, 0.75])\n",
    "pd.concat([agg_minmax, agg_quant]).T"
   ]
  },
  {
   "cell_type": "markdown",
   "metadata": {},
   "source": [
    "## Phân tầng bằng `groupby()`\n",
    "\n",
    "Nếu muốn phân tích theo từng dưới nhóm (phân tầng), bạn hãy dùng `groupby()`."
   ]
  },
  {
   "cell_type": "code",
   "execution_count": 14,
   "metadata": {},
   "outputs": [
    {
     "data": {
      "text/plain": [
       "sex\n",
       "0    52.045662\n",
       "1    63.285714\n",
       "Name: weight, dtype: float64"
      ]
     },
     "execution_count": 14,
     "metadata": {},
     "output_type": "execute_result"
    }
   ],
   "source": [
    "d.groupby(\"sex\")[\"weight\"].mean()"
   ]
  },
  {
   "cell_type": "markdown",
   "metadata": {},
   "source": [
    "Kết hợp với `agg()` khi có tính toán nhiều chỉ số đồng thời."
   ]
  },
  {
   "cell_type": "code",
   "execution_count": 15,
   "metadata": {},
   "outputs": [
    {
     "data": {
      "text/html": [
       "<div>\n",
       "<style scoped>\n",
       "    .dataframe tbody tr th:only-of-type {\n",
       "        vertical-align: middle;\n",
       "    }\n",
       "\n",
       "    .dataframe tbody tr th {\n",
       "        vertical-align: top;\n",
       "    }\n",
       "\n",
       "    .dataframe thead th {\n",
       "        text-align: right;\n",
       "    }\n",
       "</style>\n",
       "<table border=\"1\" class=\"dataframe\">\n",
       "  <thead>\n",
       "    <tr style=\"text-align: right;\">\n",
       "      <th></th>\n",
       "      <th>mean</th>\n",
       "      <th>median</th>\n",
       "    </tr>\n",
       "    <tr>\n",
       "      <th>sex</th>\n",
       "      <th></th>\n",
       "      <th></th>\n",
       "    </tr>\n",
       "  </thead>\n",
       "  <tbody>\n",
       "    <tr>\n",
       "      <th>0</th>\n",
       "      <td>52.045662</td>\n",
       "      <td>52.0</td>\n",
       "    </tr>\n",
       "    <tr>\n",
       "      <th>1</th>\n",
       "      <td>63.285714</td>\n",
       "      <td>63.0</td>\n",
       "    </tr>\n",
       "  </tbody>\n",
       "</table>\n",
       "</div>"
      ],
      "text/plain": [
       "          mean  median\n",
       "sex                   \n",
       "0    52.045662    52.0\n",
       "1    63.285714    63.0"
      ]
     },
     "execution_count": 15,
     "metadata": {},
     "output_type": "execute_result"
    }
   ],
   "source": [
    "d.groupby(\"sex\")[\"weight\"].agg([\"mean\", \"median\"])"
   ]
  },
  {
   "cell_type": "markdown",
   "metadata": {},
   "source": [
    "Bạn có thể làm vậy cho nhiều biến. Lúc này các cột của data frame sẽ là kiểu index đa cấp."
   ]
  },
  {
   "cell_type": "code",
   "execution_count": 16,
   "metadata": {},
   "outputs": [
    {
     "data": {
      "text/html": [
       "<div>\n",
       "<style scoped>\n",
       "    .dataframe tbody tr th:only-of-type {\n",
       "        vertical-align: middle;\n",
       "    }\n",
       "\n",
       "    .dataframe tbody tr th {\n",
       "        vertical-align: top;\n",
       "    }\n",
       "\n",
       "    .dataframe thead tr th {\n",
       "        text-align: left;\n",
       "    }\n",
       "\n",
       "    .dataframe thead tr:last-of-type th {\n",
       "        text-align: right;\n",
       "    }\n",
       "</style>\n",
       "<table border=\"1\" class=\"dataframe\">\n",
       "  <thead>\n",
       "    <tr>\n",
       "      <th></th>\n",
       "      <th colspan=\"2\" halign=\"left\">weight</th>\n",
       "      <th colspan=\"2\" halign=\"left\">height</th>\n",
       "    </tr>\n",
       "    <tr>\n",
       "      <th></th>\n",
       "      <th>mean</th>\n",
       "      <th>median</th>\n",
       "      <th>mean</th>\n",
       "      <th>median</th>\n",
       "    </tr>\n",
       "    <tr>\n",
       "      <th>sex</th>\n",
       "      <th></th>\n",
       "      <th></th>\n",
       "      <th></th>\n",
       "      <th></th>\n",
       "    </tr>\n",
       "  </thead>\n",
       "  <tbody>\n",
       "    <tr>\n",
       "      <th>0</th>\n",
       "      <td>52.045662</td>\n",
       "      <td>52.0</td>\n",
       "      <td>1.557678</td>\n",
       "      <td>1.56</td>\n",
       "    </tr>\n",
       "    <tr>\n",
       "      <th>1</th>\n",
       "      <td>63.285714</td>\n",
       "      <td>63.0</td>\n",
       "      <td>1.670381</td>\n",
       "      <td>1.67</td>\n",
       "    </tr>\n",
       "  </tbody>\n",
       "</table>\n",
       "</div>"
      ],
      "text/plain": [
       "        weight           height       \n",
       "          mean median      mean median\n",
       "sex                                   \n",
       "0    52.045662   52.0  1.557678   1.56\n",
       "1    63.285714   63.0  1.670381   1.67"
      ]
     },
     "execution_count": 16,
     "metadata": {},
     "output_type": "execute_result"
    }
   ],
   "source": [
    "d.groupby(\"sex\")[[\"weight\", \"height\"]].agg([\"mean\", \"median\"])"
   ]
  },
  {
   "cell_type": "markdown",
   "metadata": {},
   "source": [
    "Bạn có thể nhóm nhiều hơn một nhóm."
   ]
  },
  {
   "cell_type": "code",
   "execution_count": 17,
   "metadata": {},
   "outputs": [
    {
     "data": {
      "text/html": [
       "<div>\n",
       "<style scoped>\n",
       "    .dataframe tbody tr th:only-of-type {\n",
       "        vertical-align: middle;\n",
       "    }\n",
       "\n",
       "    .dataframe tbody tr th {\n",
       "        vertical-align: top;\n",
       "    }\n",
       "\n",
       "    .dataframe thead tr th {\n",
       "        text-align: left;\n",
       "    }\n",
       "\n",
       "    .dataframe thead tr:last-of-type th {\n",
       "        text-align: right;\n",
       "    }\n",
       "</style>\n",
       "<table border=\"1\" class=\"dataframe\">\n",
       "  <thead>\n",
       "    <tr>\n",
       "      <th></th>\n",
       "      <th></th>\n",
       "      <th colspan=\"2\" halign=\"left\">les_baserestp</th>\n",
       "      <th colspan=\"2\" halign=\"left\">les_irp4s</th>\n",
       "    </tr>\n",
       "    <tr>\n",
       "      <th></th>\n",
       "      <th></th>\n",
       "      <th>mean</th>\n",
       "      <th>std</th>\n",
       "      <th>mean</th>\n",
       "      <th>std</th>\n",
       "    </tr>\n",
       "    <tr>\n",
       "      <th>sex</th>\n",
       "      <th>bmi_group</th>\n",
       "      <th></th>\n",
       "      <th></th>\n",
       "      <th></th>\n",
       "      <th></th>\n",
       "    </tr>\n",
       "  </thead>\n",
       "  <tbody>\n",
       "    <tr>\n",
       "      <th rowspan=\"3\" valign=\"top\">0</th>\n",
       "      <th>Bình thường</th>\n",
       "      <td>18.306061</td>\n",
       "      <td>8.013279</td>\n",
       "      <td>6.133333</td>\n",
       "      <td>4.580621</td>\n",
       "    </tr>\n",
       "    <tr>\n",
       "      <th>Thiếu cân</th>\n",
       "      <td>22.770588</td>\n",
       "      <td>14.377837</td>\n",
       "      <td>7.500000</td>\n",
       "      <td>5.662486</td>\n",
       "    </tr>\n",
       "    <tr>\n",
       "      <th>Thừa cân</th>\n",
       "      <td>18.349123</td>\n",
       "      <td>6.928232</td>\n",
       "      <td>5.387719</td>\n",
       "      <td>3.912438</td>\n",
       "    </tr>\n",
       "    <tr>\n",
       "      <th rowspan=\"3\" valign=\"top\">1</th>\n",
       "      <th>Bình thường</th>\n",
       "      <td>16.128846</td>\n",
       "      <td>10.649171</td>\n",
       "      <td>5.319231</td>\n",
       "      <td>4.465337</td>\n",
       "    </tr>\n",
       "    <tr>\n",
       "      <th>Thiếu cân</th>\n",
       "      <td>16.700000</td>\n",
       "      <td>9.700687</td>\n",
       "      <td>4.071429</td>\n",
       "      <td>4.452233</td>\n",
       "    </tr>\n",
       "    <tr>\n",
       "      <th>Thừa cân</th>\n",
       "      <td>12.913043</td>\n",
       "      <td>6.725791</td>\n",
       "      <td>3.839130</td>\n",
       "      <td>4.051473</td>\n",
       "    </tr>\n",
       "  </tbody>\n",
       "</table>\n",
       "</div>"
      ],
      "text/plain": [
       "                les_baserestp            les_irp4s          \n",
       "                         mean        std      mean       std\n",
       "sex bmi_group                                               \n",
       "0   Bình thường     18.306061   8.013279  6.133333  4.580621\n",
       "    Thiếu cân       22.770588  14.377837  7.500000  5.662486\n",
       "    Thừa cân        18.349123   6.928232  5.387719  3.912438\n",
       "1   Bình thường     16.128846  10.649171  5.319231  4.465337\n",
       "    Thiếu cân       16.700000   9.700687  4.071429  4.452233\n",
       "    Thừa cân        12.913043   6.725791  3.839130  4.051473"
      ]
     },
     "execution_count": 17,
     "metadata": {},
     "output_type": "execute_result"
    }
   ],
   "source": [
    "# Tính BMI và tạo nhóm\n",
    "d[\"bmi\"] = d[\"weight\"] / d[\"height\"] ** 2\n",
    "d[\"bmi_group\"] = (1 + d[\"bmi\"].ge(18.5) + d[\"bmi\"].gt(23)).mask(d[\"bmi\"].isna()).replace({1: \"Thiếu cân\", 2: \"Bình thường\", 3: \"Thừa cân\"})\n",
    "\n",
    "# Thống kê theo giới và BMI\n",
    "d.groupby([\"sex\", \"bmi_group\"])[[\"les_baserestp\", \"les_irp4s\"]].agg([\"mean\", \"std\"])"
   ]
  },
  {
   "cell_type": "markdown",
   "metadata": {},
   "source": [
    "### Thống kê nhanh bằng `describe()`\n",
    "\n",
    "Trong trường hợp muốn thống kê nhanh, bạn có thể sử dụng hàm `describe()`."
   ]
  },
  {
   "cell_type": "code",
   "execution_count": 18,
   "metadata": {},
   "outputs": [
    {
     "data": {
      "text/html": [
       "<div>\n",
       "<style scoped>\n",
       "    .dataframe tbody tr th:only-of-type {\n",
       "        vertical-align: middle;\n",
       "    }\n",
       "\n",
       "    .dataframe tbody tr th {\n",
       "        vertical-align: top;\n",
       "    }\n",
       "\n",
       "    .dataframe thead th {\n",
       "        text-align: right;\n",
       "    }\n",
       "</style>\n",
       "<table border=\"1\" class=\"dataframe\">\n",
       "  <thead>\n",
       "    <tr style=\"text-align: right;\">\n",
       "      <th></th>\n",
       "      <th>les_baserestp</th>\n",
       "      <th>les_irp4s</th>\n",
       "    </tr>\n",
       "  </thead>\n",
       "  <tbody>\n",
       "    <tr>\n",
       "      <th>count</th>\n",
       "      <td>328.000000</td>\n",
       "      <td>328.000000</td>\n",
       "    </tr>\n",
       "    <tr>\n",
       "      <th>mean</th>\n",
       "      <td>17.488110</td>\n",
       "      <td>5.602134</td>\n",
       "    </tr>\n",
       "    <tr>\n",
       "      <th>std</th>\n",
       "      <td>9.000398</td>\n",
       "      <td>4.525331</td>\n",
       "    </tr>\n",
       "    <tr>\n",
       "      <th>min</th>\n",
       "      <td>1.500000</td>\n",
       "      <td>-4.700000</td>\n",
       "    </tr>\n",
       "    <tr>\n",
       "      <th>25%</th>\n",
       "      <td>11.000000</td>\n",
       "      <td>2.500000</td>\n",
       "    </tr>\n",
       "    <tr>\n",
       "      <th>50%</th>\n",
       "      <td>16.250000</td>\n",
       "      <td>4.900000</td>\n",
       "    </tr>\n",
       "    <tr>\n",
       "      <th>75%</th>\n",
       "      <td>22.125000</td>\n",
       "      <td>7.300000</td>\n",
       "    </tr>\n",
       "    <tr>\n",
       "      <th>max</th>\n",
       "      <td>66.300000</td>\n",
       "      <td>26.000000</td>\n",
       "    </tr>\n",
       "  </tbody>\n",
       "</table>\n",
       "</div>"
      ],
      "text/plain": [
       "       les_baserestp   les_irp4s\n",
       "count     328.000000  328.000000\n",
       "mean       17.488110    5.602134\n",
       "std         9.000398    4.525331\n",
       "min         1.500000   -4.700000\n",
       "25%        11.000000    2.500000\n",
       "50%        16.250000    4.900000\n",
       "75%        22.125000    7.300000\n",
       "max        66.300000   26.000000"
      ]
     },
     "execution_count": 18,
     "metadata": {},
     "output_type": "execute_result"
    }
   ],
   "source": [
    "d[[\"les_baserestp\", \"les_irp4s\"]].describe()"
   ]
  },
  {
   "cell_type": "markdown",
   "metadata": {},
   "source": [
    "Hàm này vẫn sử dụng được sau khi đã nhóm theo giới và BMI. Đây là cách nhanh gọn trong trường hợp bạn cần quan sát nhanh đặc điểm của số liệu. Trong trường hợp cần tùy biến phức tạp hơn, bạn vẫn phải sử dụng hàm `agg()`."
   ]
  },
  {
   "cell_type": "code",
   "execution_count": 19,
   "metadata": {},
   "outputs": [
    {
     "data": {
      "text/html": [
       "<div>\n",
       "<style scoped>\n",
       "    .dataframe tbody tr th:only-of-type {\n",
       "        vertical-align: middle;\n",
       "    }\n",
       "\n",
       "    .dataframe tbody tr th {\n",
       "        vertical-align: top;\n",
       "    }\n",
       "\n",
       "    .dataframe thead tr th {\n",
       "        text-align: left;\n",
       "    }\n",
       "\n",
       "    .dataframe thead tr:last-of-type th {\n",
       "        text-align: right;\n",
       "    }\n",
       "</style>\n",
       "<table border=\"1\" class=\"dataframe\">\n",
       "  <thead>\n",
       "    <tr>\n",
       "      <th></th>\n",
       "      <th></th>\n",
       "      <th colspan=\"8\" halign=\"left\">les_baserestp</th>\n",
       "      <th colspan=\"8\" halign=\"left\">les_irp4s</th>\n",
       "    </tr>\n",
       "    <tr>\n",
       "      <th></th>\n",
       "      <th></th>\n",
       "      <th>count</th>\n",
       "      <th>mean</th>\n",
       "      <th>std</th>\n",
       "      <th>min</th>\n",
       "      <th>25%</th>\n",
       "      <th>50%</th>\n",
       "      <th>75%</th>\n",
       "      <th>max</th>\n",
       "      <th>count</th>\n",
       "      <th>mean</th>\n",
       "      <th>std</th>\n",
       "      <th>min</th>\n",
       "      <th>25%</th>\n",
       "      <th>50%</th>\n",
       "      <th>75%</th>\n",
       "      <th>max</th>\n",
       "    </tr>\n",
       "    <tr>\n",
       "      <th>sex</th>\n",
       "      <th>bmi_group</th>\n",
       "      <th></th>\n",
       "      <th></th>\n",
       "      <th></th>\n",
       "      <th></th>\n",
       "      <th></th>\n",
       "      <th></th>\n",
       "      <th></th>\n",
       "      <th></th>\n",
       "      <th></th>\n",
       "      <th></th>\n",
       "      <th></th>\n",
       "      <th></th>\n",
       "      <th></th>\n",
       "      <th></th>\n",
       "      <th></th>\n",
       "      <th></th>\n",
       "    </tr>\n",
       "  </thead>\n",
       "  <tbody>\n",
       "    <tr>\n",
       "      <th rowspan=\"3\" valign=\"top\">0</th>\n",
       "      <th>Bình thường</th>\n",
       "      <td>132.0</td>\n",
       "      <td>18.306061</td>\n",
       "      <td>8.013279</td>\n",
       "      <td>3.7</td>\n",
       "      <td>12.550</td>\n",
       "      <td>18.0</td>\n",
       "      <td>23.175</td>\n",
       "      <td>46.6</td>\n",
       "      <td>132.0</td>\n",
       "      <td>6.133333</td>\n",
       "      <td>4.580621</td>\n",
       "      <td>-3.0</td>\n",
       "      <td>3.500</td>\n",
       "      <td>5.65</td>\n",
       "      <td>7.225</td>\n",
       "      <td>22.6</td>\n",
       "    </tr>\n",
       "    <tr>\n",
       "      <th>Thiếu cân</th>\n",
       "      <td>17.0</td>\n",
       "      <td>22.770588</td>\n",
       "      <td>14.377837</td>\n",
       "      <td>5.5</td>\n",
       "      <td>13.300</td>\n",
       "      <td>17.6</td>\n",
       "      <td>33.700</td>\n",
       "      <td>51.3</td>\n",
       "      <td>17.0</td>\n",
       "      <td>7.500000</td>\n",
       "      <td>5.662486</td>\n",
       "      <td>-0.6</td>\n",
       "      <td>2.600</td>\n",
       "      <td>6.30</td>\n",
       "      <td>9.000</td>\n",
       "      <td>19.5</td>\n",
       "    </tr>\n",
       "    <tr>\n",
       "      <th>Thừa cân</th>\n",
       "      <td>57.0</td>\n",
       "      <td>18.349123</td>\n",
       "      <td>6.928232</td>\n",
       "      <td>7.7</td>\n",
       "      <td>13.300</td>\n",
       "      <td>17.4</td>\n",
       "      <td>23.300</td>\n",
       "      <td>33.3</td>\n",
       "      <td>57.0</td>\n",
       "      <td>5.387719</td>\n",
       "      <td>3.912438</td>\n",
       "      <td>-0.9</td>\n",
       "      <td>2.700</td>\n",
       "      <td>4.50</td>\n",
       "      <td>7.300</td>\n",
       "      <td>15.1</td>\n",
       "    </tr>\n",
       "    <tr>\n",
       "      <th rowspan=\"3\" valign=\"top\">1</th>\n",
       "      <th>Bình thường</th>\n",
       "      <td>52.0</td>\n",
       "      <td>16.128846</td>\n",
       "      <td>10.649171</td>\n",
       "      <td>1.5</td>\n",
       "      <td>9.875</td>\n",
       "      <td>14.8</td>\n",
       "      <td>19.650</td>\n",
       "      <td>66.3</td>\n",
       "      <td>52.0</td>\n",
       "      <td>5.319231</td>\n",
       "      <td>4.465337</td>\n",
       "      <td>-1.2</td>\n",
       "      <td>2.475</td>\n",
       "      <td>5.10</td>\n",
       "      <td>7.550</td>\n",
       "      <td>26.0</td>\n",
       "    </tr>\n",
       "    <tr>\n",
       "      <th>Thiếu cân</th>\n",
       "      <td>7.0</td>\n",
       "      <td>16.700000</td>\n",
       "      <td>9.700687</td>\n",
       "      <td>6.8</td>\n",
       "      <td>10.500</td>\n",
       "      <td>13.6</td>\n",
       "      <td>20.000</td>\n",
       "      <td>35.5</td>\n",
       "      <td>7.0</td>\n",
       "      <td>4.071429</td>\n",
       "      <td>4.452233</td>\n",
       "      <td>-4.7</td>\n",
       "      <td>2.950</td>\n",
       "      <td>6.10</td>\n",
       "      <td>6.550</td>\n",
       "      <td>8.1</td>\n",
       "    </tr>\n",
       "    <tr>\n",
       "      <th>Thừa cân</th>\n",
       "      <td>46.0</td>\n",
       "      <td>12.913043</td>\n",
       "      <td>6.725791</td>\n",
       "      <td>2.0</td>\n",
       "      <td>7.700</td>\n",
       "      <td>11.9</td>\n",
       "      <td>16.725</td>\n",
       "      <td>28.1</td>\n",
       "      <td>46.0</td>\n",
       "      <td>3.839130</td>\n",
       "      <td>4.051473</td>\n",
       "      <td>-1.5</td>\n",
       "      <td>1.525</td>\n",
       "      <td>3.20</td>\n",
       "      <td>5.350</td>\n",
       "      <td>23.8</td>\n",
       "    </tr>\n",
       "  </tbody>\n",
       "</table>\n",
       "</div>"
      ],
      "text/plain": [
       "                les_baserestp                                           \\\n",
       "                        count       mean        std  min     25%   50%   \n",
       "sex bmi_group                                                            \n",
       "0   Bình thường         132.0  18.306061   8.013279  3.7  12.550  18.0   \n",
       "    Thiếu cân            17.0  22.770588  14.377837  5.5  13.300  17.6   \n",
       "    Thừa cân             57.0  18.349123   6.928232  7.7  13.300  17.4   \n",
       "1   Bình thường          52.0  16.128846  10.649171  1.5   9.875  14.8   \n",
       "    Thiếu cân             7.0  16.700000   9.700687  6.8  10.500  13.6   \n",
       "    Thừa cân             46.0  12.913043   6.725791  2.0   7.700  11.9   \n",
       "\n",
       "                              les_irp4s                                        \\\n",
       "                    75%   max     count      mean       std  min    25%   50%   \n",
       "sex bmi_group                                                                   \n",
       "0   Bình thường  23.175  46.6     132.0  6.133333  4.580621 -3.0  3.500  5.65   \n",
       "    Thiếu cân    33.700  51.3      17.0  7.500000  5.662486 -0.6  2.600  6.30   \n",
       "    Thừa cân     23.300  33.3      57.0  5.387719  3.912438 -0.9  2.700  4.50   \n",
       "1   Bình thường  19.650  66.3      52.0  5.319231  4.465337 -1.2  2.475  5.10   \n",
       "    Thiếu cân    20.000  35.5       7.0  4.071429  4.452233 -4.7  2.950  6.10   \n",
       "    Thừa cân     16.725  28.1      46.0  3.839130  4.051473 -1.5  1.525  3.20   \n",
       "\n",
       "                              \n",
       "                   75%   max  \n",
       "sex bmi_group                 \n",
       "0   Bình thường  7.225  22.6  \n",
       "    Thiếu cân    9.000  19.5  \n",
       "    Thừa cân     7.300  15.1  \n",
       "1   Bình thường  7.550  26.0  \n",
       "    Thiếu cân    6.550   8.1  \n",
       "    Thừa cân     5.350  23.8  "
      ]
     },
     "execution_count": 19,
     "metadata": {},
     "output_type": "execute_result"
    }
   ],
   "source": [
    "d.groupby([\"sex\", \"bmi_group\"])[[\"les_baserestp\", \"les_irp4s\"]].describe()"
   ]
  },
  {
   "cell_type": "markdown",
   "metadata": {},
   "source": [
    "---\n",
    "\n",
    "[Bài trước](./05_na.ipynb) - [Danh sách bài](../README.md) - [Bài sau](./07_apply.ipynb)"
   ]
  }
 ],
 "metadata": {
  "kernelspec": {
   "display_name": "Python 3.9.9 64-bit",
   "language": "python",
   "name": "python3"
  },
  "language_info": {
   "codemirror_mode": {
    "name": "ipython",
    "version": 3
   },
   "file_extension": ".py",
   "mimetype": "text/x-python",
   "name": "python",
   "nbconvert_exporter": "python",
   "pygments_lexer": "ipython3",
   "version": "3.9.9"
  },
  "orig_nbformat": 4,
  "vscode": {
   "interpreter": {
    "hash": "11938c6bc6919ae2720b4d5011047913343b08a43b18698fd82dedb0d4417594"
   }
  }
 },
 "nbformat": 4,
 "nbformat_minor": 2
}
