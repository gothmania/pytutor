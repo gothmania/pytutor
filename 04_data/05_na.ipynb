{
 "cells": [
  {
   "cell_type": "markdown",
   "metadata": {},
   "source": [
    "# D05 Đối xử với dữ liệu NA\n",
    "\n",
    "## Mục đích\n",
    "\n",
    "Giới thiệu cách phát hiện và các biện pháp đối xử với dữ liệu NA. Xem thêm ở [đây](https://pandas.pydata.org/docs/user_guide/missing_data.html).\n",
    "\n",
    "\n",
    "## Phát hiện dữ liệu NA\n",
    "\n",
    "Để kiểm tra xem một giá trị có phải là NA hay không, bạn có thể dùng hàm `pandas.isna()`. Ngược lại, nếu muốn kiểm tra một giá trị KHÔNG phải là NA hay không, chúng ta dùng hàm `pandas.notna()`."
   ]
  },
  {
   "cell_type": "code",
   "execution_count": 1,
   "metadata": {},
   "outputs": [
    {
     "name": "stdout",
     "output_type": "stream",
     "text": [
      "False False\n"
     ]
    }
   ],
   "source": [
    "import pandas as pd\n",
    "\n",
    "a, b = 1, None\n",
    "\n",
    "print(pd.isna(a), pd.notna(b))"
   ]
  },
  {
   "cell_type": "markdown",
   "metadata": {},
   "source": [
    "Các hàm này cũng sử dụng được cho series và data frame, nhưng đã được tích hợp vào trong các lớp dữ liệu này."
   ]
  },
  {
   "cell_type": "code",
   "execution_count": 2,
   "metadata": {},
   "outputs": [
    {
     "data": {
      "text/plain": [
       "id\n",
       "223     False\n",
       "236     False\n",
       "256     False\n",
       "296     False\n",
       "310     False\n",
       "        ...  \n",
       "4200     True\n",
       "4214    False\n",
       "4216    False\n",
       "4220    False\n",
       "4240    False\n",
       "Name: eso_LA, Length: 330, dtype: bool"
      ]
     },
     "execution_count": 2,
     "metadata": {},
     "output_type": "execute_result"
    }
   ],
   "source": [
    "d = pd.read_excel(\"../assets/hrm.xlsx\", index_col=\"id\")\n",
    "d[\"eso_LA\"].isna()"
   ]
  },
  {
   "cell_type": "markdown",
   "metadata": {},
   "source": [
    "### Thống kê số liệu NA\n",
    "\n",
    "Bạn có thể thống kê xem mỗi cột có bao nhiêu bản ghi chứa giá trị không phải là NA (non-null) bằng hàm `info()`. Trong ví dụ dưới đây, mình chỉ hiển thị 5 cột đầu tiên."
   ]
  },
  {
   "cell_type": "code",
   "execution_count": 3,
   "metadata": {},
   "outputs": [
    {
     "name": "stdout",
     "output_type": "stream",
     "text": [
      "<class 'pandas.core.frame.DataFrame'>\n",
      "Int64Index: 330 entries, 223 to 4240\n",
      "Data columns (total 5 columns):\n",
      " #   Column     Non-Null Count  Dtype         \n",
      "---  ------     --------------  -----         \n",
      " 0   sex        330 non-null    int64         \n",
      " 1   yob        330 non-null    int64         \n",
      " 2   height     316 non-null    float64       \n",
      " 3   weight     324 non-null    float64       \n",
      " 4   date_exam  330 non-null    datetime64[ns]\n",
      "dtypes: datetime64[ns](1), float64(2), int64(2)\n",
      "memory usage: 15.5 KB\n"
     ]
    }
   ],
   "source": [
    "d.iloc[:, :5].info()"
   ]
  },
  {
   "cell_type": "markdown",
   "metadata": {},
   "source": [
    "Nhưng mình ưa thích cách sau đây hơn."
   ]
  },
  {
   "cell_type": "code",
   "execution_count": 4,
   "metadata": {},
   "outputs": [
    {
     "data": {
      "text/plain": [
       "sex           0\n",
       "yob           0\n",
       "height       14\n",
       "weight        6\n",
       "date_exam     0\n",
       "dtype: int64"
      ]
     },
     "execution_count": 4,
     "metadata": {},
     "output_type": "execute_result"
    }
   ],
   "source": [
    "d.iloc[:, :5].isna().sum()"
   ]
  },
  {
   "cell_type": "markdown",
   "metadata": {},
   "source": [
    "Hàm `sum()` mà chúng ta sử dụng ở trên là một hàm tổng hợp dữ liệu. Mặc định, nó sẽ tính tổng của các giá trị dọc theo các hàng (đối số `axis=0`), có nghĩa là với một data frame có hai chiều thì sẽ tính ra tổng các hàng của mỗi cột. Trong trường hợp muốn tính các giá trị dọc theo các cột, chúng ta thiết lập đối số `axis=1`; ví dụ tính tổng điểm FSSG."
   ]
  },
  {
   "cell_type": "code",
   "execution_count": 5,
   "metadata": {},
   "outputs": [
    {
     "data": {
      "text/plain": [
       "id\n",
       "223     10.0\n",
       "236     11.0\n",
       "256     17.0\n",
       "296     16.0\n",
       "310     13.0\n",
       "        ... \n",
       "4200    18.0\n",
       "4214     7.0\n",
       "4216    11.0\n",
       "4220     7.0\n",
       "4240     4.0\n",
       "Length: 330, dtype: float64"
      ]
     },
     "execution_count": 5,
     "metadata": {},
     "output_type": "execute_result"
    }
   ],
   "source": [
    "d.filter(like=\"q_fssg_\").sum(axis=1)"
   ]
  },
  {
   "cell_type": "markdown",
   "metadata": {},
   "source": [
    "### Kiểm tra NA với nhiều điều kiện\n",
    "\n",
    "Trong ví dụ về kiểm tra giá trị NA, chúng ta sử dụng hàm `sum()` cho một series kiểu `bool`. Như đã chia sẻ ở những bài trước, các phép toán số học sẽ tự động chuyển dữ liệu kiểu `bool` về `int` (với các giá trị 0 và 1). Đó là lí do vì sao chúng ta có thể đếm được số bản ghi có giá trị.\n",
    "\n",
    "Lợi dụng sự tiện lợi này, bạn có thể đếm số giá trị NA với những điều kiện phức tạp hơn. Chẳng hạn chúng ta đếm xem có bao nhiêu bản ghi có missing chiều cao hoặc cân nặng."
   ]
  },
  {
   "cell_type": "code",
   "execution_count": 6,
   "metadata": {},
   "outputs": [
    {
     "data": {
      "text/plain": [
       "17"
      ]
     },
     "execution_count": 6,
     "metadata": {},
     "output_type": "execute_result"
    }
   ],
   "source": [
    "(d[\"weight\"].isna() | d[\"height\"].isna()).sum()"
   ]
  },
  {
   "cell_type": "markdown",
   "metadata": {},
   "source": [
    "### `any()` và `all()`\n",
    "\n",
    "Trong dòng lệnh trên, chúng ta kiểm tra NA cho cột `\"weight\"` và cột `\"height\"`, sau đó dùng toán tử OR để kiểm tra bản ghi nào có thể missing ít nhất một trong hai, kết quả trả về sẽ là một series kiểu `bool`. Và cuối cùng, chúng ta dùng hàm `sum()` để đếm số giá trị `True` trong series này.\n",
    "\n",
    "Nếu tất cả các điều kiện của bạn đều chỉ là kiểm tra NA, bạn sẽ thấy việc gõ đi gõ lại `isna()` và toán tử OR là điều hết sức bất tiện. May mắn thay, chúng ta có nhiều cách để rút gọn công việc này.\n",
    "\n",
    "Đầu tiên, hãy làm quen với hàm `any()` dùng để kiểm tra trong series có bất kì một giá trị `True` nào hay không."
   ]
  },
  {
   "cell_type": "code",
   "execution_count": 7,
   "metadata": {},
   "outputs": [
    {
     "name": "stdout",
     "output_type": "stream",
     "text": [
      "0     True\n",
      "1     True\n",
      "2     True\n",
      "3    False\n",
      "4    False\n",
      "5     True\n",
      "dtype: bool\n"
     ]
    },
    {
     "data": {
      "text/plain": [
       "True"
      ]
     },
     "execution_count": 7,
     "metadata": {},
     "output_type": "execute_result"
    }
   ],
   "source": [
    "s = pd.Series([1, 1, 1, 0, 0, 1], dtype=bool)\n",
    "print(s)\n",
    "s.any()"
   ]
  },
  {
   "cell_type": "markdown",
   "metadata": {},
   "source": [
    "Và hàm `all()` dùng để kiểm tra tất cả các giá trị có phải là `True` hay không."
   ]
  },
  {
   "cell_type": "code",
   "execution_count": 8,
   "metadata": {},
   "outputs": [
    {
     "data": {
      "text/plain": [
       "False"
      ]
     },
     "execution_count": 8,
     "metadata": {},
     "output_type": "execute_result"
    }
   ],
   "source": [
    "s.all()"
   ]
  },
  {
   "cell_type": "markdown",
   "metadata": {},
   "source": [
    "Chúng ta có thể sử dụng tính năng này để kiểm tra xem mỗi bản ghi có bất kì giá trị NA nào trong các cột điểm FSSG hay không. Nhớ rằng chúng ta sẽ kiểm tra các giá trị trong từng **cột** của mỗi hàng, do đó cần thiết lập đối số `axis=1` cho hàm `any()`."
   ]
  },
  {
   "cell_type": "code",
   "execution_count": 9,
   "metadata": {},
   "outputs": [
    {
     "data": {
      "text/plain": [
       "10"
      ]
     },
     "execution_count": 9,
     "metadata": {},
     "output_type": "execute_result"
    }
   ],
   "source": [
    "d.filter(like=\"q_fssg_\").isna().any(axis=1).sum()"
   ]
  },
  {
   "cell_type": "markdown",
   "metadata": {},
   "source": [
    "Một cách làm khác là đếm số NA của mỗi hàng, sau đó dùng điều kiện \"số NA > 0\" để phát hiện các hàng có NA."
   ]
  },
  {
   "cell_type": "code",
   "execution_count": 10,
   "metadata": {},
   "outputs": [
    {
     "data": {
      "text/plain": [
       "10"
      ]
     },
     "execution_count": 10,
     "metadata": {},
     "output_type": "execute_result"
    }
   ],
   "source": [
    "d.filter(like=\"q_fssg_\").isna().sum(axis=1).gt(0).sum()"
   ]
  },
  {
   "cell_type": "markdown",
   "metadata": {},
   "source": [
    "Ở trên đây chúng ta dùng `filter()` để chọn các cột có tên thỏa mãn điều kiện nào đó. Bạn vẫn có thể áp dụng các cách ở trên cho data frame được slice. Mình có một thói quen tách danh sách dùng để slice thành một biến riêng để cho gọn và dễ chỉnh sửa mã lệnh."
   ]
  },
  {
   "cell_type": "code",
   "execution_count": 11,
   "metadata": {},
   "outputs": [
    {
     "name": "stdout",
     "output_type": "stream",
     "text": [
      "17\n",
      "17\n"
     ]
    }
   ],
   "source": [
    "cols = [\"weight\", \"height\"]\n",
    "print(d[cols].isna().sum(axis=1).gt(0).sum())\n",
    "print(d[cols].isna().any(axis=1).sum())"
   ]
  },
  {
   "cell_type": "markdown",
   "metadata": {},
   "source": [
    "### Slice danh sách chứa giá trị NA\n",
    "\n",
    "Trong khi làm sạch số liệu, chúng ta sẽ thường phải quay trở lại hồ sơ gốc để kiểm tra các bản ghi có missing. Lọc ra danh sách của các bản ghi này là cần thiết."
   ]
  },
  {
   "cell_type": "code",
   "execution_count": 12,
   "metadata": {},
   "outputs": [
    {
     "data": {
      "text/html": [
       "<div>\n",
       "<style scoped>\n",
       "    .dataframe tbody tr th:only-of-type {\n",
       "        vertical-align: middle;\n",
       "    }\n",
       "\n",
       "    .dataframe tbody tr th {\n",
       "        vertical-align: top;\n",
       "    }\n",
       "\n",
       "    .dataframe thead th {\n",
       "        text-align: right;\n",
       "    }\n",
       "</style>\n",
       "<table border=\"1\" class=\"dataframe\">\n",
       "  <thead>\n",
       "    <tr style=\"text-align: right;\">\n",
       "      <th></th>\n",
       "      <th>sex</th>\n",
       "      <th>yob</th>\n",
       "      <th>date_exam</th>\n",
       "    </tr>\n",
       "    <tr>\n",
       "      <th>id</th>\n",
       "      <th></th>\n",
       "      <th></th>\n",
       "      <th></th>\n",
       "    </tr>\n",
       "  </thead>\n",
       "  <tbody>\n",
       "    <tr>\n",
       "      <th>401</th>\n",
       "      <td>0</td>\n",
       "      <td>1966</td>\n",
       "      <td>2019-04-02</td>\n",
       "    </tr>\n",
       "    <tr>\n",
       "      <th>587</th>\n",
       "      <td>0</td>\n",
       "      <td>1963</td>\n",
       "      <td>2019-03-28</td>\n",
       "    </tr>\n",
       "    <tr>\n",
       "      <th>920</th>\n",
       "      <td>0</td>\n",
       "      <td>1979</td>\n",
       "      <td>2019-03-02</td>\n",
       "    </tr>\n",
       "    <tr>\n",
       "      <th>1077</th>\n",
       "      <td>0</td>\n",
       "      <td>1982</td>\n",
       "      <td>2019-04-18</td>\n",
       "    </tr>\n",
       "    <tr>\n",
       "      <th>1504</th>\n",
       "      <td>0</td>\n",
       "      <td>1955</td>\n",
       "      <td>2019-04-12</td>\n",
       "    </tr>\n",
       "    <tr>\n",
       "      <th>1773</th>\n",
       "      <td>0</td>\n",
       "      <td>1963</td>\n",
       "      <td>2019-03-26</td>\n",
       "    </tr>\n",
       "    <tr>\n",
       "      <th>2058</th>\n",
       "      <td>0</td>\n",
       "      <td>1964</td>\n",
       "      <td>2019-03-09</td>\n",
       "    </tr>\n",
       "    <tr>\n",
       "      <th>2201</th>\n",
       "      <td>0</td>\n",
       "      <td>1970</td>\n",
       "      <td>2019-03-30</td>\n",
       "    </tr>\n",
       "    <tr>\n",
       "      <th>2289</th>\n",
       "      <td>0</td>\n",
       "      <td>1978</td>\n",
       "      <td>2019-03-26</td>\n",
       "    </tr>\n",
       "    <tr>\n",
       "      <th>2293</th>\n",
       "      <td>0</td>\n",
       "      <td>1972</td>\n",
       "      <td>2019-04-18</td>\n",
       "    </tr>\n",
       "    <tr>\n",
       "      <th>2538</th>\n",
       "      <td>0</td>\n",
       "      <td>1943</td>\n",
       "      <td>2019-03-05</td>\n",
       "    </tr>\n",
       "    <tr>\n",
       "      <th>2721</th>\n",
       "      <td>0</td>\n",
       "      <td>1972</td>\n",
       "      <td>2019-04-11</td>\n",
       "    </tr>\n",
       "    <tr>\n",
       "      <th>2765</th>\n",
       "      <td>0</td>\n",
       "      <td>1970</td>\n",
       "      <td>2019-03-26</td>\n",
       "    </tr>\n",
       "    <tr>\n",
       "      <th>3405</th>\n",
       "      <td>1</td>\n",
       "      <td>1962</td>\n",
       "      <td>2019-03-19</td>\n",
       "    </tr>\n",
       "    <tr>\n",
       "      <th>3691</th>\n",
       "      <td>0</td>\n",
       "      <td>1967</td>\n",
       "      <td>2019-04-23</td>\n",
       "    </tr>\n",
       "    <tr>\n",
       "      <th>3870</th>\n",
       "      <td>0</td>\n",
       "      <td>1974</td>\n",
       "      <td>2019-03-09</td>\n",
       "    </tr>\n",
       "    <tr>\n",
       "      <th>4044</th>\n",
       "      <td>0</td>\n",
       "      <td>1971</td>\n",
       "      <td>2019-02-19</td>\n",
       "    </tr>\n",
       "  </tbody>\n",
       "</table>\n",
       "</div>"
      ],
      "text/plain": [
       "      sex   yob  date_exam\n",
       "id                        \n",
       "401     0  1966 2019-04-02\n",
       "587     0  1963 2019-03-28\n",
       "920     0  1979 2019-03-02\n",
       "1077    0  1982 2019-04-18\n",
       "1504    0  1955 2019-04-12\n",
       "1773    0  1963 2019-03-26\n",
       "2058    0  1964 2019-03-09\n",
       "2201    0  1970 2019-03-30\n",
       "2289    0  1978 2019-03-26\n",
       "2293    0  1972 2019-04-18\n",
       "2538    0  1943 2019-03-05\n",
       "2721    0  1972 2019-04-11\n",
       "2765    0  1970 2019-03-26\n",
       "3405    1  1962 2019-03-19\n",
       "3691    0  1967 2019-04-23\n",
       "3870    0  1974 2019-03-09\n",
       "4044    0  1971 2019-02-19"
      ]
     },
     "execution_count": 12,
     "metadata": {},
     "output_type": "execute_result"
    }
   ],
   "source": [
    "cols = [\"weight\", \"height\"]\n",
    "# Bản ghi nào có weight hoặc height missing\n",
    "na_check = d[cols].isna().any(axis=1)\n",
    "\n",
    "# Lọc danh sách có ID, giới tính, năm sinh\n",
    "# và ngày vào nghiên cứu để kiểm tra\n",
    "d.loc[na_check, [\"sex\", \"yob\", \"date_exam\"]]"
   ]
  },
  {
   "cell_type": "markdown",
   "metadata": {},
   "source": [
    "## Đối xử với dữ liệu NA\n",
    "\n",
    "### Xóa các bản ghi NA\n",
    "\n",
    "Trong trường hợp bạn không cần giữ lại các bản ghi có giá trị NA (ví dụ, trong complete case analysis), bạn có thể loại bỏ các hàng trong data frame bằng `dropna()`."
   ]
  },
  {
   "cell_type": "code",
   "execution_count": 13,
   "metadata": {},
   "outputs": [
    {
     "name": "stdout",
     "output_type": "stream",
     "text": [
      "<class 'pandas.core.frame.DataFrame'>\n",
      "Int64Index: 102 entries, 256 to 4240\n",
      "Data columns (total 5 columns):\n",
      " #   Column     Non-Null Count  Dtype         \n",
      "---  ------     --------------  -----         \n",
      " 0   sex        102 non-null    int64         \n",
      " 1   yob        102 non-null    int64         \n",
      " 2   height     102 non-null    float64       \n",
      " 3   weight     102 non-null    float64       \n",
      " 4   date_exam  102 non-null    datetime64[ns]\n",
      "dtypes: datetime64[ns](1), float64(2), int64(2)\n",
      "memory usage: 4.8 KB\n"
     ]
    }
   ],
   "source": [
    "d_dropna = d.dropna()\n",
    "d_dropna.iloc[:, :5].info()"
   ]
  },
  {
   "cell_type": "markdown",
   "metadata": {},
   "source": [
    "Mặc định, hàm `dropna()` sẽ xóa các hàng (`axis=0`) chứa bất kì giá trị NA ở bất kì nào (`how=\"any\"`) trong tất cả các cột. Trong trường hợp, bạn muốn loại bỏ các hàng chứa NA chỉ ở trong một số cột (ví dụ, các cột outcome), chúng ta thêm đối số `subset`."
   ]
  },
  {
   "cell_type": "code",
   "execution_count": 14,
   "metadata": {},
   "outputs": [
    {
     "name": "stdout",
     "output_type": "stream",
     "text": [
      "<class 'pandas.core.frame.DataFrame'>\n",
      "Int64Index: 313 entries, 223 to 4240\n",
      "Data columns (total 5 columns):\n",
      " #   Column     Non-Null Count  Dtype         \n",
      "---  ------     --------------  -----         \n",
      " 0   sex        313 non-null    int64         \n",
      " 1   yob        313 non-null    int64         \n",
      " 2   height     313 non-null    float64       \n",
      " 3   weight     313 non-null    float64       \n",
      " 4   date_exam  313 non-null    datetime64[ns]\n",
      "dtypes: datetime64[ns](1), float64(2), int64(2)\n",
      "memory usage: 14.7 KB\n"
     ]
    }
   ],
   "source": [
    "d_dropna = d.dropna(subset=[\"weight\", \"height\"])\n",
    "d_dropna.iloc[:, :5].info()"
   ]
  },
  {
   "cell_type": "markdown",
   "metadata": {},
   "source": [
    "### Thay số liệu NA bằng giá trị khác\n",
    "\n",
    "Trong một số kịch bản khác, bạn lại muốn thay giá trị NA bằng một giá trị nào đó. Ví dụ trong single imputation, bạn muốn lấp đầy các giá trị missing bằng trung bình hoặc trung vị của các giá trị không missing.\n",
    "\n",
    "Trong ví dụ đơn giản dưới đây, chúng ta sẽ lấp đầy các bản ghi có missing trong các câu hỏi FSSG bằng giá trị 0. Trước hết, hãy lấy một ví dụ bản ghi đầu tiên trong data frame có missing FSSG."
   ]
  },
  {
   "cell_type": "code",
   "execution_count": 15,
   "metadata": {},
   "outputs": [
    {
     "data": {
      "text/plain": [
       "q_fssg_01_nongrat            2.0\n",
       "q_fssg_02_dayhoi             2.0\n",
       "q_fssg_03_nangbung           0.0\n",
       "q_fssg_04_xoanguc            0.0\n",
       "q_fssg_05_metsauan           0.0\n",
       "q_fssg_06_nongratsauan       NaN\n",
       "q_fssg_07_hong               2.0\n",
       "q_fssg_08_daylucan           0.0\n",
       "q_fssg_09_nuotnghen          0.0\n",
       "q_fssg_10_dichtraolen        0.0\n",
       "q_fssg_11_onhieu             4.0\n",
       "q_fssg_12_nongratcuixuong    0.0\n",
       "Name: 326, dtype: float64"
      ]
     },
     "execution_count": 15,
     "metadata": {},
     "output_type": "execute_result"
    }
   ],
   "source": [
    "# Lấy danh sách các cột FSSG để slice nhiều lần\n",
    "fssg_cols = list(d.filter(like=\"q_fssg_\").columns)\n",
    "na_check = d[fssg_cols].isna().any(axis=1)\n",
    "d.loc[na_check, fssg_cols].iloc[0]"
   ]
  },
  {
   "cell_type": "markdown",
   "metadata": {},
   "source": [
    "Như vậy bản ghi của người có ID 326 có một giá trị NA ở câu hỏi 6 của điểm FSSG. Bây giờ chúng ta sẽ lấp đầy missing bằng các giá trị 0 bằng hàm `fillna()` và kiểm tra lại bản ghi 326. Trong ví dụ dưới đây, mình lưu số liệu đã lấp đầy vào một data frame khác; bạn có thể lưu vào chính data frame gốc bằng phép gán `d[fssg_cols] = ...`."
   ]
  },
  {
   "cell_type": "code",
   "execution_count": 16,
   "metadata": {},
   "outputs": [
    {
     "data": {
      "text/plain": [
       "q_fssg_01_nongrat            2.0\n",
       "q_fssg_02_dayhoi             2.0\n",
       "q_fssg_03_nangbung           0.0\n",
       "q_fssg_04_xoanguc            0.0\n",
       "q_fssg_05_metsauan           0.0\n",
       "q_fssg_06_nongratsauan       0.0\n",
       "q_fssg_07_hong               2.0\n",
       "q_fssg_08_daylucan           0.0\n",
       "q_fssg_09_nuotnghen          0.0\n",
       "q_fssg_10_dichtraolen        0.0\n",
       "q_fssg_11_onhieu             4.0\n",
       "q_fssg_12_nongratcuixuong    0.0\n",
       "Name: 326, dtype: float64"
      ]
     },
     "execution_count": 16,
     "metadata": {},
     "output_type": "execute_result"
    }
   ],
   "source": [
    "d_fssg_fill = d[fssg_cols].fillna(0)\n",
    "d_fssg_fill.loc[326]"
   ]
  },
  {
   "cell_type": "markdown",
   "metadata": {},
   "source": [
    "Tuy nhiên, nếu bạn kiểm tra kĩ hơn, bạn sẽ phát hiện ra có những người không trả lời bộ câu hỏi FSSG. Trong bộ số liệu, chúng ta có cột `\"fssg\"` ghi nhận việc này (`\"Y\"` là có trả lời, `\"N\"` là không trả lời, và trong trường hợp này, toàn bộ các cột điểm FSSG phải là NA)."
   ]
  },
  {
   "cell_type": "code",
   "execution_count": 17,
   "metadata": {},
   "outputs": [
    {
     "data": {
      "text/plain": [
       "2"
      ]
     },
     "execution_count": 17,
     "metadata": {},
     "output_type": "execute_result"
    }
   ],
   "source": [
    "d[\"fssg\"].eq(\"N\").sum()"
   ]
  },
  {
   "cell_type": "markdown",
   "metadata": {},
   "source": [
    "Do đó, để lấp đầy một cách chính xác, bạn cần lọc các hàng có `\"N\"` để không lấp đầy NA của những hàng này. Một cách làm khác là sau khi lấp đầy thì chúng ta dùng `mask` để trả lại giá trị NA cho các dòng đó."
   ]
  },
  {
   "cell_type": "code",
   "execution_count": 18,
   "metadata": {},
   "outputs": [
    {
     "name": "stdout",
     "output_type": "stream",
     "text": [
      "2\n"
     ]
    },
    {
     "data": {
      "text/plain": [
       "q_fssg_01_nongrat            2.0\n",
       "q_fssg_02_dayhoi             2.0\n",
       "q_fssg_03_nangbung           0.0\n",
       "q_fssg_04_xoanguc            0.0\n",
       "q_fssg_05_metsauan           0.0\n",
       "q_fssg_06_nongratsauan       0.0\n",
       "q_fssg_07_hong               2.0\n",
       "q_fssg_08_daylucan           0.0\n",
       "q_fssg_09_nuotnghen          0.0\n",
       "q_fssg_10_dichtraolen        0.0\n",
       "q_fssg_11_onhieu             4.0\n",
       "q_fssg_12_nongratcuixuong    0.0\n",
       "Name: 326, dtype: float64"
      ]
     },
     "execution_count": 18,
     "metadata": {},
     "output_type": "execute_result"
    }
   ],
   "source": [
    "# CÁCH 1: Khi lọc các hàng để lấp đầy (dùng slicing)\n",
    "# bạn phải nhớ gán lại vào data frame được slice cùng điều kiện\n",
    "#\n",
    "# Mình tạo một bản sao của data frame vì mình muốn giữ số liệu gốc\n",
    "d_copy = d.copy(deep=True)\n",
    "fssg_yes = d_copy[\"fssg\"].eq(\"N\")\n",
    "d_copy.loc[fssg_yes, fssg_cols] = d_copy.loc[fssg_yes, fssg_cols].fillna(0)\n",
    "\n",
    "# CÁCH 2: Dùng mask() tuy tiện hơn nhưng mất thêm một lần thay thế dữ liệu.\n",
    "# Nếu không khai báo đối số other, mặc định mask() sẽ thay thế bằng giá trị NA.\n",
    "d_fssg_fill = d[fssg_cols].fillna(0).mask(d[\"fssg\"].eq(\"N\"))\n",
    "print(d_fssg_fill.isna().any(axis=1).sum())\n",
    "d_fssg_fill.loc[326]"
   ]
  },
  {
   "cell_type": "markdown",
   "metadata": {},
   "source": [
    "Sau khi thay thế NA, các giá trị của chúng ta vẫn là `float` (series chứa giá trị NA luôn có kiểu `float` mặc dù các giá trị số còn lại có thể là `int`). Để tự động chuyển lại thành giá trị `int`, bạn thêm đối số `downcast=\"infer\"`, Pandas sẽ tự động kiểm tra xem series nào có thể convert về `int`. Để mô phỏng ví dụ này, mình sẽ bỏ hàm `mask()` ở cuối."
   ]
  },
  {
   "cell_type": "code",
   "execution_count": 19,
   "metadata": {},
   "outputs": [
    {
     "data": {
      "text/plain": [
       "q_fssg_01_nongrat            2\n",
       "q_fssg_02_dayhoi             2\n",
       "q_fssg_03_nangbung           0\n",
       "q_fssg_04_xoanguc            0\n",
       "q_fssg_05_metsauan           0\n",
       "q_fssg_06_nongratsauan       0\n",
       "q_fssg_07_hong               2\n",
       "q_fssg_08_daylucan           0\n",
       "q_fssg_09_nuotnghen          0\n",
       "q_fssg_10_dichtraolen        0\n",
       "q_fssg_11_onhieu             4\n",
       "q_fssg_12_nongratcuixuong    0\n",
       "Name: 326, dtype: int64"
      ]
     },
     "execution_count": 19,
     "metadata": {},
     "output_type": "execute_result"
    }
   ],
   "source": [
    "d_fssg_fill = d[fssg_cols].fillna(0, downcast=\"infer\")\n",
    "d_fssg_fill.loc[326]"
   ]
  },
  {
   "cell_type": "markdown",
   "metadata": {},
   "source": [
    "## Tính toán với NA\n",
    "\n",
    "Pandas có hai cách đối xử với giá trị NA khi tính toán: bỏ qua (skip) hoặc trả về NA. Với các hàm tổng hợp dữ liệu, mặc định các giá trị NA sẽ bị bỏ qua. Nếu bạn vẫn muốn giữ các giá trị này và trả về NA, hãy thiết lập đối số `skipna=False`."
   ]
  },
  {
   "cell_type": "code",
   "execution_count": 20,
   "metadata": {},
   "outputs": [
    {
     "data": {
      "text/plain": [
       "1.58"
      ]
     },
     "execution_count": 20,
     "metadata": {},
     "output_type": "execute_result"
    }
   ],
   "source": [
    "d[\"height\"].median()"
   ]
  },
  {
   "cell_type": "code",
   "execution_count": 21,
   "metadata": {},
   "outputs": [
    {
     "data": {
      "text/plain": [
       "nan"
      ]
     },
     "execution_count": 21,
     "metadata": {},
     "output_type": "execute_result"
    }
   ],
   "source": [
    "d[\"height\"].median(skipna=False)"
   ]
  },
  {
   "cell_type": "markdown",
   "metadata": {},
   "source": [
    "Một ví dụ khác là trong trường hợp điểm FSSG bị missing, chúng ta sẽ không tính được tổng điểm. Nhưng nếu không thiết lập `skipna=False`, hàm `sum()` vẫn sẽ tự động bỏ qua NA và cộng các giá trị còn lại vào với nhau."
   ]
  },
  {
   "cell_type": "code",
   "execution_count": 22,
   "metadata": {},
   "outputs": [
    {
     "data": {
      "text/plain": [
       "id\n",
       "326     10.0\n",
       "446      8.0\n",
       "448     10.0\n",
       "496     16.0\n",
       "805     12.0\n",
       "1182     0.0\n",
       "1244    12.0\n",
       "1254    16.0\n",
       "1308     4.0\n",
       "2487     0.0\n",
       "dtype: float64"
      ]
     },
     "execution_count": 22,
     "metadata": {},
     "output_type": "execute_result"
    }
   ],
   "source": [
    "fssg_cols = list(d.filter(like=\"q_fssg_\").columns)\n",
    "na_check = d[fssg_cols].isna().any(axis=1)\n",
    "\n",
    "# skipna=True (mặc định)\n",
    "d[fssg_cols].sum(axis=1).loc[na_check]"
   ]
  },
  {
   "cell_type": "code",
   "execution_count": 23,
   "metadata": {},
   "outputs": [
    {
     "data": {
      "text/plain": [
       "id\n",
       "326    NaN\n",
       "446    NaN\n",
       "448    NaN\n",
       "496    NaN\n",
       "805    NaN\n",
       "1182   NaN\n",
       "1244   NaN\n",
       "1254   NaN\n",
       "1308   NaN\n",
       "2487   NaN\n",
       "dtype: float64"
      ]
     },
     "execution_count": 23,
     "metadata": {},
     "output_type": "execute_result"
    }
   ],
   "source": [
    "# skipna=False\n",
    "d[fssg_cols].sum(axis=1, skipna=False).loc[na_check]"
   ]
  },
  {
   "cell_type": "markdown",
   "metadata": {},
   "source": [
    "---\n",
    "\n",
    "[Bài trước](./04_replace.ipynb) - [Danh sách bài](../README.md) - [Bài sau](./06_groupby.ipynb)"
   ]
  }
 ],
 "metadata": {
  "kernelspec": {
   "display_name": "Python 3.9.9 64-bit",
   "language": "python",
   "name": "python3"
  },
  "language_info": {
   "codemirror_mode": {
    "name": "ipython",
    "version": 3
   },
   "file_extension": ".py",
   "mimetype": "text/x-python",
   "name": "python",
   "nbconvert_exporter": "python",
   "pygments_lexer": "ipython3",
   "version": "3.9.9"
  },
  "orig_nbformat": 4,
  "vscode": {
   "interpreter": {
    "hash": "11938c6bc6919ae2720b4d5011047913343b08a43b18698fd82dedb0d4417594"
   }
  }
 },
 "nbformat": 4,
 "nbformat_minor": 2
}
