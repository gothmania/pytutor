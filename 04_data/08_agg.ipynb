{
 "cells": [
  {
   "cell_type": "markdown",
   "metadata": {},
   "source": [
    "# D09 Tổng hợp dữ liệu (aggregation): kết hợp `groupby()` và `apply()`\n",
    "\n",
    "## Mục đích\n",
    "\n",
    "Tổng hợp các tính năng `groupby()` và `apply()` để tổng hợp số liệu.\n",
    "\n",
    "## Ví dụ\n",
    "\n",
    "Chúng ta sẽ thống kê trung bình và độ lệch chuẩn (SD) của chiều cao của đối tượng nghiên cứu theo giới tính. Sau khi đã học về `groupby()`, hi vọng bạn đã cảm thấy dễ dàng trong việc này."
   ]
  },
  {
   "cell_type": "code",
   "execution_count": 1,
   "metadata": {},
   "outputs": [
    {
     "data": {
      "text/html": [
       "<div>\n",
       "<style scoped>\n",
       "    .dataframe tbody tr th:only-of-type {\n",
       "        vertical-align: middle;\n",
       "    }\n",
       "\n",
       "    .dataframe tbody tr th {\n",
       "        vertical-align: top;\n",
       "    }\n",
       "\n",
       "    .dataframe thead th {\n",
       "        text-align: right;\n",
       "    }\n",
       "</style>\n",
       "<table border=\"1\" class=\"dataframe\">\n",
       "  <thead>\n",
       "    <tr style=\"text-align: right;\">\n",
       "      <th></th>\n",
       "      <th>mean</th>\n",
       "      <th>std</th>\n",
       "    </tr>\n",
       "    <tr>\n",
       "      <th>sex</th>\n",
       "      <th></th>\n",
       "      <th></th>\n",
       "    </tr>\n",
       "  </thead>\n",
       "  <tbody>\n",
       "    <tr>\n",
       "      <th>0</th>\n",
       "      <td>1.557678</td>\n",
       "      <td>0.044879</td>\n",
       "    </tr>\n",
       "    <tr>\n",
       "      <th>1</th>\n",
       "      <td>1.670381</td>\n",
       "      <td>0.059999</td>\n",
       "    </tr>\n",
       "  </tbody>\n",
       "</table>\n",
       "</div>"
      ],
      "text/plain": [
       "         mean       std\n",
       "sex                    \n",
       "0    1.557678  0.044879\n",
       "1    1.670381  0.059999"
      ]
     },
     "execution_count": 1,
     "metadata": {},
     "output_type": "execute_result"
    }
   ],
   "source": [
    "import pandas as pd\n",
    "import numpy as np\n",
    "\n",
    "d = pd.read_excel(\"hrm.xlsx\", index_col=\"id\")\n",
    "d_agg = d.groupby(\"sex\")[\"height\"].agg([\"mean\", \"std\"])\n",
    "d_agg"
   ]
  },
  {
   "cell_type": "markdown",
   "metadata": {},
   "source": [
    "Thông thường khi trình bày bảng kết quả (ví dụ, trong PowerPoint, bài báo), chúng ta không để riêng trung bình và SD, mà sẽ gộp chung chúng lại dưới dạng \"mean (SD)\", và sẽ làm tròn, ví dụ đến 2 chữ số sau dấu thập phân. Nhìn vào bảng trên, bạn dễ dàng thấy rằng chúng ta có thể sử dụng hàm `apply()` để làm việc này."
   ]
  },
  {
   "cell_type": "code",
   "execution_count": 2,
   "metadata": {},
   "outputs": [
    {
     "data": {
      "text/plain": [
       "sex\n",
       "0    1.56 (0.04)\n",
       "1    1.67 (0.06)\n",
       "dtype: object"
      ]
     },
     "execution_count": 2,
     "metadata": {},
     "output_type": "execute_result"
    }
   ],
   "source": [
    "d_agg.apply(lambda x: \"{:.2f} ({:.2f})\".format(*x), axis=1)"
   ]
  },
  {
   "cell_type": "markdown",
   "metadata": {},
   "source": [
    "Bạn có thể \"chain\" các hàm này với nhau để không phải tạo ra biến trung gian `d_agg`. Khi dòng lênh quá dài, bạn có thể xuống dòng và đặt dấu `\\` ở cuối dòng để nối các dòng lệnh với nhau."
   ]
  },
  {
   "cell_type": "code",
   "execution_count": 3,
   "metadata": {},
   "outputs": [
    {
     "data": {
      "text/plain": [
       "sex\n",
       "0    1.56 (0.04)\n",
       "1    1.67 (0.06)\n",
       "dtype: object"
      ]
     },
     "execution_count": 3,
     "metadata": {},
     "output_type": "execute_result"
    }
   ],
   "source": [
    "d.groupby(\"sex\")[\"height\"].agg([\"mean\", \"std\"]) \\\n",
    "    .apply(lambda x: \"{:.2f} ({:.2f})\".format(*x), axis=1)"
   ]
  },
  {
   "cell_type": "markdown",
   "metadata": {},
   "source": [
    "## Phát triển từ ví dụ\n",
    "\n",
    "### Tạo ra nhiều kết quả trong một lần `apply()`\n",
    "\n",
    "Nếu cùng một lúc chúng ta muốn tạo ra \"mean (SD)\" và \"min-max\", bạn sẽ cần chú ý và cẩn thận hơn. Đầu tiên, chúng ta sẽ thực hiện `groupby()`."
   ]
  },
  {
   "cell_type": "code",
   "execution_count": 4,
   "metadata": {},
   "outputs": [
    {
     "data": {
      "text/html": [
       "<div>\n",
       "<style scoped>\n",
       "    .dataframe tbody tr th:only-of-type {\n",
       "        vertical-align: middle;\n",
       "    }\n",
       "\n",
       "    .dataframe tbody tr th {\n",
       "        vertical-align: top;\n",
       "    }\n",
       "\n",
       "    .dataframe thead th {\n",
       "        text-align: right;\n",
       "    }\n",
       "</style>\n",
       "<table border=\"1\" class=\"dataframe\">\n",
       "  <thead>\n",
       "    <tr style=\"text-align: right;\">\n",
       "      <th></th>\n",
       "      <th>mean</th>\n",
       "      <th>std</th>\n",
       "      <th>min</th>\n",
       "      <th>max</th>\n",
       "    </tr>\n",
       "    <tr>\n",
       "      <th>sex</th>\n",
       "      <th></th>\n",
       "      <th></th>\n",
       "      <th></th>\n",
       "      <th></th>\n",
       "    </tr>\n",
       "  </thead>\n",
       "  <tbody>\n",
       "    <tr>\n",
       "      <th>0</th>\n",
       "      <td>1.557678</td>\n",
       "      <td>0.044879</td>\n",
       "      <td>1.45</td>\n",
       "      <td>1.70</td>\n",
       "    </tr>\n",
       "    <tr>\n",
       "      <th>1</th>\n",
       "      <td>1.670381</td>\n",
       "      <td>0.059999</td>\n",
       "      <td>1.50</td>\n",
       "      <td>1.85</td>\n",
       "    </tr>\n",
       "  </tbody>\n",
       "</table>\n",
       "</div>"
      ],
      "text/plain": [
       "         mean       std   min   max\n",
       "sex                                \n",
       "0    1.557678  0.044879  1.45  1.70\n",
       "1    1.670381  0.059999  1.50  1.85"
      ]
     },
     "execution_count": 4,
     "metadata": {},
     "output_type": "execute_result"
    }
   ],
   "source": [
    "d.groupby(\"sex\")[\"height\"].agg([\"mean\", \"std\", \"min\", \"max\"])"
   ]
  },
  {
   "cell_type": "markdown",
   "metadata": {},
   "source": [
    "Thay vì viết thẳng nội dung vào hàm lambda khi `apply()`, bạn có thể viết riêng một hàm mới cho dễ quản lí."
   ]
  },
  {
   "cell_type": "code",
   "execution_count": 5,
   "metadata": {},
   "outputs": [
    {
     "data": {
      "text/plain": [
       "sex\n",
       "0    (1.56 (0.04), 1.45-1.70)\n",
       "1    (1.67 (0.06), 1.50-1.85)\n",
       "dtype: object"
      ]
     },
     "execution_count": 5,
     "metadata": {},
     "output_type": "execute_result"
    }
   ],
   "source": [
    "def get_stats(mean, sd, min, max):\n",
    "    return f\"{mean:.2f} ({sd:.2f})\", f\"{min:.2f}-{max:.2f}\"\n",
    "\n",
    "d.groupby(\"sex\")[\"height\"].agg([\"mean\", \"std\", \"min\", \"max\"]) \\\n",
    "    .apply(lambda x: get_stats(*x), axis=1)"
   ]
  },
  {
   "cell_type": "markdown",
   "metadata": {},
   "source": [
    "Hãy nhớ rằng kết quả trả về của mỗi bản ghi là một danh sách. Chúng ta sẽ chuyển danh sách này thành các cột, và đổi tên cho các cột."
   ]
  },
  {
   "cell_type": "code",
   "execution_count": 6,
   "metadata": {},
   "outputs": [
    {
     "data": {
      "text/html": [
       "<div>\n",
       "<style scoped>\n",
       "    .dataframe tbody tr th:only-of-type {\n",
       "        vertical-align: middle;\n",
       "    }\n",
       "\n",
       "    .dataframe tbody tr th {\n",
       "        vertical-align: top;\n",
       "    }\n",
       "\n",
       "    .dataframe thead th {\n",
       "        text-align: right;\n",
       "    }\n",
       "</style>\n",
       "<table border=\"1\" class=\"dataframe\">\n",
       "  <thead>\n",
       "    <tr style=\"text-align: right;\">\n",
       "      <th></th>\n",
       "      <th>Mean (SD)</th>\n",
       "      <th>Min-Max</th>\n",
       "    </tr>\n",
       "    <tr>\n",
       "      <th>sex</th>\n",
       "      <th></th>\n",
       "      <th></th>\n",
       "    </tr>\n",
       "  </thead>\n",
       "  <tbody>\n",
       "    <tr>\n",
       "      <th>0</th>\n",
       "      <td>1.56 (0.04)</td>\n",
       "      <td>1.45-1.70</td>\n",
       "    </tr>\n",
       "    <tr>\n",
       "      <th>1</th>\n",
       "      <td>1.67 (0.06)</td>\n",
       "      <td>1.50-1.85</td>\n",
       "    </tr>\n",
       "  </tbody>\n",
       "</table>\n",
       "</div>"
      ],
      "text/plain": [
       "       Mean (SD)    Min-Max\n",
       "sex                        \n",
       "0    1.56 (0.04)  1.45-1.70\n",
       "1    1.67 (0.06)  1.50-1.85"
      ]
     },
     "execution_count": 6,
     "metadata": {},
     "output_type": "execute_result"
    }
   ],
   "source": [
    "d.groupby(\"sex\")[\"height\"].agg([\"mean\", \"std\", \"min\", \"max\"]) \\\n",
    "    .apply(lambda x: get_stats(*x), axis=1, result_type=\"expand\") \\\n",
    "    .rename(columns={0: \"Mean (SD)\", 1: \"Min-Max\"})"
   ]
  },
  {
   "cell_type": "markdown",
   "metadata": {},
   "source": [
    "### Tổng hợp trên nhiều biến khác nhau\n",
    "\n",
    "Ở trên chúng ta mới thống kê trên một biến chiều cao. Hãy thử thống kê đồng thời cho biến chiều cao và cân nặng."
   ]
  },
  {
   "cell_type": "code",
   "execution_count": 7,
   "metadata": {},
   "outputs": [
    {
     "data": {
      "text/html": [
       "<div>\n",
       "<style scoped>\n",
       "    .dataframe tbody tr th:only-of-type {\n",
       "        vertical-align: middle;\n",
       "    }\n",
       "\n",
       "    .dataframe tbody tr th {\n",
       "        vertical-align: top;\n",
       "    }\n",
       "\n",
       "    .dataframe thead tr th {\n",
       "        text-align: left;\n",
       "    }\n",
       "\n",
       "    .dataframe thead tr:last-of-type th {\n",
       "        text-align: right;\n",
       "    }\n",
       "</style>\n",
       "<table border=\"1\" class=\"dataframe\">\n",
       "  <thead>\n",
       "    <tr>\n",
       "      <th></th>\n",
       "      <th colspan=\"4\" halign=\"left\">height</th>\n",
       "      <th colspan=\"4\" halign=\"left\">weight</th>\n",
       "    </tr>\n",
       "    <tr>\n",
       "      <th></th>\n",
       "      <th>mean</th>\n",
       "      <th>std</th>\n",
       "      <th>min</th>\n",
       "      <th>max</th>\n",
       "      <th>mean</th>\n",
       "      <th>std</th>\n",
       "      <th>min</th>\n",
       "      <th>max</th>\n",
       "    </tr>\n",
       "    <tr>\n",
       "      <th>sex</th>\n",
       "      <th></th>\n",
       "      <th></th>\n",
       "      <th></th>\n",
       "      <th></th>\n",
       "      <th></th>\n",
       "      <th></th>\n",
       "      <th></th>\n",
       "      <th></th>\n",
       "    </tr>\n",
       "  </thead>\n",
       "  <tbody>\n",
       "    <tr>\n",
       "      <th>0</th>\n",
       "      <td>1.557678</td>\n",
       "      <td>0.044879</td>\n",
       "      <td>1.45</td>\n",
       "      <td>1.70</td>\n",
       "      <td>52.045662</td>\n",
       "      <td>5.920553</td>\n",
       "      <td>39.0</td>\n",
       "      <td>72.0</td>\n",
       "    </tr>\n",
       "    <tr>\n",
       "      <th>1</th>\n",
       "      <td>1.670381</td>\n",
       "      <td>0.059999</td>\n",
       "      <td>1.50</td>\n",
       "      <td>1.85</td>\n",
       "      <td>63.285714</td>\n",
       "      <td>8.388080</td>\n",
       "      <td>46.0</td>\n",
       "      <td>90.0</td>\n",
       "    </tr>\n",
       "  </tbody>\n",
       "</table>\n",
       "</div>"
      ],
      "text/plain": [
       "       height                           weight                      \n",
       "         mean       std   min   max       mean       std   min   max\n",
       "sex                                                                 \n",
       "0    1.557678  0.044879  1.45  1.70  52.045662  5.920553  39.0  72.0\n",
       "1    1.670381  0.059999  1.50  1.85  63.285714  8.388080  46.0  90.0"
      ]
     },
     "execution_count": 7,
     "metadata": {},
     "output_type": "execute_result"
    }
   ],
   "source": [
    "d.groupby(\"sex\")[[\"height\", \"weight\"]].agg([\"mean\", \"std\", \"min\", \"max\"])"
   ]
  },
  {
   "cell_type": "markdown",
   "metadata": {},
   "source": [
    "Bạn sẽ thấy rằng chúng ta đang tạo ra một danh sách các cột có tên đa tầng. Để tiếp tục sử dụng `apply()` bạn sẽ phải chuyển chiều cao và cân nặng thành hàng, để chỉ còn 4 cột \"mean\" đến \"max\". Chúng ta sẽ làm việc này trong bài nói về biến đổi cấu trúc dữ liệu.\n",
    "\n",
    "Một giải pháp khác là tạo ra kết quả tổng hợp dữ liệu cho từng biến, sau đó gộp các kết quả này lại. Cách làm này sẽ thuận lợi trong một số trường hợp và bạn nên biết (và thành thạo) cách làm này.\n",
    "\n",
    "Đầu tiên, chúng ta sẽ tạo ra một hàm để sinh kết quả tổng hợp cho một biến."
   ]
  },
  {
   "cell_type": "code",
   "execution_count": 8,
   "metadata": {},
   "outputs": [
    {
     "data": {
      "text/html": [
       "<div>\n",
       "<style scoped>\n",
       "    .dataframe tbody tr th:only-of-type {\n",
       "        vertical-align: middle;\n",
       "    }\n",
       "\n",
       "    .dataframe tbody tr th {\n",
       "        vertical-align: top;\n",
       "    }\n",
       "\n",
       "    .dataframe thead th {\n",
       "        text-align: right;\n",
       "    }\n",
       "</style>\n",
       "<table border=\"1\" class=\"dataframe\">\n",
       "  <thead>\n",
       "    <tr style=\"text-align: right;\">\n",
       "      <th></th>\n",
       "      <th>Mean (SD)</th>\n",
       "      <th>Min-Max</th>\n",
       "    </tr>\n",
       "    <tr>\n",
       "      <th>sex</th>\n",
       "      <th></th>\n",
       "      <th></th>\n",
       "    </tr>\n",
       "  </thead>\n",
       "  <tbody>\n",
       "    <tr>\n",
       "      <th>0</th>\n",
       "      <td>1.56 (0.04)</td>\n",
       "      <td>1.45-1.70</td>\n",
       "    </tr>\n",
       "    <tr>\n",
       "      <th>1</th>\n",
       "      <td>1.67 (0.06)</td>\n",
       "      <td>1.50-1.85</td>\n",
       "    </tr>\n",
       "  </tbody>\n",
       "</table>\n",
       "</div>"
      ],
      "text/plain": [
       "       Mean (SD)    Min-Max\n",
       "sex                        \n",
       "0    1.56 (0.04)  1.45-1.70\n",
       "1    1.67 (0.06)  1.50-1.85"
      ]
     },
     "execution_count": 8,
     "metadata": {},
     "output_type": "execute_result"
    }
   ],
   "source": [
    "def get_agg(d, groupby, var_to_agg):\n",
    "    return d.groupby(groupby)[var_to_agg].agg([\"mean\", \"std\", \"min\", \"max\"]) \\\n",
    "        .apply(lambda x: get_stats(*x), axis=1, result_type=\"expand\") \\\n",
    "        .rename(columns={0: \"Mean (SD)\", 1: \"Min-Max\"})\n",
    "\n",
    "get_agg(d, \"sex\", \"height\")"
   ]
  },
  {
   "cell_type": "markdown",
   "metadata": {},
   "source": [
    "Bạn sẽ nhận thấy rằng chúng ta không có thông tin là biến nào đang được tổng hợp. Hãy thêm một cột tên biến vào kết quả trước khi trả về."
   ]
  },
  {
   "cell_type": "code",
   "execution_count": 9,
   "metadata": {},
   "outputs": [
    {
     "data": {
      "text/html": [
       "<div>\n",
       "<style scoped>\n",
       "    .dataframe tbody tr th:only-of-type {\n",
       "        vertical-align: middle;\n",
       "    }\n",
       "\n",
       "    .dataframe tbody tr th {\n",
       "        vertical-align: top;\n",
       "    }\n",
       "\n",
       "    .dataframe thead th {\n",
       "        text-align: right;\n",
       "    }\n",
       "</style>\n",
       "<table border=\"1\" class=\"dataframe\">\n",
       "  <thead>\n",
       "    <tr style=\"text-align: right;\">\n",
       "      <th></th>\n",
       "      <th>Mean (SD)</th>\n",
       "      <th>Min-Max</th>\n",
       "      <th>Variable</th>\n",
       "    </tr>\n",
       "    <tr>\n",
       "      <th>sex</th>\n",
       "      <th></th>\n",
       "      <th></th>\n",
       "      <th></th>\n",
       "    </tr>\n",
       "  </thead>\n",
       "  <tbody>\n",
       "    <tr>\n",
       "      <th>0</th>\n",
       "      <td>1.56 (0.04)</td>\n",
       "      <td>1.45-1.70</td>\n",
       "      <td>height</td>\n",
       "    </tr>\n",
       "    <tr>\n",
       "      <th>1</th>\n",
       "      <td>1.67 (0.06)</td>\n",
       "      <td>1.50-1.85</td>\n",
       "      <td>height</td>\n",
       "    </tr>\n",
       "  </tbody>\n",
       "</table>\n",
       "</div>"
      ],
      "text/plain": [
       "       Mean (SD)    Min-Max Variable\n",
       "sex                                 \n",
       "0    1.56 (0.04)  1.45-1.70   height\n",
       "1    1.67 (0.06)  1.50-1.85   height"
      ]
     },
     "execution_count": 9,
     "metadata": {},
     "output_type": "execute_result"
    }
   ],
   "source": [
    "def get_agg(d, groupby, var_to_agg):\n",
    "    d_agg = d.groupby(groupby)[var_to_agg].agg([\"mean\", \"std\", \"min\", \"max\"]) \\\n",
    "        .apply(lambda x: get_stats(*x), axis=1, result_type=\"expand\") \\\n",
    "        .rename(columns={0: \"Mean (SD)\", 1: \"Min-Max\"})\n",
    "    d_agg[\"Variable\"] = var_to_agg\n",
    "    return d_agg\n",
    "\n",
    "get_agg(d, \"sex\", \"height\")"
   ]
  },
  {
   "cell_type": "markdown",
   "metadata": {},
   "source": [
    "Để lặp lại việc chạy hàm này trên nhiều biến, chúng ta sẽ dùng hàm `map()`. Nếu bạn chưa nhớ hàm này, hãy ôn lại bài [I02](../02_inter/02_lambda.ipynb). Hàm `map()` trả về một iterator của các đối tượng là data frame, và chúng ta sẽ gộp các data frame này lại."
   ]
  },
  {
   "cell_type": "code",
   "execution_count": 10,
   "metadata": {},
   "outputs": [
    {
     "data": {
      "text/html": [
       "<div>\n",
       "<style scoped>\n",
       "    .dataframe tbody tr th:only-of-type {\n",
       "        vertical-align: middle;\n",
       "    }\n",
       "\n",
       "    .dataframe tbody tr th {\n",
       "        vertical-align: top;\n",
       "    }\n",
       "\n",
       "    .dataframe thead th {\n",
       "        text-align: right;\n",
       "    }\n",
       "</style>\n",
       "<table border=\"1\" class=\"dataframe\">\n",
       "  <thead>\n",
       "    <tr style=\"text-align: right;\">\n",
       "      <th></th>\n",
       "      <th>Mean (SD)</th>\n",
       "      <th>Min-Max</th>\n",
       "      <th>Variable</th>\n",
       "    </tr>\n",
       "    <tr>\n",
       "      <th>sex</th>\n",
       "      <th></th>\n",
       "      <th></th>\n",
       "      <th></th>\n",
       "    </tr>\n",
       "  </thead>\n",
       "  <tbody>\n",
       "    <tr>\n",
       "      <th>0</th>\n",
       "      <td>1.56 (0.04)</td>\n",
       "      <td>1.45-1.70</td>\n",
       "      <td>height</td>\n",
       "    </tr>\n",
       "    <tr>\n",
       "      <th>1</th>\n",
       "      <td>1.67 (0.06)</td>\n",
       "      <td>1.50-1.85</td>\n",
       "      <td>height</td>\n",
       "    </tr>\n",
       "    <tr>\n",
       "      <th>0</th>\n",
       "      <td>52.05 (5.92)</td>\n",
       "      <td>39.00-72.00</td>\n",
       "      <td>weight</td>\n",
       "    </tr>\n",
       "    <tr>\n",
       "      <th>1</th>\n",
       "      <td>63.29 (8.39)</td>\n",
       "      <td>46.00-90.00</td>\n",
       "      <td>weight</td>\n",
       "    </tr>\n",
       "  </tbody>\n",
       "</table>\n",
       "</div>"
      ],
      "text/plain": [
       "        Mean (SD)      Min-Max Variable\n",
       "sex                                    \n",
       "0     1.56 (0.04)    1.45-1.70   height\n",
       "1     1.67 (0.06)    1.50-1.85   height\n",
       "0    52.05 (5.92)  39.00-72.00   weight\n",
       "1    63.29 (8.39)  46.00-90.00   weight"
      ]
     },
     "execution_count": 10,
     "metadata": {},
     "output_type": "execute_result"
    }
   ],
   "source": [
    "vars_to_agg = [\"height\", \"weight\"]\n",
    "pd.concat(list(map(lambda x: get_agg(d, \"sex\", x), vars_to_agg)))"
   ]
  },
  {
   "cell_type": "markdown",
   "metadata": {},
   "source": [
    "Một chút xíu điều chỉnh nhỏ nhỏ: Đặt index của data frame này theo biến được tổng hợp, sau đó theo nhóm."
   ]
  },
  {
   "cell_type": "code",
   "execution_count": 11,
   "metadata": {},
   "outputs": [
    {
     "data": {
      "text/html": [
       "<div>\n",
       "<style scoped>\n",
       "    .dataframe tbody tr th:only-of-type {\n",
       "        vertical-align: middle;\n",
       "    }\n",
       "\n",
       "    .dataframe tbody tr th {\n",
       "        vertical-align: top;\n",
       "    }\n",
       "\n",
       "    .dataframe thead th {\n",
       "        text-align: right;\n",
       "    }\n",
       "</style>\n",
       "<table border=\"1\" class=\"dataframe\">\n",
       "  <thead>\n",
       "    <tr style=\"text-align: right;\">\n",
       "      <th></th>\n",
       "      <th></th>\n",
       "      <th>Mean (SD)</th>\n",
       "      <th>Min-Max</th>\n",
       "    </tr>\n",
       "    <tr>\n",
       "      <th>Variable</th>\n",
       "      <th>sex</th>\n",
       "      <th></th>\n",
       "      <th></th>\n",
       "    </tr>\n",
       "  </thead>\n",
       "  <tbody>\n",
       "    <tr>\n",
       "      <th rowspan=\"2\" valign=\"top\">height</th>\n",
       "      <th>0</th>\n",
       "      <td>1.56 (0.04)</td>\n",
       "      <td>1.45-1.70</td>\n",
       "    </tr>\n",
       "    <tr>\n",
       "      <th>1</th>\n",
       "      <td>1.67 (0.06)</td>\n",
       "      <td>1.50-1.85</td>\n",
       "    </tr>\n",
       "    <tr>\n",
       "      <th rowspan=\"2\" valign=\"top\">weight</th>\n",
       "      <th>0</th>\n",
       "      <td>52.05 (5.92)</td>\n",
       "      <td>39.00-72.00</td>\n",
       "    </tr>\n",
       "    <tr>\n",
       "      <th>1</th>\n",
       "      <td>63.29 (8.39)</td>\n",
       "      <td>46.00-90.00</td>\n",
       "    </tr>\n",
       "  </tbody>\n",
       "</table>\n",
       "</div>"
      ],
      "text/plain": [
       "                 Mean (SD)      Min-Max\n",
       "Variable sex                           \n",
       "height   0     1.56 (0.04)    1.45-1.70\n",
       "         1     1.67 (0.06)    1.50-1.85\n",
       "weight   0    52.05 (5.92)  39.00-72.00\n",
       "         1    63.29 (8.39)  46.00-90.00"
      ]
     },
     "execution_count": 11,
     "metadata": {},
     "output_type": "execute_result"
    }
   ],
   "source": [
    "pd.concat(list(map(lambda x: get_agg(d, \"sex\", x), vars_to_agg))) \\\n",
    "    .reset_index().set_index([\"Variable\", \"sex\"])"
   ]
  },
  {
   "cell_type": "markdown",
   "metadata": {},
   "source": [
    "### Nhóm nhiều nhóm cùng một lúc\n",
    "\n",
    "Trong hàm `get_agg()` ở trên, đối số `groupby` không quy định kiểu rõ ràng, nên chúng ta có thể sử dụng tất cả các kiểu dữ liệu mà hàm `groupby()` của data frame chấp nhận. Ví dụ, chúng ta nhóm theo giới và tuổi >45."
   ]
  },
  {
   "cell_type": "code",
   "execution_count": 12,
   "metadata": {},
   "outputs": [
    {
     "data": {
      "text/html": [
       "<div>\n",
       "<style scoped>\n",
       "    .dataframe tbody tr th:only-of-type {\n",
       "        vertical-align: middle;\n",
       "    }\n",
       "\n",
       "    .dataframe tbody tr th {\n",
       "        vertical-align: top;\n",
       "    }\n",
       "\n",
       "    .dataframe thead th {\n",
       "        text-align: right;\n",
       "    }\n",
       "</style>\n",
       "<table border=\"1\" class=\"dataframe\">\n",
       "  <thead>\n",
       "    <tr style=\"text-align: right;\">\n",
       "      <th></th>\n",
       "      <th></th>\n",
       "      <th>Mean (SD)</th>\n",
       "      <th>Min-Max</th>\n",
       "      <th>Variable</th>\n",
       "    </tr>\n",
       "    <tr>\n",
       "      <th>age_gt45</th>\n",
       "      <th>sex</th>\n",
       "      <th></th>\n",
       "      <th></th>\n",
       "      <th></th>\n",
       "    </tr>\n",
       "  </thead>\n",
       "  <tbody>\n",
       "    <tr>\n",
       "      <th rowspan=\"2\" valign=\"top\">0</th>\n",
       "      <th>0</th>\n",
       "      <td>1.57 (0.04)</td>\n",
       "      <td>1.45-1.70</td>\n",
       "      <td>height</td>\n",
       "    </tr>\n",
       "    <tr>\n",
       "      <th>1</th>\n",
       "      <td>1.68 (0.06)</td>\n",
       "      <td>1.50-1.85</td>\n",
       "      <td>height</td>\n",
       "    </tr>\n",
       "    <tr>\n",
       "      <th rowspan=\"2\" valign=\"top\">1</th>\n",
       "      <th>0</th>\n",
       "      <td>1.55 (0.04)</td>\n",
       "      <td>1.45-1.70</td>\n",
       "      <td>height</td>\n",
       "    </tr>\n",
       "    <tr>\n",
       "      <th>1</th>\n",
       "      <td>1.66 (0.06)</td>\n",
       "      <td>1.50-1.80</td>\n",
       "      <td>height</td>\n",
       "    </tr>\n",
       "  </tbody>\n",
       "</table>\n",
       "</div>"
      ],
      "text/plain": [
       "                Mean (SD)    Min-Max Variable\n",
       "age_gt45 sex                                 \n",
       "0        0    1.57 (0.04)  1.45-1.70   height\n",
       "         1    1.68 (0.06)  1.50-1.85   height\n",
       "1        0    1.55 (0.04)  1.45-1.70   height\n",
       "         1    1.66 (0.06)  1.50-1.80   height"
      ]
     },
     "execution_count": 12,
     "metadata": {},
     "output_type": "execute_result"
    }
   ],
   "source": [
    "d[\"age\"] = d[\"date_exam\"].dt.year - d[\"yob\"]\n",
    "d[\"age_gt45\"] = d[\"age\"].gt(45).astype(int)\n",
    "\n",
    "vars_groupby = [\"age_gt45\", \"sex\"]\n",
    "get_agg(d, vars_groupby, \"height\")"
   ]
  },
  {
   "cell_type": "markdown",
   "metadata": {},
   "source": [
    "Chúng ta cũng có thể nhóm nhiều nhóm nhưng theo từng nhóm một giống như phần trên."
   ]
  },
  {
   "cell_type": "code",
   "execution_count": 13,
   "metadata": {},
   "outputs": [
    {
     "data": {
      "text/html": [
       "<div>\n",
       "<style scoped>\n",
       "    .dataframe tbody tr th:only-of-type {\n",
       "        vertical-align: middle;\n",
       "    }\n",
       "\n",
       "    .dataframe tbody tr th {\n",
       "        vertical-align: top;\n",
       "    }\n",
       "\n",
       "    .dataframe thead th {\n",
       "        text-align: right;\n",
       "    }\n",
       "</style>\n",
       "<table border=\"1\" class=\"dataframe\">\n",
       "  <thead>\n",
       "    <tr style=\"text-align: right;\">\n",
       "      <th></th>\n",
       "      <th></th>\n",
       "      <th>Mean (SD)</th>\n",
       "      <th>Min-Max</th>\n",
       "      <th>Variable</th>\n",
       "    </tr>\n",
       "    <tr>\n",
       "      <th>Group by</th>\n",
       "      <th>Level</th>\n",
       "      <th></th>\n",
       "      <th></th>\n",
       "      <th></th>\n",
       "    </tr>\n",
       "  </thead>\n",
       "  <tbody>\n",
       "    <tr>\n",
       "      <th rowspan=\"2\" valign=\"top\">age_gt45</th>\n",
       "      <th>0</th>\n",
       "      <td>1.61 (0.07)</td>\n",
       "      <td>1.45-1.85</td>\n",
       "      <td>height</td>\n",
       "    </tr>\n",
       "    <tr>\n",
       "      <th>1</th>\n",
       "      <td>1.58 (0.07)</td>\n",
       "      <td>1.45-1.80</td>\n",
       "      <td>height</td>\n",
       "    </tr>\n",
       "    <tr>\n",
       "      <th rowspan=\"2\" valign=\"top\">sex</th>\n",
       "      <th>0</th>\n",
       "      <td>1.56 (0.04)</td>\n",
       "      <td>1.45-1.70</td>\n",
       "      <td>height</td>\n",
       "    </tr>\n",
       "    <tr>\n",
       "      <th>1</th>\n",
       "      <td>1.67 (0.06)</td>\n",
       "      <td>1.50-1.85</td>\n",
       "      <td>height</td>\n",
       "    </tr>\n",
       "  </tbody>\n",
       "</table>\n",
       "</div>"
      ],
      "text/plain": [
       "                  Mean (SD)    Min-Max Variable\n",
       "Group by Level                                 \n",
       "age_gt45 0      1.61 (0.07)  1.45-1.85   height\n",
       "         1      1.58 (0.07)  1.45-1.80   height\n",
       "sex      0      1.56 (0.04)  1.45-1.70   height\n",
       "         1      1.67 (0.06)  1.50-1.85   height"
      ]
     },
     "execution_count": 13,
     "metadata": {},
     "output_type": "execute_result"
    }
   ],
   "source": [
    "def get_agg(d, groupby, var_to_agg):\n",
    "    d_agg = d.groupby(groupby)[var_to_agg].agg([\"mean\", \"std\", \"min\", \"max\"]) \\\n",
    "        .apply(lambda x: get_stats(*x), axis=1, result_type=\"expand\") \\\n",
    "        .rename(columns={0: \"Mean (SD)\", 1: \"Min-Max\"})\n",
    "    d_agg[\"Group by\"] = groupby\n",
    "    d_agg[\"Variable\"] = var_to_agg\n",
    "    return d_agg\n",
    "\n",
    "pd.concat(list(map(lambda x: get_agg(d, x, \"height\"), vars_groupby))) \\\n",
    "    .rename_axis(index=\"Level\").reset_index().set_index([\"Group by\", \"Level\"])"
   ]
  },
  {
   "cell_type": "markdown",
   "metadata": {},
   "source": [
    "Nếu muốn lặp lại cả danh sách nhóm và biến tổng hợp dữ liệu thì làm thế nào? Bạn sẽ cần tạo ra một danh sách chứa tất cả các cặp \"nhóm - biến\". Chúng ta có thể sử dụng [generator](../02_inter/03_yield.ipynb) cho việc này. Với generator bạn sẽ không phải tạo ra một danh sách hoặc tuple của tất cả các cặp \"nhóm - biến\"."
   ]
  },
  {
   "cell_type": "code",
   "execution_count": 14,
   "metadata": {},
   "outputs": [
    {
     "data": {
      "text/html": [
       "<div>\n",
       "<style scoped>\n",
       "    .dataframe tbody tr th:only-of-type {\n",
       "        vertical-align: middle;\n",
       "    }\n",
       "\n",
       "    .dataframe tbody tr th {\n",
       "        vertical-align: top;\n",
       "    }\n",
       "\n",
       "    .dataframe thead th {\n",
       "        text-align: right;\n",
       "    }\n",
       "</style>\n",
       "<table border=\"1\" class=\"dataframe\">\n",
       "  <thead>\n",
       "    <tr style=\"text-align: right;\">\n",
       "      <th></th>\n",
       "      <th></th>\n",
       "      <th></th>\n",
       "      <th>Mean (SD)</th>\n",
       "      <th>Min-Max</th>\n",
       "    </tr>\n",
       "    <tr>\n",
       "      <th>Variable</th>\n",
       "      <th>Group by</th>\n",
       "      <th>Level</th>\n",
       "      <th></th>\n",
       "      <th></th>\n",
       "    </tr>\n",
       "  </thead>\n",
       "  <tbody>\n",
       "    <tr>\n",
       "      <th rowspan=\"2\" valign=\"top\">height</th>\n",
       "      <th rowspan=\"2\" valign=\"top\">age_gt45</th>\n",
       "      <th>0</th>\n",
       "      <td>1.61 (0.07)</td>\n",
       "      <td>1.45-1.85</td>\n",
       "    </tr>\n",
       "    <tr>\n",
       "      <th>1</th>\n",
       "      <td>1.58 (0.07)</td>\n",
       "      <td>1.45-1.80</td>\n",
       "    </tr>\n",
       "    <tr>\n",
       "      <th rowspan=\"2\" valign=\"top\">weight</th>\n",
       "      <th rowspan=\"2\" valign=\"top\">age_gt45</th>\n",
       "      <th>0</th>\n",
       "      <td>55.90 (9.11)</td>\n",
       "      <td>39.00-90.00</td>\n",
       "    </tr>\n",
       "    <tr>\n",
       "      <th>1</th>\n",
       "      <td>55.49 (8.14)</td>\n",
       "      <td>40.00-82.00</td>\n",
       "    </tr>\n",
       "    <tr>\n",
       "      <th rowspan=\"2\" valign=\"top\">height</th>\n",
       "      <th rowspan=\"2\" valign=\"top\">sex</th>\n",
       "      <th>0</th>\n",
       "      <td>1.56 (0.04)</td>\n",
       "      <td>1.45-1.70</td>\n",
       "    </tr>\n",
       "    <tr>\n",
       "      <th>1</th>\n",
       "      <td>1.67 (0.06)</td>\n",
       "      <td>1.50-1.85</td>\n",
       "    </tr>\n",
       "    <tr>\n",
       "      <th rowspan=\"2\" valign=\"top\">weight</th>\n",
       "      <th rowspan=\"2\" valign=\"top\">sex</th>\n",
       "      <th>0</th>\n",
       "      <td>52.05 (5.92)</td>\n",
       "      <td>39.00-72.00</td>\n",
       "    </tr>\n",
       "    <tr>\n",
       "      <th>1</th>\n",
       "      <td>63.29 (8.39)</td>\n",
       "      <td>46.00-90.00</td>\n",
       "    </tr>\n",
       "  </tbody>\n",
       "</table>\n",
       "</div>"
      ],
      "text/plain": [
       "                            Mean (SD)      Min-Max\n",
       "Variable Group by Level                           \n",
       "height   age_gt45 0       1.61 (0.07)    1.45-1.85\n",
       "                  1       1.58 (0.07)    1.45-1.80\n",
       "weight   age_gt45 0      55.90 (9.11)  39.00-90.00\n",
       "                  1      55.49 (8.14)  40.00-82.00\n",
       "height   sex      0       1.56 (0.04)    1.45-1.70\n",
       "                  1       1.67 (0.06)    1.50-1.85\n",
       "weight   sex      0      52.05 (5.92)  39.00-72.00\n",
       "                  1      63.29 (8.39)  46.00-90.00"
      ]
     },
     "execution_count": 14,
     "metadata": {},
     "output_type": "execute_result"
    }
   ],
   "source": [
    "vars_all_pairs = ((groupby, var_to_agg) for groupby in vars_groupby for var_to_agg in vars_to_agg)\n",
    "pd.concat(list(map(lambda x: get_agg(d, *x), vars_all_pairs))) \\\n",
    "    .rename_axis(index=\"Level\").reset_index().set_index([\"Variable\", \"Group by\", \"Level\"])"
   ]
  },
  {
   "cell_type": "markdown",
   "metadata": {},
   "source": [
    "---\n",
    "\n",
    "[Bài trước](./07_apply.ipynb) - [Danh sách bài](../README.md) - [Bài sau]()"
   ]
  }
 ],
 "metadata": {
  "kernelspec": {
   "display_name": "Python 3.9.9 64-bit",
   "language": "python",
   "name": "python3"
  },
  "language_info": {
   "codemirror_mode": {
    "name": "ipython",
    "version": 3
   },
   "file_extension": ".py",
   "mimetype": "text/x-python",
   "name": "python",
   "nbconvert_exporter": "python",
   "pygments_lexer": "ipython3",
   "version": "3.9.9"
  },
  "orig_nbformat": 4,
  "vscode": {
   "interpreter": {
    "hash": "11938c6bc6919ae2720b4d5011047913343b08a43b18698fd82dedb0d4417594"
   }
  }
 },
 "nbformat": 4,
 "nbformat_minor": 2
}
