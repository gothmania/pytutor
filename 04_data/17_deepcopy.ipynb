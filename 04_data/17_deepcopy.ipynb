{
 "cells": [
  {
   "cell_type": "markdown",
   "metadata": {},
   "source": [
    "# D17 Deep copy\n",
    "\n",
    "## Mục đích\n",
    "\n",
    "Giới thiệu về cách thức lưu trữ dữ liệu trong Python và lí do của deep copy.\n",
    "\n",
    "\n",
    "## Quản lí bộ nhớ\n",
    "\n",
    "Trong lập trình, chúng ta làm việc với các biến. Trên thực tế, các biến này là một cách để lưu trữ địa chỉ của các giá trị trong bộ nhớ máy tính. Tưởng tượng bộ nhớ máy tính giống như một thư viện sách, mỗi cuốn sách được cất ở một địa chỉ (ví dụ, phòng 3 tủ 2 tầng thứ 2 cuốn thứ 17 từ trái sang phải). Chúng ta không thể nào nhớ được địa chỉ của mỗi giá trị, và điều đó cũng không khả thi khi lập trình vì máy tính sẽ cấp địa chỉ dựa trên không gian còn trống của bộ nhớ. Do đó, chúng ta sử dụng tên biến để đại diện cho các địa chỉ này. Hãy xem hiện tượng dưới đây, và chúng ta sẽ quay lại với việc quản lí bộ nhớ máy tính để giải thích chuyện này.\n",
    "\n",
    "Trong ví dụ đầu tiên, bạn có một hàm `func1()` với đối số `a` là kiểu `float`. Đối số này sẽ bị biến đổi trong quá trình thao tác trong hàm. Hãy cùng xem kết quả."
   ]
  },
  {
   "cell_type": "code",
   "execution_count": 1,
   "metadata": {},
   "outputs": [
    {
     "name": "stdout",
     "output_type": "stream",
     "text": [
      "Trước khi chạy hàm: a=10\n",
      "Kết quả của hàm: func1(a)=11\n",
      "Sau khi chạy hàm: a=10\n"
     ]
    }
   ],
   "source": [
    "def func1(a):\n",
    "    a += 1\n",
    "    return a\n",
    "\n",
    "a = 10\n",
    "\n",
    "print(f\"Trước khi chạy hàm: {a=}\")\n",
    "print(f\"Kết quả của hàm: {func1(a)=}\")\n",
    "print(f\"Sau khi chạy hàm: {a=}\")"
   ]
  },
  {
   "cell_type": "markdown",
   "metadata": {},
   "source": [
    "Bạn có thể thấy rằng mặc dù chúng ta đã cộng thêm 1 và gán cho chính đối số `a` này, nhưng sau khi chạy hàm, giá trị của biến `a` vẫn không thay đổi. Tức là việc thao tác bên trong hàm không làm ảnh hưởng tới giá trị đang lưu trong bộ nhớ máy tính của biến `a`.\n",
    "\n",
    "Hãy cùng xem hàm `func2()`, và lần này chúng ta sẽ cung cấp một đối số `b` kiểu `list`."
   ]
  },
  {
   "cell_type": "code",
   "execution_count": 2,
   "metadata": {},
   "outputs": [
    {
     "name": "stdout",
     "output_type": "stream",
     "text": [
      "Trước khi chạy hàm: b=[2, 1, 1]\n",
      "Kết quả của hàm: func2(b)=[0, 1, 1]\n",
      "Sau khi chạy hàm: b=[0, 1, 1]\n"
     ]
    }
   ],
   "source": [
    "def func2(b):\n",
    "    b[0] = 0\n",
    "    return b\n",
    "\n",
    "b = [2, 1, 1]\n",
    "\n",
    "print(f\"Trước khi chạy hàm: {b=}\")\n",
    "print(f\"Kết quả của hàm: {func2(b)=}\")\n",
    "print(f\"Sau khi chạy hàm: {b=}\")"
   ]
  },
  {
   "cell_type": "markdown",
   "metadata": {},
   "source": [
    "Bạn sẽ thấy một kết quả khác so với bên trên: nội dung của `b` đã bị thay đổi sau khi chạy hàm. Tại sao lại có sự khác nhau này? Sự khác nhau đến từ giá trị mà `a` và `b` lưu trữ.\n",
    "\n",
    "* Giá trị mà `a` lưu trữ chính là giá trị thực sự bên trong bộ nhớ của `a`. Ví dụ, khi `a` = 10 thì việc đưa `a` làm đối số cho hàm `func1(a)` đồng nghĩa với việc ra lệnh cho Python: \"Hãy lấy giá trị 10 đặt vào vị trí của đối số `a` trong hàm `func1()`.\" Nói cách khác, bạn đang chạy lệnh `func1(10)`.\n",
    "* Tuy nhiên điều này không đúng với biến `b`. Biến `b` không lưu trữ nội dung của toàn bộ danh sách, mà nó chỉ lưu trữ địa chỉ của *con trỏ* (pointer) đến danh sách. Nói cách khác, nó lưu trữ địa chỉ của ... một địa chỉ khác. Do vậy, khi đưa biến `b` vào vị trí của đối số `b` trong hàm `func2()`, cái thực sự chúng ta cung cấp là con trỏ đến danh sách, hay `func2(pointer_tới_list)`, và mọi thao tác đối với con trỏ này sẽ ảnh hưởng tới dữ liệu thật sự đang nằm trong bộ nhớ.\n",
    "\n",
    "Một lưu ý rằng việc đặt tên đối số không phải là lí do dẫn tới điều này. Đối số trong hàm chỉ giống như một viên gạch đặt chỗ, và cái thực sự được điền vào đó là giá trị mà bạn cung cấp cho đối số. Kết quả vẫn sẽ như vậy nếu chúng ta đổi tên đối số."
   ]
  },
  {
   "cell_type": "code",
   "execution_count": 3,
   "metadata": {},
   "outputs": [
    {
     "name": "stdout",
     "output_type": "stream",
     "text": [
      "Trước khi chạy hàm: a=10\n",
      "Kết quả của hàm: func1(a)=11\n",
      "Sau khi chạy hàm: a=10\n",
      "\n",
      "Trước khi chạy hàm: b=[2, 1, 1]\n",
      "Kết quả của hàm: func2(b)=[0, 1, 1]\n",
      "Sau khi chạy hàm: b=[0, 1, 1]\n"
     ]
    }
   ],
   "source": [
    "def func1(param):\n",
    "    param += 1\n",
    "    return param\n",
    "\n",
    "a = 10\n",
    "\n",
    "print(f\"Trước khi chạy hàm: {a=}\")\n",
    "print(f\"Kết quả của hàm: {func1(a)=}\")\n",
    "print(f\"Sau khi chạy hàm: {a=}\\n\")\n",
    "\n",
    "def func2(param):\n",
    "    param[0] = 0\n",
    "    return param\n",
    "\n",
    "b = [2, 1, 1]\n",
    "\n",
    "print(f\"Trước khi chạy hàm: {b=}\")\n",
    "print(f\"Kết quả của hàm: {func2(b)=}\")\n",
    "print(f\"Sau khi chạy hàm: {b=}\")"
   ]
  },
  {
   "cell_type": "markdown",
   "metadata": {},
   "source": [
    "Hãy xem một ví dụ khác. Đó là khi chúng ta tạo biến mới. Kết quả cũng sẽ giống như trên. Cách thức này trong Python gọi là \"shallow copy\", tức là bạn không thực sự sao chép toàn bộ nội dung của một số loại dữ liệu. Sao chép con trỏ chỉ tốn một không gian bộ nhớ rất nhỏ, nhưng sao chép toàn bộ dữ liệu (\"deep copy\") có thể tạo ra hàng chục KB, thậm chí hàng chục MB mới với những khối lượng dữ liệu lớn."
   ]
  },
  {
   "cell_type": "code",
   "execution_count": 4,
   "metadata": {},
   "outputs": [
    {
     "name": "stdout",
     "output_type": "stream",
     "text": [
      "Trước khi biến đổi b: a=10 b=10\n",
      "Sau khi biến đổi b: a=10 b=11\n",
      "\n",
      "Trước khi biến đổi d: c=[2, 1, 1] d=[2, 1, 1]\n",
      "Sau khi biến đổi d: c=[0, 1, 1] d=[0, 1, 1]\n"
     ]
    }
   ],
   "source": [
    "a = 10\n",
    "b = a\n",
    "print(f\"Trước khi biến đổi b: {a=} {b=}\")\n",
    "\n",
    "b += 1\n",
    "print(f\"Sau khi biến đổi b: {a=} {b=}\\n\")\n",
    "\n",
    "c = [2, 1, 1]\n",
    "d = c\n",
    "print(f\"Trước khi biến đổi d: {c=} {d=}\")\n",
    "\n",
    "d[0] = 0\n",
    "print(f\"Sau khi biến đổi d: {c=} {d=}\")"
   ]
  },
  {
   "cell_type": "markdown",
   "metadata": {},
   "source": [
    "## Deep copy\n",
    "\n",
    "Những dữ liệu nào sẽ được lưu trữ con trỏ thay vì giá trị của nó? Tất cả các dữ liệu tổ hợp của nhiều dữ liệu khác (compound) sẽ được lưu trữ dưới dạng con trỏ, ví dụ `list` hay các lớp dữ liệu (class). Nếu bạn thực sự cần thao tác với dữ liệu trong các kiểu dữ liệu này và không muốn ảnh hưởng tới dữ liệu gốc, bạn sẽ cần thực hiện deep copy thay vì shallow copy. Hãy cùng quan sát ví dụ trong Pandas."
   ]
  },
  {
   "cell_type": "code",
   "execution_count": 5,
   "metadata": {},
   "outputs": [
    {
     "data": {
      "text/html": [
       "<div>\n",
       "<style scoped>\n",
       "    .dataframe tbody tr th:only-of-type {\n",
       "        vertical-align: middle;\n",
       "    }\n",
       "\n",
       "    .dataframe tbody tr th {\n",
       "        vertical-align: top;\n",
       "    }\n",
       "\n",
       "    .dataframe thead th {\n",
       "        text-align: right;\n",
       "    }\n",
       "</style>\n",
       "<table border=\"1\" class=\"dataframe\">\n",
       "  <thead>\n",
       "    <tr style=\"text-align: right;\">\n",
       "      <th></th>\n",
       "      <th>id</th>\n",
       "      <th>name</th>\n",
       "    </tr>\n",
       "  </thead>\n",
       "  <tbody>\n",
       "    <tr>\n",
       "      <th>0</th>\n",
       "      <td>1</td>\n",
       "      <td>ABC</td>\n",
       "    </tr>\n",
       "    <tr>\n",
       "      <th>1</th>\n",
       "      <td>2</td>\n",
       "      <td>XYZ</td>\n",
       "    </tr>\n",
       "  </tbody>\n",
       "</table>\n",
       "</div>"
      ],
      "text/plain": [
       "   id name\n",
       "0   1  ABC\n",
       "1   2  XYZ"
      ]
     },
     "execution_count": 5,
     "metadata": {},
     "output_type": "execute_result"
    }
   ],
   "source": [
    "import pandas as pd\n",
    "\n",
    "d1 = pd.DataFrame({\n",
    "    \"id\": [1, 2],\n",
    "    \"name\": [\"ABC\", \"XYZ\"]\n",
    "})\n",
    "\n",
    "d1"
   ]
  },
  {
   "cell_type": "code",
   "execution_count": 6,
   "metadata": {},
   "outputs": [
    {
     "data": {
      "text/html": [
       "<div>\n",
       "<style scoped>\n",
       "    .dataframe tbody tr th:only-of-type {\n",
       "        vertical-align: middle;\n",
       "    }\n",
       "\n",
       "    .dataframe tbody tr th {\n",
       "        vertical-align: top;\n",
       "    }\n",
       "\n",
       "    .dataframe thead th {\n",
       "        text-align: right;\n",
       "    }\n",
       "</style>\n",
       "<table border=\"1\" class=\"dataframe\">\n",
       "  <thead>\n",
       "    <tr style=\"text-align: right;\">\n",
       "      <th></th>\n",
       "      <th>id</th>\n",
       "      <th>name</th>\n",
       "    </tr>\n",
       "  </thead>\n",
       "  <tbody>\n",
       "    <tr>\n",
       "      <th>0</th>\n",
       "      <td>3</td>\n",
       "      <td>ABC</td>\n",
       "    </tr>\n",
       "    <tr>\n",
       "      <th>1</th>\n",
       "      <td>2</td>\n",
       "      <td>XYZ</td>\n",
       "    </tr>\n",
       "  </tbody>\n",
       "</table>\n",
       "</div>"
      ],
      "text/plain": [
       "   id name\n",
       "0   3  ABC\n",
       "1   2  XYZ"
      ]
     },
     "execution_count": 6,
     "metadata": {},
     "output_type": "execute_result"
    }
   ],
   "source": [
    "d2 = d1.copy(deep=True)\n",
    "\n",
    "d2.loc[0, \"id\"] = 3\n",
    "d2"
   ]
  },
  {
   "cell_type": "code",
   "execution_count": 7,
   "metadata": {},
   "outputs": [
    {
     "data": {
      "text/html": [
       "<div>\n",
       "<style scoped>\n",
       "    .dataframe tbody tr th:only-of-type {\n",
       "        vertical-align: middle;\n",
       "    }\n",
       "\n",
       "    .dataframe tbody tr th {\n",
       "        vertical-align: top;\n",
       "    }\n",
       "\n",
       "    .dataframe thead th {\n",
       "        text-align: right;\n",
       "    }\n",
       "</style>\n",
       "<table border=\"1\" class=\"dataframe\">\n",
       "  <thead>\n",
       "    <tr style=\"text-align: right;\">\n",
       "      <th></th>\n",
       "      <th>id</th>\n",
       "      <th>name</th>\n",
       "    </tr>\n",
       "  </thead>\n",
       "  <tbody>\n",
       "    <tr>\n",
       "      <th>0</th>\n",
       "      <td>1</td>\n",
       "      <td>ABC</td>\n",
       "    </tr>\n",
       "    <tr>\n",
       "      <th>1</th>\n",
       "      <td>2</td>\n",
       "      <td>XYZ</td>\n",
       "    </tr>\n",
       "  </tbody>\n",
       "</table>\n",
       "</div>"
      ],
      "text/plain": [
       "   id name\n",
       "0   1  ABC\n",
       "1   2  XYZ"
      ]
     },
     "execution_count": 7,
     "metadata": {},
     "output_type": "execute_result"
    }
   ],
   "source": [
    "d1"
   ]
  },
  {
   "cell_type": "markdown",
   "metadata": {},
   "source": [
    "Bạn có thể thấy rằng khi thực hiện deep copy (`True` là giá trị mặc định cho đối số `deep` của hàm `copy()`), nội dung của dữ liệu gốc không bị ảnh hưởng. Điều gì xảy ra nếu chúng ta shallow copy?"
   ]
  },
  {
   "cell_type": "code",
   "execution_count": 8,
   "metadata": {},
   "outputs": [
    {
     "data": {
      "text/html": [
       "<div>\n",
       "<style scoped>\n",
       "    .dataframe tbody tr th:only-of-type {\n",
       "        vertical-align: middle;\n",
       "    }\n",
       "\n",
       "    .dataframe tbody tr th {\n",
       "        vertical-align: top;\n",
       "    }\n",
       "\n",
       "    .dataframe thead th {\n",
       "        text-align: right;\n",
       "    }\n",
       "</style>\n",
       "<table border=\"1\" class=\"dataframe\">\n",
       "  <thead>\n",
       "    <tr style=\"text-align: right;\">\n",
       "      <th></th>\n",
       "      <th>id</th>\n",
       "      <th>name</th>\n",
       "    </tr>\n",
       "  </thead>\n",
       "  <tbody>\n",
       "    <tr>\n",
       "      <th>0</th>\n",
       "      <td>3</td>\n",
       "      <td>ABC</td>\n",
       "    </tr>\n",
       "    <tr>\n",
       "      <th>1</th>\n",
       "      <td>2</td>\n",
       "      <td>XYZ</td>\n",
       "    </tr>\n",
       "  </tbody>\n",
       "</table>\n",
       "</div>"
      ],
      "text/plain": [
       "   id name\n",
       "0   3  ABC\n",
       "1   2  XYZ"
      ]
     },
     "execution_count": 8,
     "metadata": {},
     "output_type": "execute_result"
    }
   ],
   "source": [
    "d3 = d1.copy(deep=False)\n",
    "\n",
    "d3.loc[0, \"id\"] = 3\n",
    "d3"
   ]
  },
  {
   "cell_type": "code",
   "execution_count": 9,
   "metadata": {},
   "outputs": [
    {
     "data": {
      "text/html": [
       "<div>\n",
       "<style scoped>\n",
       "    .dataframe tbody tr th:only-of-type {\n",
       "        vertical-align: middle;\n",
       "    }\n",
       "\n",
       "    .dataframe tbody tr th {\n",
       "        vertical-align: top;\n",
       "    }\n",
       "\n",
       "    .dataframe thead th {\n",
       "        text-align: right;\n",
       "    }\n",
       "</style>\n",
       "<table border=\"1\" class=\"dataframe\">\n",
       "  <thead>\n",
       "    <tr style=\"text-align: right;\">\n",
       "      <th></th>\n",
       "      <th>id</th>\n",
       "      <th>name</th>\n",
       "    </tr>\n",
       "  </thead>\n",
       "  <tbody>\n",
       "    <tr>\n",
       "      <th>0</th>\n",
       "      <td>3</td>\n",
       "      <td>ABC</td>\n",
       "    </tr>\n",
       "    <tr>\n",
       "      <th>1</th>\n",
       "      <td>2</td>\n",
       "      <td>XYZ</td>\n",
       "    </tr>\n",
       "  </tbody>\n",
       "</table>\n",
       "</div>"
      ],
      "text/plain": [
       "   id name\n",
       "0   3  ABC\n",
       "1   2  XYZ"
      ]
     },
     "execution_count": 9,
     "metadata": {},
     "output_type": "execute_result"
    }
   ],
   "source": [
    "d1"
   ]
  },
  {
   "cell_type": "markdown",
   "metadata": {},
   "source": [
    "Như đã thấy, nội dung của dữ liệu gốc đã bị thay đổi. Do vậy, mình nhắc lại lần nữa rằng nếu bạn tạo ra các hàm mà nội dung đưa vào là các dạng dữ liệu compound như thế này, và không muốn thay đổi dữ liệu gốc, hãy thực hiện deep copy trước khi thao tác. Còn nếu không, hãy đảm bảo rằng bạn sẽ không \"đụng\" đến dữ liệu gốc trong quá trình xử lí hàm.\n",
    "\n",
    "\n",
    "## Các hàm của Pandas\n",
    "\n",
    "Pandas không bao giờ đụng vào dữ liệu gốc trừ khi hàm có đối số `inplace` và bạn thiết lập đối số này là `True`. Khi đó, mọi thay đổi sẽ được tác động thẳng lên dữ liệu gốc và hàm không trả về nội dung gì cả. Còn lại, Pandas luôn tạo ra một bản sao và thay đổi nội dung trên đó. Hãy xem ví dụ dưới đây."
   ]
  },
  {
   "cell_type": "code",
   "execution_count": 10,
   "metadata": {},
   "outputs": [
    {
     "data": {
      "text/html": [
       "<div>\n",
       "<style scoped>\n",
       "    .dataframe tbody tr th:only-of-type {\n",
       "        vertical-align: middle;\n",
       "    }\n",
       "\n",
       "    .dataframe tbody tr th {\n",
       "        vertical-align: top;\n",
       "    }\n",
       "\n",
       "    .dataframe thead th {\n",
       "        text-align: right;\n",
       "    }\n",
       "</style>\n",
       "<table border=\"1\" class=\"dataframe\">\n",
       "  <thead>\n",
       "    <tr style=\"text-align: right;\">\n",
       "      <th></th>\n",
       "      <th>id</th>\n",
       "      <th>name</th>\n",
       "    </tr>\n",
       "  </thead>\n",
       "  <tbody>\n",
       "    <tr>\n",
       "      <th>0</th>\n",
       "      <td>3</td>\n",
       "      <td>ABC</td>\n",
       "    </tr>\n",
       "    <tr>\n",
       "      <th>1</th>\n",
       "      <td>4</td>\n",
       "      <td>XYZ</td>\n",
       "    </tr>\n",
       "  </tbody>\n",
       "</table>\n",
       "</div>"
      ],
      "text/plain": [
       "   id name\n",
       "0   3  ABC\n",
       "1   4  XYZ"
      ]
     },
     "execution_count": 10,
     "metadata": {},
     "output_type": "execute_result"
    }
   ],
   "source": [
    "d1.replace({2: 4})"
   ]
  },
  {
   "cell_type": "markdown",
   "metadata": {},
   "source": [
    "Dữ liệu của `d1` sẽ không bị thay đổi."
   ]
  },
  {
   "cell_type": "code",
   "execution_count": 11,
   "metadata": {},
   "outputs": [
    {
     "data": {
      "text/html": [
       "<div>\n",
       "<style scoped>\n",
       "    .dataframe tbody tr th:only-of-type {\n",
       "        vertical-align: middle;\n",
       "    }\n",
       "\n",
       "    .dataframe tbody tr th {\n",
       "        vertical-align: top;\n",
       "    }\n",
       "\n",
       "    .dataframe thead th {\n",
       "        text-align: right;\n",
       "    }\n",
       "</style>\n",
       "<table border=\"1\" class=\"dataframe\">\n",
       "  <thead>\n",
       "    <tr style=\"text-align: right;\">\n",
       "      <th></th>\n",
       "      <th>id</th>\n",
       "      <th>name</th>\n",
       "    </tr>\n",
       "  </thead>\n",
       "  <tbody>\n",
       "    <tr>\n",
       "      <th>0</th>\n",
       "      <td>3</td>\n",
       "      <td>ABC</td>\n",
       "    </tr>\n",
       "    <tr>\n",
       "      <th>1</th>\n",
       "      <td>2</td>\n",
       "      <td>XYZ</td>\n",
       "    </tr>\n",
       "  </tbody>\n",
       "</table>\n",
       "</div>"
      ],
      "text/plain": [
       "   id name\n",
       "0   3  ABC\n",
       "1   2  XYZ"
      ]
     },
     "execution_count": 11,
     "metadata": {},
     "output_type": "execute_result"
    }
   ],
   "source": [
    "d1"
   ]
  },
  {
   "cell_type": "markdown",
   "metadata": {},
   "source": [
    "Nhưng nếu bạn viết lệnh như sau."
   ]
  },
  {
   "cell_type": "code",
   "execution_count": 12,
   "metadata": {},
   "outputs": [],
   "source": [
    "d1.replace({2: 4}, inplace=True)"
   ]
  },
  {
   "cell_type": "markdown",
   "metadata": {},
   "source": [
    "Bạn sẽ không thấy hàm trả về kết quả gì, ngược lại, dữ liệu của `d1` đã bị thay đổi."
   ]
  },
  {
   "cell_type": "code",
   "execution_count": 13,
   "metadata": {},
   "outputs": [
    {
     "data": {
      "text/html": [
       "<div>\n",
       "<style scoped>\n",
       "    .dataframe tbody tr th:only-of-type {\n",
       "        vertical-align: middle;\n",
       "    }\n",
       "\n",
       "    .dataframe tbody tr th {\n",
       "        vertical-align: top;\n",
       "    }\n",
       "\n",
       "    .dataframe thead th {\n",
       "        text-align: right;\n",
       "    }\n",
       "</style>\n",
       "<table border=\"1\" class=\"dataframe\">\n",
       "  <thead>\n",
       "    <tr style=\"text-align: right;\">\n",
       "      <th></th>\n",
       "      <th>id</th>\n",
       "      <th>name</th>\n",
       "    </tr>\n",
       "  </thead>\n",
       "  <tbody>\n",
       "    <tr>\n",
       "      <th>0</th>\n",
       "      <td>3</td>\n",
       "      <td>ABC</td>\n",
       "    </tr>\n",
       "    <tr>\n",
       "      <th>1</th>\n",
       "      <td>4</td>\n",
       "      <td>XYZ</td>\n",
       "    </tr>\n",
       "  </tbody>\n",
       "</table>\n",
       "</div>"
      ],
      "text/plain": [
       "   id name\n",
       "0   3  ABC\n",
       "1   4  XYZ"
      ]
     },
     "execution_count": 13,
     "metadata": {},
     "output_type": "execute_result"
    }
   ],
   "source": [
    "d1"
   ]
  },
  {
   "cell_type": "markdown",
   "metadata": {},
   "source": [
    "Và cả `d3` nữa, vì `d3` chỉ là con trỏ tới dữ liệu trong bộ nhớ giống như `d1`."
   ]
  },
  {
   "cell_type": "code",
   "execution_count": 14,
   "metadata": {},
   "outputs": [
    {
     "data": {
      "text/html": [
       "<div>\n",
       "<style scoped>\n",
       "    .dataframe tbody tr th:only-of-type {\n",
       "        vertical-align: middle;\n",
       "    }\n",
       "\n",
       "    .dataframe tbody tr th {\n",
       "        vertical-align: top;\n",
       "    }\n",
       "\n",
       "    .dataframe thead th {\n",
       "        text-align: right;\n",
       "    }\n",
       "</style>\n",
       "<table border=\"1\" class=\"dataframe\">\n",
       "  <thead>\n",
       "    <tr style=\"text-align: right;\">\n",
       "      <th></th>\n",
       "      <th>id</th>\n",
       "      <th>name</th>\n",
       "    </tr>\n",
       "  </thead>\n",
       "  <tbody>\n",
       "    <tr>\n",
       "      <th>0</th>\n",
       "      <td>3</td>\n",
       "      <td>ABC</td>\n",
       "    </tr>\n",
       "    <tr>\n",
       "      <th>1</th>\n",
       "      <td>4</td>\n",
       "      <td>XYZ</td>\n",
       "    </tr>\n",
       "  </tbody>\n",
       "</table>\n",
       "</div>"
      ],
      "text/plain": [
       "   id name\n",
       "0   3  ABC\n",
       "1   4  XYZ"
      ]
     },
     "execution_count": 14,
     "metadata": {},
     "output_type": "execute_result"
    }
   ],
   "source": [
    "d3"
   ]
  },
  {
   "cell_type": "markdown",
   "metadata": {},
   "source": [
    "Cũng vì lí do tạo ra bản sao này, tốc độ thực hiện của hàm `assign()` sẽ chậm hơn so với việc tạo thẳng dữ liệu mới bằng phép gán."
   ]
  },
  {
   "cell_type": "code",
   "execution_count": 15,
   "metadata": {},
   "outputs": [
    {
     "name": "stdout",
     "output_type": "stream",
     "text": [
      "<class 'pandas.core.frame.DataFrame'>\n",
      "RangeIndex: 10000 entries, 0 to 9999\n",
      "Data columns (total 1 columns):\n",
      " #   Column  Non-Null Count  Dtype\n",
      "---  ------  --------------  -----\n",
      " 0   a       10000 non-null  int64\n",
      "dtypes: int64(1)\n",
      "memory usage: 78.2 KB\n"
     ]
    }
   ],
   "source": [
    "d4 = pd.DataFrame({\n",
    "    \"a\": range(10000)\n",
    "})\n",
    "\n",
    "d4.info()"
   ]
  },
  {
   "cell_type": "code",
   "execution_count": 16,
   "metadata": {},
   "outputs": [
    {
     "name": "stdout",
     "output_type": "stream",
     "text": [
      "The slowest run took 6.02 times longer than the fastest. This could mean that an intermediate result is being cached.\n",
      "233 µs ± 104 µs per loop (mean ± std. dev. of 1000 runs, 15 loops each)\n"
     ]
    }
   ],
   "source": [
    "%%timeit -n 15 -r 1000\n",
    "d4.assign(\n",
    "    b = a ** 2\n",
    ")"
   ]
  },
  {
   "cell_type": "code",
   "execution_count": 17,
   "metadata": {},
   "outputs": [
    {
     "name": "stdout",
     "output_type": "stream",
     "text": [
      "The slowest run took 10.42 times longer than the fastest. This could mean that an intermediate result is being cached.\n",
      "101 µs ± 56.9 µs per loop (mean ± std. dev. of 1000 runs, 15 loops each)\n"
     ]
    }
   ],
   "source": [
    "%%timeit -n 15 -r 1000\n",
    "d4[\"a\"].pow(2)"
   ]
  },
  {
   "cell_type": "markdown",
   "metadata": {},
   "source": [
    "---\n",
    "\n",
    "[Bài trước](./16_datadict.ipynb) - [Danh sách bài](../README.md) - [Bài sau]()"
   ]
  }
 ],
 "metadata": {
  "kernelspec": {
   "display_name": "Python 3.10.7 64-bit",
   "language": "python",
   "name": "python3"
  },
  "language_info": {
   "codemirror_mode": {
    "name": "ipython",
    "version": 3
   },
   "file_extension": ".py",
   "mimetype": "text/x-python",
   "name": "python",
   "nbconvert_exporter": "python",
   "pygments_lexer": "ipython3",
   "version": "3.10.7"
  },
  "orig_nbformat": 4,
  "vscode": {
   "interpreter": {
    "hash": "6a3c7fd02703099d697b86914af8afc6c3883c409bde85e680daef2475a3a8dd"
   }
  }
 },
 "nbformat": 4,
 "nbformat_minor": 2
}
