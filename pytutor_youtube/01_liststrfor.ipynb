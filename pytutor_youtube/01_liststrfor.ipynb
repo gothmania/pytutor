{
 "cells": [
  {
   "attachments": {},
   "cell_type": "markdown",
   "metadata": {},
   "source": [
    "# PYTUTOR - YOUTUBE\n",
    "**Tập 01: list, str, for**\n",
    "\n",
    "Trong tập này, các bạn sẽ làm quen với kiểu dữ liệu chuỗi kí tự (str), danh sách (list), và sử dụng vòng lặp for. Chúng ta cũng sẽ làm quen với một kĩ thuật lặp quan trọng tên là list comprehension.\n",
    "\n",
    "## NHIỆM VỤ\n",
    "\n",
    "Từ tên của một người tạo ra tên viết tắt, ví dụ: từ \"Hoàng Bảo Long\" tạo ra \"HBL\"."
   ]
  },
  {
   "cell_type": "code",
   "execution_count": 1,
   "metadata": {},
   "outputs": [
    {
     "name": "stdout",
     "output_type": "stream",
     "text": [
      "Hoàng Bảo  Long\n"
     ]
    }
   ],
   "source": [
    "# Lưu tên người trong chuỗi kí tự\n",
    "name = \"Hoàng Bảo  Long\"\n",
    "print(name)"
   ]
  },
  {
   "attachments": {},
   "cell_type": "markdown",
   "metadata": {},
   "source": [
    "### BƯỚC 1: Tách (split) tên thành các phần của tên như họ, đệm, tên riêng"
   ]
  },
  {
   "cell_type": "code",
   "execution_count": 2,
   "metadata": {},
   "outputs": [
    {
     "data": {
      "text/plain": [
       "['Hoàng', 'Bảo', 'Long']"
      ]
     },
     "execution_count": 2,
     "metadata": {},
     "output_type": "execute_result"
    }
   ],
   "source": [
    "name.split()"
   ]
  },
  {
   "attachments": {},
   "cell_type": "markdown",
   "metadata": {},
   "source": [
    "Nếu thiết lập đối số `sep=\" \"` thì kết quả có gì khác?"
   ]
  },
  {
   "cell_type": "code",
   "execution_count": 3,
   "metadata": {},
   "outputs": [
    {
     "data": {
      "text/plain": [
       "['Hoàng', 'Bảo', '', 'Long']"
      ]
     },
     "execution_count": 3,
     "metadata": {},
     "output_type": "execute_result"
    }
   ],
   "source": [
    "name.split(sep=\" \")"
   ]
  },
  {
   "attachments": {},
   "cell_type": "markdown",
   "metadata": {},
   "source": [
    "### BƯỚC 2: Danh sách (list)\n",
    "\n",
    "* Danh sách có mấy phần tử?\n",
    "* Truy cập vào các phần tử trong list\n",
    "* Lặp qua các phần tử"
   ]
  },
  {
   "cell_type": "code",
   "execution_count": 4,
   "metadata": {},
   "outputs": [
    {
     "data": {
      "text/plain": [
       "3"
      ]
     },
     "execution_count": 4,
     "metadata": {},
     "output_type": "execute_result"
    }
   ],
   "source": [
    "name_words = name.split()\n",
    "len(name_words)"
   ]
  },
  {
   "cell_type": "code",
   "execution_count": 6,
   "metadata": {},
   "outputs": [
    {
     "data": {
      "text/plain": [
       "'Bảo'"
      ]
     },
     "execution_count": 6,
     "metadata": {},
     "output_type": "execute_result"
    }
   ],
   "source": [
    "name_words[1]"
   ]
  },
  {
   "cell_type": "code",
   "execution_count": 7,
   "metadata": {},
   "outputs": [
    {
     "name": "stdout",
     "output_type": "stream",
     "text": [
      "Hoàng\n",
      "Bảo\n",
      "Long\n"
     ]
    }
   ],
   "source": [
    "for word in name_words:\n",
    "    print(word)"
   ]
  },
  {
   "attachments": {},
   "cell_type": "markdown",
   "metadata": {},
   "source": [
    "### BƯỚC 3: Chuỗi kí tự (str)\n",
    "\n",
    "* Truy cập vào các kí tự trong chuỗi kí tự\n",
    "* Ghép các chuỗi kí tự"
   ]
  },
  {
   "cell_type": "code",
   "execution_count": 8,
   "metadata": {},
   "outputs": [
    {
     "name": "stdout",
     "output_type": "stream",
     "text": [
      "H\n",
      "B\n",
      "L\n"
     ]
    }
   ],
   "source": [
    "for word in name_words:\n",
    "    print(word[0])"
   ]
  },
  {
   "cell_type": "code",
   "execution_count": 10,
   "metadata": {},
   "outputs": [
    {
     "name": "stdout",
     "output_type": "stream",
     "text": [
      "HBL\n"
     ]
    }
   ],
   "source": [
    "initial = \"\"\n",
    "\n",
    "for word in name_words:\n",
    "    initial += word[0]\n",
    "\n",
    "print(initial)"
   ]
  },
  {
   "attachments": {},
   "cell_type": "markdown",
   "metadata": {},
   "source": [
    "### BƯỚC 4: List comprehension\n",
    "\n",
    "* Bổ sung phần tử vào danh sách\n",
    "* Kết nối các chuỗi kí tự trong list thành một chuỗi kí tự\n",
    "* Thu gọn thao tác bằng list comprehension"
   ]
  },
  {
   "cell_type": "code",
   "execution_count": 11,
   "metadata": {},
   "outputs": [
    {
     "name": "stdout",
     "output_type": "stream",
     "text": [
      "['H', 'B', 'L']\n"
     ]
    }
   ],
   "source": [
    "initials = []\n",
    "\n",
    "for word in name_words:\n",
    "    initials.append(word[0])\n",
    "\n",
    "print(initials)"
   ]
  },
  {
   "cell_type": "code",
   "execution_count": 15,
   "metadata": {},
   "outputs": [
    {
     "data": {
      "text/plain": [
       "'HBL'"
      ]
     },
     "execution_count": 15,
     "metadata": {},
     "output_type": "execute_result"
    }
   ],
   "source": [
    "\"\".join(initials)"
   ]
  },
  {
   "cell_type": "code",
   "execution_count": 16,
   "metadata": {},
   "outputs": [
    {
     "data": {
      "text/plain": [
       "['H', 'B', 'L']"
      ]
     },
     "execution_count": 16,
     "metadata": {},
     "output_type": "execute_result"
    }
   ],
   "source": [
    "[word[0] for word in name_words]"
   ]
  },
  {
   "cell_type": "code",
   "execution_count": 17,
   "metadata": {},
   "outputs": [
    {
     "data": {
      "text/plain": [
       "'HBL'"
      ]
     },
     "execution_count": 17,
     "metadata": {},
     "output_type": "execute_result"
    }
   ],
   "source": [
    "\"\".join([word[0] for word in name_words])"
   ]
  },
  {
   "cell_type": "code",
   "execution_count": 18,
   "metadata": {},
   "outputs": [
    {
     "data": {
      "text/plain": [
       "'HBL'"
      ]
     },
     "execution_count": 18,
     "metadata": {},
     "output_type": "execute_result"
    }
   ],
   "source": [
    "\"\".join([word[0] for word in name.split()])"
   ]
  }
 ],
 "metadata": {
  "kernelspec": {
   "display_name": "Python 3",
   "language": "python",
   "name": "python3"
  },
  "language_info": {
   "codemirror_mode": {
    "name": "ipython",
    "version": 3
   },
   "file_extension": ".py",
   "mimetype": "text/x-python",
   "name": "python",
   "nbconvert_exporter": "python",
   "pygments_lexer": "ipython3",
   "version": "3.10.7 (tags/v3.10.7:6cc6b13, Sep  5 2022, 14:08:36) [MSC v.1933 64 bit (AMD64)]"
  },
  "orig_nbformat": 4,
  "vscode": {
   "interpreter": {
    "hash": "6a3c7fd02703099d697b86914af8afc6c3883c409bde85e680daef2475a3a8dd"
   }
  }
 },
 "nbformat": 4,
 "nbformat_minor": 2
}
