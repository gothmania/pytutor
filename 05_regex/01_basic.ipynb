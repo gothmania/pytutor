{
 "cells": [
  {
   "cell_type": "markdown",
   "metadata": {},
   "source": [
    "# R01 Tìm kiếm cơ bản\n",
    "\n",
    "## Mục đích\n",
    "\n",
    "Giới thiệu các thành phần cơ bản của một chuỗi tìm kiếm RegEx. Làm quen với thư viện `re` trong Python.\n",
    "\n",
    "\n",
    "## Bài toán\n",
    "\n",
    "Nếu phải tìm tất cả các tên biến bắt đầu với `\"tc_\"` thì các chức năng tìm kiếm chuỗi kí tự cơ bản của Python thỏa mãn được yêu cầu của bạn. Nhưng nếu yêu cầu tìm kiếm phức tạp hơn, chẳng hạn: tất cả những ngày tháng năm mà năm chỉ có hai chữ số và phân cách với nhau bằng dấu `'/'` hoặc `'-'`, thì bạn sẽ cần đến Regular Expression, hay còn gọi tắt là RegEx. Chúng ta hãy xem ví dụ nêu trên nhé."
   ]
  },
  {
   "cell_type": "code",
   "execution_count": 1,
   "metadata": {},
   "outputs": [
    {
     "name": "stdout",
     "output_type": "stream",
     "text": [
      "1/9/2012    : False\n",
      "01/09/12    : True\n",
      "01-09/2012  : False\n",
      "01-09-12    : True\n",
      "1/09-12     : True\n"
     ]
    }
   ],
   "source": [
    "import re\n",
    "\n",
    "pat = r\"[0-9]{1,2}[/-][0-9]{1,2}[/-][0-9]{2}$\"\n",
    "\n",
    "dates = [\n",
    "    \"1/9/2012\",\n",
    "    \"01/09/12\",\n",
    "    \"01-09/2012\",\n",
    "    \"01-09-12\",\n",
    "    \"1/09-12\"\n",
    "]\n",
    "\n",
    "for s in dates:\n",
    "    print(f\"{s:12}: {re.search(pat, s) is not None}\")"
   ]
  },
  {
   "cell_type": "markdown",
   "metadata": {},
   "source": [
    "## Quy định về kí tự\n",
    "\n",
    "Tất cả các chuỗi tìm kiếm của RegEx đều là một cách \"mã hóa\" nội dung tìm kiếm. Bạn có thể xem cách mã hóa đầy đủ trong Python [ở đây](https://docs.python.org/3/library/re.html).\n",
    "\n",
    "Đầu tiên bạn cần làm quen với cách mã hóa kí tự muốn tìm. Bạn có thể gõ thẳng chuỗi kí tự muốn tìm vào trong chuỗi tìm kiếm của RegEx."
   ]
  },
  {
   "cell_type": "code",
   "execution_count": 2,
   "metadata": {},
   "outputs": [
    {
     "name": "stdout",
     "output_type": "stream",
     "text": [
      "tc_daunguc     : True\n",
      "t0_tc_daunguc  : True\n",
      "daunguc_tc     : False\n"
     ]
    }
   ],
   "source": [
    "pat = r\"tc_\"\n",
    "strings = [\"tc_daunguc\", \"t0_tc_daunguc\", \"daunguc_tc\"]\n",
    "\n",
    "for s in strings:\n",
    "    print(f\"{s:15}: {re.search(pat, s) is not None}\")"
   ]
  },
  {
   "cell_type": "markdown",
   "metadata": {},
   "source": [
    "Giả sử bạn có 20 triệu chứng được đánh số từ 1 đến 20 (`\"tc1_\"` đến `\"tc20_\"`) và bạn muốn lọc ra các triệu chứng từ 1 đến 9, chuỗi tìm kiếm của bạn sẽ trông như sau."
   ]
  },
  {
   "cell_type": "code",
   "execution_count": 3,
   "metadata": {},
   "outputs": [
    {
     "name": "stdout",
     "output_type": "stream",
     "text": [
      "tc1_;tc2_;tc3_;tc4_;tc5_;tc6_;tc7_;tc8_;tc9_;tc10_;tc11_;tc12_;tc13_;tc14_;tc15_;tc16_;tc17_;tc18_;tc19_;tc20_\n",
      "['tc1_', 'tc2_', 'tc3_', 'tc4_', 'tc5_', 'tc6_', 'tc7_', 'tc8_', 'tc9_']\n"
     ]
    }
   ],
   "source": [
    "pat = r\"tc[1-9]_\"\n",
    "\n",
    "s_tc = \";\".join([f\"tc{i}_\" for i in range(1, 21)])\n",
    "print(s_tc)\n",
    "\n",
    "print(re.findall(pat, s_tc))"
   ]
  },
  {
   "cell_type": "markdown",
   "metadata": {},
   "source": [
    "Ở đây, chúng ta dùng kí hiệu tập `[]` để thông báo cho RegEx biết rằng chỉ cần khớp (match) với một trong các kí tự trong tập. Các kí tự có thể là:\n",
    "\n",
    "Kí hiệu       | Ý nghĩa\n",
    "--------------|---------------------------------------------------\n",
    "`0` đến `9`   | Kí tự số\n",
    "`a` đến `z`   | Chữ cái in thường\n",
    "`A` đến `Z`   | Chữ cái in hoa\n",
    "`-`           | Ngăn cách giữa hai kí tự để chỉ \"từ đâu đến đâu\"\n",
    "\n",
    "Ngoài ra chúng ta còn có một số kí hiệu như sau:\n",
    "\n",
    "Kí hiệu       | Ý nghĩa\n",
    "--------------|---------------------------------------------------\n",
    "`\\b`          | Các kí tự phân cách từ\n",
    "`\\d`          | Chữ số (tương đương với `[0-9]`)\n",
    "`\\D`          | Không phải chữ số\n",
    "`\\s`          | Dấu cách\n",
    "`\\S`          | Không phải dấu cách\n",
    "`\\w`          | Tất cả các kí tự có thể ở trong từ (tương đương với `[a-zA-Z0-9_]`)\n",
    "`^`           | Đầu chuỗi kí tự, hoặc đầu dòng nếu ở chế độ MULTILINE\n",
    "`$`           | Cuối chuỗi kí tự, hoặc cuối dòng nếu ở chế độ MULTILINE\n",
    "`.`           | Bất kì kí tự nào trừ kí tự chỉ dòng mới\n",
    "\n",
    "### Ví dụ\n",
    "\n",
    "#### Ví dụ 1\n",
    "\n",
    "Chúng ta sẽ thử ví dụ đầu tiên với hàm `re.match()`. Hàm này sẽ khớp chuỗi RegEx từ đầu chuỗi kí tự, có nghĩa là ngay cả những chuỗi có thể khớp ở giữa cũng được báo là không tìm thấy. Trong ví dụ này, chúng ta sẽ tìm những mã số bắt đầu bằng 0 hoặc 2, hoặc là chữ cái in hoa."
   ]
  },
  {
   "cell_type": "code",
   "execution_count": 4,
   "metadata": {},
   "outputs": [
    {
     "name": "stdout",
     "output_type": "stream",
     "text": [
      "003g  : True\n",
      "21K3  : True\n",
      "A421  : True\n",
      "bc93  : False\n",
      "1H11  : False\n",
      "f_07  : False\n"
     ]
    }
   ],
   "source": [
    "pat = r\"[02A-Z]\"\n",
    "strings = [\"003g\", \"21K3\", \"A421\", \"bc93\", \"1H11\", \"f_07\"]\n",
    "\n",
    "for s in strings:\n",
    "    print(f\"{s:6}: {re.match(pat, s) is not None}\")"
   ]
  },
  {
   "cell_type": "markdown",
   "metadata": {},
   "source": [
    "#### Ví dụ 2\n",
    "\n",
    "Trong ví dụ này, chúng ta sẽ dùng hàm `re.search()`. Hàm này sẽ khớp chuỗi RegEx ở bất kì vị trí nào trong chuỗi kí tự. Hãy thử tìm các chuỗi kí tự chứa một kí tự chữ cái, sau đó là một chữ số."
   ]
  },
  {
   "cell_type": "code",
   "execution_count": 5,
   "metadata": {},
   "outputs": [
    {
     "name": "stdout",
     "output_type": "stream",
     "text": [
      "003g  : False\n",
      "21K3  : True\n",
      "A421  : True\n",
      "bc93  : True\n",
      "1H11  : True\n",
      "f_07  : False\n"
     ]
    }
   ],
   "source": [
    "pat = r\"[a-zA-Z][0-9]\"\n",
    "\n",
    "for s in strings:\n",
    "    print(f\"{s:6}: {re.search(pat, s) is not None}\")"
   ]
  },
  {
   "cell_type": "markdown",
   "metadata": {},
   "source": [
    "Hãy để ý chuỗi `\"bc93\"`, nó được match là vì chuỗi `\"c9\"` thỏa mãn điều kiện của chuỗi RegEx. Điều này sẽ không xảy ra với hàm `re.match()`."
   ]
  },
  {
   "cell_type": "code",
   "execution_count": 6,
   "metadata": {},
   "outputs": [
    {
     "name": "stdout",
     "output_type": "stream",
     "text": [
      "bc93  : False\n"
     ]
    }
   ],
   "source": [
    "s = \"bc93\"\n",
    "print(f\"{s:6}: {re.match(pat, s) is not None}\")"
   ]
  },
  {
   "cell_type": "markdown",
   "metadata": {},
   "source": [
    "#### Ví dụ 3\n",
    "\n",
    "Quay trở lại danh sách các triệu chứng. Chúng ta đã dùng hàm `re.findall()` để tìm tất cả chuỗi kí tự con match với chuỗi RegEx. Bây giờ, chúng ta sẽ thay đổi điều kiện tìm kiếm: tất cả những triệu chứng dưới 10 là số lẻ và những triệu chứng từ 10 trở lên là số chẵn. Để làm việc này, chúng ta sẽ cần dùng đến kí hiệu hoặc \"`|`\"."
   ]
  },
  {
   "cell_type": "code",
   "execution_count": 7,
   "metadata": {},
   "outputs": [
    {
     "name": "stdout",
     "output_type": "stream",
     "text": [
      "['tc1_', 'tc3_', 'tc5_', 'tc7_', 'tc9_', 'tc10_', 'tc12_', 'tc14_', 'tc16_', 'tc18_', 'tc20_']\n"
     ]
    }
   ],
   "source": [
    "pat = r\"tc[13579]_|tc[12][02468]_\"\n",
    "print(re.findall(pat, s_tc))"
   ]
  },
  {
   "cell_type": "markdown",
   "metadata": {},
   "source": [
    "#### Ví dụ 4\n",
    "\n",
    "Trong các ví dụ trên, chúng ta đã match các kí tự trong tập. Ngoài ra chúng ta có thể match nếu không có các kí tự trong tập bằng `[^]`. Ví dụ sau đây sẽ không match các tên triệu chứng có chữ số từ 0 đến 5 sau `\"tc\"`."
   ]
  },
  {
   "cell_type": "code",
   "execution_count": 8,
   "metadata": {},
   "outputs": [
    {
     "name": "stdout",
     "output_type": "stream",
     "text": [
      "['tc6', 'tc7', 'tc8', 'tc9']\n"
     ]
    }
   ],
   "source": [
    "pat = r\"tc[^0-5]\"\n",
    "print(re.findall(pat, s_tc))"
   ]
  },
  {
   "cell_type": "markdown",
   "metadata": {},
   "source": [
    "## Lặp\n",
    "\n",
    "Với những điều kiện như ở trên, chúng ta sẽ chỉ khớp được 1 kí tự. Trong trường hợp muốn khớp nhiều hơn một kí tự, bạn hãy dùng các kí hiệu lặp.\n",
    "\n",
    "Kí hiệu       | Ý nghĩa\n",
    "--------------|---------------------------------------------------\n",
    "`*`           | Có 0, 1, hoặc nhiều lần xuất hiện\n",
    "`?`           | Có 0 hoặc 1 lần xuất hiện\n",
    "`+`           | Có từ 1 lần xuất hiện trở lên\n",
    "`{m}`         | Có chính xác `m` lần xuất hiện\n",
    "`{m,}`        | Có từ `m` lần xuất hiện trở lên\n",
    "`{m,n}`       | Có từ `m` đến `n` lần xuất hiện\n",
    "`{m,n}?`      | Có từ `m` đến `n` lần xuất hiện, nhưng match ít nhất có thể\n",
    "\n",
    "Hãy cùng trải nghiệm một vài ví dụ. Bạn thử tự làm trước nhé.\n",
    "\n",
    "1. Match **toàn bộ** chuỗi kí tự là số điện thoại (có 10 chữ số) đầu 090, 091, 097, và 098.\n",
    "2. Match chuỗi kí tự có chứa mã số theo cú pháp `X-YY-ZZZ` trong đó: `X` là `'A'` hoặc `'B'`; `YY` là mã số các điểm nghiên cứu từ `12` đến `19`; và `ZZZ` là các mã số tăng dần từ `000` đến `299`.\n",
    "3. Các từ không bắt đầu với chữ in hoa."
   ]
  },
  {
   "cell_type": "code",
   "execution_count": 9,
   "metadata": {},
   "outputs": [
    {
     "name": "stdout",
     "output_type": "stream",
     "text": [
      "0981234567     : True\n",
      "0951234567     : False\n",
      "1981234567     : False\n",
      "098123456a     : False\n",
      "09812345678    : False\n",
      " 0981234567    : False\n"
     ]
    }
   ],
   "source": [
    "# Ví dụ 1\n",
    "\n",
    "pat = r\"09[0178][0-9]{7}$\"\n",
    "strings = [\"0981234567\", \"0951234567\", \"1981234567\", \"098123456a\", \"09812345678\", \" 0981234567\"]\n",
    "\n",
    "for s in strings:\n",
    "    print(f\"{s:15}: {re.match(pat, s) is not None}\")"
   ]
  },
  {
   "cell_type": "code",
   "execution_count": 10,
   "metadata": {},
   "outputs": [
    {
     "name": "stdout",
     "output_type": "stream",
     "text": [
      "A-15-001       : True\n",
      "E-15-001       : False\n",
      "AE-15-001      : False\n",
      "A-05-001       : False\n",
      "A-15-301       : False\n",
      "MSNC: A-15-201 : True\n",
      "A-15-2001      : False\n",
      "A-15-200a      : False\n"
     ]
    }
   ],
   "source": [
    "# Ví dụ 2\n",
    "\n",
    "pat = r\"[AB]-1[2-9]-[012][0-9]{2}\\b\"\n",
    "strings = [\"A-15-001\", \"E-15-001\", \"AE-15-001\", \"A-05-001\", \"A-15-301\", \"MSNC: A-15-201\", \"A-15-2001\", \"A-15-200a\"]\n",
    "\n",
    "for s in strings:\n",
    "    print(f\"{s:15}: {re.search(pat, s) is not None}\")"
   ]
  },
  {
   "cell_type": "code",
   "execution_count": 11,
   "metadata": {},
   "outputs": [
    {
     "name": "stdout",
     "output_type": "stream",
     "text": [
      "['mừng', 'bạn', 'tới']\n"
     ]
    }
   ],
   "source": [
    "# Ví dụ 3\n",
    "\n",
    "pat = r\"\\b[a-z0-9]\\w*\\b\"\n",
    "s = \"Chào mừng bạn tới Python.\"\n",
    "print(re.findall(pat, s))"
   ]
  },
  {
   "cell_type": "markdown",
   "metadata": {},
   "source": [
    "---\n",
    "\n",
    "[Bài trước](../04_data/18_multiindex.ipynb) - [Danh sách bài](../README.md) - [Bài sau]()"
   ]
  }
 ],
 "metadata": {
  "kernelspec": {
   "display_name": "Python 3.10.7 64-bit",
   "language": "python",
   "name": "python3"
  },
  "language_info": {
   "codemirror_mode": {
    "name": "ipython",
    "version": 3
   },
   "file_extension": ".py",
   "mimetype": "text/x-python",
   "name": "python",
   "nbconvert_exporter": "python",
   "pygments_lexer": "ipython3",
   "version": "3.10.7"
  },
  "orig_nbformat": 4,
  "vscode": {
   "interpreter": {
    "hash": "6a3c7fd02703099d697b86914af8afc6c3883c409bde85e680daef2475a3a8dd"
   }
  }
 },
 "nbformat": 4,
 "nbformat_minor": 2
}
