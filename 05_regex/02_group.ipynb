{
 "cells": [
  {
   "cell_type": "markdown",
   "metadata": {},
   "source": [
    "# R02 Nhóm, lookahead và lookbehind\n",
    "\n",
    "## Mục đích\n",
    "\n",
    "Giới thiệu cách sử dụng nhóm (grouping) và các chức năng match \"xung quanh\" chuỗi kí tự cần tìm kiếm.\n",
    "\n",
    "\n",
    "## Nhóm\n",
    "\n",
    "Trong bài trước chúng ta đã học cách match một nội dung nào đó trong các chuỗi kí tự nhưng chưa nói đến cách để trích xuất nội dung match để sử dụng. Ví dụ, chúng ta muốn tách riêng phần họ đệm và tên từ họ tên đầy đủ. Để làm được điều đó, bạn cần sử dụng nhóm."
   ]
  },
  {
   "cell_type": "code",
   "execution_count": 1,
   "metadata": {},
   "outputs": [
    {
     "name": "stdout",
     "output_type": "stream",
     "text": [
      "('Nguyễn Thị', 'Vân')\n"
     ]
    }
   ],
   "source": [
    "import re\n",
    "\n",
    "s = \"Nguyễn Thị Vân\"\n",
    "pat = r\"(.*)\\s(\\S*)\"\n",
    "\n",
    "m = re.search(pat, s)\n",
    "if m is not None:\n",
    "    print(m.groups())"
   ]
  },
  {
   "cell_type": "markdown",
   "metadata": {},
   "source": [
    "Chuỗi RegEx trên sử dụng cặp dấu ngoặc đơn `()` để bao xung quanh **nhóm** cần trích ra. Như vậy, trong chuỗi ở ví dụ trên, chúng ta có hai nhóm (họ đệm và tên riêng). Trong Python, hàm `re.match()` và `re.search()` trả về một đối tượng match (match object), bạn có thể sử dụng hàm `group()` hoặc `groups()` của đối tượng này để truy cập vào các nhóm.\n",
    "\n",
    "Nếu đang theo tác với series trong Pandas, bạn sẽ có một công cụ mạnh hơn cho việc này, đó là hàm `.str.extract()` và `.str.extractall()`."
   ]
  },
  {
   "cell_type": "code",
   "execution_count": 2,
   "metadata": {},
   "outputs": [
    {
     "data": {
      "text/html": [
       "<div>\n",
       "<style scoped>\n",
       "    .dataframe tbody tr th:only-of-type {\n",
       "        vertical-align: middle;\n",
       "    }\n",
       "\n",
       "    .dataframe tbody tr th {\n",
       "        vertical-align: top;\n",
       "    }\n",
       "\n",
       "    .dataframe thead th {\n",
       "        text-align: right;\n",
       "    }\n",
       "</style>\n",
       "<table border=\"1\" class=\"dataframe\">\n",
       "  <thead>\n",
       "    <tr style=\"text-align: right;\">\n",
       "      <th></th>\n",
       "      <th></th>\n",
       "      <th>0</th>\n",
       "      <th>1</th>\n",
       "    </tr>\n",
       "    <tr>\n",
       "      <th></th>\n",
       "      <th>match</th>\n",
       "      <th></th>\n",
       "      <th></th>\n",
       "    </tr>\n",
       "  </thead>\n",
       "  <tbody>\n",
       "    <tr>\n",
       "      <th>0</th>\n",
       "      <th>0</th>\n",
       "      <td>Nguyễn Thị</td>\n",
       "      <td>Vân</td>\n",
       "    </tr>\n",
       "    <tr>\n",
       "      <th>1</th>\n",
       "      <th>0</th>\n",
       "      <td>Hoàng Văn</td>\n",
       "      <td>Tuấn</td>\n",
       "    </tr>\n",
       "    <tr>\n",
       "      <th>2</th>\n",
       "      <th>0</th>\n",
       "      <td>Ngô Văn</td>\n",
       "      <td>Minh</td>\n",
       "    </tr>\n",
       "    <tr>\n",
       "      <th>3</th>\n",
       "      <th>0</th>\n",
       "      <td>Đào Thị Thu</td>\n",
       "      <td>Hà</td>\n",
       "    </tr>\n",
       "  </tbody>\n",
       "</table>\n",
       "</div>"
      ],
      "text/plain": [
       "                   0     1\n",
       "  match                   \n",
       "0 0       Nguyễn Thị   Vân\n",
       "1 0        Hoàng Văn  Tuấn\n",
       "2 0          Ngô Văn  Minh\n",
       "3 0      Đào Thị Thu    Hà"
      ]
     },
     "execution_count": 2,
     "metadata": {},
     "output_type": "execute_result"
    }
   ],
   "source": [
    "import pandas as pd\n",
    "\n",
    "d = pd.DataFrame({\n",
    "    \"id\": range(1, 5),\n",
    "    \"name\": [\"Nguyễn Thị Vân\", \"Hoàng Văn Tuấn\", \"Ngô Văn Minh\", \"Đào Thị Thu Hà\"] \n",
    "})\n",
    "\n",
    "d[\"name\"].str.extractall(pat)"
   ]
  },
  {
   "cell_type": "markdown",
   "metadata": {},
   "source": [
    "Pandas tự động tạo ra series hoặc data frame tùy theo số lượng nhóm. Trong trường hợp bạn có nhiều lần match trong một chuỗi kí tự, Pandas sẽ tạo ra nhiều hàng khác nhau, mỗi hàng được đánh số khác nhau trong cấp `\"match\"` của index."
   ]
  },
  {
   "cell_type": "code",
   "execution_count": 3,
   "metadata": {},
   "outputs": [
    {
     "data": {
      "text/html": [
       "<div>\n",
       "<style scoped>\n",
       "    .dataframe tbody tr th:only-of-type {\n",
       "        vertical-align: middle;\n",
       "    }\n",
       "\n",
       "    .dataframe tbody tr th {\n",
       "        vertical-align: top;\n",
       "    }\n",
       "\n",
       "    .dataframe thead th {\n",
       "        text-align: right;\n",
       "    }\n",
       "</style>\n",
       "<table border=\"1\" class=\"dataframe\">\n",
       "  <thead>\n",
       "    <tr style=\"text-align: right;\">\n",
       "      <th></th>\n",
       "      <th></th>\n",
       "      <th>0</th>\n",
       "    </tr>\n",
       "    <tr>\n",
       "      <th></th>\n",
       "      <th>match</th>\n",
       "      <th></th>\n",
       "    </tr>\n",
       "  </thead>\n",
       "  <tbody>\n",
       "    <tr>\n",
       "      <th>0</th>\n",
       "      <th>0</th>\n",
       "      <td>09388</td>\n",
       "    </tr>\n",
       "    <tr>\n",
       "      <th>1</th>\n",
       "      <th>0</th>\n",
       "      <td>97471</td>\n",
       "    </tr>\n",
       "    <tr>\n",
       "      <th rowspan=\"2\" valign=\"top\">2</th>\n",
       "      <th>0</th>\n",
       "      <td>33113</td>\n",
       "    </tr>\n",
       "    <tr>\n",
       "      <th>1</th>\n",
       "      <td>42555</td>\n",
       "    </tr>\n",
       "    <tr>\n",
       "      <th rowspan=\"3\" valign=\"top\">3</th>\n",
       "      <th>0</th>\n",
       "      <td>42882</td>\n",
       "    </tr>\n",
       "    <tr>\n",
       "      <th>1</th>\n",
       "      <td>64378</td>\n",
       "    </tr>\n",
       "    <tr>\n",
       "      <th>2</th>\n",
       "      <td>65912</td>\n",
       "    </tr>\n",
       "  </tbody>\n",
       "</table>\n",
       "</div>"
      ],
      "text/plain": [
       "             0\n",
       "  match       \n",
       "0 0      09388\n",
       "1 0      97471\n",
       "2 0      33113\n",
       "  1      42555\n",
       "3 0      42882\n",
       "  1      64378\n",
       "  2      65912"
      ]
     },
     "execution_count": 3,
     "metadata": {},
     "output_type": "execute_result"
    }
   ],
   "source": [
    "d[\"pers_ids\"] = [\"A09388\", \"C97471\", \"G33113 F42555\", \"E42882 H64378 D65912\"]\n",
    "\n",
    "pat = r\"(\\d{5})\"    # Chỉ lấy phần số\n",
    "\n",
    "d[\"pers_ids\"].str.extractall(pat)"
   ]
  },
  {
   "cell_type": "markdown",
   "metadata": {},
   "source": [
    "### Đặt tên nhóm\n",
    "\n",
    "Trong các ví dụ với Pandas, bạn có thể thấy rằng các tên cột được trả về là 0, 1, v.v.. Chúng ta có thể đặt tên gọi thay cho các con số này để sau này đỡ phải đổi tên. Cú pháp để đặt tên nhóm là `(?P<tên_nhóm>CHUỖI_REG_EX)`."
   ]
  },
  {
   "cell_type": "code",
   "execution_count": 4,
   "metadata": {},
   "outputs": [
    {
     "data": {
      "text/html": [
       "<div>\n",
       "<style scoped>\n",
       "    .dataframe tbody tr th:only-of-type {\n",
       "        vertical-align: middle;\n",
       "    }\n",
       "\n",
       "    .dataframe tbody tr th {\n",
       "        vertical-align: top;\n",
       "    }\n",
       "\n",
       "    .dataframe thead th {\n",
       "        text-align: right;\n",
       "    }\n",
       "</style>\n",
       "<table border=\"1\" class=\"dataframe\">\n",
       "  <thead>\n",
       "    <tr style=\"text-align: right;\">\n",
       "      <th></th>\n",
       "      <th></th>\n",
       "      <th>hodem</th>\n",
       "      <th>ten</th>\n",
       "    </tr>\n",
       "    <tr>\n",
       "      <th></th>\n",
       "      <th>match</th>\n",
       "      <th></th>\n",
       "      <th></th>\n",
       "    </tr>\n",
       "  </thead>\n",
       "  <tbody>\n",
       "    <tr>\n",
       "      <th>0</th>\n",
       "      <th>0</th>\n",
       "      <td>Nguyễn Thị</td>\n",
       "      <td>Vân</td>\n",
       "    </tr>\n",
       "    <tr>\n",
       "      <th>1</th>\n",
       "      <th>0</th>\n",
       "      <td>Hoàng Văn</td>\n",
       "      <td>Tuấn</td>\n",
       "    </tr>\n",
       "    <tr>\n",
       "      <th>2</th>\n",
       "      <th>0</th>\n",
       "      <td>Ngô Văn</td>\n",
       "      <td>Minh</td>\n",
       "    </tr>\n",
       "    <tr>\n",
       "      <th>3</th>\n",
       "      <th>0</th>\n",
       "      <td>Đào Thị Thu</td>\n",
       "      <td>Hà</td>\n",
       "    </tr>\n",
       "  </tbody>\n",
       "</table>\n",
       "</div>"
      ],
      "text/plain": [
       "               hodem   ten\n",
       "  match                   \n",
       "0 0       Nguyễn Thị   Vân\n",
       "1 0        Hoàng Văn  Tuấn\n",
       "2 0          Ngô Văn  Minh\n",
       "3 0      Đào Thị Thu    Hà"
      ]
     },
     "execution_count": 4,
     "metadata": {},
     "output_type": "execute_result"
    }
   ],
   "source": [
    "pat = r\"(?P<hodem>.*)\\s(?P<ten>\\S*)\"\n",
    "d[\"name\"].str.extractall(pat)"
   ]
  },
  {
   "cell_type": "markdown",
   "metadata": {},
   "source": [
    "Thư viện `re` cũng sử dụng cách thức tương tự. Bạn có thể trích xuất nội dung match của một nhóm bằng cách cung cấp tên của nhóm đó cho hàm `group()`."
   ]
  },
  {
   "cell_type": "code",
   "execution_count": 5,
   "metadata": {},
   "outputs": [
    {
     "data": {
      "text/plain": [
       "'Nguyễn Thị'"
      ]
     },
     "execution_count": 5,
     "metadata": {},
     "output_type": "execute_result"
    }
   ],
   "source": [
    "m = re.search(pat, s)\n",
    "m.group(\"hodem\")"
   ]
  },
  {
   "cell_type": "markdown",
   "metadata": {},
   "source": [
    "### Tham chiếu nhóm đã tóm bắt\n",
    "\n",
    "Sẽ có lúc bạn cần phải tham chiếu lại một nhóm đã tìm thấy ở phía trước. Chẳng hạn, bạn muốn match tất cả những mã số có cú pháp sau: `ab-abcd`, trong đó `a` có thể là 1 hoặc 2, `b` là một chữ số bất kì nhưng `ab` phải lặp lại, và phần `cd` bất kì. Cú pháp cho tham chiếu nhóm là `\\số_thứ_tự`, số thứ tự nhóm tham chiếu có thể từ 1 đến 99. Các số 0 và có 3 chữ số trở lên sẽ được coi là điều kiện tìm kiếm."
   ]
  },
  {
   "cell_type": "code",
   "execution_count": 6,
   "metadata": {},
   "outputs": [
    {
     "name": "stdout",
     "output_type": "stream",
     "text": [
      "23-3211: False\n",
      "23-2309: True\n"
     ]
    }
   ],
   "source": [
    "pat = r\"([12]\\d)-\\1\\d{2}\"\n",
    "ids = [\"23-3211\", \"23-2309\"]\n",
    "\n",
    "for s in ids:\n",
    "    m = re.search(pat, s)\n",
    "    print(f\"{s}:\", m is not None)"
   ]
  },
  {
   "cell_type": "markdown",
   "metadata": {},
   "source": [
    "Bạn cũng có thể tham chiếu tới nhóm có tên bằng cú pháp `(?P=tên)`."
   ]
  },
  {
   "cell_type": "code",
   "execution_count": 7,
   "metadata": {},
   "outputs": [
    {
     "name": "stdout",
     "output_type": "stream",
     "text": [
      "23-3211: False\n",
      "23-2309: True\n"
     ]
    }
   ],
   "source": [
    "pat = r\"(?P<ab>[12]\\d)-(?P=ab)\\d{2}\"\n",
    "ids = [\"23-3211\", \"23-2309\"]\n",
    "\n",
    "for s in ids:\n",
    "    m = re.search(pat, s)\n",
    "    print(f\"{s}:\", m is not None)"
   ]
  },
  {
   "cell_type": "markdown",
   "metadata": {},
   "source": [
    "## Tìm xung quanh\n",
    "\n",
    "Bạn có thể đặt điều kiện match **chỉ khi** phía sau (lookhead) hoặc phía trước (lookbehind) của một chuỗi kí tự điều kiện thỏa mãn (positive) hoặc không thỏa mãn (negative) một điều kiện nào đó. Ví dụ, tìm tất cả những mã số bắt đầu bằng 4 sau dấu gạch ngang.\n",
    "\n",
    "Kí hiệu       | Ý nghĩa\n",
    "--------------|---------------------------------------------------\n",
    "`(?=)`        | Positive lookahead\n",
    "`(?!)`        | Negative lookahead\n",
    "`(?<=)`       | Positive lookbehind\n",
    "`(?<!)`       | Negative lookbehind"
   ]
  },
  {
   "cell_type": "code",
   "execution_count": 8,
   "metadata": {},
   "outputs": [
    {
     "name": "stdout",
     "output_type": "stream",
     "text": [
      "23-4211: True\n",
      "42-2309: True\n"
     ]
    }
   ],
   "source": [
    "ids = [\"23-4211\", \"42-2309\"]\n",
    "\n",
    "pat = \"4\\d*\"    # Nếu không có lookaround\n",
    "\n",
    "for s in ids:\n",
    "    m = re.search(pat, s)\n",
    "    print(f\"{s}:\", m is not None)"
   ]
  },
  {
   "cell_type": "code",
   "execution_count": 9,
   "metadata": {},
   "outputs": [
    {
     "name": "stdout",
     "output_type": "stream",
     "text": [
      "23-4211: True\n",
      "42-2309: False\n"
     ]
    }
   ],
   "source": [
    "pat = \"(?<=-)4\\d*\"    # Nếu có lookaround\n",
    "\n",
    "for s in ids:\n",
    "    m = re.search(pat, s)\n",
    "    print(f\"{s}:\", m is not None)"
   ]
  },
  {
   "cell_type": "markdown",
   "metadata": {},
   "source": [
    "## Ví dụ\n",
    "\n",
    "### Ví dụ 1\n",
    "\n",
    "Trích xuất nội dung trong cặp dấu ngoặc kép."
   ]
  },
  {
   "cell_type": "code",
   "execution_count": 10,
   "metadata": {},
   "outputs": [
    {
     "name": "stdout",
     "output_type": "stream",
     "text": [
      "You can do everything with Python\n"
     ]
    }
   ],
   "source": [
    "s = \"Long says: \\\"You can do everything with Python\\\", and smiles.\"\n",
    "pat = r\"(?<=\\\")([^\\\"]*)(?=\\\")\"\n",
    "\n",
    "m = re.search(pat, s)\n",
    "print(m.group(1))"
   ]
  },
  {
   "cell_type": "markdown",
   "metadata": {},
   "source": [
    "### Ví dụ 2\n",
    "\n",
    "Bỏ qua các dòng có dấu thăng `#` ở đầu (dòng chú thích) và trích xuất cặp key-value phân cách với nhau bởi dấu hai chấm `:`. Ví dụ:\n",
    "\n",
    "```\n",
    "color_border: 4b9213\n",
    "# alpha: transparency\n",
    "alpha: 0.4\n",
    "```"
   ]
  },
  {
   "cell_type": "code",
   "execution_count": 11,
   "metadata": {},
   "outputs": [
    {
     "data": {
      "text/html": [
       "<div>\n",
       "<style scoped>\n",
       "    .dataframe tbody tr th:only-of-type {\n",
       "        vertical-align: middle;\n",
       "    }\n",
       "\n",
       "    .dataframe tbody tr th {\n",
       "        vertical-align: top;\n",
       "    }\n",
       "\n",
       "    .dataframe thead th {\n",
       "        text-align: right;\n",
       "    }\n",
       "</style>\n",
       "<table border=\"1\" class=\"dataframe\">\n",
       "  <thead>\n",
       "    <tr style=\"text-align: right;\">\n",
       "      <th></th>\n",
       "      <th></th>\n",
       "      <th>key</th>\n",
       "      <th>value</th>\n",
       "    </tr>\n",
       "    <tr>\n",
       "      <th></th>\n",
       "      <th>match</th>\n",
       "      <th></th>\n",
       "      <th></th>\n",
       "    </tr>\n",
       "  </thead>\n",
       "  <tbody>\n",
       "    <tr>\n",
       "      <th>0</th>\n",
       "      <th>0</th>\n",
       "      <td>color_border</td>\n",
       "      <td>#4b9213</td>\n",
       "    </tr>\n",
       "    <tr>\n",
       "      <th>2</th>\n",
       "      <th>0</th>\n",
       "      <td>alpha</td>\n",
       "      <td>0.4</td>\n",
       "    </tr>\n",
       "  </tbody>\n",
       "</table>\n",
       "</div>"
      ],
      "text/plain": [
       "                  key    value\n",
       "  match                       \n",
       "0 0      color_border  #4b9213\n",
       "2 0             alpha      0.4"
      ]
     },
     "execution_count": 11,
     "metadata": {},
     "output_type": "execute_result"
    }
   ],
   "source": [
    "lines = pd.Series([\n",
    "    \"color_border: #4b9213\",\n",
    "    \"# alpha: transparency\",\n",
    "    \"alpha: 0.4\"\n",
    "])\n",
    "\n",
    "pat = r\"^(?<!#)(?P<key>\\w+):\\s*(?P<value>.+)\"\n",
    "lines.str.extractall(pat)"
   ]
  },
  {
   "cell_type": "markdown",
   "metadata": {},
   "source": [
    "### Ví dụ 3\n",
    "\n",
    "Tìm các số nguyên không âm."
   ]
  },
  {
   "cell_type": "code",
   "execution_count": 12,
   "metadata": {},
   "outputs": [
    {
     "data": {
      "text/plain": [
       "['123', '90', '444', '76']"
      ]
     },
     "execution_count": 12,
     "metadata": {},
     "output_type": "execute_result"
    }
   ],
   "source": [
    "s = \"123 -100 53.2 90 -32. 444 .553 27.27.27 76\"\n",
    "pat = r\"(?:\\s|^)(\\d+)(?:\\s|$)\"\n",
    "re.findall(pat, s)"
   ]
  },
  {
   "cell_type": "markdown",
   "metadata": {},
   "source": [
    "Giải thích: `(\\d+)` tìm kiếm những chuỗi kí tự số (`\\d`) liên tiếp có ít nhất 1 kí tự (`+`), nhưng các chuỗi kí tự này phải đi trước và đi sau bằng dấu cách (`\\s`) hoặc kí tự bắt đầu (`^`) và kết thúc (`$`) chuỗi kí tự / dòng. Như vậy chúng ta sẽ loại bỏ các trường hợp phía trước dãy số là dấu âm hoặc dấu thập phân, và các trường hợp số thập phân (có dấu thập phân ở giữa hoặc cuối số). Ở đây mình sử dụng một cú pháp chưa giới thiệu ở đầu bài là **non-capturing group** (`(?:)`). Những kí tự trong non-capturing group sẽ không được đưa vào kết quả trích xuất."
   ]
  },
  {
   "cell_type": "markdown",
   "metadata": {},
   "source": [
    "---\n",
    "\n",
    "[Bài trước](./01_basic.ipynb) - [Danh sách bài](../README.md) - [Bài sau](./03_examples.ipynb)"
   ]
  }
 ],
 "metadata": {
  "kernelspec": {
   "display_name": "Python 3.10.7 64-bit",
   "language": "python",
   "name": "python3"
  },
  "language_info": {
   "codemirror_mode": {
    "name": "ipython",
    "version": 3
   },
   "file_extension": ".py",
   "mimetype": "text/x-python",
   "name": "python",
   "nbconvert_exporter": "python",
   "pygments_lexer": "ipython3",
   "version": "3.10.7"
  },
  "orig_nbformat": 4,
  "vscode": {
   "interpreter": {
    "hash": "6a3c7fd02703099d697b86914af8afc6c3883c409bde85e680daef2475a3a8dd"
   }
  }
 },
 "nbformat": 4,
 "nbformat_minor": 2
}
