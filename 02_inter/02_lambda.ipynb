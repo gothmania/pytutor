{
 "cells": [
  {
   "cell_type": "markdown",
   "metadata": {},
   "source": [
    "# I02 Lambda, `map()`, `filter()`, và `reduce()`\n",
    "\n",
    "## Mục đích\n",
    "\n",
    "Trong bài này, bạn sẽ làm quen với khái niệm hàm lambda, và ứng dụng của nó trong các hàm `map()`, `filter()`, và `reduce()`.\n",
    "\n",
    "\n",
    "## Hàm lambda\n",
    "\n",
    "Giả sử bạn viết một hàm sau để tính tổng của hai số và trả về kết quả dưới dạng một biểu thức tính toán."
   ]
  },
  {
   "cell_type": "code",
   "execution_count": 1,
   "metadata": {},
   "outputs": [
    {
     "data": {
      "text/plain": [
       "'10 + 12 = 22'"
      ]
     },
     "execution_count": 1,
     "metadata": {},
     "output_type": "execute_result"
    }
   ],
   "source": [
    "def add(a, b):\n",
    "    return f\"{a} + {b} = {a + b}\"\n",
    "\n",
    "add(10, 12)"
   ]
  },
  {
   "cell_type": "markdown",
   "metadata": {},
   "source": [
    "Chúng ta có thể dùng hàm này để cộng nhiều cặp số với nhau và trả về một danh sách kết quả bằng list comprehension."
   ]
  },
  {
   "cell_type": "code",
   "execution_count": 2,
   "metadata": {},
   "outputs": [
    {
     "data": {
      "text/plain": [
       "['10 + 4 = 14', '5 + 3 = 8', '9 + 8 = 17', '7 + 11 = 18']"
      ]
     },
     "execution_count": 2,
     "metadata": {},
     "output_type": "execute_result"
    }
   ],
   "source": [
    "nums1 = [10, 5, 9, 7]\n",
    "nums2 = [4, 3, 8, 11]\n",
    "\n",
    "[add(a, b) for a, b in zip(nums1, nums2)]"
   ]
  },
  {
   "cell_type": "markdown",
   "metadata": {},
   "source": [
    "Nếu không muốn khai báo hàm, bạn có thể dùng hàm lambda. Hàm lambda hoạt động tương tự như từ khóa `def`, bạn có thể khai báo bao nhiêu đối số tùy thích, nhưng tất cả các đối số này đều là đối số bắt buộc."
   ]
  },
  {
   "cell_type": "code",
   "execution_count": 3,
   "metadata": {},
   "outputs": [
    {
     "data": {
      "text/plain": [
       "['10 + 4 = 14', '5 + 3 = 8', '9 + 8 = 17', '7 + 11 = 18']"
      ]
     },
     "execution_count": 3,
     "metadata": {},
     "output_type": "execute_result"
    }
   ],
   "source": [
    "f = lambda a, b: f\"{a} + {b} = {a + b}\"\n",
    "[f(a, b) for a, b in zip(nums1, nums2)]"
   ]
  },
  {
   "cell_type": "markdown",
   "metadata": {},
   "source": [
    "## `map()`\n",
    "\n",
    "Cách viết ở trên vẫn chưa phải là lí do hàm lambda trở nên phổ biến và được dùng rộng rãi trong Python. Hàm `map()` cho phép chúng ta lặp qua một danh sách, lấy mỗi phần tử của danh sách đó làm đối số cho một hàm. Kết quả trả về là một iterator (chúng ta sẽ tìm hiểu định nghĩa của nó trong bài sau), và chúng ta có thể chuyển đổi đối tượng này sang một dạng dữ liệu khác, ví dụ `list`."
   ]
  },
  {
   "cell_type": "code",
   "execution_count": 4,
   "metadata": {},
   "outputs": [
    {
     "data": {
      "text/plain": [
       "['10 + 4 = 14', '5 + 3 = 8', '9 + 8 = 17', '7 + 11 = 18']"
      ]
     },
     "execution_count": 4,
     "metadata": {},
     "output_type": "execute_result"
    }
   ],
   "source": [
    "list(map(lambda a, b: add(a, b), nums1, nums2))"
   ]
  },
  {
   "attachments": {},
   "cell_type": "markdown",
   "metadata": {},
   "source": [
    "Trong trường hợp bạn không có hai danh sách như ở trên mà chỉ có một danh sách, trong đó mỗi danh sách là một list hoặc tuple chứa các phần tử `a` và `b`, bạn có thể dùng chức năng giải nén."
   ]
  },
  {
   "cell_type": "code",
   "execution_count": 5,
   "metadata": {},
   "outputs": [
    {
     "data": {
      "text/plain": [
       "['10 + 4 = 14', '5 + 3 = 8', '9 + 8 = 17', '7 + 11 = 18']"
      ]
     },
     "execution_count": 5,
     "metadata": {},
     "output_type": "execute_result"
    }
   ],
   "source": [
    "list(map(lambda x: add(*x), zip(nums1, nums2)))"
   ]
  },
  {
   "attachments": {},
   "cell_type": "markdown",
   "metadata": {},
   "source": [
    "Chức năng của hàm `map()` và lambda function tương tự với hàm `sapply()` trong R. Tuy nhiên, khi sử dụng đến các thư viện như Pandas, bạn sẽ thấy lambda function được tích hợp rất trôi chảy vào trong thư viện Pandas, do đó, việc thao tác trên các bộ dữ liệu thuận lợi hơn rất nhiều so với việc sử dụng thư viện `dplyr` của R. Một ví dụ \"nhá hàng\" để bạn thấy năng lực của hàm lambda và một hàm tương tự `map()` tên là `apply()` trong Pandas."
   ]
  },
  {
   "cell_type": "code",
   "execution_count": 6,
   "metadata": {},
   "outputs": [
    {
     "data": {
      "text/html": [
       "<div>\n",
       "<style scoped>\n",
       "    .dataframe tbody tr th:only-of-type {\n",
       "        vertical-align: middle;\n",
       "    }\n",
       "\n",
       "    .dataframe tbody tr th {\n",
       "        vertical-align: top;\n",
       "    }\n",
       "\n",
       "    .dataframe thead th {\n",
       "        text-align: right;\n",
       "    }\n",
       "</style>\n",
       "<table border=\"1\" class=\"dataframe\">\n",
       "  <thead>\n",
       "    <tr style=\"text-align: right;\">\n",
       "      <th></th>\n",
       "      <th>md</th>\n",
       "      <th>cil</th>\n",
       "      <th>ciu</th>\n",
       "      <th>summary</th>\n",
       "    </tr>\n",
       "  </thead>\n",
       "  <tbody>\n",
       "    <tr>\n",
       "      <th>0</th>\n",
       "      <td>2</td>\n",
       "      <td>1</td>\n",
       "      <td>3</td>\n",
       "      <td>2.00 (1.00, 3.00)</td>\n",
       "    </tr>\n",
       "    <tr>\n",
       "      <th>1</th>\n",
       "      <td>3</td>\n",
       "      <td>2</td>\n",
       "      <td>4</td>\n",
       "      <td>3.00 (2.00, 4.00)</td>\n",
       "    </tr>\n",
       "    <tr>\n",
       "      <th>2</th>\n",
       "      <td>4</td>\n",
       "      <td>3</td>\n",
       "      <td>5</td>\n",
       "      <td>4.00 (3.00, 5.00)</td>\n",
       "    </tr>\n",
       "    <tr>\n",
       "      <th>3</th>\n",
       "      <td>5</td>\n",
       "      <td>4</td>\n",
       "      <td>6</td>\n",
       "      <td>5.00 (4.00, 6.00)</td>\n",
       "    </tr>\n",
       "  </tbody>\n",
       "</table>\n",
       "</div>"
      ],
      "text/plain": [
       "   md  cil  ciu            summary\n",
       "0   2    1    3  2.00 (1.00, 3.00)\n",
       "1   3    2    4  3.00 (2.00, 4.00)\n",
       "2   4    3    5  4.00 (3.00, 5.00)\n",
       "3   5    4    6  5.00 (4.00, 6.00)"
      ]
     },
     "execution_count": 6,
     "metadata": {},
     "output_type": "execute_result"
    }
   ],
   "source": [
    "import pandas as pd\n",
    "d = pd.DataFrame({\n",
    "    \"md\": [2, 3, 4, 5],\n",
    "    \"cil\": [1, 2, 3, 4],\n",
    "    \"ciu\": [3, 4, 5, 6]\n",
    "})\n",
    "\n",
    "d[\"summary\"] = d.apply(lambda x: \"{:.2f} ({:.2f}, {:.2f})\".format(*x), axis=1)\n",
    "d"
   ]
  },
  {
   "cell_type": "markdown",
   "metadata": {},
   "source": [
    "## `filter()`\n",
    "\n",
    "Tương tự như `map()`, `filter()` cũng sử dụng hàm lambda, nhưng để lọc ra các phần tử thỏa mãn điều kiện. Do đó, hàm lambda này phải trả về giá trị kiểu `bool`."
   ]
  },
  {
   "cell_type": "code",
   "execution_count": 7,
   "metadata": {},
   "outputs": [
    {
     "data": {
      "text/plain": [
       "[3, 4]"
      ]
     },
     "execution_count": 7,
     "metadata": {},
     "output_type": "execute_result"
    }
   ],
   "source": [
    "a = [1, 2, 3, 4]\n",
    "list(filter(lambda x: x > 2, a))"
   ]
  },
  {
   "cell_type": "markdown",
   "metadata": {},
   "source": [
    "Bạn có thể thao tác phức tạp hơn trên hàm `filter()` này. Ví dụ, đoạn lệnh dưới đây lọc ra các cặp phần tử có tổng lớn hơn 5."
   ]
  },
  {
   "cell_type": "code",
   "execution_count": 8,
   "metadata": {},
   "outputs": [
    {
     "data": {
      "text/plain": [
       "[(3, 4), (4, 5)]"
      ]
     },
     "execution_count": 8,
     "metadata": {},
     "output_type": "execute_result"
    }
   ],
   "source": [
    "a = [1, 2, 3, 4]\n",
    "b = [2, 3, 4, 5]\n",
    "\n",
    "f = lambda a, b: a + b > 5\n",
    "\n",
    "list(filter(lambda x: f(*x), zip(a, b)))"
   ]
  },
  {
   "cell_type": "markdown",
   "metadata": {},
   "source": [
    "Tương tự như `map()`, `filter()` trả về một đối tượng kiểu `filter` là iterator. Bạn có thể chuyển đối nó thành bất kì đối tượng nào bạn muốn, miễn là không vi phạm logic lập trình."
   ]
  },
  {
   "cell_type": "code",
   "execution_count": 9,
   "metadata": {},
   "outputs": [
    {
     "data": {
      "text/plain": [
       "{2: 'fu2_wbc', 4: 'fu2_hb'}"
      ]
     },
     "execution_count": 9,
     "metadata": {},
     "output_type": "execute_result"
    }
   ],
   "source": [
    "a = [1, 2, 3, 4]\n",
    "b = [\"fu1_wbc\", \"fu2_wbc\", \"fu1_hb\", \"fu2_hb\"]\n",
    "\n",
    "dict(filter(lambda x: x[1].startswith(\"fu2_\"), zip(a, b)))"
   ]
  },
  {
   "cell_type": "markdown",
   "metadata": {},
   "source": [
    "## `functools.reduce()`\n",
    "\n",
    "Hai hàm ở trên xử lí riêng biệt từ phần tử trong danh sách, còn hàm `reduce()` trong thư viện `functools` sẽ xâu chuỗi các phần tử này lại với nhau. Chẳng hạn, chúng ta muốn tính tích của tất cả các phần tử trong danh sách."
   ]
  },
  {
   "cell_type": "code",
   "execution_count": 10,
   "metadata": {},
   "outputs": [
    {
     "data": {
      "text/plain": [
       "120"
      ]
     },
     "execution_count": 10,
     "metadata": {},
     "output_type": "execute_result"
    }
   ],
   "source": [
    "from functools import reduce\n",
    "a = range(1, 6)\n",
    "reduce(lambda x, y: x * y, a)"
   ]
  },
  {
   "cell_type": "markdown",
   "metadata": {},
   "source": [
    "Bạn có thể \"reduce\" cả dữ liệu dạng kí tự."
   ]
  },
  {
   "cell_type": "code",
   "execution_count": 11,
   "metadata": {},
   "outputs": [
    {
     "data": {
      "text/plain": [
       "'Welcome to intermediate Python'"
      ]
     },
     "execution_count": 11,
     "metadata": {},
     "output_type": "execute_result"
    }
   ],
   "source": [
    "a = [\"Welcome\", \"to\", \"intermediate\", \"Python\"]\n",
    "reduce(lambda x, y: f\"{x} {y}\", a)"
   ]
  },
  {
   "cell_type": "markdown",
   "metadata": {},
   "source": [
    "---\n",
    "\n",
    "[Bài trước](./01_zipenum.ipynb) - [Danh sách bài](../README.md) - [Bài sau](./03_yield.ipynb)"
   ]
  }
 ],
 "metadata": {
  "kernelspec": {
   "display_name": "Python 3",
   "language": "python",
   "name": "python3"
  },
  "language_info": {
   "codemirror_mode": {
    "name": "ipython",
    "version": 3
   },
   "file_extension": ".py",
   "mimetype": "text/x-python",
   "name": "python",
   "nbconvert_exporter": "python",
   "pygments_lexer": "ipython3",
   "version": "3.10.7"
  },
  "orig_nbformat": 4,
  "vscode": {
   "interpreter": {
    "hash": "6a3c7fd02703099d697b86914af8afc6c3883c409bde85e680daef2475a3a8dd"
   }
  }
 },
 "nbformat": 4,
 "nbformat_minor": 2
}
