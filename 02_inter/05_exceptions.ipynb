{
 "cells": [
  {
   "cell_type": "markdown",
   "metadata": {},
   "source": [
    "# I05 Ngoại lệ (Exceptions)\n",
    "\n",
    "## Mục đích\n",
    "\n",
    "Giới thiệu về **exceptions** một kĩ thuật xử lí lỗi quan trọng trong các ngôn ngữ lập trình.\n",
    "\n",
    "\n",
    "## Xử lí tình huống phát sinh\n",
    "\n",
    "Giả sử bạn viết một hàm để tính `n` giai thừa. Bạn yêu cầu người nhập phải cung cấp một số tự nhiên (`n > 0`). Khi `n` = 0, bạn coi như họ nhập sai nhưng không báo lỗi vì 0! = 1, và bạn trả về giá trị 1.\n",
    "\n",
    "```python\n",
    "def n_factorial(n):\n",
    "    if n == 0:\n",
    "        return 1\n",
    "    # Tính giai thừa, lưu vào biến n_fact.\n",
    "    return n_fact\n",
    "```\n",
    "\n",
    "Tuy nhiên, nếu người dùng nhập một chuỗi kí tự, bạn sẽ gặp phải rắc rối lớn. Các phép tính toán với con số sẽ không thể chạy được và Python sẽ thoát khỏi hàm và báo lỗi. Khi bạn chạy một đoạn lệnh mà gặp lỗi, Python sẽ dừng lại, không chạy tiếp các đoạn lệnh sau. Chúng ta nói rằng Python đã dừng lại trước một **ngoại lệ** (exceptions).\n",
    "\n",
    "Trong trường hợp trên, việc báo cáo ngoại lệ là cần thiết vì bạn không thể giải quyết được tình huống này (không giống như khi `n` = 0). Nhưng có một số trường hợp, thay vì để Python báo cáo ngoại lệ, bạn muốn \"bắt giữ\" ngoại lệ này và cho Python tiếp tục chạy (ví dụ, kết thúc công việc này ở đây và chạy tiếp các công việc không liên quan khác). Trong trường hợp đó bạn cần tìm hiểu về **exceptions**. Hãy quan sát ví dụ sau."
   ]
  },
  {
   "cell_type": "code",
   "execution_count": 5,
   "metadata": {},
   "outputs": [
    {
     "name": "stdout",
     "output_type": "stream",
     "text": [
      "2.0\n",
      "LỖI: Không thể khai căn bậc hai của n = -1.\n",
      "None\n",
      "LỖI: Không thể khai căn bậc hai của n = A.\n",
      "None\n"
     ]
    }
   ],
   "source": [
    "from math import sqrt\n",
    "\n",
    "def can_bac_hai(n):\n",
    "    try:\n",
    "        n_sqr = sqrt(n)\n",
    "    except:\n",
    "        print(f\"LỖI: Không thể khai căn bậc hai của n = {n}.\")\n",
    "    else:\n",
    "        return n_sqr\n",
    "\n",
    "print(can_bac_hai(4))\n",
    "print(can_bac_hai(-1))\n",
    "print(can_bac_hai(\"A\"))"
   ]
  },
  {
   "cell_type": "markdown",
   "metadata": {},
   "source": [
    "Như bạn đã thấy, chúng ta có thể chạy tất cả các lệnh mặc dù việc khai căn bậc hai của -1 sẽ gặp lỗi. Nhưng lỗi (exception) này đã được \"bắt giữ\" và thay vì dừng công việc, chúng ta yêu cầu Python in lỗi ra màn hình và tiếp tục công việc tiếp theo. Cấu trúc của việc xử lí exception bao gồm:\n",
    "\n",
    "```python\n",
    "try:\n",
    "    # Các lệnh mà chúng ta muốn bắt giữ exception.\n",
    "except:\n",
    "    # Các lệnh khi exception xảy ra.\n",
    "else:\n",
    "    # Các lệnh khi exception không xảy ra.\n",
    "finally:\n",
    "    # Các lệnh cho dù exception có xảy ra hay không.\n",
    "```\n",
    "\n",
    "Hãy xem ví dụ dưới đây để thấy rõ hơn."
   ]
  },
  {
   "cell_type": "code",
   "execution_count": 9,
   "metadata": {},
   "outputs": [
    {
     "name": "stdout",
     "output_type": "stream",
     "text": [
      "KHÔNG CÓ LỖI. 2 ** 2 = 4\n",
      "Dòng này luôn xuất hiện.\n",
      "LỖI\n",
      "Dòng này luôn xuất hiện.\n"
     ]
    }
   ],
   "source": [
    "def test_exp(a):\n",
    "    try:\n",
    "        b = a ** 2\n",
    "    except:\n",
    "        print(\"LỖI\")\n",
    "    else:\n",
    "        print(f\"KHÔNG CÓ LỖI. {a} ** 2 = {b}\")\n",
    "    finally:\n",
    "        print(\"Dòng này luôn xuất hiện.\")\n",
    "\n",
    "test_exp(2)\n",
    "test_exp(\"a\")"
   ]
  },
  {
   "cell_type": "markdown",
   "metadata": {},
   "source": [
    "## Bắt giữ exception cụ thể\n",
    "\n",
    "Đôi khi bạn chỉ muốn bắt giữ một loại exception để xử lí, còn các exception khác nếu xảy ra thì sẽ để Python báo cáo. Chẳng hạn, việc cộng một số với một chuỗi kí tự sẽ gây ra exception kiểu `TypeError` và chúng ta muốn xử lí cụ thể loại exception này bằng cách thử chuyển đổi chuỗi kí tự sang số."
   ]
  },
  {
   "cell_type": "code",
   "execution_count": 13,
   "metadata": {},
   "outputs": [
    {
     "name": "stdout",
     "output_type": "stream",
     "text": [
      "31.0\n"
     ]
    }
   ],
   "source": [
    "a = 21\n",
    "b = \"10\"\n",
    "\n",
    "try:\n",
    "    c = a + b\n",
    "except TypeError:\n",
    "    c = float(a) + float(b)\n",
    "finally:\n",
    "    print(c)\n"
   ]
  },
  {
   "cell_type": "markdown",
   "metadata": {},
   "source": [
    "Trong trường hợp trên, nếu chuỗi kí tự không thể chuyển đổi sang kiểu số, Python sẽ báo cáo một exception khác kiểu ValueError. Có thể bạn sẽ muốn xử lí exception này."
   ]
  },
  {
   "cell_type": "code",
   "execution_count": 15,
   "metadata": {},
   "outputs": [
    {
     "name": "stdout",
     "output_type": "stream",
     "text": [
      "Không thể cộng được a và b.\n",
      "None\n"
     ]
    }
   ],
   "source": [
    "b = \"c10\"\n",
    "\n",
    "try:\n",
    "    c = a + b\n",
    "except TypeError:\n",
    "    try:\n",
    "        c = float(a) + float(b)\n",
    "    except ValueError:\n",
    "        print(\"Không thể cộng được a và b.\")\n",
    "        c = None\n",
    "finally:\n",
    "    print(c)\n"
   ]
  },
  {
   "cell_type": "markdown",
   "metadata": {},
   "source": [
    "Nếu bạn bắt giữ một exception nhưng không muốn làm gì với nó cả, có thể dùng từ khóa `pass`."
   ]
  },
  {
   "cell_type": "code",
   "execution_count": 16,
   "metadata": {},
   "outputs": [],
   "source": [
    "try:\n",
    "    c = a + b\n",
    "except:\n",
    "    pass\n",
    "else:\n",
    "    print(c)"
   ]
  },
  {
   "cell_type": "markdown",
   "metadata": {},
   "source": [
    "## Lấy nội dung của exception\n",
    "\n",
    "Bạn cũng có thể lấy thông tin của exception bằng việc lưu exception vào một biến."
   ]
  },
  {
   "cell_type": "code",
   "execution_count": 17,
   "metadata": {},
   "outputs": [
    {
     "name": "stdout",
     "output_type": "stream",
     "text": [
      "Lỗi:  unsupported operand type(s) for +: 'int' and 'str'\n"
     ]
    }
   ],
   "source": [
    "try:\n",
    "    c = a + b\n",
    "except Exception as e:\n",
    "    print(\"Lỗi:\", e)"
   ]
  },
  {
   "cell_type": "markdown",
   "metadata": {},
   "source": [
    "Lớp `Exception` là lớp cơ bản của tất cả các loại exception. Các exception cụ thể sẽ được kế thừa từ lớp này. Chúng ta sẽ tìm hiểu thêm về lớp ở một chương riêng.\n",
    "\n",
    "\n",
    "## Báo cáo ngoại lệ\n",
    "\n",
    "Ngược lại với công việc ở trên, đôi khi bạn lại muốn báo cáo (raise) một ngoại lệ để chúng ta dừng công việc lại và kiểm tra. Lúc này bạn sẽ dùng từ khóa `raise`. Trong ví dụ dưới đây, mình sẽ báo cáo một ngoại lệ và bắt giữ nó (vì không muốn để các đoạn lệnh trong file này bị dừng lại)."
   ]
  },
  {
   "cell_type": "code",
   "execution_count": 18,
   "metadata": {},
   "outputs": [
    {
     "name": "stdout",
     "output_type": "stream",
     "text": [
      "LỖI:  Giá trị a là số âm.\n"
     ]
    }
   ],
   "source": [
    "a = -1\n",
    "\n",
    "try:\n",
    "    if a < 0:\n",
    "        raise Exception(\"Giá trị a là số âm.\")\n",
    "except Exception as e:\n",
    "    print(\"LỖI:\", e)"
   ]
  },
  {
   "cell_type": "markdown",
   "metadata": {},
   "source": [
    "---\n",
    "\n",
    "[Bài trước](./04_bit.ipynb) - [Danh sách bài](../README.md) - [Bài sau]()"
   ]
  }
 ],
 "metadata": {
  "kernelspec": {
   "display_name": "Python 3.9.9 64-bit",
   "language": "python",
   "name": "python3"
  },
  "language_info": {
   "codemirror_mode": {
    "name": "ipython",
    "version": 3
   },
   "file_extension": ".py",
   "mimetype": "text/x-python",
   "name": "python",
   "nbconvert_exporter": "python",
   "pygments_lexer": "ipython3",
   "version": "3.9.9"
  },
  "orig_nbformat": 4,
  "vscode": {
   "interpreter": {
    "hash": "11938c6bc6919ae2720b4d5011047913343b08a43b18698fd82dedb0d4417594"
   }
  }
 },
 "nbformat": 4,
 "nbformat_minor": 2
}
