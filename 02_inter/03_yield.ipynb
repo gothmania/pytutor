{
 "cells": [
  {
   "cell_type": "markdown",
   "metadata": {},
   "source": [
    "# I03 `yield` và generator comprehension\n",
    "\n",
    "## Mục đích\n",
    "\n",
    "Giới thiệu chức năng của từ khóa `yield` để tạo ra generator và cách sử dụng generator comprehension.\n",
    "\n",
    "\n",
    "## Generator\n",
    "\n",
    "Hàm `map()` và `filter()` trong bài [I02](./02_lambda.ipynb) tạo ra các đối tượng không thực hiện tính toán ngay mà chờ đến khi người dùng sử dụng chúng vào một việc gì đó, ví dụ lặp qua chúng hoặc chuyển đổi chúng thành một dạng dữ liệu khác để lưu vào trong bộ nhớ. Generator chính là các đối tượng như thế. Để tạo ra một generator, chúng ta dùng từ khóa `yield` thay cho `return` khi khai báo một hàm.\n",
    "\n",
    "Generator đặc biệt có lợi khi dữ liệu của chúng ta quá lớn, không thể tải vào bộ nhớ cùng một lúc. Lúc này, chúng ta giống như thể chỉ lưu trữ \"cách tạo ra dữ liệu\" vào trong bộ nhớ (thông qua generator), còn không thực thi vào tải dữ liệu thật sự vào bộ nhớ.\n",
    "\n",
    "Chúng ta sẽ cùng xem một ví dụ."
   ]
  },
  {
   "cell_type": "code",
   "execution_count": 1,
   "metadata": {},
   "outputs": [
    {
     "data": {
      "text/plain": [
       "<generator object gen_first_10 at 0x000002654FF93C10>"
      ]
     },
     "execution_count": 1,
     "metadata": {},
     "output_type": "execute_result"
    }
   ],
   "source": [
    "def gen_first_10():\n",
    "    i = 0\n",
    "\n",
    "    while i < 10:\n",
    "        yield i\n",
    "        i += 1\n",
    "\n",
    "gen_first_10()"
   ]
  },
  {
   "cell_type": "markdown",
   "metadata": {},
   "source": [
    "Như bạn thấy, hàm `gen_first_10()` trả về một đối tượng generator, không có con số nào ở đây được tạo ra cả. Nếu muốn lấy các dữ liệu trong generator này, chúng ta phải thực thể hóa nó, chẳng hạn, bằng `list()`."
   ]
  },
  {
   "cell_type": "code",
   "execution_count": 2,
   "metadata": {},
   "outputs": [
    {
     "data": {
      "text/plain": [
       "[0, 1, 2, 3, 4, 5, 6, 7, 8, 9]"
      ]
     },
     "execution_count": 2,
     "metadata": {},
     "output_type": "execute_result"
    }
   ],
   "source": [
    "list(gen_first_10())"
   ]
  },
  {
   "cell_type": "markdown",
   "metadata": {},
   "source": [
    "### Infinite generator (bộ sinh vô hạn)\n",
    "\n",
    "Tuy nhiên, sẽ thật dại dột nếu generator của chúng ta tạo ra vô hạn phần tử như ví dụ dưới đây. Nếu không xác định điều kiện dừng vòng lặp và từ khóa `break`, vòng lặp `for` này sẽ chạy mãi mãi cho đến khi bạn kết thúc vòng lặp bằng bàn phím hoặc giá trị `i` quá lớn."
   ]
  },
  {
   "cell_type": "code",
   "execution_count": 3,
   "metadata": {},
   "outputs": [
    {
     "name": "stdout",
     "output_type": "stream",
     "text": [
      "0 1 2 3 4 5 6 7 8 9 10 11 12 13 14 15 16 17 18 19 20 21 22 23 24 25 26 27 28 29 30 31 32 33 34 35 36 37 38 39 40 41 42 43 44 45 46 47 48 49 50 51 52 53 54 55 56 57 58 59 60 61 62 63 64 65 66 67 68 69 70 71 72 73 74 75 76 77 78 79 80 81 82 83 84 85 86 87 88 89 90 91 92 93 94 95 96 97 98 99 100 "
     ]
    }
   ],
   "source": [
    "def infinite_generator():\n",
    "    i = 0\n",
    "\n",
    "    while True:\n",
    "        yield i\n",
    "        i += 1\n",
    "\n",
    "for i in infinite_generator():\n",
    "    if i > 100:\n",
    "        break\n",
    "    print(i, end=\" \")"
   ]
  },
  {
   "cell_type": "markdown",
   "metadata": {},
   "source": [
    "Bạn có thể duyệt qua từng phần tử trong generator với hàm `next()`."
   ]
  },
  {
   "cell_type": "code",
   "execution_count": 4,
   "metadata": {},
   "outputs": [
    {
     "name": "stdout",
     "output_type": "stream",
     "text": [
      "0\n",
      "1\n",
      "2\n"
     ]
    }
   ],
   "source": [
    "# Đây là một đối tượng generator\n",
    "# không phải là toàn bộ danh sách giá trị tạo ra từ generator\n",
    "inf_gen = infinite_generator()\n",
    "print(next(inf_gen))\n",
    "print(next(inf_gen))\n",
    "print(next(inf_gen))"
   ]
  },
  {
   "cell_type": "markdown",
   "metadata": {},
   "source": [
    "Các đối tượng có thể lặp được và có thể sử dụng hàm `next()` để duyệt qua phần tử tiếp theo trong đối tượng được gọi là **iterator** (bộ lặp), khác với iterable (đối tượng có thể lặp).\n",
    "\n",
    "### Một ví dụ khác\n",
    "\n",
    "Chúng ta sẽ cùng xem một ví dụ khác về infinite generator là công thức tính giá trị của số $e$ sử dụng khai triển Taylor.\n",
    "\n",
    "$$e = \\sum_{n=0}^{\\infty} \\frac{1}{n!}$$\n",
    "\n",
    "Chungs ta có thể dừng việc in ra kết quả ước lượng của số $e$ khi sự khác biệt giữa hai kết quả ước lượng liên tiếp nhỏ hơn một giá trị `epsilon`."
   ]
  },
  {
   "cell_type": "code",
   "execution_count": 5,
   "metadata": {},
   "outputs": [
    {
     "name": "stdout",
     "output_type": "stream",
     "text": [
      "Iteration 0: e = 1\n",
      "Iteration 1: e = 2.0\n",
      "Iteration 2: e = 2.5\n",
      "Iteration 3: e = 2.6666666666666665\n",
      "Iteration 4: e = 2.708333333333333\n",
      "Iteration 5: e = 2.7166666666666663\n",
      "Iteration 6: e = 2.7180555555555554\n",
      "Iteration 7: e = 2.7182539682539684\n",
      "Iteration 8: e = 2.71827876984127\n",
      "Iteration 9: e = 2.7182815255731922\n"
     ]
    }
   ],
   "source": [
    "def exp_x():\n",
    "    # Khởi tạo giá trị lần đầu (số hạng đầu tiên của Taylor series)\n",
    "    n = 0\n",
    "    n_fact = 1\n",
    "    e_n = 1\n",
    "\n",
    "    while True:\n",
    "        yield (n, e_n)\n",
    "\n",
    "        n += 1               # n = n + 1 (đến số hạng tiếp theo của Taylor series)\n",
    "        n_fact *= n          # n_fact = n_fact * n (để tính n!)\n",
    "        e_n += 1 / n_fact    # Số hạng tiếp theo của Taylor series\n",
    "\n",
    "e_gen = exp_x()\n",
    "\n",
    "epsilon = 0.000001\n",
    "prev_ex = 0\n",
    "n, curr_ex = next(e_gen)     # Lấy ước lượng của e với 1 số hạng đầu tiên của Taylor series\n",
    "\n",
    "while curr_ex - prev_ex > epsilon:     # Dừng vòng lặp khi chênh lệch giữa hai lần liên tiếp nhỏ hơn epsilon\n",
    "    print(f\"Iteration {n}: e = {curr_ex}\")\n",
    "    prev_ex = curr_ex            # Lưu kết quả lần trước\n",
    "    n, curr_ex = next(e_gen)     # Lấy ước lượng tiếp theo"
   ]
  },
  {
   "cell_type": "markdown",
   "metadata": {},
   "source": [
    "## Generator comprehension\n",
    "\n",
    "Bạn có thể tạo ra generator tương tự như cách chúng ta sử dụng list comprehension. Thay vì sử dụng cặp dấu `[]`, chúng ta sẽ dùng cặp dấu ngoặc tròn `()`."
   ]
  },
  {
   "cell_type": "code",
   "execution_count": 6,
   "metadata": {},
   "outputs": [
    {
     "data": {
      "text/plain": [
       "<generator object <genexpr> at 0x000002654F663740>"
      ]
     },
     "execution_count": 6,
     "metadata": {},
     "output_type": "execute_result"
    }
   ],
   "source": [
    "gen_squares = (i ** 2 for i in range(20))\n",
    "gen_squares"
   ]
  },
  {
   "cell_type": "markdown",
   "metadata": {},
   "source": [
    "Cách làm này rất tiện lợi vì trong nhiều trường hợp bạn muốn tạo ra các chuỗi số trung gian để phục vụ tính toán nhưng không muốn lưu chúng vào list. Ví dụ công thức tính phương sai:\n",
    "\n",
    "$$Var(X) = \\frac{1}{n} \\sum_{i=1}^{n} (x_i - \\bar{x})^2$$\n",
    "\n",
    "Chúng ta sẽ phải tính bình phương của phần lỗi giữa x[i] và trung bình của các giá trị của x, nhưng việc lưu lại các giá trị này thực sự không cần thiết."
   ]
  },
  {
   "cell_type": "code",
   "execution_count": 7,
   "metadata": {},
   "outputs": [
    {
     "data": {
      "text/plain": [
       "2.0"
      ]
     },
     "execution_count": 7,
     "metadata": {},
     "output_type": "execute_result"
    }
   ],
   "source": [
    "X = [1, 2, 3, 4, 5]\n",
    "x_bar = sum(X) / len(X)\n",
    "\n",
    "sum_of_squares = ((x - x_bar) ** 2 for x in X)\n",
    "sum(sum_of_squares) / len(X)"
   ]
  },
  {
   "cell_type": "markdown",
   "metadata": {},
   "source": [
    "## Lợi ích của generator\n",
    "\n",
    "Lợi ích lớn nhất của generator là không bắt Python phải tải toàn bộ dữ liệu vào bộ nhớ, do đó thường được dùng trong trường hợp chúng ta phải xử lí dữ liệu lớn nhưng không thể chiếm nhiều không gian bộ nhớ.\n",
    "\n",
    "Trong ví dụ này, file `bigfile.txt` có 10000 dòng (được tạo ra bằng đoạn mã dưới đây). Thật ra chúng ta có thể hoàn toàn đọc cả file này vào bộ nhớ, nhưng tại sao phải làm vậy nếu chỉ muốn lấy ra một vài dòng?\n",
    "\n",
    "```python\n",
    "import hashlib\n",
    "with open(\"bigfile.txt\", \"w\") as f:\n",
    "    for i in range(10000):\n",
    "        f.write(\"{}: {}\\n\".format(i, md5(str(i).encode()).hexdigest()))\n",
    "```\n",
    "\n",
    "Chúng ta sẽ tạo một generator để đọc từng dòng trong file này và chỉ giữ lại trong bộ nhớ danh sách những dòng bắt đầu bằng `\"853\"`. File nói trên được mở bằng lệnh `open(\"bigfile.txt\", \"r\")`, lưu vào trong một biến `f`, cung cấp biến `f` này cho hàm tạo generator, và đọc từng dòng bằng lệnh `f.readline()`. Sau khi đã đọc, chúng ta đóng file bằng lệnh `f.close()`."
   ]
  },
  {
   "cell_type": "code",
   "execution_count": 8,
   "metadata": {},
   "outputs": [
    {
     "data": {
      "text/plain": [
       "['853: aff1621254f7c1be92f64550478c56e6\\n',\n",
       " '8530: fa385fb5a8e79b41a0d37b12c9f95996\\n',\n",
       " '8531: 749a8e6c231831ef7756db230b4359c8\\n',\n",
       " '8532: a383d162a97be62a400e00c320eae9c7\\n',\n",
       " '8533: 1763ea5a7e72dd7ee64073c2dda7a7a8\\n',\n",
       " '8534: 92b78b60f9d00a0ac34898be97d15188\\n',\n",
       " '8535: db53e24fbc4e5a62aaa6e92f6bd1167f\\n',\n",
       " '8536: 2c2dc47463ad7f389023f2b0fe1058cf\\n',\n",
       " '8537: 5c843bd82838f70b8321b95e2f1a84ef\\n',\n",
       " '8538: a378383b89e6719e15cd1aa45478627c\\n',\n",
       " '8539: 618790ae971abb5610b16c826fb72d01\\n']"
      ]
     },
     "execution_count": 8,
     "metadata": {},
     "output_type": "execute_result"
    }
   ],
   "source": [
    "def read_bigfile(f):\n",
    "    while True:\n",
    "        line = f.readline()\n",
    "        if not line:    # Nếu kết thúc file thì dừng lại không đọc nữa\n",
    "            break\n",
    "        yield line\n",
    "\n",
    "f = open(\"bigfile.txt\", \"r\")\n",
    "lines = [line for line in read_bigfile(f) if line.startswith(\"853\")]\n",
    "f.close()\n",
    "\n",
    "lines"
   ]
  },
  {
   "cell_type": "markdown",
   "metadata": {},
   "source": [
    "---\n",
    "\n",
    "[Bài trước](./02_lambda.ipynb) - [Danh sách bài](../README.md) - [Bài sau](./04_bit.ipynb)"
   ]
  }
 ],
 "metadata": {
  "kernelspec": {
   "display_name": "Python 3.9.9 64-bit",
   "language": "python",
   "name": "python3"
  },
  "language_info": {
   "codemirror_mode": {
    "name": "ipython",
    "version": 3
   },
   "file_extension": ".py",
   "mimetype": "text/x-python",
   "name": "python",
   "nbconvert_exporter": "python",
   "pygments_lexer": "ipython3",
   "version": "3.9.9"
  },
  "orig_nbformat": 4,
  "vscode": {
   "interpreter": {
    "hash": "11938c6bc6919ae2720b4d5011047913343b08a43b18698fd82dedb0d4417594"
   }
  }
 },
 "nbformat": 4,
 "nbformat_minor": 2
}
