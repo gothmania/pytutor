{
 "cells": [
  {
   "cell_type": "markdown",
   "metadata": {},
   "source": [
    "# I01 `zip()`, `enumerate()`\n",
    "\n",
    "## Mục đích\n",
    "\n",
    "Bài hôm nay giới thiệu hai hàm quan trọng trong thao tác với các dữ liệu dạng danh sách và từ điển là `zip()` và `enumerate()`.\n",
    "\n",
    "\n",
    "## `zip()`\n",
    "\n",
    "Trước đây, chúng ta đã tạo từ điển codebook bằng tay. Đôi lúc bạn sẽ thấy mệt mỏi vì có phải gõ đi gõ lại theo cú pháp của từ điển. Bạn có thể nghĩ rằng nếu chúng ta có thể tạo một danh sách chìa khóa và một danh sách giá trị, sau đó ghép chúng vào với nhau thành từ điển thì sẽ thật tiện lợi (và dễ chỉnh sửa). Python làm việc này rất dễ dàng. Hãy xem ví dụ."
   ]
  },
  {
   "cell_type": "code",
   "execution_count": 1,
   "metadata": {},
   "outputs": [
    {
     "data": {
      "text/plain": [
       "{1: 'Thiếu cân', 2: 'Bình thường', 3: 'Thừa cân / Béo phì'}"
      ]
     },
     "execution_count": 1,
     "metadata": {},
     "output_type": "execute_result"
    }
   ],
   "source": [
    "bmi_lvls = range(1, 4)    # Hãy nhớ đây là ba giá trị 1, 2, 3, không có giá trị 4\n",
    "bmi_lbls = [\"Thiếu cân\", \"Bình thường\", \"Thừa cân / Béo phì\"]\n",
    "\n",
    "dict(zip(bmi_lvls, bmi_lbls))"
   ]
  },
  {
   "cell_type": "markdown",
   "metadata": {},
   "source": [
    "Bạn có thể thắc mắc hàm `zip()` thực sự đã làm gì. Thay vì sử dụng hàm `dict()` để tạo thư viện mới, hãy thử bỏ nó đi xem Python sẽ trả về cái gì."
   ]
  },
  {
   "cell_type": "code",
   "execution_count": 2,
   "metadata": {},
   "outputs": [
    {
     "data": {
      "text/plain": [
       "<zip at 0x1f2cf210ec0>"
      ]
     },
     "execution_count": 2,
     "metadata": {},
     "output_type": "execute_result"
    }
   ],
   "source": [
    "zip(bmi_lvls, bmi_lbls)"
   ]
  },
  {
   "cell_type": "markdown",
   "metadata": {},
   "source": [
    "Như bạn thấy, Python trả về cho chúng ta một đối tượng `zip`. Đối tượng này sẽ không có ý nghĩa gì cho đến khi bạn thực hiện một thao tác nào đó trên nó, chẳng hạn chuyển nó thành danh sách, bạn sẽ có một danh sách với các phần tử là tuple; mỗi tuple chứa một giá trị của từng danh sách mà chúng ta đã \"zip\". Để có thể zip hai (hoặc nhiều) danh sách với nhau, bạn phải đảm bảo chúng có số phần tử như nhau."
   ]
  },
  {
   "cell_type": "code",
   "execution_count": 3,
   "metadata": {},
   "outputs": [
    {
     "data": {
      "text/plain": [
       "[(1, 'Thiếu cân'), (2, 'Bình thường'), (3, 'Thừa cân / Béo phì')]"
      ]
     },
     "execution_count": 3,
     "metadata": {},
     "output_type": "execute_result"
    }
   ],
   "source": [
    "list(zip(bmi_lvls, bmi_lbls))"
   ]
  },
  {
   "cell_type": "markdown",
   "metadata": {},
   "source": [
    "Đối tượng `zip` cũng là một kiểu dữ liệu iterable. Khi đưa vào hàm lặp, bạn có thể sử dụng thẳng mà không cần chuyển đổi kiểu dữ liệu."
   ]
  },
  {
   "cell_type": "code",
   "execution_count": 4,
   "metadata": {},
   "outputs": [
    {
     "name": "stdout",
     "output_type": "stream",
     "text": [
      "key = 1, value = Thiếu cân\n",
      "key = 2, value = Bình thường\n",
      "key = 3, value = Thừa cân / Béo phì\n"
     ]
    }
   ],
   "source": [
    "for key, value in zip(bmi_lvls, bmi_lbls):\n",
    "    print(f\"key = {key}, value = {value}\")"
   ]
  },
  {
   "cell_type": "markdown",
   "metadata": {},
   "source": [
    "Với đặc tính này, chúng ta có thể cung cấp thông tin cho hàm `dict()` để tạo từ điển. Hàm `zip()` tạo ra các cặp tuple chứa key-value, và giá trị đầu tiên của tuple sẽ được gán cho chìa khóa, còn giá trị sau gán cho giá trị tương ứng với chìa khóa trong từ điển.\n",
    "\n",
    "```python\n",
    "d = {}\n",
    "for k, v in iterable_from_zip:\n",
    "    d[k] = v\n",
    "```"
   ]
  },
  {
   "cell_type": "markdown",
   "metadata": {},
   "source": [
    "### Zip nhiều hơn hai danh sách\n",
    "\n",
    "Như đã nói ở trên, bạn có thể zip nhiều danh sách với nhau."
   ]
  },
  {
   "cell_type": "code",
   "execution_count": 5,
   "metadata": {},
   "outputs": [
    {
     "name": "stdout",
     "output_type": "stream",
     "text": [
      "1 [0, 5]\n",
      "2 [0, 3]\n",
      "3 [0, 7]\n",
      "4 [0, 10]\n"
     ]
    }
   ],
   "source": [
    "means = [1, 2, 3, 4]\n",
    "mins = [0, 0, 0, 0]\n",
    "maxs = [5, 3, 7, 10]\n",
    "\n",
    "for mean_val, min_val, max_val in zip(means, mins, maxs):\n",
    "    print(f\"{mean_val} [{min_val}, {max_val}]\")"
   ]
  },
  {
   "cell_type": "markdown",
   "metadata": {},
   "source": [
    "## `enumerate()`\n",
    "\n",
    "Trong một số bài toán, bạn sẽ cần thao tác cùng lúc với cả chỉ mục và giá trị của các phần tử trong một danh sách. Ví dụ, chúng ta muốn in danh sách các phần tử và sẽ xuống hàng ở sau mỗi 5 phần tử:"
   ]
  },
  {
   "cell_type": "code",
   "execution_count": 6,
   "metadata": {},
   "outputs": [
    {
     "name": "stdout",
     "output_type": "stream",
     "text": [
      "  0  1  2  3  4\n",
      "  5  6  7  8  9\n",
      " 10 11 12 13 14\n",
      " 15 16 17 18 19\n"
     ]
    }
   ],
   "source": [
    "numbers = list(range(20))\n",
    "\n",
    "for i in range(20):\n",
    "    print(\"{:3}\".format(numbers[i]), end=\"\")\n",
    "    if (i + 1) % 5 == 0:\n",
    "        print(\"\")"
   ]
  },
  {
   "cell_type": "markdown",
   "metadata": {},
   "source": [
    "Hoặc bạn có thể làm cách này."
   ]
  },
  {
   "cell_type": "code",
   "execution_count": 7,
   "metadata": {},
   "outputs": [
    {
     "name": "stdout",
     "output_type": "stream",
     "text": [
      "  0  1  2  3  4\n",
      "  5  6  7  8  9\n",
      " 10 11 12 13 14\n",
      " 15 16 17 18 19\n"
     ]
    }
   ],
   "source": [
    "i = 0\n",
    "\n",
    "for value in numbers:\n",
    "    print(f\"{value:3}\", end=\"\")\n",
    "    if (i + 1) % 5 == 0:\n",
    "        print(\"\")\n",
    "    i += 1    # i = i + 1"
   ]
  },
  {
   "cell_type": "markdown",
   "metadata": {},
   "source": [
    "Tuy nhiên, bạn sẽ thấy rằng chúng ta có thể sẽ phải lặp lại `numbers[i]` hoặc `i` vài lần nữa nếu còn dùng đến các biến này trong vòng lặp. Để tránh điều này, hàm `enumerate()` cho phép bạn truy cập vào chỉ mục và giá trị của phần tử đồng thời."
   ]
  },
  {
   "cell_type": "code",
   "execution_count": 8,
   "metadata": {},
   "outputs": [
    {
     "name": "stdout",
     "output_type": "stream",
     "text": [
      "  0  1  2  3  4\n",
      "  5  6  7  8  9\n",
      " 10 11 12 13 14\n",
      " 15 16 17 18 19\n"
     ]
    }
   ],
   "source": [
    "for i, value in enumerate(numbers):\n",
    "    print(f\"{value:3}\", end=\"\")\n",
    "    if (numbers[i] + 1) % 5 == 0:\n",
    "        print(\"\")"
   ]
  },
  {
   "cell_type": "markdown",
   "metadata": {},
   "source": [
    "Bạn có thể kết hợp cả `zip()` và `enumerate()` cùng với nhau."
   ]
  },
  {
   "cell_type": "code",
   "execution_count": 9,
   "metadata": {},
   "outputs": [
    {
     "name": "stdout",
     "output_type": "stream",
     "text": [
      "10 = Ba Dinh (red)\n",
      "11 = Hoan Kiem (gren)\n",
      "12 = Cau Giay (blue)\n",
      "13 = Hoang Mai (red)\n",
      "14 = Thanh Tri (gren)\n",
      "15 = Tu Liem (blue)\n"
     ]
    }
   ],
   "source": [
    "colors = [\"red\", \"gren\", \"blue\"]\n",
    "keys = list(range(10, 16))\n",
    "values = [\"Ba Dinh\", \"Hoan Kiem\", \"Cau Giay\", \"Hoang Mai\", \"Thanh Tri\", \"Tu Liem\"]\n",
    "\n",
    "for i, (key, value) in enumerate(zip(keys, values)):\n",
    "    print(\"{} = {} ({})\".format(key, value, colors[i % 3]))"
   ]
  },
  {
   "cell_type": "markdown",
   "metadata": {},
   "source": [
    "Và do đó, rất tiện lợi khi sử dụng với từ điển."
   ]
  },
  {
   "cell_type": "code",
   "execution_count": 10,
   "metadata": {},
   "outputs": [
    {
     "name": "stdout",
     "output_type": "stream",
     "text": [
      "10 = Ba Dinh (red)\n",
      "11 = Hoan Kiem (gren)\n",
      "12 = Cau Giay (blue)\n",
      "13 = Hoang Mai (red)\n",
      "14 = Thanh Tri (gren)\n",
      "15 = Tu Liem (blue)\n"
     ]
    }
   ],
   "source": [
    "kv_dict = dict(zip(keys, values))\n",
    "\n",
    "for i, (key, value) in enumerate(kv_dict.items()):\n",
    "    print(\"{} = {} ({})\".format(key, value, colors[i % 3]))"
   ]
  },
  {
   "cell_type": "markdown",
   "metadata": {},
   "source": [
    "---\n",
    "\n",
    "[Bài trước](../01_basic/12_strfind.ipynb) - [Danh sách bài](../README.md) - [Bài sau](./02_lambda.ipynb)"
   ]
  }
 ],
 "metadata": {
  "kernelspec": {
   "display_name": "Python 3.9.9 64-bit",
   "language": "python",
   "name": "python3"
  },
  "language_info": {
   "codemirror_mode": {
    "name": "ipython",
    "version": 3
   },
   "file_extension": ".py",
   "mimetype": "text/x-python",
   "name": "python",
   "nbconvert_exporter": "python",
   "pygments_lexer": "ipython3",
   "version": "3.9.9"
  },
  "orig_nbformat": 4,
  "vscode": {
   "interpreter": {
    "hash": "11938c6bc6919ae2720b4d5011047913343b08a43b18698fd82dedb0d4417594"
   }
  }
 },
 "nbformat": 4,
 "nbformat_minor": 2
}
