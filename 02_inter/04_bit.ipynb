{
 "cells": [
  {
   "cell_type": "markdown",
   "metadata": {},
   "source": [
    "# I04 Bit và tính toán theo bit (bitwise)\n",
    "\n",
    "## Mục đích\n",
    "\n",
    "Trong bài này mình sẽ giới thiệu khái niệm tin học **bit** và việc tính toán theo bit trong Python.\n",
    "\n",
    "\n",
    "## Bit\n",
    "\n",
    "Bit là đơn vị thông tin nhỏ nhất được chuyển đi trong máy tính, với chỉ hai giá trị `0` và `1` hay `True` và `False`. Do vậy, chỉ cần một bit để đại diện cho kiểu dữ liệu `bool`, trong khi các dữ liệu số và kí tự sẽ cần nhiều bit hơn. Đơn vị lưu trữ nhỏ nhất trong máy tính là byte (1 byte = 8 bit).\n",
    "\n",
    "Do lưu trữ chỉ với hai giá trị `0` và `1`, dữ liệu trong máy tính đều số nhị phân (binary). Chẳng hạn, con số 52 trong bộ nhớ thực chất được lưu trữ dưới dạng nhị phân là `110100` ($2^5 \\times 1 + 2^4 \\times 1 + 2^3 \\times 0 + 2^2 \\times 1 + 2^1 \\times 0 + 2^0 \\times 0 = 52$). Python có thể giúp bạn chuyển một giá trị số thập phân về dạng nhị phân bằng hàm `bin()`."
   ]
  },
  {
   "cell_type": "code",
   "execution_count": 1,
   "metadata": {},
   "outputs": [
    {
     "data": {
      "text/plain": [
       "'0b110100'"
      ]
     },
     "execution_count": 1,
     "metadata": {},
     "output_type": "execute_result"
    }
   ],
   "source": [
    "bin(52)"
   ]
  },
  {
   "cell_type": "markdown",
   "metadata": {},
   "source": [
    "## Phép toán với bit\n",
    "\n",
    "Ngoài các phép cộng trừ nhân chia tương đối vô nghĩa khi sử dụng trên bit, có một vài phép toán đặc biệt với bit có ích hơn cho máy tính. Hai nhóm phép toán này bao gồm phép toán luân lý (logical operation) và phép toán dịch bit (bit shifting).\n",
    "\n",
    "### Phép toán luân lý\n",
    "\n",
    "#### Toán tử AND (`&`)\n",
    "\n",
    "Bảng chân lý (truth table) của toán tử này như sau:\n",
    "\n",
    "`A` | `B` | `A AND B`\n",
    "----|-----|--------\n",
    "0 | 0 | 0\n",
    "0 | 1 | 0\n",
    "1 | 0 | 0\n",
    "1 | 1 | 1\n",
    "\n",
    "Nói cách khác, khi cả A và B đều đúng thì A & B mới đúng.\n",
    "\n",
    "Trong Python, chúng ta sử dụng toán tử `&` để \"AND\" hai giá trị luân lý."
   ]
  },
  {
   "cell_type": "code",
   "execution_count": 2,
   "metadata": {},
   "outputs": [
    {
     "data": {
      "text/plain": [
       "0"
      ]
     },
     "execution_count": 2,
     "metadata": {},
     "output_type": "execute_result"
    }
   ],
   "source": [
    "a = 1\n",
    "b = 0\n",
    "\n",
    "a & b"
   ]
  },
  {
   "cell_type": "markdown",
   "metadata": {},
   "source": [
    "Nếu áp dụng trên các con số, chúng sẽ được thực hiện theo từng bit (bitwise). Hãy xem ví dụ."
   ]
  },
  {
   "cell_type": "code",
   "execution_count": 3,
   "metadata": {},
   "outputs": [
    {
     "name": "stdout",
     "output_type": "stream",
     "text": [
      "53 & 23 = 21\n",
      "00110101\n",
      "00010111\n",
      "00010101\n"
     ]
    }
   ],
   "source": [
    "a = 53\n",
    "b = 23\n",
    "\n",
    "print(\"{} & {} = {}\".format(a, b, a & b))\n",
    "print(\"{:08b}\\n{:08b}\\n{:08b}\".format(a, b, a & b))"
   ]
  },
  {
   "cell_type": "markdown",
   "metadata": {},
   "source": [
    "Việc tính toán theo bit giúp cho chúng ta có thể lọc bỏ một số bit và giữ lại chỉ một số bit. Chẳng hạn nếu muốn lấy phần dư của phép chia cho 16 (các giá trị từ `0000` (=0) đến `1111` (=15)), chúng ta có thể \"tắt\" tất cả các bit từ bit 5 trở đi bằng việc \"AND\" chúng với 0. Kĩ thuật này trong xử lí tín hiệu số gọi là bitmasking."
   ]
  },
  {
   "cell_type": "code",
   "execution_count": 4,
   "metadata": {},
   "outputs": [
    {
     "name": "stdout",
     "output_type": "stream",
     "text": [
      "111110011101111011100010111\n",
      "000000000000000000000001111\n",
      "000000000000000000000000111\n",
      "7\n"
     ]
    }
   ],
   "source": [
    "a = 131004183\n",
    "a_bin = f\"{a:b}\"\n",
    "print(a_bin)\n",
    "print(f\"{15:0{len(a_bin)}b}\")\n",
    "print(f\"{a & 15:0{len(a_bin)}b}\")\n",
    "print(a & 15)"
   ]
  },
  {
   "cell_type": "markdown",
   "metadata": {},
   "source": [
    "#### Toán tử OR (`|`)\n",
    "\n",
    "Bảng chân lý (truth table) của toán tử này như sau:\n",
    "\n",
    "`A` | `B` | `A OR B`\n",
    "----|-----|--------\n",
    "0 | 0 | 0\n",
    "0 | 1 | 1\n",
    "1 | 0 | 1\n",
    "1 | 1 | 1\n",
    "\n",
    "Nói cách khác, khi cả A và B đều sai thì A & B mới sai.\n",
    "\n",
    "Trong Python, chúng ta sử dụng toán tử `|` để \"OR\" hai giá trị luân lý."
   ]
  },
  {
   "cell_type": "code",
   "execution_count": 5,
   "metadata": {},
   "outputs": [
    {
     "data": {
      "text/plain": [
       "1"
      ]
     },
     "execution_count": 5,
     "metadata": {},
     "output_type": "execute_result"
    }
   ],
   "source": [
    "a = 1\n",
    "b = 0\n",
    "\n",
    "a | b"
   ]
  },
  {
   "cell_type": "markdown",
   "metadata": {},
   "source": [
    "Toán tử `|` cũng thực hiện bitwise, và chúng ta có thể dùng chúng để bitmasking. Chẳng hạn chúng ta có thể \"bật\" tất cả các bit dưới bit 5 bằng cách \"OR\" chúng với bit 1."
   ]
  },
  {
   "cell_type": "code",
   "execution_count": 6,
   "metadata": {},
   "outputs": [
    {
     "name": "stdout",
     "output_type": "stream",
     "text": [
      "11010111\n",
      "00001111\n",
      "11011111\n",
      "223\n"
     ]
    }
   ],
   "source": [
    "a = 215\n",
    "a_bin = f\"{a:b}\"\n",
    "print(a_bin)\n",
    "print(f\"{15:0{len(a_bin)}b}\")\n",
    "print(f\"{a|15:0{len(a_bin)}b}\")\n",
    "print(a | 15)"
   ]
  },
  {
   "cell_type": "markdown",
   "metadata": {},
   "source": [
    "#### Toán tử XOR (`^`)\n",
    "\n",
    "Bảng chân lý (truth table) của toán tử này như sau:\n",
    "\n",
    "`A` | `B` | `A XOR B`\n",
    "----|-----|--------\n",
    "0 | 0 | 0\n",
    "0 | 1 | 1\n",
    "1 | 0 | 1\n",
    "1 | 1 | 0\n",
    "\n",
    "Nói cách khác, khi cả A và B giống nhau thì A & B sẽ sai.\n",
    "\n",
    "Trong Python, chúng ta sử dụng toán tử `^` để \"XOR\" hai giá trị luân lý."
   ]
  },
  {
   "cell_type": "code",
   "execution_count": 7,
   "metadata": {},
   "outputs": [
    {
     "data": {
      "text/plain": [
       "1"
      ]
     },
     "execution_count": 7,
     "metadata": {},
     "output_type": "execute_result"
    }
   ],
   "source": [
    "a = 1\n",
    "b = 0\n",
    "\n",
    "a ^ b"
   ]
  },
  {
   "cell_type": "markdown",
   "metadata": {},
   "source": [
    "Toán tử `^` cũng thực hiện bitwise, và chúng ta có thể dùng chúng để đảo ngược các bit bằng cách \"XOR\" chúng với bit 1."
   ]
  },
  {
   "cell_type": "code",
   "execution_count": 8,
   "metadata": {},
   "outputs": [
    {
     "name": "stdout",
     "output_type": "stream",
     "text": [
      "11010111\n",
      "00001111\n",
      "11011000\n",
      "216\n"
     ]
    }
   ],
   "source": [
    "a = 215\n",
    "a_bin = f\"{a:b}\"\n",
    "print(a_bin)\n",
    "print(f\"{15:0{len(a_bin)}b}\")\n",
    "print(f\"{a^15:0{len(a_bin)}b}\")\n",
    "print(a ^ 15)"
   ]
  },
  {
   "cell_type": "markdown",
   "metadata": {},
   "source": [
    "Ngoài ra, Python còn toán tử NOT (`~`) dùng để đảo ngược toàn bộ các bit nhưng chúng ta sẽ không sử dụng ở đây.\n",
    "\n",
    "### Phép toán dịch bit\n",
    "\n",
    "Python có hai phép toán để dịch sang phải k bit (dịch 1 bit tương đương chia 2 lấy phần nguyên) và dịch sang trái k bit (dịch 1 bit tương đương nhân với 2)."
   ]
  },
  {
   "cell_type": "code",
   "execution_count": 9,
   "metadata": {},
   "outputs": [
    {
     "name": "stdout",
     "output_type": "stream",
     "text": [
      "19 9 38\n",
      " 10011\n",
      "  1001\n",
      "100110\n"
     ]
    }
   ],
   "source": [
    "a = 19\n",
    "print(a, a >> 1, a << 1)\n",
    "print(f\"{a:6b}\\n{a >> 1:6b}\\n{a << 1:6b}\")"
   ]
  },
  {
   "cell_type": "markdown",
   "metadata": {},
   "source": [
    "## Luyện tập\n",
    "\n",
    "*Binary gap*: Cho một số tự nhiên N viết dưới dạng nhị phân. Tìm độ dài lớn nhất của binary gap (chuỗi chữ số 0 liên tiếp nằm giữa hai chữ số 1) của số này.\n",
    "\n",
    "Ví dụ: Số 0b100010010000 (N = 2192) thì gap có độ dài lớn nhất là 3 (mặc dù ở cuối có 4 chữ số liên tiếp nhưng chúng không nằm giữa hai chữ số 1).\n",
    "\n",
    "Bạn hãy suy nghĩ trước khi xem code và giải thích nhé."
   ]
  },
  {
   "cell_type": "code",
   "execution_count": 10,
   "metadata": {},
   "outputs": [
    {
     "name": "stdout",
     "output_type": "stream",
     "text": [
      "2192 100010010000\n"
     ]
    },
    {
     "data": {
      "text/plain": [
       "3"
      ]
     },
     "execution_count": 10,
     "metadata": {},
     "output_type": "execute_result"
    }
   ],
   "source": [
    "def max_binary_gap(N):\n",
    "    print(N, f\"{N:b}\")\n",
    "\n",
    "    while N & 1 == 0:\n",
    "        N = N >> 1\n",
    "    \n",
    "    max_gap = 0\n",
    "    cur_gap = 0\n",
    "\n",
    "    while N > 0:\n",
    "        if N & 1 == 1:\n",
    "            if cur_gap > 0:\n",
    "                max_gap = max(cur_gap, max_gap)\n",
    "                cur_gap = 0\n",
    "        else:\n",
    "            cur_gap += 1\n",
    "        N = N >> 1\n",
    "    \n",
    "    return max_gap\n",
    "\n",
    "max_binary_gap(2192)"
   ]
  },
  {
   "cell_type": "markdown",
   "metadata": {},
   "source": [
    "Trong hàm `max_binary_gap()` ở trên, chúng ta thực hiện các công việc sau:\n",
    "\n",
    "Loại bỏ những chữ số 0 ở cuối chuỗi nhị phân. Cách làm đơn giản là dịch bit sang phải cho đến khi chữ số cuối cùng là chữ số 1. Để kiểm tra điều kiện chữ số cuối cùng là chữ số 1, chúng ta sẽ dùng bitmasking với toán tử \"AND\" để mask tất cả các chữ số khác.\n",
    "\n",
    "```python\n",
    "    while N & 1 == 0:\n",
    "        N = N >> 1\n",
    "```\n",
    "\n",
    "Sau đó, chúng ta tiến hành đếm số chữ số 0 nằm giữa các chữ số 1. Thuật toán của vòng lặp như sau:\n",
    "\n",
    "1. Nếu chữ số cuối cùng là 1: nếu số chữ số 0 đang đếm hiện tại (`cur_gap`) lớn hơn 0 (nghĩa là trước đó đã gặp một chữ số 1 và bắt đầu đếm các chữ số 0) thì binary gap kết thúc, do đó chúng ta dừng đếm chữ số 0, so sánh với `max_gap`, nếu lớn hơn `max_gap` thì cập nhật giá trị trong `max_gap`.\n",
    "\n",
    "```python\n",
    "        if N & 1 == 1:\n",
    "            if cur_gap > 0:\n",
    "                max_gap = max(cur_gap, max_gap)\n",
    "                cur_gap = 0\n",
    "```\n",
    "\n",
    "2. Nếu chữ số cuối cùng là 0: tăng số chữ số 0 trong binary gap hiện tại (`cur_gap`) lên 1.\n",
    "\n",
    "```python\n",
    "        else:\n",
    "            cur_gap += 1\n",
    "```\n",
    "\n",
    "3. Dịch sang phải 1 bit. Lặp cho đến khi N = 0 (đã dịch hết các bit).\n",
    "\n",
    "```python\n",
    "    while N > 0:\n",
    "        # ...\n",
    "        N = N >> 1\n",
    "```\n",
    "\n",
    "Một giải pháp khác không dùng xử lí bit."
   ]
  },
  {
   "cell_type": "code",
   "execution_count": 11,
   "metadata": {},
   "outputs": [
    {
     "name": "stdout",
     "output_type": "stream",
     "text": [
      "2192 100010010000\n"
     ]
    },
    {
     "data": {
      "text/plain": [
       "3"
      ]
     },
     "execution_count": 11,
     "metadata": {},
     "output_type": "execute_result"
    }
   ],
   "source": [
    "def max_binary_gap(N):\n",
    "    print(N, f\"{N:b}\")\n",
    "\n",
    "    while N % 2 == 0:\n",
    "        N = N // 2\n",
    "    \n",
    "    max_gap = 0\n",
    "    cur_gap = 0\n",
    "\n",
    "    while N > 0:\n",
    "        if N % 2 == 1:\n",
    "            if cur_gap > 0:\n",
    "                max_gap = max(cur_gap, max_gap)\n",
    "                cur_gap = 0\n",
    "        else:\n",
    "            cur_gap += 1\n",
    "        N = N // 2\n",
    "    \n",
    "    return max_gap\n",
    "\n",
    "max_binary_gap(2192)"
   ]
  },
  {
   "cell_type": "markdown",
   "metadata": {},
   "source": [
    "---\n",
    "\n",
    "[Bài trước](./03_yield.ipynb) - [Danh sách bài](../README.md) - [Bài sau]()"
   ]
  }
 ],
 "metadata": {
  "kernelspec": {
   "display_name": "Python 3.9.9 64-bit",
   "language": "python",
   "name": "python3"
  },
  "language_info": {
   "codemirror_mode": {
    "name": "ipython",
    "version": 3
   },
   "file_extension": ".py",
   "mimetype": "text/x-python",
   "name": "python",
   "nbconvert_exporter": "python",
   "pygments_lexer": "ipython3",
   "version": "3.9.9"
  },
  "orig_nbformat": 4,
  "vscode": {
   "interpreter": {
    "hash": "11938c6bc6919ae2720b4d5011047913343b08a43b18698fd82dedb0d4417594"
   }
  }
 },
 "nbformat": 4,
 "nbformat_minor": 2
}
