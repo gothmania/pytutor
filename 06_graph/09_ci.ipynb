{
 "cells": [
  {
   "attachments": {},
   "cell_type": "markdown",
   "metadata": {},
   "source": [
    "# G09 Ví dụ: Mô phỏng khoảng tin cậy 95%\n",
    "\n",
    "## Mục đích\n",
    "\n",
    "Với ví dụ này, chúng ta sẽ ôn lại một công cụ biểu đồ quan trọng trong thống kê: error bar.\n",
    "\n",
    "\n",
    "## Bài toán\n",
    "\n",
    "Khi tiến hành nghiên cứu, chúng ta thường chọn một mẫu có cỡ mẫu $n$ từ quần thể. Từ mẫu này, chúng ta đo lường một biến nào đó (ví dụ, huyết áp tâm thu) và tính ra được trung bình của mẫu $\\bar{X}$. Giá trị trung bình mẫu này hầu như không bao giờ trùng với trung bình thật sự của quần thể $\\mu$, do đó, chúng ta cần đo lường mức độ \"cách xa trung bình quần thể\", còn được gọi là \"độ không chắc chắn\" hay uncertainty. Một trong các cách đo uncertainty là khoảng tin cậy (confidence interval, CI) do nhà toán học Neyman đề xuất.\n",
    "\n",
    "Ý nghĩa của khoảng tin cậy $a%$ là: nếu như chúng ta lặp lại vô số lần nghiên cứu với cùng phương pháp như trên, chúng ta sẽ có $a%$ số khoảng tin cậy tính toán theo cùng một cách **chứa trung bình quần thể $\\mu$** trong đó. Phát biểu này khá khó tưởng tượng, nhưng sẽ dễ hiểu hơn nếu chúng ta minh họa nó bằng hình ảnh.\n",
    "\n",
    "\n",
    "## Giải pháp\n",
    "\n",
    "Đầu tiên, chúng ta sẽ xây dựng số liệu cho toàn bộ quần thể."
   ]
  },
  {
   "cell_type": "code",
   "execution_count": 1,
   "metadata": {},
   "outputs": [
    {
     "data": {
      "image/png": "[encoded data removed]",
      "text/plain": [
       "<Figure size 640x480 with 1 Axes>"
      ]
     },
     "metadata": {},
     "output_type": "display_data"
    }
   ],
   "source": [
    "import numpy as np\n",
    "import matplotlib.pyplot as plt\n",
    "import pandas as pd\n",
    "\n",
    "\n",
    "def build_pop_data(n_pop: int, seed=0):\n",
    "    np.random.seed(seed)\n",
    "    return np.random.normal(120, 10, n_pop)\n",
    "\n",
    "n_pop = 10000\n",
    "pop_data = build_pop_data(n_pop)\n",
    "\n",
    "_ = plt.hist(pop_data, bins=31)\n",
    "plt.show()"
   ]
  },
  {
   "attachments": {},
   "cell_type": "markdown",
   "metadata": {},
   "source": [
    "Tiếp theo, chúng ta sẽ viết một hàm để chọn mẫu ngẫu nhiên từ quần thể này. Tuy nhiên, cái chúng ta cần không phải là toàn bộ dữ liệu của mẫu, mà chỉ cần trung bình và độ lệch chuẩn của mẫu (để tính khoảng tin cậy 95%)."
   ]
  },
  {
   "cell_type": "code",
   "execution_count": 2,
   "metadata": {},
   "outputs": [
    {
     "data": {
      "text/plain": [
       "(121.7063042702087, 9.940827687384717)"
      ]
     },
     "execution_count": 2,
     "metadata": {},
     "output_type": "execute_result"
    }
   ],
   "source": [
    "def get_random_sample(data, n_sample: int):\n",
    "    sample_data = np.random.choice(data, n_sample, replace=False)\n",
    "    return np.mean(sample_data), np.std(sample_data)\n",
    "\n",
    "n_sample = 50\n",
    "get_random_sample(pop_data, n_sample)"
   ]
  },
  {
   "attachments": {},
   "cell_type": "markdown",
   "metadata": {},
   "source": [
    "Chúng ta sẽ lặp lại việc chọn mẫu này trong một số lần và như vậy sẽ có một quần thể trung bình mẫu."
   ]
  },
  {
   "cell_type": "code",
   "execution_count": 3,
   "metadata": {},
   "outputs": [
    {
     "data": {
      "text/plain": [
       "[(121.40410567374074, 8.746547792419449),\n",
       " (117.35515635595814, 7.476486419834467),\n",
       " (118.99778644487421, 11.270939424211418),\n",
       " (122.41447411719669, 8.343422917126535),\n",
       " (121.83290719031122, 7.926618707482988),\n",
       " (121.7182237317347, 6.055923419088888),\n",
       " (116.33329717868014, 7.367208688292685),\n",
       " (115.43739887625834, 7.409854452202138),\n",
       " (119.05580292122647, 10.478204927310479),\n",
       " (119.6903933046863, 7.979903373797299)]"
      ]
     },
     "execution_count": 3,
     "metadata": {},
     "output_type": "execute_result"
    }
   ],
   "source": [
    "n_times = 10\n",
    "sample_stats = list(map(lambda _: get_random_sample(pop_data, n_times), range(n_times)))\n",
    "sample_stats"
   ]
  },
  {
   "attachments": {},
   "cell_type": "markdown",
   "metadata": {},
   "source": [
    "Chúng ta sẽ lưu kết quả này vào một data frame để dễ thao tác hơn về sau."
   ]
  },
  {
   "cell_type": "code",
   "execution_count": 4,
   "metadata": {},
   "outputs": [
    {
     "data": {
      "text/html": [
       "<div>\n",
       "<style scoped>\n",
       "    .dataframe tbody tr th:only-of-type {\n",
       "        vertical-align: middle;\n",
       "    }\n",
       "\n",
       "    .dataframe tbody tr th {\n",
       "        vertical-align: top;\n",
       "    }\n",
       "\n",
       "    .dataframe thead th {\n",
       "        text-align: right;\n",
       "    }\n",
       "</style>\n",
       "<table border=\"1\" class=\"dataframe\">\n",
       "  <thead>\n",
       "    <tr style=\"text-align: right;\">\n",
       "      <th></th>\n",
       "      <th>mean</th>\n",
       "      <th>sd</th>\n",
       "    </tr>\n",
       "  </thead>\n",
       "  <tbody>\n",
       "    <tr>\n",
       "      <th>0</th>\n",
       "      <td>121.404106</td>\n",
       "      <td>8.746548</td>\n",
       "    </tr>\n",
       "    <tr>\n",
       "      <th>1</th>\n",
       "      <td>117.355156</td>\n",
       "      <td>7.476486</td>\n",
       "    </tr>\n",
       "    <tr>\n",
       "      <th>2</th>\n",
       "      <td>118.997786</td>\n",
       "      <td>11.270939</td>\n",
       "    </tr>\n",
       "    <tr>\n",
       "      <th>3</th>\n",
       "      <td>122.414474</td>\n",
       "      <td>8.343423</td>\n",
       "    </tr>\n",
       "    <tr>\n",
       "      <th>4</th>\n",
       "      <td>121.832907</td>\n",
       "      <td>7.926619</td>\n",
       "    </tr>\n",
       "    <tr>\n",
       "      <th>5</th>\n",
       "      <td>121.718224</td>\n",
       "      <td>6.055923</td>\n",
       "    </tr>\n",
       "    <tr>\n",
       "      <th>6</th>\n",
       "      <td>116.333297</td>\n",
       "      <td>7.367209</td>\n",
       "    </tr>\n",
       "    <tr>\n",
       "      <th>7</th>\n",
       "      <td>115.437399</td>\n",
       "      <td>7.409854</td>\n",
       "    </tr>\n",
       "    <tr>\n",
       "      <th>8</th>\n",
       "      <td>119.055803</td>\n",
       "      <td>10.478205</td>\n",
       "    </tr>\n",
       "    <tr>\n",
       "      <th>9</th>\n",
       "      <td>119.690393</td>\n",
       "      <td>7.979903</td>\n",
       "    </tr>\n",
       "  </tbody>\n",
       "</table>\n",
       "</div>"
      ],
      "text/plain": [
       "         mean         sd\n",
       "0  121.404106   8.746548\n",
       "1  117.355156   7.476486\n",
       "2  118.997786  11.270939\n",
       "3  122.414474   8.343423\n",
       "4  121.832907   7.926619\n",
       "5  121.718224   6.055923\n",
       "6  116.333297   7.367209\n",
       "7  115.437399   7.409854\n",
       "8  119.055803  10.478205\n",
       "9  119.690393   7.979903"
      ]
     },
     "execution_count": 4,
     "metadata": {},
     "output_type": "execute_result"
    }
   ],
   "source": [
    "d = pd.DataFrame(sample_stats, columns=[\"mean\", \"sd\"])\n",
    "d"
   ]
  },
  {
   "attachments": {},
   "cell_type": "markdown",
   "metadata": {},
   "source": [
    "Chúng ta tiếp tục tính khoảng tin cậy 95%. Công thức của 95%CI cho trung bình là:\n",
    "\n",
    "$$\n",
    "\\bar{x} \\pm 1.96 \\times \\frac{s_x}{\\sqrt{n}}\n",
    "$$\n",
    "\n",
    "Để vẽ error bar cho khoảng tin cậy 95% thì chúng ta không cần tính giới hạn trên và dưới của nó mà chỉ cần tính \"error\" (cụm phía sau dấu $\\pm$)."
   ]
  },
  {
   "cell_type": "code",
   "execution_count": 5,
   "metadata": {},
   "outputs": [
    {
     "data": {
      "text/html": [
       "<div>\n",
       "<style scoped>\n",
       "    .dataframe tbody tr th:only-of-type {\n",
       "        vertical-align: middle;\n",
       "    }\n",
       "\n",
       "    .dataframe tbody tr th {\n",
       "        vertical-align: top;\n",
       "    }\n",
       "\n",
       "    .dataframe thead th {\n",
       "        text-align: right;\n",
       "    }\n",
       "</style>\n",
       "<table border=\"1\" class=\"dataframe\">\n",
       "  <thead>\n",
       "    <tr style=\"text-align: right;\">\n",
       "      <th></th>\n",
       "      <th>mean</th>\n",
       "      <th>sd</th>\n",
       "      <th>error</th>\n",
       "    </tr>\n",
       "  </thead>\n",
       "  <tbody>\n",
       "    <tr>\n",
       "      <th>0</th>\n",
       "      <td>121.404106</td>\n",
       "      <td>8.746548</td>\n",
       "      <td>2.424419</td>\n",
       "    </tr>\n",
       "    <tr>\n",
       "      <th>1</th>\n",
       "      <td>117.355156</td>\n",
       "      <td>7.476486</td>\n",
       "      <td>2.072376</td>\n",
       "    </tr>\n",
       "    <tr>\n",
       "      <th>2</th>\n",
       "      <td>118.997786</td>\n",
       "      <td>11.270939</td>\n",
       "      <td>3.124145</td>\n",
       "    </tr>\n",
       "    <tr>\n",
       "      <th>3</th>\n",
       "      <td>122.414474</td>\n",
       "      <td>8.343423</td>\n",
       "      <td>2.312679</td>\n",
       "    </tr>\n",
       "    <tr>\n",
       "      <th>4</th>\n",
       "      <td>121.832907</td>\n",
       "      <td>7.926619</td>\n",
       "      <td>2.197147</td>\n",
       "    </tr>\n",
       "    <tr>\n",
       "      <th>5</th>\n",
       "      <td>121.718224</td>\n",
       "      <td>6.055923</td>\n",
       "      <td>1.678616</td>\n",
       "    </tr>\n",
       "    <tr>\n",
       "      <th>6</th>\n",
       "      <td>116.333297</td>\n",
       "      <td>7.367209</td>\n",
       "      <td>2.042086</td>\n",
       "    </tr>\n",
       "    <tr>\n",
       "      <th>7</th>\n",
       "      <td>115.437399</td>\n",
       "      <td>7.409854</td>\n",
       "      <td>2.053907</td>\n",
       "    </tr>\n",
       "    <tr>\n",
       "      <th>8</th>\n",
       "      <td>119.055803</td>\n",
       "      <td>10.478205</td>\n",
       "      <td>2.904410</td>\n",
       "    </tr>\n",
       "    <tr>\n",
       "      <th>9</th>\n",
       "      <td>119.690393</td>\n",
       "      <td>7.979903</td>\n",
       "      <td>2.211916</td>\n",
       "    </tr>\n",
       "  </tbody>\n",
       "</table>\n",
       "</div>"
      ],
      "text/plain": [
       "         mean         sd     error\n",
       "0  121.404106   8.746548  2.424419\n",
       "1  117.355156   7.476486  2.072376\n",
       "2  118.997786  11.270939  3.124145\n",
       "3  122.414474   8.343423  2.312679\n",
       "4  121.832907   7.926619  2.197147\n",
       "5  121.718224   6.055923  1.678616\n",
       "6  116.333297   7.367209  2.042086\n",
       "7  115.437399   7.409854  2.053907\n",
       "8  119.055803  10.478205  2.904410\n",
       "9  119.690393   7.979903  2.211916"
      ]
     },
     "execution_count": 5,
     "metadata": {},
     "output_type": "execute_result"
    }
   ],
   "source": [
    "d[\"error\"] = 1.96 * d[\"sd\"] / np.sqrt(n_sample)\n",
    "d"
   ]
  },
  {
   "attachments": {},
   "cell_type": "markdown",
   "metadata": {},
   "source": [
    "Giờ chúng ta đã có data để vẽ error bar."
   ]
  },
  {
   "cell_type": "code",
   "execution_count": 6,
   "metadata": {},
   "outputs": [
    {
     "data": {
      "image/png": "[encoded data removed]",
      "text/plain": [
       "<Figure size 640x480 with 1 Axes>"
      ]
     },
     "metadata": {},
     "output_type": "display_data"
    }
   ],
   "source": [
    "plt.errorbar(d.index, \"mean\", \"error\", data=d, fmt=\"ok\", capsize=3)\n",
    "plt.show()"
   ]
  },
  {
   "attachments": {},
   "cell_type": "markdown",
   "metadata": {},
   "source": [
    "Chúng ta sẽ điều chỉnh định dạng của biểu đồ này sau. Trước hết hãy thêm đường thẳng chỉ trung bình thật sự của quần thể."
   ]
  },
  {
   "cell_type": "code",
   "execution_count": 7,
   "metadata": {},
   "outputs": [
    {
     "data": {
      "image/png": "[encoded data removed]",
      "text/plain": [
       "<Figure size 640x480 with 1 Axes>"
      ]
     },
     "metadata": {},
     "output_type": "display_data"
    }
   ],
   "source": [
    "pop_mean = np.mean(pop_data)\n",
    "\n",
    "plt.errorbar(d.index, \"mean\", \"error\", data=d, fmt=\"ok\", capsize=3)\n",
    "plt.axhline(pop_mean)\n",
    "plt.show()"
   ]
  },
  {
   "attachments": {},
   "cell_type": "markdown",
   "metadata": {},
   "source": [
    "Chúng ta cũng muốn những khoảng tin cậy nào không chứa giá trị thật của quần thể sẽ hiện màu đỏ."
   ]
  },
  {
   "cell_type": "code",
   "execution_count": 8,
   "metadata": {},
   "outputs": [
    {
     "data": {
      "image/png": "[encoded data removed]",
      "text/plain": [
       "<Figure size 640x480 with 1 Axes>"
      ]
     },
     "metadata": {},
     "output_type": "display_data"
    }
   ],
   "source": [
    "d[\"cil\"] = d[\"mean\"] - d[\"error\"]\n",
    "d[\"ciu\"] = d[\"mean\"] + d[\"error\"]\n",
    "d[\"has_pop_mean\"] = d[\"cil\"].le(pop_mean) & d[\"ciu\"].ge(pop_mean)\n",
    "\n",
    "colors = {True: \"k\", False: \"r\"}\n",
    "d_grpby = d.groupby(\"has_pop_mean\")\n",
    "for group in d_grpby.groups:\n",
    "    data = d_grpby.get_group(group)\n",
    "    plt.errorbar(data.index, \"mean\", \"error\", data=data,\n",
    "                 color=colors[group], fmt=\"o\", capsize=3)\n",
    "plt.axhline(pop_mean)\n",
    "plt.show()"
   ]
  },
  {
   "attachments": {},
   "cell_type": "markdown",
   "metadata": {},
   "source": [
    "Mình sẽ gom các đoạn code trên vào thành một file code duy nhất dưới đây và bổ sung các điều chỉnh về định dạng của biểu đồ. Bạn thử đọc xem có hiểu hết ý nghĩa của các dòng lệnh không nhé, coi như một lần kiểm tra lại kiến thức Python của bản thân."
   ]
  },
  {
   "cell_type": "code",
   "execution_count": 9,
   "metadata": {},
   "outputs": [
    {
     "data": {
      "image/png": "[encoded data removed]",
      "text/plain": [
       "<Figure size 900x350 with 1 Axes>"
      ]
     },
     "metadata": {},
     "output_type": "display_data"
    }
   ],
   "source": [
    "import numpy as np\n",
    "import matplotlib.pyplot as plt\n",
    "import pandas as pd\n",
    "import scipy.stats as stats\n",
    "\n",
    "\n",
    "def build_pop_data(n_pop: int, seed=0):\n",
    "    np.random.seed(seed)\n",
    "    return np.random.normal(120, 20, n_pop)\n",
    "\n",
    "def get_random_sample(data, n_sample: int):\n",
    "    sample_data = np.random.choice(data, n_sample, replace=False)\n",
    "    return np.mean(sample_data), np.std(sample_data)\n",
    "\n",
    "def do_sampling(data, n_sample: int, n_times: int, ci_level=.95):\n",
    "    d = pd.DataFrame(\n",
    "        map(lambda _: get_random_sample(pop_data, n_sample), range(n_times)),\n",
    "        columns=[\"mean\", \"sd\"]\n",
    "    )\n",
    "\n",
    "    pop_mean = np.mean(data)\n",
    "\n",
    "    z = stats.norm.ppf(.5 + ci_level / 2)\n",
    "    d[\"error\"] = z * d[\"sd\"] / np.sqrt(n_sample)\n",
    "    d[\"cil\"] = d[\"mean\"] - d[\"error\"]\n",
    "    d[\"ciu\"] = d[\"mean\"] + d[\"error\"]\n",
    "    d[\"has_pop_mean\"] = d[\"cil\"].le(pop_mean) & d[\"ciu\"].ge(pop_mean)\n",
    "\n",
    "    return d, pop_mean\n",
    "\n",
    "def plot_ci(d: pd.DataFrame, pop_mean, colors, n_sample, ci_level):\n",
    "    fig, ax = plt.subplots(figsize=(9, 3.5), tight_layout=True)\n",
    "    labels = {True: None, False: \"CI không chứa $\\mu$\"}\n",
    "    \n",
    "    ax.axhline(pop_mean, label=\"$\\mu$\")\n",
    "\n",
    "    d_grpby = d.groupby(\"has_pop_mean\")\n",
    "    for group in d_grpby.groups:\n",
    "        data = d_grpby.get_group(group)\n",
    "        ax.errorbar(data.index, \"mean\", \"error\", data=data,\n",
    "                    color=colors[group], fmt=\"o\", capsize=2,\n",
    "                    label=labels[group])\n",
    "    \n",
    "    ax.spines[[\"top\", \"right\", \"bottom\"]].set_visible(False)\n",
    "    ax.set_xlim(-5, n_times + 4)\n",
    "    ax.set_xticks([])\n",
    "\n",
    "    ax.legend(frameon=False, fontsize=\"small\", ncols=2,\n",
    "              loc=\"lower right\", bbox_to_anchor=[1, 1])\n",
    "    \n",
    "    ax.set_title(\"Mô phỏng khoảng tin cậy\", loc=\"left\", pad=10)\n",
    "    ax.set_xlabel(f\"{d.shape[0]} khoảng tin cậy {ci_level:.1%}, cỡ mẫu $n$={n_sample}\")\n",
    "\n",
    "    plt.show()\n",
    "\n",
    "\n",
    "# SETTINGS\n",
    "n_pop, n_sample, n_times = 10000, 50, 100\n",
    "ci_level = .95\n",
    "colors = {True: \"k\", False: \"r\"}\n",
    "\n",
    "# SAMPLE AND PLOT\n",
    "pop_data = build_pop_data(n_pop)\n",
    "d, pop_mean = do_sampling(pop_data, n_sample, n_times, ci_level)\n",
    "plot_ci(d, pop_mean, colors, n_sample, ci_level)"
   ]
  },
  {
   "attachments": {},
   "cell_type": "markdown",
   "metadata": {},
   "source": [
    "---\n",
    "\n",
    "[Bài trước](./08_text.ipynb) - [Danh sách bài](../README.md) - [Bài sau](./10_pvalue.ipynb)"
   ]
  }
 ],
 "metadata": {
  "kernelspec": {
   "display_name": "Python 3",
   "language": "python",
   "name": "python3"
  },
  "language_info": {
   "codemirror_mode": {
    "name": "ipython",
    "version": 3
   },
   "file_extension": ".py",
   "mimetype": "text/x-python",
   "name": "python",
   "nbconvert_exporter": "python",
   "pygments_lexer": "ipython3",
   "version": "3.10.7"
  },
  "orig_nbformat": 4,
  "vscode": {
   "interpreter": {
    "hash": "6a3c7fd02703099d697b86914af8afc6c3883c409bde85e680daef2475a3a8dd"
   }
  }
 },
 "nbformat": 4,
 "nbformat_minor": 2
}
